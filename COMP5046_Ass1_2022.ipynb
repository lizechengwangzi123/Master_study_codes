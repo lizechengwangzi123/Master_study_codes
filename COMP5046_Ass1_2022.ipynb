{
  "nbformat": 4,
  "nbformat_minor": 0,
  "metadata": {
    "colab": {
      "provenance": []
    },
    "kernelspec": {
      "name": "python3",
      "display_name": "Python 3"
    }
  },
  "cells": [
    {
      "cell_type": "markdown",
      "metadata": {
        "id": "MGHoy6KpQDfZ"
      },
      "source": [
        "#COMP5046_Ass1_2022\n"
      ]
    },
    {
      "cell_type": "markdown",
      "metadata": {
        "id": "qTf21j_oQIiD"
      },
      "source": [
        "# Readme\n",
        "1. In the whole project, I wrote many functions for myself to keep my code tidy. And almost all of them will be called before the main codes of each section of the project.\n",
        "\n",
        "2. I saved many models, graphs that trained in the project in my google drive and they will be loaded in section 1 of the project, it may take some time to process it. Due to the fact that I saved many models, graphs, tables to use in my project, my codes in section 4 of the project only contain one example of testing -> which is what we asked to do -> to left one runnable testing code in section 4 and comment out other testing codes in section 4.\n",
        "\n",
        "3. The model trained in section 3 used the best choice of variables including epoch number, learning rate, etc.\n",
        "\n",
        "4. Because I will comment many parts of section 4 (because only one testing code will be kept), some \"normal comments\" are also commented -> they are \"double-commented\".\n",
        "\n",
        "Have a good day!"
      ]
    },
    {
      "cell_type": "markdown",
      "metadata": {
        "id": "iXbQohXLKSgO"
      },
      "source": [
        "***Visualising the comparison of different results is a good way to justify your decision.***"
      ]
    },
    {
      "cell_type": "markdown",
      "source": [
        "# 1 - Data Preprocessing"
      ],
      "metadata": {
        "id": "A7v4GVxo4Dom"
      }
    },
    {
      "cell_type": "markdown",
      "source": [
        "## 1.0. Data Collection [DO NOT MODIFY THIS]"
      ],
      "metadata": {
        "id": "HftyG77k47Y3"
      }
    },
    {
      "cell_type": "code",
      "metadata": {
        "id": "U7C4snIcNl22",
        "colab": {
          "base_uri": "https://localhost:8080/"
        },
        "outputId": "ec1f5eda-5d73-40df-9f3e-b5022b2d962d"
      },
      "source": [
        "# Code to download file into Colaboratory:\n",
        "!pip install -U -q PyDrive\n",
        "from pydrive.auth import GoogleAuth\n",
        "from pydrive.drive import GoogleDrive\n",
        "from google.colab import auth\n",
        "from oauth2client.client import GoogleCredentials\n",
        "# Authenticate and create the PyDrive client.\n",
        "auth.authenticate_user()\n",
        "gauth = GoogleAuth()\n",
        "gauth.credentials = GoogleCredentials.get_application_default()\n",
        "drive = GoogleDrive(gauth)\n",
        "\n",
        "id = '16g474hdNsaNx0_SnoKuqj2BuwSEGdnbt'\n",
        "downloaded = drive.CreateFile({'id':id}) \n",
        "downloaded.GetContentFile('training_data.csv')  \n",
        "\n",
        "id = '1-7hj0sF3Rc5G6POKdkpbDXm_Q6BWFDPU'\n",
        "downloaded = drive.CreateFile({'id':id}) \n",
        "downloaded.GetContentFile('testing_data.csv')  \n",
        "\n",
        "import pandas as pd\n",
        "training_data = pd.read_csv(\"/content/training_data.csv\")\n",
        "testing_data = pd.read_csv(\"/content/testing_data.csv\")\n",
        "\n",
        "print(\"------------------------------------\")\n",
        "print(\"Size of training dataset: {0}\".format(len(training_data)))\n",
        "print(\"Size of testing dataset: {0}\".format(len(testing_data)))\n",
        "print(\"------------------------------------\")\n",
        "\n",
        "print(\"------------------------------------\")\n",
        "print(\"Sample Data\")\n",
        "print(\"LABEL: {0} / SENTENCE: {1}\".format(training_data.iloc[-1,0], training_data.iloc[-1,1]))\n",
        "print(\"------------------------------------\")\n"
      ],
      "execution_count": null,
      "outputs": [
        {
          "output_type": "stream",
          "name": "stdout",
          "text": [
            "------------------------------------\n",
            "Size of training dataset: 7808\n",
            "Size of testing dataset: 867\n",
            "------------------------------------\n",
            "------------------------------------\n",
            "Sample Data\n",
            "LABEL: F / SENTENCE: 'Half of it is going straight to charity, another quarter going straight to scientific research, an eighth to the parkour community, a sixteenth to towards spreading information about health and...|||Find a path or suffer more.|||http://personalitycafe.com/enneagram-personality-theory-forum/85323-enneagram-type-mbti-type-compared-statistics.html yep.|||I kind of anchor on Fi and Ne makes having Ni really fun. INFP for me as they tire me out less and our views tend to align more.|||The two ESTPs I have gotten the chance to know seem to experience much more than other people who have been on the planet for the same amount of time and are quite the renaissance (wo)men.  Is this...|||I don't really have a best friend ISTP(passion-amateur group co-founder), INTJ(intellectual and various small hobbies talk), ESTP(Bro-in-law, talk about everything kind of like my INTJ friend),...|||Everyone looses their gift if they don't even consider a different perspective.|||Kansas - ISTJ|||That or if they are normally comfortable with me, such as a friend or close acquaintance, they feel the need to start talking. It's almost a trap, I've noticed for most people feel the need to expose...|||To me, your answers screamed introverted feeling. Answers 2-5, 10, 11, 14, 16, and 17 your last statement were particularly Fi-like. I'm guessing you are an intuitive and possibly and introvert...|||Could you explain your reasoning for these? I saw Mako as an F, Lin as an ES, and have Kya as an F. Never had an idea for Amon's type.|||This applies to many of these threads.|||With an INFP for over 2 years now.|||After watching tonight's episode I'm sure that Unalaq is an ENXJ. I'm not sure if it's Fe or Te at this point but the way he goes about doing and planning things seem like a Je-dom. I'm putting him...|||Parkour is my passion(but I consider it closer to a martial art than a sport). I also enjoy some running and climbing.|||I have many characters but I gravitate towards sneaky archer, Breton, and conjuration. I love doing role plays and think it's one of, if not the best way to play the game.|||ESFP seems right for Ikki. We may need Jinora to have more interactions for us to tell. Any guesses about Pema, Tenzin's wife? She said herself that she used to be very shy so I'd put I just from...|||If you don't mind, please tell me more by what you meant by this bolded part or what happened.|||I think it's fit to revive this thread seeing as the second season of Korra has started and the second episode of the season is coming up tomorrow. I'd just say beware of spoilers in new posts if you...|||I was thinking more along these lines: 83385|||Yes, a few times in friendships and other things but it was usually spurred on by the idea of not having a second chance. I've been trying to make the first move more in life as I've realized it just...|||Sorry if my wording was/is confusing or vague. Let me try to explain it better.  As for the first statement: I see the world for all it's interconnections. If you wish, visualized everything having...|||~I don't experience it as simply perceiving or creating, for me as I perceive interconnected relationships are formed and realized.   ~I don't think that I rationalize with my dominate function but...|||I think it's amusing that, in the leading position I share with an ISTP friend of mine, we both start to embrace our shadows. I Think that's been my growing point lately, embracing my shadow. We're...|||I would suggest introspection and relying on your sense of self over tests and I highly suggest looking into the cognitive functions. ISTJ is the complete opposite of INFJ.|||I definitely agree with others on the US- It's pretty good for an INFJ if you find your niche.  I say the Midwest is generally SJ with women expected to be F and men to be T. It's nice but annoying....|||Please explain|||I think my own eye movements have almost been changed because of where I was usually placed when talking to someone in normal conversations. See, when I was young I ended up getting permanent spot in...|||Judgmental, critical, somewhat narcissistic, stubborn, possessive, Fe-ishly manipulative, and I have ego issues. Take that with a grain of salt.|||Yes, very much so. I love Spanish so far.|||I have a huge folder of these types of images.|||Aquarian It was just my guess, it doesn't need that much merit. Personally, I think Se is the hardest function to describe because it is so in the moment.|||Sorry, double post because of connectivity weirdness.|||I don't know if this has been posted before or if a thread about curses would be the best place but it'll do just fine. The important part is post #79, the giant wall of text. I think most of it was...|||If anything, imo, Ni would be how objects are interconnected. If I were to follow closely to your model: Introverted Intuition: Understanding how objects are connected Extraverted Intuition:...|||Sometimes you just don't see them :ninja: Seriously, I thought I was alone in a small town but I was surprised after training for a couple months.  You can easily learn and train by yourself, you...|||82063 Stuff by Andy Day, not only do I like it because it is the stuff of my passion but that new perspective of our surroundings that it brings. This is a great example of that. All those people...|||Sorry for the quality, my relative only gave me a physical copy, it's a picture of a picture. This is my INFP girlfriend of two years and me.|||If I am with my SO I almost need physical contact in some way.|||I pretty much have a guru dream that involves my SP wannabe passion. Around people I am close to I totally put on the gypsy king face, people are just so interesting. Hahaha can't stop laughing at ...|||I agree this this post very much, I just can't shake that vibe. To me it feels like you are an INTP who strongly identifies with INFJs. I think if you want a sound answer form yourself and others we...|||I do pretty well in emergencies, I do very well compared to normal conditions in my opinion. I feel like I become the ideal version of myself, for the most part. It's hard to describe but it's like...|||I have a very close INTJ friend. The Te Fe difference is acknowledged very well and I'd say that both of our tertiary functions are well developed which helps a ton. He does not show it often but he...|||Being alone and/or doing something physical that I can naturally and reactively do without thinking or little thought.|||Pretty much this|||If I wear shoes or socks to bed and my feet are not on my bed I will wake up as if I was falling. 2/3 of the time this happens. Any other dreams that I remember(I don't remember most of my dreams...|||This one still gets me.  What I meant to say was Pass the salt but what I really said was You b****, you ruined my life|||I'm sorry, but I find them so funny because I use them for good reason. They make people uncomfortable at first but then, slowly, make people more comfortable with the idea that people are different...|||XSFJ Mother, ISTJ father, and an XNFJ sister. Yep.|||I love dark jokes, especially racists/stereotypical jokes.'\n",
            "------------------------------------\n"
          ]
        }
      ]
    },
    {
      "cell_type": "code",
      "source": [
        "# Extract the labels and posts and store into List\n",
        "# Get the list of training data (posts)\n",
        "training_posts=training_data['posts'].tolist()\n",
        "# Get the list of corresponding labels for the training data (posts)\n",
        "training_labels=training_data['type'].tolist()\n",
        "# Get the list of testing data (posts)\n",
        "testing_posts=testing_data['posts'].tolist()\n",
        "# Get the list of corresponding labels for the testing data (posts)\n",
        "testing_labels=testing_data['type'].tolist()\n",
        "# Next four lines are preparing for section 4\n",
        "later_test_training_posts = training_posts\n",
        "later_test_testing_posts = testing_posts\n",
        "later_test_training_labels = training_labels\n",
        "later_test_testing_labels = testing_labels"
      ],
      "metadata": {
        "id": "0SvGBOm9DvR_"
      },
      "execution_count": null,
      "outputs": []
    },
    {
      "cell_type": "code",
      "source": [
        "print(training_labels)"
      ],
      "metadata": {
        "colab": {
          "base_uri": "https://localhost:8080/"
        },
        "id": "J08eUQoJRqWn",
        "outputId": "cf2c46ff-2a82-4763-ce0b-bd3976c66e2a"
      },
      "execution_count": null,
      "outputs": [
        {
          "output_type": "stream",
          "name": "stdout",
          "text": [
            "['F', 'T', 'T', 'T', 'T', 'T', 'F', 'T', 'F', 'T', 'F', 'F', 'F', 'T', 'T', 'T', 'F', 'F', 'F', 'F', 'T', 'F', 'T', 'F', 'T', 'F', 'F', 'F', 'F', 'F', 'F', 'F', 'T', 'F', 'F', 'F', 'T', 'F', 'F', 'T', 'T', 'F', 'T', 'F', 'T', 'T', 'T', 'F', 'F', 'T', 'T', 'F', 'F', 'T', 'F', 'F', 'F', 'F', 'T', 'T', 'F', 'T', 'F', 'F', 'T', 'T', 'F', 'F', 'F', 'F', 'F', 'F', 'F', 'T', 'F', 'T', 'T', 'T', 'T', 'F', 'F', 'F', 'T', 'T', 'F', 'T', 'F', 'F', 'T', 'T', 'T', 'T', 'F', 'F', 'F', 'F', 'F', 'T', 'F', 'F', 'F', 'F', 'F', 'F', 'T', 'F', 'T', 'F', 'T', 'T', 'T', 'F', 'F', 'T', 'T', 'F', 'T', 'T', 'F', 'F', 'T', 'T', 'F', 'T', 'T', 'T', 'T', 'F', 'F', 'F', 'T', 'F', 'F', 'F', 'T', 'F', 'F', 'T', 'F', 'F', 'T', 'F', 'F', 'F', 'T', 'F', 'F', 'T', 'F', 'F', 'T', 'F', 'F', 'F', 'T', 'T', 'T', 'T', 'T', 'F', 'T', 'T', 'T', 'T', 'F', 'F', 'F', 'T', 'F', 'T', 'T', 'T', 'F', 'T', 'T', 'T', 'T', 'T', 'T', 'F', 'T', 'F', 'T', 'T', 'T', 'F', 'T', 'T', 'T', 'T', 'F', 'T', 'F', 'F', 'T', 'T', 'T', 'F', 'T', 'T', 'F', 'T', 'F', 'F', 'T', 'T', 'T', 'T', 'F', 'F', 'F', 'F', 'F', 'F', 'T', 'T', 'F', 'F', 'F', 'F', 'F', 'T', 'F', 'F', 'T', 'T', 'T', 'F', 'F', 'F', 'T', 'F', 'T', 'F', 'F', 'F', 'T', 'T', 'F', 'F', 'T', 'T', 'F', 'F', 'F', 'F', 'T', 'F', 'F', 'F', 'F', 'F', 'T', 'F', 'T', 'T', 'T', 'F', 'T', 'T', 'F', 'F', 'T', 'F', 'F', 'F', 'T', 'T', 'F', 'F', 'F', 'F', 'T', 'F', 'T', 'T', 'T', 'F', 'F', 'T', 'T', 'F', 'F', 'T', 'T', 'T', 'F', 'F', 'T', 'T', 'T', 'F', 'T', 'T', 'T', 'T', 'T', 'F', 'F', 'F', 'F', 'F', 'T', 'T', 'T', 'F', 'F', 'T', 'T', 'F', 'T', 'F', 'F', 'F', 'T', 'F', 'F', 'F', 'F', 'T', 'T', 'T', 'T', 'T', 'F', 'F', 'T', 'F', 'F', 'T', 'T', 'F', 'F', 'F', 'F', 'F', 'F', 'T', 'F', 'T', 'T', 'T', 'F', 'F', 'T', 'F', 'T', 'F', 'T', 'T', 'F', 'T', 'F', 'F', 'F', 'F', 'T', 'T', 'T', 'F', 'F', 'T', 'T', 'F', 'F', 'T', 'F', 'F', 'F', 'T', 'T', 'F', 'F', 'F', 'F', 'T', 'T', 'F', 'T', 'T', 'F', 'F', 'T', 'F', 'F', 'F', 'F', 'T', 'F', 'F', 'F', 'F', 'F', 'T', 'T', 'T', 'F', 'F', 'F', 'F', 'T', 'F', 'F', 'F', 'F', 'F', 'T', 'F', 'F', 'F', 'F', 'F', 'T', 'F', 'F', 'F', 'F', 'F', 'F', 'F', 'T', 'T', 'T', 'F', 'F', 'T', 'F', 'F', 'F', 'F', 'F', 'T', 'F', 'T', 'F', 'F', 'F', 'T', 'T', 'F', 'F', 'T', 'T', 'F', 'F', 'F', 'F', 'T', 'F', 'T', 'T', 'F', 'F', 'T', 'F', 'T', 'T', 'T', 'T', 'T', 'T', 'T', 'F', 'T', 'T', 'F', 'F', 'F', 'F', 'F', 'F', 'T', 'F', 'F', 'T', 'F', 'T', 'F', 'T', 'F', 'F', 'F', 'T', 'F', 'F', 'T', 'T', 'T', 'F', 'F', 'T', 'T', 'F', 'T', 'T', 'F', 'F', 'T', 'F', 'T', 'T', 'F', 'T', 'T', 'F', 'T', 'F', 'F', 'F', 'T', 'T', 'T', 'F', 'T', 'T', 'F', 'F', 'T', 'F', 'T', 'T', 'T', 'T', 'T', 'F', 'F', 'F', 'T', 'T', 'F', 'F', 'T', 'F', 'F', 'T', 'F', 'T', 'F', 'F', 'F', 'F', 'F', 'F', 'F', 'T', 'F', 'T', 'F', 'T', 'F', 'F', 'F', 'T', 'T', 'T', 'T', 'F', 'F', 'F', 'T', 'T', 'T', 'T', 'F', 'F', 'T', 'T', 'T', 'F', 'F', 'T', 'T', 'F', 'F', 'F', 'T', 'F', 'T', 'T', 'F', 'F', 'F', 'F', 'F', 'F', 'T', 'T', 'T', 'F', 'T', 'T', 'F', 'F', 'T', 'F', 'T', 'F', 'F', 'F', 'F', 'F', 'T', 'F', 'F', 'T', 'F', 'T', 'T', 'F', 'F', 'F', 'T', 'T', 'F', 'F', 'F', 'T', 'F', 'T', 'F', 'F', 'T', 'T', 'F', 'F', 'F', 'F', 'F', 'F', 'F', 'T', 'T', 'F', 'F', 'F', 'T', 'F', 'T', 'T', 'T', 'T', 'F', 'T', 'F', 'F', 'T', 'T', 'T', 'F', 'F', 'F', 'F', 'T', 'F', 'T', 'F', 'F', 'T', 'T', 'F', 'T', 'T', 'F', 'F', 'T', 'T', 'T', 'F', 'F', 'T', 'T', 'T', 'F', 'F', 'T', 'F', 'F', 'T', 'T', 'F', 'F', 'T', 'T', 'F', 'F', 'F', 'F', 'F', 'F', 'F', 'F', 'F', 'T', 'T', 'T', 'F', 'T', 'F', 'T', 'F', 'T', 'F', 'F', 'F', 'T', 'T', 'T', 'F', 'F', 'F', 'F', 'T', 'T', 'F', 'F', 'F', 'T', 'T', 'T', 'F', 'F', 'F', 'F', 'T', 'T', 'F', 'F', 'T', 'T', 'T', 'T', 'F', 'F', 'F', 'F', 'T', 'T', 'T', 'F', 'T', 'T', 'F', 'F', 'T', 'T', 'F', 'F', 'F', 'T', 'F', 'T', 'T', 'F', 'F', 'T', 'F', 'T', 'F', 'F', 'F', 'T', 'T', 'F', 'F', 'T', 'F', 'T', 'F', 'F', 'F', 'T', 'F', 'F', 'T', 'F', 'F', 'T', 'F', 'T', 'T', 'T', 'T', 'F', 'F', 'F', 'T', 'F', 'F', 'F', 'T', 'T', 'F', 'T', 'F', 'F', 'T', 'F', 'T', 'T', 'T', 'T', 'T', 'F', 'F', 'F', 'T', 'T', 'F', 'T', 'F', 'T', 'T', 'T', 'F', 'F', 'F', 'T', 'F', 'T', 'T', 'T', 'F', 'F', 'T', 'T', 'T', 'F', 'F', 'T', 'T', 'T', 'T', 'T', 'F', 'T', 'T', 'F', 'F', 'T', 'F', 'T', 'T', 'T', 'T', 'T', 'F', 'T', 'T', 'T', 'T', 'T', 'T', 'T', 'F', 'T', 'T', 'F', 'F', 'T', 'T', 'F', 'F', 'F', 'T', 'T', 'F', 'F', 'T', 'T', 'T', 'T', 'T', 'F', 'F', 'F', 'T', 'F', 'T', 'F', 'T', 'F', 'F', 'T', 'F', 'F', 'T', 'F', 'T', 'F', 'T', 'F', 'T', 'F', 'T', 'F', 'T', 'F', 'F', 'T', 'T', 'F', 'T', 'T', 'T', 'T', 'F', 'F', 'T', 'T', 'F', 'F', 'F', 'F', 'F', 'F', 'F', 'T', 'F', 'F', 'F', 'F', 'F', 'T', 'T', 'F', 'F', 'F', 'F', 'T', 'F', 'F', 'T', 'F', 'F', 'F', 'T', 'F', 'F', 'F', 'T', 'T', 'T', 'F', 'T', 'F', 'T', 'F', 'F', 'F', 'T', 'F', 'T', 'F', 'F', 'F', 'T', 'F', 'T', 'F', 'F', 'F', 'F', 'F', 'F', 'T', 'F', 'F', 'F', 'F', 'F', 'F', 'T', 'F', 'F', 'F', 'T', 'F', 'T', 'T', 'T', 'T', 'T', 'F', 'T', 'T', 'T', 'F', 'F', 'F', 'T', 'F', 'T', 'T', 'T', 'F', 'F', 'T', 'F', 'T', 'T', 'F', 'T', 'F', 'T', 'F', 'T', 'T', 'T', 'F', 'F', 'F', 'T', 'F', 'F', 'F', 'F', 'F', 'F', 'T', 'F', 'F', 'F', 'T', 'T', 'F', 'T', 'T', 'F', 'T', 'F', 'T', 'F', 'T', 'F', 'F', 'F', 'T', 'F', 'T', 'F', 'T', 'T', 'T', 'T', 'F', 'F', 'T', 'F', 'T', 'T', 'F', 'F', 'F', 'F', 'F', 'T', 'F', 'T', 'T', 'T', 'F', 'F', 'F', 'T', 'F', 'F', 'F', 'F', 'F', 'F', 'T', 'T', 'F', 'T', 'F', 'F', 'T', 'F', 'F', 'F', 'F', 'F', 'T', 'T', 'F', 'F', 'F', 'T', 'F', 'T', 'F', 'F', 'T', 'F', 'F', 'F', 'F', 'F', 'F', 'T', 'F', 'F', 'T', 'T', 'F', 'F', 'T', 'F', 'F', 'T', 'F', 'T', 'T', 'T', 'F', 'T', 'T', 'T', 'T', 'T', 'T', 'F', 'F', 'F', 'T', 'T', 'F', 'F', 'T', 'F', 'F', 'F', 'F', 'T', 'F', 'T', 'T', 'F', 'T', 'F', 'F', 'T', 'T', 'F', 'T', 'T', 'T', 'F', 'F', 'T', 'F', 'F', 'F', 'F', 'F', 'F', 'F', 'F', 'T', 'F', 'F', 'T', 'T', 'T', 'T', 'F', 'T', 'F', 'F', 'F', 'T', 'T', 'T', 'F', 'T', 'T', 'F', 'T', 'F', 'F', 'T', 'T', 'F', 'F', 'F', 'F', 'T', 'F', 'F', 'F', 'T', 'F', 'T', 'T', 'F', 'F', 'T', 'F', 'F', 'T', 'T', 'T', 'F', 'F', 'T', 'F', 'T', 'T', 'T', 'T', 'F', 'T', 'F', 'T', 'T', 'T', 'T', 'T', 'F', 'F', 'T', 'F', 'F', 'F', 'F', 'T', 'F', 'F', 'F', 'T', 'F', 'T', 'T', 'F', 'T', 'T', 'F', 'F', 'F', 'F', 'T', 'F', 'F', 'T', 'T', 'T', 'F', 'T', 'F', 'F', 'F', 'F', 'T', 'F', 'F', 'F', 'T', 'F', 'F', 'F', 'F', 'T', 'F', 'T', 'T', 'F', 'F', 'T', 'F', 'F', 'T', 'F', 'T', 'F', 'T', 'T', 'F', 'F', 'T', 'T', 'T', 'T', 'F', 'T', 'F', 'T', 'T', 'T', 'T', 'T', 'T', 'T', 'F', 'F', 'T', 'T', 'F', 'F', 'F', 'F', 'F', 'F', 'F', 'T', 'F', 'F', 'F', 'F', 'T', 'T', 'F', 'F', 'F', 'T', 'F', 'T', 'F', 'F', 'F', 'F', 'F', 'F', 'T', 'T', 'T', 'T', 'T', 'T', 'T', 'F', 'T', 'F', 'T', 'T', 'F', 'F', 'F', 'T', 'F', 'T', 'T', 'T', 'T', 'F', 'T', 'F', 'F', 'F', 'F', 'F', 'F', 'F', 'F', 'F', 'F', 'T', 'F', 'F', 'F', 'F', 'F', 'T', 'F', 'F', 'T', 'F', 'F', 'T', 'T', 'F', 'F', 'T', 'F', 'T', 'T', 'F', 'F', 'T', 'F', 'T', 'F', 'F', 'F', 'T', 'F', 'F', 'F', 'F', 'T', 'T', 'T', 'F', 'F', 'T', 'T', 'F', 'F', 'T', 'F', 'F', 'F', 'F', 'T', 'F', 'F', 'F', 'F', 'F', 'T', 'T', 'T', 'T', 'T', 'F', 'F', 'F', 'F', 'F', 'T', 'T', 'T', 'F', 'F', 'F', 'F', 'F', 'T', 'F', 'T', 'F', 'T', 'T', 'T', 'F', 'F', 'F', 'F', 'F', 'F', 'F', 'F', 'F', 'T', 'F', 'T', 'F', 'F', 'F', 'F', 'T', 'T', 'T', 'F', 'F', 'T', 'F', 'T', 'F', 'F', 'T', 'F', 'T', 'F', 'F', 'T', 'F', 'F', 'T', 'T', 'F', 'F', 'T', 'F', 'F', 'F', 'F', 'F', 'T', 'T', 'T', 'T', 'T', 'F', 'T', 'F', 'T', 'F', 'F', 'T', 'F', 'F', 'T', 'F', 'F', 'F', 'F', 'F', 'T', 'F', 'T', 'F', 'F', 'F', 'T', 'F', 'F', 'T', 'F', 'F', 'F', 'T', 'F', 'T', 'T', 'F', 'T', 'T', 'T', 'F', 'F', 'F', 'T', 'F', 'T', 'F', 'T', 'F', 'T', 'F', 'T', 'T', 'F', 'F', 'T', 'T', 'T', 'T', 'T', 'T', 'T', 'F', 'F', 'T', 'T', 'T', 'F', 'F', 'T', 'F', 'F', 'F', 'F', 'T', 'T', 'T', 'T', 'T', 'F', 'T', 'T', 'F', 'F', 'T', 'F', 'T', 'F', 'T', 'T', 'T', 'F', 'F', 'F', 'F', 'F', 'T', 'F', 'T', 'T', 'T', 'T', 'F', 'F', 'T', 'F', 'T', 'F', 'F', 'F', 'F', 'T', 'F', 'T', 'T', 'F', 'F', 'F', 'T', 'F', 'T', 'F', 'F', 'T', 'F', 'F', 'T', 'T', 'T', 'T', 'T', 'F', 'T', 'F', 'T', 'F', 'F', 'F', 'T', 'T', 'T', 'F', 'T', 'T', 'T', 'T', 'T', 'F', 'F', 'F', 'F', 'F', 'F', 'T', 'T', 'T', 'F', 'T', 'F', 'F', 'T', 'F', 'F', 'F', 'T', 'F', 'T', 'T', 'T', 'F', 'T', 'T', 'F', 'F', 'F', 'F', 'F', 'F', 'T', 'T', 'F', 'T', 'T', 'F', 'F', 'F', 'F', 'T', 'T', 'F', 'T', 'F', 'T', 'T', 'T', 'T', 'T', 'F', 'T', 'T', 'T', 'F', 'F', 'T', 'F', 'T', 'F', 'T', 'T', 'F', 'T', 'F', 'F', 'F', 'F', 'F', 'T', 'F', 'T', 'T', 'T', 'T', 'T', 'T', 'F', 'T', 'T', 'F', 'F', 'T', 'F', 'F', 'F', 'F', 'T', 'F', 'F', 'T', 'F', 'F', 'F', 'T', 'T', 'T', 'T', 'F', 'F', 'T', 'F', 'T', 'F', 'T', 'F', 'T', 'F', 'F', 'T', 'F', 'T', 'F', 'T', 'F', 'T', 'T', 'T', 'T', 'F', 'T', 'T', 'T', 'T', 'T', 'T', 'F', 'F', 'T', 'T', 'T', 'T', 'T', 'T', 'F', 'T', 'F', 'T', 'T', 'T', 'T', 'F', 'T', 'T', 'T', 'F', 'T', 'F', 'T', 'T', 'F', 'F', 'F', 'F', 'T', 'F', 'F', 'T', 'T', 'F', 'T', 'F', 'F', 'T', 'F', 'F', 'T', 'F', 'F', 'T', 'F', 'T', 'F', 'T', 'T', 'T', 'F', 'F', 'T', 'T', 'F', 'T', 'T', 'F', 'T', 'F', 'T', 'T', 'F', 'F', 'T', 'T', 'T', 'T', 'T', 'T', 'T', 'F', 'T', 'T', 'F', 'F', 'F', 'F', 'T', 'F', 'T', 'F', 'F', 'F', 'F', 'F', 'T', 'F', 'F', 'F', 'T', 'T', 'T', 'F', 'T', 'T', 'T', 'T', 'F', 'F', 'F', 'T', 'F', 'F', 'F', 'F', 'T', 'F', 'T', 'F', 'F', 'F', 'T', 'F', 'F', 'F', 'T', 'T', 'F', 'F', 'F', 'F', 'T', 'F', 'T', 'T', 'T', 'F', 'T', 'F', 'T', 'F', 'T', 'T', 'T', 'T', 'T', 'T', 'F', 'T', 'T', 'T', 'T', 'T', 'T', 'T', 'T', 'T', 'T', 'T', 'T', 'F', 'T', 'F', 'F', 'F', 'F', 'T', 'T', 'F', 'T', 'F', 'T', 'F', 'T', 'T', 'T', 'F', 'T', 'F', 'F', 'F', 'F', 'F', 'F', 'T', 'T', 'T', 'T', 'F', 'F', 'T', 'T', 'F', 'T', 'F', 'F', 'T', 'F', 'T', 'T', 'F', 'F', 'T', 'T', 'T', 'F', 'F', 'T', 'T', 'T', 'T', 'F', 'F', 'T', 'F', 'T', 'F', 'F', 'T', 'F', 'T', 'T', 'F', 'F', 'T', 'T', 'T', 'F', 'F', 'T', 'F', 'F', 'T', 'F', 'F', 'T', 'T', 'F', 'F', 'T', 'F', 'T', 'T', 'T', 'T', 'T', 'F', 'F', 'T', 'T', 'F', 'F', 'T', 'T', 'T', 'T', 'T', 'T', 'T', 'F', 'F', 'T', 'F', 'F', 'T', 'F', 'F', 'T', 'F', 'T', 'F', 'T', 'T', 'T', 'T', 'T', 'T', 'T', 'F', 'F', 'F', 'T', 'T', 'F', 'T', 'T', 'F', 'T', 'F', 'T', 'T', 'F', 'T', 'T', 'T', 'T', 'T', 'F', 'T', 'F', 'T', 'T', 'F', 'T', 'T', 'T', 'T', 'F', 'F', 'F', 'F', 'F', 'F', 'F', 'F', 'F', 'T', 'F', 'F', 'F', 'F', 'F', 'F', 'F', 'F', 'F', 'F', 'F', 'T', 'F', 'F', 'T', 'F', 'T', 'F', 'T', 'F', 'F', 'F', 'T', 'T', 'T', 'T', 'F', 'T', 'F', 'T', 'F', 'F', 'F', 'T', 'T', 'F', 'F', 'T', 'F', 'F', 'T', 'T', 'T', 'T', 'F', 'F', 'T', 'T', 'T', 'F', 'T', 'F', 'F', 'T', 'F', 'T', 'T', 'F', 'F', 'F', 'F', 'T', 'T', 'T', 'F', 'F', 'T', 'F', 'F', 'F', 'F', 'T', 'F', 'F', 'T', 'F', 'T', 'F', 'T', 'F', 'F', 'T', 'F', 'F', 'F', 'F', 'T', 'T', 'T', 'T', 'T', 'F', 'T', 'T', 'F', 'F', 'T', 'F', 'F', 'T', 'F', 'T', 'F', 'F', 'F', 'F', 'F', 'T', 'T', 'F', 'F', 'T', 'T', 'F', 'T', 'T', 'T', 'T', 'F', 'F', 'T', 'T', 'T', 'F', 'F', 'T', 'F', 'F', 'F', 'F', 'F', 'T', 'F', 'F', 'T', 'T', 'F', 'T', 'F', 'F', 'F', 'F', 'F', 'T', 'T', 'T', 'T', 'T', 'T', 'F', 'T', 'F', 'T', 'T', 'T', 'T', 'F', 'F', 'F', 'F', 'F', 'F', 'T', 'T', 'T', 'F', 'T', 'T', 'F', 'F', 'T', 'F', 'T', 'F', 'F', 'F', 'F', 'T', 'T', 'F', 'T', 'F', 'T', 'T', 'T', 'T', 'F', 'T', 'F', 'F', 'F', 'T', 'F', 'F', 'F', 'F', 'T', 'T', 'T', 'F', 'T', 'F', 'F', 'F', 'F', 'F', 'F', 'T', 'T', 'T', 'T', 'F', 'F', 'F', 'F', 'F', 'T', 'T', 'F', 'T', 'T', 'F', 'F', 'T', 'T', 'F', 'F', 'F', 'F', 'T', 'T', 'F', 'F', 'T', 'F', 'F', 'F', 'F', 'F', 'F', 'F', 'F', 'F', 'F', 'F', 'T', 'F', 'F', 'T', 'F', 'T', 'F', 'F', 'F', 'F', 'T', 'T', 'T', 'T', 'T', 'T', 'T', 'T', 'T', 'T', 'T', 'T', 'T', 'T', 'T', 'F', 'F', 'F', 'F', 'F', 'F', 'T', 'F', 'T', 'F', 'T', 'T', 'F', 'T', 'T', 'T', 'F', 'T', 'T', 'T', 'T', 'F', 'F', 'F', 'T', 'T', 'T', 'T', 'T', 'F', 'T', 'T', 'T', 'T', 'F', 'T', 'F', 'F', 'T', 'F', 'T', 'T', 'F', 'T', 'T', 'F', 'F', 'F', 'T', 'F', 'T', 'F', 'F', 'T', 'F', 'T', 'F', 'F', 'T', 'F', 'F', 'F', 'T', 'F', 'F', 'F', 'F', 'T', 'F', 'T', 'F', 'T', 'T', 'F', 'F', 'T', 'T', 'F', 'T', 'T', 'F', 'F', 'F', 'F', 'F', 'T', 'T', 'F', 'T', 'F', 'F', 'F', 'T', 'T', 'T', 'F', 'F', 'F', 'T', 'F', 'T', 'F', 'F', 'T', 'F', 'T', 'T', 'T', 'F', 'T', 'T', 'T', 'T', 'T', 'T', 'T', 'F', 'T', 'F', 'T', 'T', 'T', 'F', 'F', 'T', 'T', 'F', 'T', 'F', 'F', 'F', 'F', 'F', 'F', 'F', 'T', 'F', 'F', 'F', 'F', 'F', 'F', 'F', 'T', 'F', 'T', 'T', 'T', 'F', 'F', 'T', 'F', 'T', 'F', 'T', 'T', 'T', 'F', 'F', 'T', 'F', 'T', 'F', 'T', 'F', 'F', 'T', 'T', 'F', 'F', 'F', 'F', 'T', 'F', 'F', 'F', 'T', 'T', 'F', 'T', 'F', 'F', 'F', 'T', 'T', 'T', 'T', 'F', 'T', 'T', 'T', 'F', 'F', 'T', 'T', 'F', 'T', 'T', 'F', 'F', 'F', 'T', 'F', 'F', 'F', 'T', 'F', 'F', 'F', 'T', 'T', 'F', 'F', 'T', 'F', 'T', 'T', 'F', 'F', 'F', 'T', 'F', 'F', 'T', 'T', 'T', 'F', 'T', 'T', 'F', 'T', 'T', 'F', 'F', 'T', 'F', 'T', 'T', 'T', 'T', 'F', 'F', 'T', 'F', 'F', 'F', 'F', 'F', 'F', 'T', 'F', 'F', 'F', 'F', 'F', 'F', 'T', 'T', 'F', 'F', 'F', 'T', 'T', 'F', 'T', 'T', 'T', 'T', 'F', 'T', 'T', 'F', 'T', 'T', 'T', 'T', 'T', 'F', 'F', 'T', 'F', 'F', 'T', 'F', 'F', 'F', 'T', 'F', 'F', 'T', 'F', 'T', 'F', 'F', 'F', 'F', 'T', 'F', 'F', 'F', 'T', 'T', 'F', 'F', 'T', 'T', 'F', 'F', 'T', 'F', 'F', 'F', 'F', 'T', 'F', 'T', 'T', 'F', 'F', 'F', 'T', 'F', 'F', 'F', 'T', 'T', 'T', 'T', 'T', 'T', 'F', 'T', 'T', 'F', 'F', 'T', 'F', 'F', 'T', 'T', 'F', 'T', 'T', 'F', 'T', 'T', 'T', 'T', 'T', 'T', 'T', 'F', 'F', 'T', 'F', 'F', 'F', 'F', 'F', 'T', 'F', 'T', 'T', 'T', 'T', 'T', 'T', 'T', 'F', 'F', 'F', 'F', 'F', 'T', 'F', 'F', 'F', 'F', 'F', 'T', 'F', 'T', 'T', 'F', 'T', 'T', 'T', 'T', 'T', 'F', 'F', 'T', 'T', 'F', 'F', 'T', 'F', 'F', 'F', 'F', 'T', 'T', 'T', 'T', 'F', 'F', 'F', 'T', 'F', 'F', 'F', 'T', 'F', 'F', 'T', 'F', 'F', 'T', 'F', 'T', 'F', 'F', 'F', 'T', 'F', 'T', 'F', 'F', 'F', 'T', 'T', 'F', 'F', 'F', 'F', 'F', 'T', 'F', 'F', 'T', 'T', 'F', 'T', 'F', 'T', 'F', 'T', 'F', 'T', 'F', 'T', 'F', 'T', 'F', 'F', 'F', 'T', 'F', 'T', 'F', 'F', 'T', 'T', 'T', 'T', 'T', 'F', 'F', 'T', 'F', 'T', 'T', 'T', 'T', 'T', 'T', 'F', 'T', 'F', 'F', 'F', 'F', 'T', 'F', 'F', 'F', 'F', 'F', 'F', 'T', 'F', 'T', 'F', 'T', 'F', 'F', 'F', 'F', 'T', 'F', 'F', 'T', 'T', 'T', 'T', 'F', 'T', 'F', 'T', 'T', 'F', 'F', 'F', 'F', 'T', 'F', 'F', 'T', 'F', 'F', 'T', 'F', 'F', 'F', 'T', 'F', 'F', 'T', 'F', 'F', 'T', 'T', 'F', 'F', 'F', 'T', 'T', 'T', 'F', 'T', 'F', 'F', 'T', 'T', 'T', 'T', 'F', 'T', 'T', 'F', 'T', 'T', 'F', 'F', 'T', 'F', 'F', 'F', 'T', 'T', 'F', 'F', 'F', 'F', 'F', 'F', 'T', 'T', 'F', 'T', 'F', 'T', 'T', 'T', 'F', 'T', 'F', 'F', 'F', 'F', 'F', 'T', 'F', 'F', 'F', 'T', 'F', 'F', 'F', 'T', 'F', 'T', 'F', 'F', 'F', 'F', 'F', 'F', 'F', 'F', 'F', 'T', 'T', 'T', 'F', 'F', 'F', 'F', 'F', 'T', 'F', 'T', 'T', 'F', 'T', 'T', 'F', 'F', 'T', 'T', 'T', 'T', 'T', 'F', 'F', 'F', 'T', 'F', 'T', 'T', 'F', 'T', 'F', 'T', 'F', 'F', 'F', 'F', 'F', 'T', 'F', 'F', 'T', 'F', 'F', 'F', 'T', 'F', 'T', 'T', 'T', 'F', 'T', 'F', 'T', 'T', 'F', 'F', 'T', 'F', 'F', 'F', 'F', 'F', 'T', 'T', 'F', 'T', 'F', 'T', 'T', 'T', 'F', 'F', 'F', 'T', 'F', 'F', 'T', 'F', 'T', 'F', 'F', 'F', 'T', 'F', 'F', 'F', 'F', 'T', 'F', 'T', 'T', 'T', 'T', 'F', 'F', 'F', 'T', 'F', 'F', 'F', 'T', 'T', 'T', 'F', 'F', 'F', 'F', 'F', 'F', 'T', 'T', 'F', 'F', 'T', 'T', 'T', 'F', 'F', 'F', 'T', 'F', 'T', 'F', 'F', 'T', 'F', 'F', 'F', 'F', 'F', 'T', 'F', 'F', 'F', 'F', 'F', 'T', 'F', 'F', 'F', 'T', 'T', 'T', 'T', 'T', 'F', 'F', 'F', 'T', 'T', 'T', 'F', 'T', 'F', 'F', 'T', 'F', 'T', 'T', 'T', 'T', 'T', 'T', 'T', 'T', 'F', 'T', 'F', 'F', 'F', 'T', 'T', 'T', 'T', 'F', 'F', 'T', 'T', 'T', 'F', 'T', 'F', 'F', 'T', 'F', 'F', 'F', 'T', 'F', 'T', 'F', 'F', 'T', 'F', 'T', 'F', 'T', 'T', 'T', 'F', 'T', 'F', 'T', 'F', 'T', 'F', 'T', 'F', 'T', 'T', 'T', 'F', 'T', 'F', 'F', 'F', 'F', 'T', 'T', 'F', 'F', 'F', 'F', 'T', 'T', 'F', 'F', 'T', 'F', 'T', 'F', 'F', 'F', 'T', 'T', 'T', 'F', 'F', 'F', 'F', 'T', 'F', 'F', 'F', 'T', 'F', 'T', 'F', 'T', 'T', 'F', 'F', 'F', 'T', 'T', 'T', 'T', 'F', 'F', 'T', 'T', 'F', 'T', 'T', 'T', 'T', 'T', 'T', 'T', 'T', 'T', 'F', 'T', 'F', 'T', 'F', 'T', 'F', 'T', 'F', 'T', 'F', 'F', 'F', 'F', 'T', 'F', 'T', 'F', 'T', 'T', 'T', 'T', 'T', 'F', 'T', 'F', 'T', 'T', 'T', 'T', 'T', 'T', 'T', 'T', 'T', 'F', 'T', 'F', 'F', 'T', 'T', 'F', 'T', 'F', 'T', 'T', 'F', 'F', 'F', 'T', 'T', 'T', 'T', 'F', 'F', 'F', 'F', 'T', 'F', 'F', 'T', 'F', 'F', 'T', 'F', 'T', 'T', 'F', 'F', 'T', 'F', 'T', 'F', 'F', 'F', 'F', 'F', 'F', 'F', 'F', 'T', 'T', 'T', 'T', 'F', 'T', 'F', 'T', 'T', 'F', 'F', 'F', 'F', 'F', 'T', 'T', 'F', 'F', 'T', 'T', 'F', 'F', 'T', 'T', 'F', 'T', 'F', 'F', 'T', 'T', 'F', 'F', 'F', 'F', 'T', 'F', 'F', 'F', 'F', 'F', 'F', 'F', 'F', 'T', 'F', 'T', 'F', 'T', 'T', 'T', 'T', 'F', 'F', 'F', 'T', 'T', 'F', 'F', 'F', 'T', 'F', 'F', 'F', 'T', 'F', 'T', 'T', 'F', 'F', 'T', 'T', 'T', 'T', 'F', 'T', 'F', 'F', 'F', 'F', 'F', 'T', 'F', 'T', 'T', 'F', 'F', 'F', 'T', 'T', 'T', 'T', 'T', 'F', 'F', 'F', 'F', 'F', 'F', 'T', 'T', 'F', 'F', 'F', 'F', 'F', 'F', 'T', 'F', 'F', 'F', 'F', 'F', 'F', 'F', 'F', 'F', 'F', 'F', 'T', 'F', 'F', 'F', 'F', 'F', 'F', 'F', 'F', 'F', 'F', 'F', 'F', 'F', 'F', 'F', 'F', 'F', 'T', 'F', 'T', 'F', 'T', 'T', 'T', 'F', 'F', 'F', 'F', 'F', 'F', 'T', 'T', 'T', 'F', 'T', 'F', 'F', 'F', 'F', 'T', 'F', 'T', 'F', 'F', 'F', 'F', 'F', 'F', 'T', 'T', 'T', 'T', 'F', 'T', 'F', 'T', 'F', 'F', 'T', 'T', 'T', 'T', 'T', 'T', 'T', 'T', 'T', 'T', 'T', 'T', 'T', 'T', 'T', 'T', 'T', 'F', 'F', 'F', 'T', 'F', 'F', 'F', 'F', 'T', 'F', 'F', 'T', 'T', 'F', 'F', 'T', 'T', 'T', 'F', 'F', 'F', 'F', 'F', 'T', 'F', 'T', 'F', 'T', 'T', 'F', 'T', 'F', 'F', 'F', 'F', 'F', 'F', 'F', 'T', 'F', 'F', 'T', 'T', 'T', 'F', 'T', 'T', 'T', 'T', 'T', 'F', 'T', 'T', 'F', 'F', 'F', 'T', 'F', 'F', 'F', 'F', 'T', 'T', 'F', 'F', 'F', 'F', 'T', 'F', 'F', 'T', 'F', 'F', 'F', 'F', 'F', 'F', 'T', 'T', 'T', 'T', 'T', 'T', 'F', 'T', 'F', 'F', 'F', 'T', 'T', 'F', 'F', 'T', 'T', 'F', 'T', 'F', 'T', 'T', 'F', 'F', 'T', 'F', 'T', 'F', 'F', 'T', 'F', 'F', 'T', 'T', 'F', 'F', 'T', 'T', 'T', 'T', 'T', 'T', 'T', 'F', 'F', 'T', 'F', 'T', 'F', 'T', 'F', 'T', 'F', 'T', 'F', 'F', 'T', 'F', 'F', 'F', 'F', 'T', 'T', 'T', 'T', 'T', 'T', 'T', 'T', 'T', 'T', 'F', 'T', 'F', 'T', 'T', 'F', 'F', 'T', 'T', 'F', 'F', 'T', 'F', 'F', 'T', 'F', 'F', 'T', 'T', 'F', 'T', 'F', 'T', 'T', 'F', 'F', 'F', 'T', 'F', 'T', 'F', 'F', 'T', 'F', 'F', 'T', 'F', 'F', 'F', 'F', 'T', 'T', 'T', 'T', 'F', 'T', 'F', 'T', 'F', 'F', 'F', 'T', 'F', 'F', 'F', 'T', 'T', 'T', 'T', 'F', 'F', 'F', 'F', 'F', 'F', 'F', 'F', 'F', 'T', 'T', 'F', 'T', 'T', 'T', 'T', 'F', 'F', 'F', 'F', 'F', 'T', 'T', 'F', 'F', 'F', 'T', 'F', 'T', 'F', 'T', 'T', 'F', 'F', 'F', 'T', 'T', 'T', 'T', 'T', 'F', 'F', 'T', 'T', 'F', 'T', 'T', 'T', 'F', 'F', 'T', 'F', 'T', 'F', 'T', 'F', 'F', 'T', 'F', 'F', 'T', 'F', 'T', 'T', 'F', 'F', 'T', 'T', 'T', 'F', 'F', 'T', 'T', 'F', 'F', 'T', 'T', 'T', 'T', 'T', 'F', 'F', 'F', 'T', 'T', 'F', 'T', 'T', 'F', 'T', 'F', 'F', 'F', 'F', 'F', 'T', 'T', 'T', 'T', 'T', 'T', 'T', 'T', 'F', 'T', 'T', 'F', 'F', 'T', 'F', 'T', 'F', 'T', 'T', 'F', 'T', 'F', 'F', 'F', 'T', 'T', 'F', 'T', 'F', 'F', 'F', 'T', 'F', 'F', 'F', 'T', 'T', 'T', 'T', 'F', 'T', 'T', 'F', 'F', 'F', 'T', 'T', 'F', 'F', 'F', 'F', 'T', 'F', 'F', 'F', 'F', 'F', 'F', 'F', 'T', 'T', 'T', 'T', 'F', 'F', 'T', 'T', 'F', 'F', 'F', 'F', 'T', 'T', 'T', 'T', 'F', 'T', 'F', 'F', 'T', 'F', 'F', 'F', 'T', 'T', 'T', 'F', 'F', 'T', 'T', 'F', 'T', 'F', 'F', 'F', 'F', 'T', 'F', 'T', 'T', 'T', 'T', 'F', 'F', 'T', 'F', 'T', 'F', 'F', 'F', 'T', 'T', 'T', 'T', 'F', 'F', 'F', 'F', 'T', 'F', 'F', 'F', 'T', 'F', 'F', 'T', 'F', 'F', 'F', 'F', 'T', 'T', 'F', 'T', 'F', 'T', 'T', 'T', 'F', 'T', 'T', 'T', 'F', 'F', 'F', 'T', 'T', 'T', 'T', 'T', 'F', 'F', 'F', 'F', 'F', 'F', 'F', 'F', 'T', 'F', 'T', 'F', 'F', 'F', 'F', 'T', 'T', 'F', 'F', 'F', 'F', 'F', 'F', 'T', 'F', 'T', 'T', 'F', 'F', 'F', 'F', 'T', 'F', 'F', 'T', 'F', 'F', 'T', 'F', 'F', 'T', 'T', 'T', 'F', 'T', 'T', 'F', 'F', 'F', 'F', 'T', 'F', 'F', 'F', 'F', 'F', 'T', 'T', 'T', 'T', 'F', 'T', 'F', 'F', 'F', 'F', 'T', 'T', 'T', 'T', 'T', 'T', 'F', 'F', 'T', 'T', 'T', 'T', 'F', 'F', 'F', 'F', 'T', 'T', 'T', 'T', 'F', 'T', 'T', 'T', 'F', 'F', 'T', 'T', 'F', 'F', 'T', 'T', 'T', 'T', 'F', 'F', 'F', 'F', 'F', 'T', 'F', 'T', 'T', 'F', 'T', 'F', 'F', 'F', 'F', 'F', 'F', 'F', 'F', 'F', 'T', 'F', 'T', 'T', 'F', 'T', 'T', 'F', 'T', 'F', 'T', 'F', 'T', 'F', 'T', 'F', 'F', 'F', 'T', 'T', 'T', 'T', 'T', 'F', 'F', 'F', 'F', 'T', 'T', 'T', 'T', 'T', 'F', 'T', 'F', 'F', 'F', 'F', 'F', 'T', 'T', 'T', 'F', 'F', 'F', 'T', 'F', 'F', 'F', 'F', 'T', 'F', 'T', 'F', 'F', 'F', 'F', 'T', 'F', 'T', 'F', 'F', 'T', 'F', 'T', 'F', 'T', 'F', 'T', 'T', 'F', 'F', 'F', 'T', 'T', 'T', 'T', 'T', 'F', 'T', 'T', 'T', 'F', 'F', 'F', 'T', 'F', 'T', 'T', 'F', 'F', 'F', 'T', 'T', 'T', 'F', 'T', 'T', 'F', 'T', 'T', 'F', 'F', 'T', 'T', 'F', 'F', 'T', 'F', 'F', 'F', 'F', 'T', 'T', 'F', 'F', 'F', 'T', 'F', 'F', 'T', 'F', 'F', 'T', 'T', 'F', 'T', 'T', 'F', 'T', 'F', 'F', 'T', 'T', 'T', 'F', 'T', 'F', 'T', 'T', 'F', 'F', 'F', 'T', 'F', 'T', 'T', 'F', 'F', 'F', 'T', 'T', 'F', 'T', 'T', 'F', 'T', 'T', 'F', 'T', 'F', 'T', 'F', 'T', 'T', 'F', 'F', 'F', 'F', 'F', 'F', 'F', 'F', 'T', 'F', 'T', 'F', 'T', 'T', 'T', 'F', 'T', 'T', 'T', 'F', 'T', 'F', 'F', 'F', 'F', 'F', 'T', 'F', 'F', 'F', 'T', 'F', 'F', 'T', 'F', 'F', 'T', 'T', 'F', 'T', 'F', 'T', 'T', 'F', 'F', 'F', 'F', 'T', 'T', 'F', 'F', 'F', 'T', 'F', 'F', 'F', 'T', 'T', 'F', 'F', 'F', 'F', 'T', 'F', 'F', 'F', 'F', 'F', 'T', 'T', 'F', 'F', 'F', 'T', 'F', 'T', 'F', 'F', 'F', 'F', 'T', 'T', 'F', 'T', 'T', 'T', 'T', 'F', 'T', 'T', 'F', 'T', 'T', 'T', 'T', 'F', 'T', 'F', 'T', 'T', 'F', 'T', 'F', 'F', 'T', 'F', 'T', 'F', 'F', 'T', 'T', 'T', 'T', 'F', 'T', 'T', 'T', 'F', 'T', 'T', 'F', 'F', 'T', 'T', 'F', 'F', 'F', 'F', 'F', 'F', 'F', 'T', 'T', 'T', 'F', 'T', 'F', 'F', 'F', 'F', 'F', 'F', 'F', 'T', 'T', 'F', 'F', 'F', 'F', 'F', 'F', 'F', 'F', 'T', 'F', 'F', 'F', 'T', 'F', 'T', 'F', 'F', 'T', 'F', 'F', 'F', 'F', 'T', 'F', 'F', 'F', 'T', 'F', 'F', 'T', 'F', 'T', 'F', 'F', 'F', 'F', 'F', 'F', 'T', 'T', 'F', 'F', 'F', 'F', 'F', 'F', 'F', 'T', 'T', 'F', 'F', 'F', 'F', 'F', 'F', 'F', 'T', 'T', 'T', 'F', 'T', 'T', 'F', 'F', 'F', 'T', 'T', 'F', 'T', 'T', 'F', 'F', 'F', 'F', 'T', 'T', 'F', 'F', 'F', 'T', 'F', 'T', 'F', 'F', 'T', 'F', 'F', 'F', 'F', 'F', 'F', 'F', 'T', 'F', 'T', 'T', 'T', 'F', 'F', 'F', 'F', 'T', 'T', 'F', 'F', 'F', 'T', 'F', 'F', 'F', 'F', 'T', 'F', 'T', 'F', 'F', 'F', 'F', 'F', 'F', 'T', 'F', 'F', 'F', 'F', 'F', 'F', 'F', 'F', 'T', 'F', 'F', 'T', 'F', 'T', 'F', 'F', 'F', 'T', 'F', 'F', 'T', 'F', 'T', 'T', 'T', 'F', 'F', 'T', 'F', 'T', 'T', 'T', 'T', 'T', 'F', 'T', 'T', 'F', 'F', 'F', 'F', 'F', 'F', 'T', 'F', 'T', 'F', 'T', 'F', 'F', 'F', 'F', 'T', 'T', 'F', 'T', 'T', 'F', 'F', 'F', 'T', 'F', 'T', 'F', 'F', 'F', 'T', 'F', 'F', 'F', 'T', 'F', 'F', 'F', 'T', 'F', 'F', 'F', 'T', 'F', 'F', 'T', 'F', 'F', 'F', 'F', 'F', 'F', 'T', 'F', 'F', 'F', 'F', 'T', 'T', 'T', 'F', 'T', 'F', 'F', 'T', 'T', 'T', 'T', 'T', 'T', 'T', 'F', 'F', 'T', 'F', 'T', 'T', 'T', 'F', 'F', 'F', 'T', 'T', 'T', 'T', 'T', 'F', 'T', 'F', 'F', 'T', 'T', 'F', 'F', 'F', 'T', 'T', 'T', 'F', 'F', 'T', 'F', 'T', 'T', 'T', 'F', 'F', 'T', 'F', 'F', 'T', 'T', 'T', 'F', 'T', 'F', 'F', 'F', 'F', 'F', 'F', 'T', 'T', 'T', 'T', 'T', 'F', 'T', 'F', 'T', 'F', 'F', 'T', 'F', 'F', 'T', 'F', 'F', 'F', 'F', 'T', 'T', 'T', 'F', 'F', 'T', 'F', 'T', 'F', 'T', 'T', 'T', 'T', 'F', 'T', 'T', 'F', 'T', 'F', 'F', 'T', 'F', 'F', 'F', 'F', 'T', 'F', 'T', 'T', 'F', 'T', 'T', 'F', 'F', 'F', 'F', 'F', 'F', 'T', 'F', 'T', 'T', 'T', 'T', 'F', 'T', 'T', 'F', 'F', 'F', 'T', 'T', 'F', 'F', 'T', 'T', 'F', 'F', 'T', 'F', 'F', 'F', 'T', 'F', 'T', 'F', 'T', 'F', 'F', 'F', 'T', 'T', 'T', 'T', 'T', 'T', 'T', 'F', 'T', 'T', 'T', 'T', 'F', 'F', 'F', 'T', 'T', 'F', 'T', 'F', 'F', 'T', 'F', 'T', 'F', 'F', 'T', 'T', 'F', 'T', 'F', 'T', 'F', 'T', 'F', 'F', 'T', 'F', 'F', 'F', 'T', 'T', 'F', 'F', 'T', 'F', 'T', 'T', 'T', 'T', 'F', 'F', 'T', 'F', 'T', 'T', 'T', 'T', 'F', 'T', 'T', 'T', 'T', 'F', 'F', 'T', 'T', 'T', 'T', 'T', 'T', 'F', 'T', 'F', 'T', 'F', 'T', 'F', 'F', 'F', 'F', 'F', 'T', 'F', 'F', 'F', 'T', 'F', 'T', 'F', 'T', 'F', 'F', 'T', 'T', 'F', 'F', 'F', 'F', 'F', 'F', 'T', 'T', 'T', 'T', 'F', 'F', 'F', 'F', 'T', 'T', 'F', 'T', 'T', 'T', 'F', 'F', 'T', 'T', 'F', 'F', 'F', 'T', 'T', 'F', 'F', 'F', 'T', 'T', 'T', 'T', 'T', 'F', 'T', 'T', 'T', 'F', 'T', 'T', 'T', 'F', 'T', 'T', 'T', 'F', 'F', 'T', 'F', 'F', 'F', 'T', 'T', 'T', 'T', 'T', 'T', 'F', 'F', 'F', 'T', 'F', 'T', 'F', 'F', 'F', 'F', 'T', 'F', 'T', 'T', 'F', 'F', 'F', 'T', 'T', 'T', 'T', 'F', 'T', 'T', 'F', 'F', 'T', 'T', 'F', 'T', 'T', 'F', 'F', 'T', 'F', 'F', 'F', 'T', 'F', 'F', 'T', 'F', 'F', 'F', 'F', 'F', 'F', 'F', 'F', 'T', 'F', 'F', 'F', 'T', 'F', 'F', 'T', 'T', 'T', 'T', 'T', 'T', 'T', 'T', 'F', 'F', 'F', 'F', 'F', 'F', 'T', 'T', 'T', 'T', 'F', 'T', 'F', 'F', 'T', 'T', 'F', 'F', 'F', 'T', 'F', 'F', 'F', 'F', 'T', 'F', 'F', 'F', 'F', 'T', 'T', 'F', 'T', 'T', 'F', 'F', 'T', 'T', 'F', 'T', 'F', 'F', 'F', 'F', 'F', 'T', 'T', 'T', 'T', 'F', 'F', 'F', 'F', 'F', 'F', 'F', 'F', 'T', 'F', 'F', 'F', 'T', 'T', 'T', 'F', 'T', 'F', 'F', 'F', 'T', 'F', 'T', 'T', 'T', 'F', 'F', 'T', 'T', 'F', 'F', 'F', 'F', 'F', 'T', 'F', 'T', 'T', 'T', 'F', 'F', 'T', 'F', 'F', 'T', 'T', 'F', 'F', 'F', 'T', 'F', 'F', 'F', 'T', 'F', 'F', 'F', 'T', 'F', 'F', 'T', 'F', 'F', 'F', 'T', 'T', 'T', 'F', 'F', 'T', 'F', 'T', 'T', 'T', 'T', 'T', 'F', 'F', 'F', 'T', 'F', 'F', 'T', 'T', 'F', 'T', 'F', 'F', 'F', 'F', 'T', 'F', 'T', 'F', 'F', 'F', 'F', 'F', 'F', 'F', 'F', 'F', 'F', 'F', 'F', 'F', 'T', 'T', 'T', 'F', 'F', 'T', 'T', 'T', 'F', 'T', 'F', 'F', 'F', 'F', 'F', 'F', 'F', 'T', 'F', 'F', 'T', 'T', 'T', 'T', 'F', 'F', 'F', 'T', 'F', 'F', 'F', 'T', 'T', 'T', 'T', 'T', 'T', 'T', 'T', 'F', 'T', 'F', 'F', 'F', 'F', 'T', 'T', 'T', 'F', 'F', 'F', 'F', 'F', 'T', 'T', 'F', 'T', 'T', 'F', 'T', 'F', 'T', 'T', 'F', 'T', 'F', 'F', 'T', 'T', 'F', 'T', 'T', 'F', 'F', 'T', 'T', 'F', 'T', 'F', 'T', 'F', 'T', 'T', 'T', 'F', 'F', 'F', 'F', 'F', 'F', 'T', 'F', 'F', 'F', 'F', 'F', 'T', 'T', 'T', 'T', 'F', 'T', 'F', 'F', 'T', 'F', 'F', 'F', 'F', 'T', 'T', 'T', 'T', 'T', 'T', 'F', 'F', 'F', 'T', 'F', 'F', 'F', 'F', 'F', 'F', 'F', 'T', 'F', 'F', 'F', 'F', 'F', 'T', 'F', 'F', 'T', 'T', 'T', 'T', 'T', 'T', 'F', 'F', 'F', 'F', 'F', 'F', 'T', 'T', 'T', 'F', 'F', 'T', 'T', 'F', 'F', 'T', 'F', 'T', 'F', 'F', 'T', 'T', 'F', 'T', 'T', 'T', 'F', 'F', 'T', 'F', 'T', 'T', 'F', 'F', 'F', 'F', 'T', 'F', 'T', 'F', 'F', 'F', 'F', 'T', 'F', 'T', 'T', 'T', 'F', 'F', 'F', 'F', 'F', 'T', 'T', 'T', 'T', 'T', 'T', 'F', 'T', 'T', 'T', 'T', 'F', 'T', 'F', 'T', 'T', 'T', 'F', 'F', 'F', 'T', 'F', 'F', 'F', 'F', 'F', 'F', 'T', 'T', 'F', 'F', 'T', 'F', 'F', 'F', 'F', 'F', 'T', 'T', 'F', 'T', 'F', 'T', 'F', 'F', 'T', 'T', 'F', 'T', 'F', 'T', 'F', 'T', 'F', 'T', 'T', 'F', 'F', 'T', 'F', 'T', 'T', 'F', 'T', 'F', 'F', 'T', 'F', 'T', 'T', 'F', 'F', 'T', 'T', 'F', 'T', 'F', 'T', 'F', 'F', 'F', 'F', 'T', 'F', 'F', 'T', 'F', 'F', 'F', 'F', 'F', 'F', 'T', 'F', 'F', 'F', 'F', 'F', 'F', 'F', 'T', 'F', 'F', 'F', 'F', 'T', 'F', 'F', 'T', 'F', 'T', 'F', 'T', 'F', 'F', 'F', 'F', 'F', 'T', 'T', 'T', 'F', 'F', 'T', 'F', 'F', 'T', 'F', 'T', 'T', 'T', 'T', 'T', 'F', 'F', 'T', 'F', 'F', 'T', 'F', 'T', 'T', 'F', 'T', 'F', 'F', 'T', 'T', 'F', 'F', 'T', 'F', 'F', 'T', 'T', 'F', 'T', 'T', 'F', 'T', 'T', 'T', 'T', 'T', 'T', 'F', 'F', 'F', 'T', 'F', 'F', 'T', 'F', 'T', 'T', 'F', 'T', 'F', 'F', 'F', 'T', 'F', 'T', 'T', 'T', 'T', 'T', 'F', 'F', 'F', 'T', 'F', 'F', 'F', 'T', 'T', 'F', 'F', 'F', 'F', 'F', 'F', 'T', 'F', 'F', 'F', 'T', 'F', 'F', 'F', 'T', 'T', 'T', 'F', 'T', 'T', 'T', 'F', 'T', 'T', 'T', 'F', 'F', 'T', 'T', 'T', 'T', 'F', 'F', 'F', 'F', 'F', 'F', 'T', 'F', 'F', 'F', 'F', 'T', 'F', 'F', 'T', 'T', 'T', 'F', 'T', 'T', 'F', 'T', 'T', 'F', 'F', 'F', 'T', 'T', 'T', 'T', 'T', 'T', 'T', 'T', 'F', 'F', 'T', 'T', 'F', 'F', 'F', 'T', 'T', 'T', 'F', 'T', 'F', 'F', 'T', 'F', 'F', 'F', 'F', 'F', 'T', 'F', 'T', 'T', 'F', 'F', 'T', 'F', 'T', 'T', 'F', 'T', 'T', 'T', 'T', 'F', 'T', 'F', 'F', 'F', 'F', 'F', 'T', 'F', 'T', 'T', 'T', 'T', 'T', 'T', 'F', 'F', 'T', 'T', 'T', 'T', 'F', 'T', 'F', 'F', 'T', 'T', 'F', 'T', 'F', 'T', 'T', 'T', 'T', 'F', 'F', 'F', 'F', 'T', 'F', 'F', 'T', 'F', 'F', 'T', 'T', 'T', 'F', 'T', 'F', 'F', 'T', 'F', 'F', 'T', 'T', 'T', 'T', 'F', 'F', 'T', 'F', 'T', 'T', 'F', 'F', 'T', 'T', 'F', 'F', 'T', 'F', 'F', 'F', 'F', 'F', 'F', 'F', 'F', 'T', 'T', 'T', 'T', 'F', 'F', 'T', 'F', 'F', 'F', 'T', 'T', 'T', 'T', 'T', 'F', 'T', 'T', 'T', 'F', 'F', 'T', 'T', 'T', 'T', 'F', 'T', 'T', 'T', 'T', 'T', 'T', 'F', 'T', 'F', 'F', 'F', 'T', 'F', 'F', 'T', 'F', 'F', 'F', 'F', 'T', 'T', 'T', 'T', 'T', 'F', 'F', 'T', 'T', 'F', 'F', 'T', 'T', 'T', 'F', 'F', 'T', 'F', 'F', 'T', 'F', 'F', 'T', 'F', 'T', 'F', 'T', 'F', 'T', 'F', 'T', 'F', 'F', 'T', 'T', 'T', 'F', 'F', 'F', 'T', 'F', 'T', 'F', 'T', 'T', 'F', 'F', 'F', 'F', 'F', 'F', 'F', 'T', 'F', 'T', 'F', 'T', 'F', 'T', 'F', 'T', 'F', 'F', 'F', 'T', 'T', 'T', 'F', 'T', 'T', 'F', 'T', 'F', 'T', 'T', 'T', 'F', 'F', 'F', 'T', 'F', 'F', 'F', 'T', 'T', 'T', 'T', 'F', 'F', 'T', 'F', 'T', 'T', 'T', 'F', 'T', 'F', 'F', 'F', 'F', 'F', 'T', 'F', 'F', 'T', 'F', 'F', 'T', 'T', 'F', 'T', 'T', 'T', 'F', 'T', 'F', 'T', 'F', 'F', 'F', 'T', 'F', 'F', 'T', 'F', 'F', 'F', 'F', 'F', 'T', 'T', 'F', 'F', 'F', 'T', 'F', 'T', 'F', 'T', 'T', 'F', 'F', 'T', 'T', 'T', 'F', 'F', 'F', 'T', 'F', 'T', 'T', 'T', 'F', 'F', 'F', 'T', 'T', 'T', 'T', 'F', 'T', 'F', 'F', 'T', 'T', 'T', 'F', 'T', 'T', 'F', 'F', 'F', 'F', 'T', 'F', 'F', 'F', 'T', 'F', 'T', 'F', 'T', 'T', 'T', 'F', 'T', 'T', 'T', 'F', 'F', 'T', 'T', 'T', 'F', 'F', 'F', 'T', 'F', 'T', 'F', 'T', 'F', 'F', 'T', 'F', 'T', 'F', 'T', 'F', 'T', 'F', 'F', 'F', 'T', 'F', 'T', 'T', 'F', 'F', 'T', 'F', 'T', 'T', 'T', 'F', 'T', 'F', 'F', 'F', 'F', 'F', 'F', 'F', 'F', 'F', 'T', 'F', 'F', 'F', 'F', 'T', 'T', 'F', 'T', 'F', 'F', 'F', 'F', 'F', 'F', 'T', 'T', 'T', 'T', 'T', 'T', 'T', 'F', 'T', 'T', 'T', 'T', 'F', 'T', 'F', 'T', 'T', 'F', 'F', 'F', 'F', 'F', 'F', 'F', 'F', 'F', 'F', 'F', 'F', 'F', 'F', 'T', 'T', 'F', 'T', 'F', 'F', 'T', 'T', 'T', 'F', 'F', 'T', 'F', 'F', 'T', 'T', 'T', 'T', 'T', 'F', 'F', 'F', 'T', 'T', 'F', 'F', 'F', 'F', 'F', 'F', 'T', 'T', 'F', 'F', 'T', 'F', 'F', 'T', 'T', 'F', 'T', 'F', 'F', 'T', 'T', 'F', 'T', 'F', 'T', 'T', 'F', 'T', 'T', 'T', 'T', 'F', 'T', 'F', 'F', 'F', 'F', 'F', 'T', 'F', 'T', 'F', 'F', 'T', 'F', 'F', 'T', 'F', 'T', 'T', 'F', 'T', 'F', 'T', 'T', 'F', 'F', 'T', 'F', 'T', 'F', 'T', 'F', 'F', 'F', 'T', 'F', 'T', 'T', 'F', 'T', 'T', 'F', 'T', 'F', 'F', 'T', 'T', 'F', 'F', 'F', 'T', 'T', 'F', 'T', 'F', 'F', 'F', 'F', 'F', 'T', 'T', 'F', 'T', 'F', 'T', 'T', 'T', 'T', 'F', 'T', 'T', 'F', 'T', 'F', 'T', 'F', 'T', 'F', 'F', 'F', 'T', 'T', 'T', 'T', 'T', 'F', 'F', 'T', 'T', 'T', 'F', 'F', 'T', 'F', 'F', 'T', 'F', 'F', 'T', 'F', 'T', 'F', 'F', 'F', 'T', 'F', 'F', 'T', 'T', 'T', 'F', 'F', 'T', 'F', 'T', 'F', 'T', 'T', 'F', 'T', 'T', 'T', 'T', 'T', 'F', 'T', 'F', 'F', 'F', 'T', 'F', 'T', 'F', 'F', 'F', 'T', 'T', 'T', 'F', 'F', 'F', 'F', 'F', 'F', 'F', 'F', 'T', 'F', 'F', 'F', 'T', 'F', 'F', 'F', 'F', 'T', 'F', 'F', 'F', 'F', 'T', 'F', 'T', 'T', 'T', 'T', 'F', 'T', 'F', 'F', 'F', 'T', 'T', 'T', 'T', 'T', 'T', 'F', 'T', 'T', 'F', 'F', 'T', 'F', 'F', 'T', 'F', 'F', 'T', 'F', 'T', 'F', 'F', 'T', 'F', 'F', 'T', 'F', 'T', 'T', 'T', 'T', 'F', 'F', 'F', 'F', 'T', 'F', 'F', 'T', 'F', 'T', 'T', 'F', 'T', 'F', 'T', 'T', 'F', 'F', 'T', 'F', 'T', 'F', 'T', 'T', 'T', 'T', 'F', 'F', 'F', 'T', 'T', 'T', 'T', 'F', 'T', 'T', 'F', 'T', 'F', 'T', 'F', 'T', 'F', 'T', 'T', 'F', 'T', 'T', 'F', 'T', 'F', 'F', 'T', 'F', 'T', 'F', 'F', 'T', 'F', 'T', 'T', 'F', 'T', 'F', 'T', 'T', 'F', 'F', 'T', 'T', 'T', 'T', 'F', 'F', 'T', 'T', 'F', 'T', 'T', 'T', 'F', 'T', 'F', 'F', 'F', 'F', 'T', 'T', 'T', 'T', 'T', 'T', 'T', 'F', 'F', 'F', 'T', 'F', 'T', 'F', 'T', 'T', 'T', 'F', 'F', 'F', 'T', 'F', 'T', 'T', 'T', 'F', 'F', 'F', 'F', 'T', 'T', 'F', 'T', 'F', 'F', 'T', 'F', 'T', 'F', 'F', 'F', 'F', 'T', 'F', 'T', 'F', 'T', 'F', 'F', 'F', 'T', 'F', 'T', 'T', 'F', 'T', 'F', 'F', 'T', 'F', 'T', 'F', 'T', 'T', 'T', 'T', 'F', 'F', 'F', 'F', 'F', 'F', 'T', 'F', 'T', 'F', 'T', 'T', 'F', 'T', 'T', 'T', 'T', 'F', 'T', 'F', 'T', 'F', 'F', 'F', 'T', 'F', 'T', 'T', 'T', 'T', 'F', 'T', 'T', 'F', 'T', 'T', 'F', 'T', 'F', 'F', 'F', 'F', 'F', 'F', 'F', 'T', 'T', 'F', 'T', 'F', 'T', 'T', 'T', 'F', 'T', 'F', 'T', 'F', 'F', 'T', 'F', 'F', 'T', 'T', 'F', 'F', 'F', 'F', 'F', 'T', 'F', 'T', 'T', 'F', 'T', 'F', 'F', 'T', 'T', 'T', 'F', 'F', 'T', 'T', 'T', 'T', 'F', 'T', 'T', 'F', 'F', 'F', 'T', 'F', 'T', 'F', 'F', 'T', 'F', 'F', 'F', 'F', 'F', 'F', 'F', 'F', 'F', 'F', 'F', 'F', 'T', 'F', 'F', 'T', 'F', 'T', 'T', 'F', 'F', 'F', 'F', 'F', 'F', 'F', 'T', 'F', 'T', 'F', 'F', 'F', 'F', 'F', 'F', 'F', 'T', 'F', 'F', 'F', 'F', 'T', 'F', 'T', 'T', 'F', 'F', 'T', 'F', 'F', 'F', 'T', 'T', 'F', 'F', 'F', 'F', 'F', 'T', 'T', 'F', 'F', 'T', 'T', 'F', 'T', 'T', 'F', 'T', 'T', 'T', 'F', 'T', 'F', 'F', 'T', 'T', 'F', 'T', 'T', 'T', 'F', 'F', 'F', 'F', 'F', 'F', 'T', 'F', 'F', 'F', 'F', 'F', 'F', 'F', 'F', 'T', 'T', 'T', 'F', 'T', 'F', 'F', 'T', 'T', 'T', 'T', 'T', 'T', 'T', 'F', 'F', 'F', 'T', 'T', 'T', 'F', 'F', 'T', 'T', 'T', 'F', 'T', 'T', 'T', 'F', 'T', 'F', 'T', 'T', 'T', 'F', 'T', 'T', 'T', 'F', 'T', 'T', 'F', 'F', 'F', 'T', 'F', 'T', 'T', 'T', 'F', 'F', 'F', 'T', 'F', 'T', 'F', 'F', 'T', 'T', 'T', 'T', 'F', 'F', 'F', 'F', 'F', 'F', 'T', 'F', 'T', 'T', 'F', 'T', 'T', 'T', 'F', 'T', 'T', 'T', 'T', 'F', 'T', 'T', 'F', 'F', 'T', 'T', 'T', 'F', 'T', 'F', 'T', 'T', 'F', 'T', 'T', 'T', 'T', 'F', 'F', 'F', 'F', 'F', 'T', 'T', 'T', 'T', 'F', 'T', 'F', 'F', 'T', 'F', 'F', 'T', 'T', 'F', 'T', 'F', 'T', 'F', 'F', 'T', 'F', 'T', 'F', 'F', 'T', 'T', 'T', 'T', 'F', 'T', 'F', 'T', 'T', 'T', 'F', 'F', 'F', 'F', 'T', 'T', 'F', 'F', 'T', 'F', 'T', 'F', 'T', 'T', 'T', 'F', 'F', 'T', 'T', 'F', 'T', 'T', 'T', 'F', 'F', 'F', 'F', 'F', 'F', 'F', 'F', 'F', 'F', 'T', 'T', 'F', 'T', 'F', 'T', 'F', 'F', 'F', 'T', 'F', 'F', 'F', 'F', 'T', 'F', 'T', 'T', 'F', 'F', 'T', 'F', 'T', 'T', 'F', 'F', 'T', 'T', 'T', 'F', 'T', 'F', 'F', 'F', 'F', 'F', 'F', 'F', 'T', 'F', 'T', 'T', 'F', 'F', 'T', 'F', 'F', 'T', 'T', 'F', 'F', 'F', 'F', 'F', 'F', 'T', 'F', 'T', 'F', 'F', 'T', 'T', 'F', 'T', 'F', 'F', 'T', 'F', 'F', 'F', 'F', 'T', 'F', 'T', 'F', 'F', 'F', 'F', 'F', 'F', 'F', 'T', 'F', 'T', 'F', 'F', 'T', 'F', 'T', 'F', 'F', 'F', 'F', 'F', 'F', 'F', 'T', 'T', 'T', 'F', 'T', 'F', 'F', 'F', 'T', 'F', 'F', 'F', 'T', 'F', 'F', 'F', 'T', 'F', 'T', 'F', 'T', 'F', 'F', 'T', 'F', 'F', 'F', 'F', 'F', 'F', 'T', 'T', 'T', 'F', 'F', 'F', 'T', 'F', 'F', 'F', 'F', 'F', 'T', 'F', 'F', 'T', 'F', 'T', 'F', 'F', 'T', 'T', 'T', 'F', 'T', 'T', 'F', 'T', 'F', 'F', 'F', 'F', 'F', 'F', 'T', 'T', 'F', 'F', 'T', 'T', 'T', 'T', 'T', 'T', 'F', 'T', 'T', 'T', 'F', 'T', 'T', 'T', 'F', 'T', 'F', 'T', 'T', 'T', 'F', 'T', 'T', 'T', 'T', 'F', 'F', 'F', 'F', 'F', 'T', 'T', 'T', 'T', 'F', 'T', 'F', 'F', 'T', 'F', 'T', 'T', 'F', 'T', 'T', 'F', 'T', 'T', 'T', 'F', 'T', 'F', 'F', 'F', 'F', 'F', 'F', 'F', 'F', 'T', 'F', 'T', 'F', 'F', 'F', 'T', 'F', 'T', 'F', 'F', 'F', 'T', 'F', 'T', 'F', 'F', 'F', 'F', 'F', 'F', 'F', 'F', 'F', 'T', 'F', 'T', 'T', 'T', 'F', 'F', 'F', 'F', 'T', 'T', 'F', 'T', 'F', 'T', 'F', 'F', 'T', 'T', 'F', 'F', 'T', 'T', 'F', 'F', 'F', 'T', 'F', 'T', 'T', 'F', 'F', 'T', 'T', 'T', 'T', 'T', 'T', 'F', 'F', 'T', 'T', 'F', 'F', 'F', 'F', 'F', 'F', 'F', 'T', 'T', 'F', 'T', 'F', 'F', 'T', 'F', 'T', 'F', 'T', 'T', 'T', 'T', 'T', 'F', 'T', 'F', 'T', 'F', 'T', 'F', 'T', 'T', 'F', 'T', 'T', 'T', 'F', 'F', 'T', 'T', 'F', 'F', 'T', 'T', 'F', 'F', 'F', 'T', 'F', 'F', 'T', 'T', 'F', 'T', 'F', 'T', 'T', 'F', 'T', 'F', 'T', 'F', 'F', 'F', 'F', 'F', 'T', 'F', 'F', 'T', 'F', 'F', 'F', 'F', 'T', 'F', 'F', 'T', 'T', 'T', 'F', 'T', 'F', 'F', 'F', 'T', 'F', 'T', 'F', 'F', 'F', 'F', 'F', 'F', 'T', 'T', 'F', 'F', 'T', 'T', 'F', 'T', 'T', 'F', 'F', 'T', 'F', 'T', 'F', 'F', 'F', 'T', 'T', 'T', 'T', 'T', 'T', 'F', 'T', 'T', 'F', 'T', 'T', 'F', 'F', 'T', 'T', 'F', 'T', 'T', 'T', 'T', 'F', 'F', 'T', 'T', 'T', 'F', 'T', 'F', 'F', 'F', 'T', 'T', 'T', 'T', 'T', 'F', 'F', 'F', 'F', 'T', 'T', 'T', 'T', 'F', 'T', 'F', 'F', 'F', 'T', 'F', 'T', 'T', 'T', 'F', 'F', 'T', 'F', 'T', 'F', 'F', 'F', 'F', 'F', 'F', 'F', 'F', 'T', 'T', 'T', 'T', 'F', 'T', 'F', 'F', 'T', 'F', 'F', 'F', 'F', 'F', 'F', 'F', 'T', 'F', 'T', 'T', 'F', 'F', 'F', 'T', 'F', 'F', 'F', 'T', 'F', 'T', 'T', 'F', 'F', 'F', 'T', 'T', 'T', 'T', 'T', 'T', 'T', 'T', 'F', 'T', 'F', 'T', 'T', 'F', 'T', 'F', 'F', 'F', 'T', 'F', 'T', 'F', 'F', 'F', 'T', 'F', 'T', 'F', 'T', 'T', 'F', 'F', 'T', 'F', 'F', 'T', 'F', 'T', 'T', 'T', 'F', 'T', 'T', 'F', 'F', 'F', 'F', 'T', 'T', 'F', 'F', 'F', 'F', 'T', 'F', 'F', 'F', 'F', 'F', 'F', 'T', 'T', 'F', 'F', 'T', 'T', 'F', 'F', 'F', 'F', 'F', 'F', 'T', 'F', 'T', 'T', 'F', 'T', 'F', 'T', 'T', 'F', 'T', 'F', 'F', 'T', 'T', 'F', 'F', 'T', 'F', 'T', 'F', 'T', 'F', 'F', 'F', 'T', 'F', 'F', 'F', 'F', 'T', 'T', 'F', 'T', 'F', 'T', 'F', 'F', 'F', 'F', 'F', 'F', 'F', 'F', 'F', 'F', 'F', 'F', 'F', 'F', 'T', 'T', 'F', 'F', 'T', 'T', 'F', 'F', 'F', 'F', 'F', 'F', 'F', 'T', 'T', 'F', 'F', 'T', 'F', 'T', 'T', 'T', 'F', 'F', 'T', 'F', 'F', 'T', 'T', 'T', 'T', 'F', 'F', 'F', 'F', 'T', 'T', 'F', 'T', 'F', 'F', 'F', 'F', 'T', 'F', 'F', 'T', 'F', 'T', 'T', 'T', 'T', 'F', 'T', 'F', 'F', 'F', 'F', 'F', 'T', 'T', 'F', 'F', 'F', 'T', 'T', 'T', 'T', 'T', 'F', 'T', 'T', 'F', 'F', 'F', 'F', 'T', 'T', 'F', 'T', 'F', 'T', 'F', 'T', 'T', 'F', 'F', 'T', 'T', 'T', 'T', 'T', 'T', 'F', 'F', 'T', 'F', 'F', 'T', 'T', 'T', 'F', 'F', 'F', 'F', 'F', 'F', 'F', 'T', 'T', 'F', 'F', 'F', 'T', 'F', 'F', 'T', 'T', 'F', 'T', 'F', 'T', 'F', 'T', 'F', 'T', 'F', 'T', 'T', 'T', 'T', 'F', 'T', 'T', 'T', 'F', 'T', 'F', 'F', 'F', 'T', 'T', 'T', 'F', 'T', 'F', 'T', 'T', 'T', 'F', 'T', 'T', 'F', 'F', 'T', 'T', 'F', 'F', 'T', 'F', 'T', 'T', 'F', 'T', 'T', 'T', 'F', 'F', 'F', 'F', 'F', 'F', 'F', 'T', 'F', 'F', 'F', 'F', 'T', 'F', 'F', 'F', 'F', 'T', 'T', 'F', 'T', 'T', 'T', 'F', 'F', 'F', 'T', 'F', 'F', 'T', 'T', 'F', 'T', 'F', 'T', 'F', 'F', 'T', 'F', 'F', 'T', 'T', 'F', 'F', 'T', 'T', 'T', 'T', 'F', 'F', 'T', 'T', 'T', 'F', 'F', 'F', 'F', 'F', 'F', 'T', 'F', 'T', 'T', 'T', 'F', 'F', 'T', 'T', 'F', 'F', 'F', 'F', 'F', 'T', 'F', 'T', 'T', 'F', 'F', 'T', 'T', 'F', 'T', 'T', 'F', 'F', 'T', 'F', 'T', 'T', 'F', 'F', 'T', 'T', 'T', 'F', 'T', 'T', 'T', 'T', 'F', 'T', 'F', 'T', 'F', 'F', 'F', 'T', 'T', 'T', 'T', 'F', 'F', 'T', 'T', 'T', 'F', 'T', 'F', 'T', 'F', 'F', 'F', 'F', 'F', 'T', 'T', 'T', 'T', 'T', 'F', 'T', 'F', 'T', 'T', 'F', 'F', 'F', 'T', 'T', 'T', 'T', 'F', 'T', 'F', 'T', 'T', 'F', 'F', 'F', 'T', 'F', 'T', 'T', 'F', 'T', 'F', 'F', 'F', 'T', 'F', 'F', 'F', 'F', 'F', 'T', 'T', 'F', 'F', 'T', 'F', 'F', 'F', 'T', 'T', 'F', 'T', 'T', 'F', 'T', 'T', 'T', 'T', 'F', 'T', 'F', 'T', 'F', 'T', 'F', 'T', 'T', 'F', 'F', 'F', 'F', 'T', 'T', 'T', 'F', 'F', 'F', 'T', 'T', 'F', 'T', 'T', 'F', 'T', 'T', 'T', 'F', 'F', 'T', 'T', 'T', 'F', 'F', 'T', 'T', 'T', 'T', 'F', 'F', 'T', 'T', 'T', 'F', 'F', 'F', 'T', 'F', 'F', 'T', 'F', 'F', 'F', 'F', 'T', 'T', 'F', 'T', 'F', 'T', 'T', 'T', 'F', 'F', 'T', 'F']\n"
          ]
        }
      ]
    },
    {
      "cell_type": "code",
      "source": [
        "# Before doing anything for the assignment, we need to access files from my drive\n",
        "# which I saved constructed models, .txt files. They will be used in later chunks\n",
        "\n",
        "!pip install -U -q PyDrive\n",
        "from pydrive.auth import GoogleAuth\n",
        "from pydrive.drive import GoogleDrive\n",
        "from google.colab import auth\n",
        "from oauth2client.client import GoogleCredentials\n",
        "# Authenticate and create the PyDrive client.\n",
        "auth.authenticate_user()\n",
        "gauth = GoogleAuth()\n",
        "gauth.credentials = GoogleCredentials.get_application_default()\n",
        "drive = GoogleDrive(gauth)\n",
        "\n",
        "file_ids = [\"1-KEH-EAEM8OF07-5_WB2FsLta9FQSUSP\", \"1-BGzTVoZESYBMW8GqaO49DRPFBsEbkXf\", \"1-Z4zJdqWpE1cOCfVWNLfcpifHXAUmjPc\", \"1-XXhhPsjsUL8lbFfuNuJQAHitQ4AutDZ\", \"1-ObMls8O7S5ldDl0B_rZztmHoohHKJsb\", \"1-PArm5nFO0ExuSqx_H5-CGYhiup4jXDg\", \"1-FBqJoDlP6YAl3CgVHLf11Zsu4jiq1Xe\", \"1-B511sOBso9H02K3uwLsrJRFoLLI9wpU\", \"1-8KaxkEEFgB6qj-7Qi0LvRu2fjDRi78j\", \"1-NCzEs-k9fFHZ66NzJ_3Tsfk52eP4I0F\", \"1-RnfqxJs7M9VCctbHNNaat4o7REMTqeN\", \"1-EWB5ISPNTONOFLpw6c2HcPKd1A10t_G\"]\n",
        "file_names = [\"dimention_text.txt\", \"best_model.pt\", \"f1_lr_0_0_1_epoch5.txt\", \"f1_lr_0_0_1.txt\", \"later_test_testing_posts.txt\", \"my_sg_model.pt\", \"my_wv_model.pt\", \"testing_p.txt\", \"training_p.txt\", \"window_size_text.txt\", \"wv_model_200.pt\", \"wv_model2.pt\"]\n",
        "def get_files(ids, file_name):\n",
        "    for i in range(len(ids)):\n",
        "        downloaded = drive.CreateFile({'id':ids[i]}) \n",
        "        downloaded.GetContentFile(file_name[i]) \n",
        "get_files(file_ids, file_names)"
      ],
      "metadata": {
        "id": "WT47F5lhQKmO"
      },
      "execution_count": null,
      "outputs": []
    },
    {
      "cell_type": "markdown",
      "metadata": {
        "id": "l9gBSgBCQh24"
      },
      "source": [
        "## 1.1. URL Removal\n",
        "*related to the section 4.2*"
      ]
    },
    {
      "cell_type": "code",
      "metadata": {
        "id": "emyl1lWxGr12"
      },
      "source": [
        "# # This part is for URL removal but takes bit long, so I comment it out and we will\n",
        "# # See the complete(doing url removal, stemming, case-folding, etc.), final version of preprocessed datasets in next few chunks\n",
        "\n",
        "# for i in range(len(training_posts)):\n",
        "#   training_posts[i] = training_posts[i].replace(\"|||\", \" \")\n",
        "#   training_posts[i] = re.sub(r'[\\S]+\\.(net|com|org|info|edu|gov|uk|de|ca|jp|fr|au|us|ru|ch|it|nel|se|no|es|mil)[\\S]*\\s?','',training_posts[i])\n",
        "# for j in range(len(testing_posts)):\n",
        "#   testing_posts[j] = testing_posts[j].replace(\"|||\", \" \")\n",
        "#   testing_posts[j] = re.sub(r'[\\S]+\\.(net|com|org|info|edu|gov|uk|de|ca|jp|fr|au|us|ru|ch|it|nel|se|no|es|mil)[\\S]*\\s?','',testing_posts[j])\n"
      ],
      "execution_count": null,
      "outputs": []
    },
    {
      "cell_type": "markdown",
      "source": [
        "## 1.2. Preprocess data (e.g. Stop words, Stemming)\n",
        "*related to the section 4.2*"
      ],
      "metadata": {
        "id": "QzLAO5a25qzS"
      }
    },
    {
      "cell_type": "code",
      "metadata": {
        "id": "jl7t5Vqo5_gq"
      },
      "source": [
        "# # This chunk is used to preprocessing the dataset, but it takes tooooooo long,\n",
        "# # So I just comment it out and we will just load preprocessed-already datasets from the drive in next few chunks\n",
        "\n",
        "# import nltk\n",
        "# nltk.download('punkt')\n",
        "# nltk.download('stopwords')\n",
        "# from nltk.corpus import stopwords as sw\n",
        "# from nltk.tokenize import word_tokenize\n",
        "# from nltk.stem.porter import *\n",
        "# numbers = [i for i in range(10)]\n",
        "# stop_words = sw.words()\n",
        "# stemmer = PorterStemmer()\n",
        "\n",
        "# tt = open(\"training_p.txt\", \"w\")\n",
        "# te = open(\"testing_p.txt\", \"w\")\n",
        "\n",
        "# for i in range(7808):\n",
        "#   training_posts[i] = training_posts[i].lower() # turn to lowercase to make analysis case-sensitivity to avoid analyzing same words repeatedly\n",
        "#   training_posts[i] = re.sub(r'[^\\w\\s]','',training_posts[i])\n",
        "#   training_posts[i] = word_tokenize(training_posts[i])  # tokenization\n",
        "#   training_posts[i] = [t for t in training_posts[i] if not t.isdigit()] # remove numbers\n",
        "#   training_posts[i] = [w for w in training_posts[i] if not w in stop_words] # remove stopwords\n",
        "#   training_posts[i] = [stemmer.stem(tok) for tok in training_posts[i]] # stemming\n",
        "#   tt.write(\",\".join(training_posts[i]))\n",
        "#   tt.write(\"\\n\")\n",
        "# tt.close()\n",
        "# for j in range(len(testing_posts)):\n",
        "#   testing_posts[j] = testing_posts[j].lower() # turn to lowercase to make analysis case-sensitivity to avoid analyzing same words repeatedly\n",
        "#   testing_posts[j] = re.sub(r'[^\\w\\s]','',testing_posts[j])\n",
        "#   testing_posts[j] = word_tokenize(testing_posts[j])  # tokenization\n",
        "#   testing_posts[j] = [t for t in testing_posts[j] if not t.isdigit()] # remove numbers\n",
        "#   testing_posts[j] = [w for w in testing_posts[j] if not w in stop_words] # remove stopwords\n",
        "#   testing_posts[j] = [stemmer.stem(t) for t in testing_posts[j]] # stemming\n",
        "#   te.write(\",\".join(testing_posts[j]))\n",
        "#   te.write(\"\\n\")\n",
        "# te.close()"
      ],
      "execution_count": null,
      "outputs": []
    },
    {
      "cell_type": "code",
      "source": [
        "## preprocessing to labels\n",
        "import numpy as np\n",
        "from sklearn.preprocessing import LabelEncoder\n",
        "unique_labels = np.unique(training_labels)\n",
        "lEnc = LabelEncoder()\n",
        "label_train_encoded = lEnc.fit(unique_labels).transform(training_labels)\n",
        "label_test_encoded = lEnc.transform(testing_labels)\n",
        "n_class = len(unique_labels)\n",
        "\n",
        "# dataset for section4 testing\n",
        "later_test_training_labels = training_labels\n",
        "later_test_testing_labels = testing_labels"
      ],
      "metadata": {
        "id": "zQ0ocCOyaXC6"
      },
      "execution_count": null,
      "outputs": []
    },
    {
      "cell_type": "code",
      "source": [
        "print(label_train_encoded[:20])"
      ],
      "metadata": {
        "id": "458z4pdiSF5G",
        "outputId": "d170467e-812e-44b9-c838-8541ab848425",
        "colab": {
          "base_uri": "https://localhost:8080/"
        }
      },
      "execution_count": null,
      "outputs": [
        {
          "output_type": "stream",
          "name": "stdout",
          "text": [
            "[0 1 1 1 1 1 0 1 0 1 0 0 0 1 1 1 0 0 0 0]\n"
          ]
        }
      ]
    },
    {
      "cell_type": "code",
      "source": [
        "# # code for reading data for myself in case every time I need to wait long time\n",
        "from google.colab import drive\n",
        "drive.mount('/gdrive')\n",
        "training_posts, testing_posts = [], []\n",
        "f1 = open(\"training_p.txt\", \"r\")\n",
        "f2 = open(\"testing_p.txt\", \"r\")\n",
        "lines1 = f1.readlines()\n",
        "lines2 = f2.readlines()\n",
        "line1_num, line2_num = 0, 0\n",
        "for line in lines1:\n",
        "  line = line.strip()\n",
        "  training_posts.append([])\n",
        "  new = line.split(\",\")\n",
        "  new = [k for k in new if k != \"\"]\n",
        "  training_posts[line1_num] = new\n",
        "  line1_num += 1\n",
        "for line in lines2:\n",
        "  line = line.strip()\n",
        "  testing_posts.append([])\n",
        "  new = line.split(\",\")\n",
        "  new = [k for k in new if k != \"\"]\n",
        "  testing_posts[line2_num] = new\n",
        "  line2_num += 1\n"
      ],
      "metadata": {
        "id": "Hqt1blFifykY",
        "colab": {
          "base_uri": "https://localhost:8080/"
        },
        "outputId": "e856665a-4fd3-40ea-caef-c9d09d4eeee2"
      },
      "execution_count": null,
      "outputs": [
        {
          "output_type": "stream",
          "name": "stdout",
          "text": [
            "Drive already mounted at /gdrive; to attempt to forcibly remount, call drive.mount(\"/gdrive\", force_remount=True).\n"
          ]
        }
      ]
    },
    {
      "cell_type": "markdown",
      "source": [
        "\n",
        "\n",
        "---\n",
        "\n"
      ],
      "metadata": {
        "id": "gIzFi5NK68vc"
      }
    },
    {
      "cell_type": "markdown",
      "source": [
        "# 2 - Input Representation\n"
      ],
      "metadata": {
        "id": "6sAZNIg5927R"
      }
    },
    {
      "cell_type": "markdown",
      "metadata": {
        "id": "daDvAftceIvr"
      },
      "source": [
        "## 2.1. Word Embedding Construction\n",
        "*related to the section 4.1 and 4.3*\n"
      ]
    },
    {
      "cell_type": "code",
      "metadata": {
        "id": "Jw8I1QBk-EhG"
      },
      "source": [
        "from gensim.models import Word2Vec\n",
        "import torch\n",
        "# size = 200 and window = 4 will be justified as the best in section 4 -> best choice\n",
        "# my_wv_model = Word2Vec(sentences= training_posts + testing_posts, size=200, window=4, min_count=1, workers=2, sg=0)\n",
        "my_wv_model = torch.load(\"my_wv_model.pt\")"
      ],
      "execution_count": null,
      "outputs": []
    },
    {
      "cell_type": "code",
      "source": [
        "# set lookup table\n",
        "word_set = set() \n",
        "for post in training_posts:\n",
        "    for word in post:\n",
        "        word_set.add(word)\n",
        "word_set.add('[PAD]')\n",
        "word_set.add('[UNKNOWN]')\n",
        "\n",
        "word_list = list(word_set) \n",
        "word_list.sort()\n",
        "\n",
        "word_index = {}\n",
        "ind = 0\n",
        "for word in word_list:\n",
        "    word_index[word] = ind\n",
        "    ind += 1"
      ],
      "metadata": {
        "id": "m2SOa9Vr2CMq"
      },
      "execution_count": null,
      "outputs": []
    },
    {
      "cell_type": "markdown",
      "metadata": {
        "id": "LNys5HOdISK-"
      },
      "source": [
        "## 2.2. Pretrained Word Embedding\n",
        "*related to the section 4.3*"
      ]
    },
    {
      "cell_type": "code",
      "metadata": {
        "id": "Ae8i7Z2kIef-"
      },
      "source": [
        "# Please comment your code\n",
        "import gensim.downloader as api\n",
        "import numpy as np\n",
        "# load pre-trained model\n",
        "# wv_model2 = api.load(\"glove-twitter-100\")\n",
        "wv_model2 = torch.load(\"wv_model2.pt\")\n",
        "emb_dim = my_wv_model.vector_size + wv_model2.vector_size\n",
        "\n",
        "## pedding and embedding\n",
        "# len_list = [len(w) for w in training_posts]\n",
        "# print(np.mean(len_list))\n",
        "seq_length = 200 \n",
        "## This length is defined by choose a number that bit less than mean/2 of the len_list \n",
        "\n",
        "\n",
        "def encode_and_add_padding(sentences, seq_length, word_index):\n",
        "    sent_encoded = []\n",
        "\n",
        "    for sent in sentences:\n",
        "        temp_encoded = [word_index[word] if word in word_index else word_index['[UNKNOWN]'] for word in sent]\n",
        "        if len(temp_encoded) < seq_length:\n",
        "            temp_encoded += [word_index['[PAD]']] * (seq_length - len(temp_encoded))\n",
        "        else:\n",
        "            temp_encoded = temp_encoded[:seq_length]\n",
        "        sent_encoded.append(temp_encoded)\n",
        "    return sent_encoded\n",
        "\n",
        "train_pad_encoded = encode_and_add_padding(training_posts, seq_length, word_index )\n",
        "test_pad_encoded = encode_and_add_padding(testing_posts, seq_length, word_index )"
      ],
      "execution_count": null,
      "outputs": []
    },
    {
      "cell_type": "markdown",
      "metadata": {
        "id": "T0ap96aeGlIk"
      },
      "source": [
        "## 2.3. Input Concatenation\n",
        "*related to the section 4.3*"
      ]
    },
    {
      "cell_type": "code",
      "metadata": {
        "id": "i2CUCL1cGlI2",
        "colab": {
          "base_uri": "https://localhost:8080/"
        },
        "outputId": "f58d8a09-1c8a-459e-cda3-3c5a9fef5121"
      },
      "source": [
        "# set up look up table while concatenating two models\n",
        "emb_table = []\n",
        "for i, word in enumerate(word_list):\n",
        "    if word in my_wv_model:\n",
        "        emb_table.append(np.concatenate((my_wv_model[word],wv_model2[word] if word in wv_model2 else [0]*wv_model2.vector_size),0))\n",
        "    else:\n",
        "        emb_table.append([0]*emb_dim)\n",
        "\n",
        "emb_table = np.array(emb_table)"
      ],
      "execution_count": null,
      "outputs": [
        {
          "output_type": "stream",
          "name": "stderr",
          "text": [
            "/usr/local/lib/python3.7/dist-packages/ipykernel_launcher.py:4: DeprecationWarning: Call to deprecated `__contains__` (Method will be removed in 4.0.0, use self.wv.__contains__() instead).\n",
            "  after removing the cwd from sys.path.\n",
            "/usr/local/lib/python3.7/dist-packages/ipykernel_launcher.py:5: DeprecationWarning: Call to deprecated `__getitem__` (Method will be removed in 4.0.0, use self.wv.__getitem__() instead).\n",
            "  \"\"\"\n"
          ]
        }
      ]
    },
    {
      "cell_type": "markdown",
      "metadata": {
        "id": "LIu_lkJwQ55g"
      },
      "source": [
        "# 3 - Model Implementation"
      ]
    },
    {
      "cell_type": "markdown",
      "metadata": {
        "id": "DpYCL17JKZxl"
      },
      "source": [
        "### 3.1. Build Sequence Model (Bi-directional model)\n",
        "*related to the section 4.4*"
      ]
    },
    {
      "cell_type": "code",
      "metadata": {
        "id": "13eCtR_SLUG6"
      },
      "source": [
        "# Please comment your code\n",
        "# import packages\n",
        "import torch\n",
        "import torch.nn as nn\n",
        "import torch.nn.functional as F\n",
        "import torch.optim as optim\n",
        "from sklearn.metrics import accuracy_score\n",
        "emb_dim = emb_table.shape[1]\n",
        "total_epoch = 5 # will be justified as the best number of epoch in section 4\n",
        "learning_rate = 0.01\n",
        "hidden_size = 100\n",
        "vocab_size = len(word_list)\n",
        "\n",
        "device = torch.device(\"cuda\" if torch.cuda.is_available() else \"cpu\")\n",
        "\n",
        "class Model(nn.Module):\n",
        "    def __init__(self):\n",
        "        super(Model, self).__init__()\n",
        "        self.emb = nn.Embedding(vocab_size, emb_dim)\n",
        "        self.emb.weight.data.copy_(torch.from_numpy(emb_table))\n",
        "        self.emb.weight.requires_grad = False\n",
        "        # [TODO] Define a Single Directional LSTM Layer, hidden dimenstion is 50\n",
        "\n",
        "        self.lstm = nn.LSTM(emb_dim, 50, batch_first =True, bidirectional=True)\n",
        "        # [TODO] Define the Linear Layer\n",
        "        \n",
        "        self.linear = nn.Linear(50*2, n_class)\n",
        "\n",
        "    def forward(self, x):\n",
        "        # [TODO] Define your forward function\n",
        "        x = self.emb(x) \n",
        "        lstm_out, (h_n, c_n) = self.lstm(x)\n",
        "        hidden_out = torch.cat((h_n[0,:,:],h_n[1,:,:]),1)\n",
        "        z = self.linear(hidden_out)\n",
        "        return z"
      ],
      "execution_count": null,
      "outputs": []
    },
    {
      "cell_type": "markdown",
      "metadata": {
        "id": "6BaOiaGRLW7R"
      },
      "source": [
        "### 3.2. Train Sequence Model (Bi-directional model)\n",
        "\n",
        "*related to the section 4.4*\n",
        "\n",
        "Note that it will not be marked if you do not display the Training Loss and the Number of Epochs in the Assignment 1 ipynb.\n"
      ]
    },
    {
      "cell_type": "code",
      "metadata": {
        "id": "lVQnUSX1LZ6C",
        "colab": {
          "base_uri": "https://localhost:8080/"
        },
        "outputId": "8aa07868-2f84-482a-a158-b8306d1c7952"
      },
      "source": [
        "model = Model().to(device)\n",
        "\n",
        "criterion = nn.CrossEntropyLoss()\n",
        "optimizer = optim.Adam(model.parameters(), lr=learning_rate)\n",
        "\n",
        "\n",
        "from torch.utils.data import DataLoader, TensorDataset\n",
        "# Thanks to https://pytorch.org/docs/stable/data.html, inspired me to deal with data into many subsets\n",
        "# so that no more crashes happen here.\n",
        "trained_data = TensorDataset(torch.Tensor(train_pad_encoded), torch.Tensor(label_train_encoded))\n",
        "every_time_load = DataLoader(trained_data, batch_size = 32, shuffle = True)\n",
        "\n",
        "for epoch in range(total_epoch):  \n",
        "    \n",
        "    model.train()\n",
        "    epoch_loss = 0\n",
        "    epoch_correct = 0\n",
        "    \n",
        "    for batch_ndx, sample in every_time_load:\n",
        "        optimizer.zero_grad()\n",
        "        input_torch = batch_ndx.long().to(device)\n",
        "        target_torch = sample.long().to(device)\n",
        "        outputs = model(input_torch) \n",
        "        loss = criterion(outputs, target_torch)\n",
        "        loss.backward()\n",
        "        optimizer.step()\n",
        "        predicted = torch.argmax(outputs, -1)\n",
        "        epoch_loss += loss.item()\n",
        "        current_correct = np.sum(predicted.cpu().numpy()==target_torch.cpu().numpy())\n",
        "        epoch_correct += current_correct\n",
        "\n",
        "    print('Epoch: %d, loss: %.5f, train_acc: %.2f' %(epoch + 1, epoch_loss/len(every_time_load), epoch_correct/len(label_train_encoded)))\n",
        "\n",
        "print('Finished Training')\n"
      ],
      "execution_count": null,
      "outputs": [
        {
          "output_type": "stream",
          "name": "stdout",
          "text": [
            "Epoch: 1, loss: 0.65071, train_acc: 0.62\n",
            "Epoch: 2, loss: 0.50104, train_acc: 0.77\n",
            "Epoch: 3, loss: 0.47350, train_acc: 0.78\n",
            "Epoch: 4, loss: 0.42185, train_acc: 0.81\n",
            "Epoch: 5, loss: 0.37441, train_acc: 0.83\n",
            "Finished Training\n"
          ]
        }
      ]
    },
    {
      "cell_type": "markdown",
      "metadata": {
        "id": "a4mpRpocePLN"
      },
      "source": [
        "# 4 - Evaluation\n"
      ]
    },
    {
      "cell_type": "markdown",
      "metadata": {
        "id": "lbLBzHObsvvM"
      },
      "source": [
        "## 4.1. Word Embedding Evaluation\n",
        "You are to apply Semantic-Syntactic word relationship tests for the trained word embeddings and visualise the result of Semantic-Syntactic word relationship tests.\n",
        "Note that it will not be marked if you do not display it in the ipynb file.\n"
      ]
    },
    {
      "cell_type": "markdown",
      "metadata": {
        "id": "MSIUsb7qtQEf"
      },
      "source": [
        "(*Please show your empirical evidence and justification*)\n",
        "\n",
        "\n"
      ]
    },
    {
      "cell_type": "code",
      "metadata": {
        "id": "tCrcXwcGsuuo",
        "colab": {
          "base_uri": "https://localhost:8080/"
        },
        "outputId": "7dbe0c7e-a99a-4b5a-d05b-5ef8be5eae8d"
      },
      "source": [
        "# Please comment your code\n",
        "!git clone https://github.com/stanfordnlp/GloVe.git\n",
        "vectors = {}\n",
        "for i in word_list:\n",
        "    if i == \"[PAD]\" or i == \"[UNKNOWN]\":\n",
        "        continue\n",
        "    else:\n",
        "        vec = my_wv_model[i]\n",
        "        vectors[i] = [float(v) for v in vec]\n",
        "vocab_words=list(vectors.keys())\n",
        "vocab_size = len(vocab_words)\n",
        "print(\"Vocab size: \",str(vocab_size))\n",
        "\n",
        "# create word->index and index->word converter\n",
        "vocab = {w: idx for idx, w in enumerate(vocab_words)}\n",
        "ivocab = {idx: w for idx, w in enumerate(vocab_words)}\n",
        "# create the embedding matrix of shape (vocab_size, dim)\n",
        "vector_dim = len(vectors[ivocab[0]])\n",
        "W = np.zeros((vocab_size, vector_dim))\n",
        "for word, v in vectors.items():\n",
        "    if word == '<unk>':\n",
        "        continue\n",
        "    W[vocab[word], :] = v\n",
        "\n",
        "# normalize each word vector to unit length\n",
        "# Vectors are usually normalized to unit length before they are used for similarity calculation, making cosine similarity and dot-product equivalent.\n",
        "W_norm = np.zeros(W.shape)\n",
        "d = (np.sum(W ** 2, 1) ** (0.5))\n",
        "W_norm = (W.T / d).T"
      ],
      "execution_count": null,
      "outputs": [
        {
          "output_type": "stream",
          "name": "stdout",
          "text": [
            "fatal: destination path 'GloVe' already exists and is not an empty directory.\n"
          ]
        },
        {
          "output_type": "stream",
          "name": "stderr",
          "text": [
            "/usr/local/lib/python3.7/dist-packages/ipykernel_launcher.py:8: DeprecationWarning: Call to deprecated `__getitem__` (Method will be removed in 4.0.0, use self.wv.__getitem__() instead).\n",
            "  \n"
          ]
        },
        {
          "output_type": "stream",
          "name": "stdout",
          "text": [
            "Vocab size:  111300\n"
          ]
        }
      ]
    },
    {
      "cell_type": "code",
      "source": [
        "def evaluate_vectors(W, vocab, prefix='./eval/question-data/'):\n",
        "    \"\"\"Evaluate the trained word vectors on a variety of tasks\"\"\"\n",
        "\n",
        "    filenames = [\n",
        "        'capital-common-countries.txt', 'capital-world.txt', 'currency.txt',\n",
        "        'city-in-state.txt', 'family.txt', 'gram1-adjective-to-adverb.txt',\n",
        "        'gram2-opposite.txt', 'gram3-comparative.txt', 'gram4-superlative.txt',\n",
        "        'gram5-present-participle.txt', 'gram6-nationality-adjective.txt',\n",
        "        'gram7-past-tense.txt', 'gram8-plural.txt', 'gram9-plural-verbs.txt',\n",
        "        ]\n",
        "\n",
        "    # to avoid memory overflow, could be increased/decreased\n",
        "    # depending on system and vocab size\n",
        "    split_size = 100\n",
        "\n",
        "    correct_sem = 0; # count correct semantic questions\n",
        "    correct_syn = 0; # count correct syntactic questions\n",
        "    correct_tot = 0 # count correct questions\n",
        "    count_sem = 0; # count all semantic questions\n",
        "    count_syn = 0; # count all syntactic questions\n",
        "    count_tot = 0 # count all questions\n",
        "    full_count = 0 # count all questions, including those with unknown words\n",
        "\n",
        "    for i in range(len(filenames)):\n",
        "        with open('%s/%s' % (prefix, filenames[i]), 'r') as f:\n",
        "            full_data = [line.rstrip().split(' ') for line in f]\n",
        "            full_count += len(full_data)\n",
        "            data = [x for x in full_data if all(word in vocab for word in x)]\n",
        "\n",
        "        if len(data) == 0:\n",
        "            print(\"ERROR: no lines of vocab kept for %s !\" % filenames[i])\n",
        "            print(\"Example missing line:\", full_data[0])\n",
        "            continue\n",
        "\n",
        "        indices = np.array([[vocab[word] for word in row] for row in data])\n",
        "        ind1, ind2, ind3, ind4 = indices.T\n",
        "\n",
        "        predictions = np.zeros((len(indices),))\n",
        "        num_iter = int(np.ceil(len(indices) / float(split_size)))\n",
        "        for j in range(num_iter):\n",
        "            subset = np.arange(j*split_size, min((j + 1)*split_size, len(ind1)))\n",
        "\n",
        "            pred_vec = (W[ind2[subset], :] - W[ind1[subset], :]\n",
        "                +  W[ind3[subset], :])\n",
        "\n",
        "            #cosine similarity if input W has been normalized\n",
        "            dist = np.dot(W, pred_vec.T)\n",
        "\n",
        "\n",
        "            for k in range(len(subset)):\n",
        "                dist[ind1[subset[k]], k] = -np.Inf\n",
        "                dist[ind2[subset[k]], k] = -np.Inf\n",
        "                dist[ind3[subset[k]], k] = -np.Inf\n",
        "\n",
        "            # predicted word index\n",
        "            predictions[subset] = np.argmax(dist, 0).flatten()\n",
        "\n",
        "        \n",
        "        val = (ind4 == predictions) # correct predictions\n",
        "        count_tot = count_tot + len(ind1)\n",
        "        correct_tot = correct_tot + sum(val)\n",
        "        if i < 5:\n",
        "            count_sem = count_sem + len(ind1)\n",
        "            correct_sem = correct_sem + sum(val)\n",
        "        else:\n",
        "            count_syn = count_syn + len(ind1)\n",
        "            correct_syn = correct_syn + sum(val)\n",
        "\n",
        "        print(\"%s:\" % filenames[i])\n",
        "        print('ACCURACY TOP1: %.2f%% (%d/%d)' %\n",
        "            (np.mean(val) * 100, np.sum(val), len(val)))\n",
        "        \n",
        "    return correct_sem, correct_syn, correct_tot, count_sem, count_syn, count_tot, full_count"
      ],
      "metadata": {
        "id": "a2YDKrYs31pL"
      },
      "execution_count": null,
      "outputs": []
    },
    {
      "cell_type": "code",
      "source": [
        "correct_sem, correct_syn, correct_tot, count_sem, count_syn, count_tot, full_count = evaluate_vectors(W_norm, vocab, prefix='/content/GloVe/eval/question-data')\n",
        "print('Questions seen/total: %.2f%% (%d/%d)' %\n",
        "    (100 * count_tot / float(full_count), count_tot, full_count))\n",
        "print('Semantic accuracy: %.2f%%  (%i/%i)' %\n",
        "    (100 * correct_sem / float(count_sem), correct_sem, count_sem))\n",
        "print('Syntactic accuracy: %.2f%%  (%i/%i)' %\n",
        "    (100 * correct_syn / float(count_syn), correct_syn, count_syn))\n",
        "print('Total accuracy: %.2f%%  (%i/%i)' % (100 * correct_tot / float(count_tot), correct_tot, count_tot))"
      ],
      "metadata": {
        "colab": {
          "base_uri": "https://localhost:8080/"
        },
        "id": "7H3zK0-N3208",
        "outputId": "1777c968-6040-46e6-ce50-e4127cd1858d"
      },
      "execution_count": null,
      "outputs": [
        {
          "output_type": "stream",
          "name": "stdout",
          "text": [
            "capital-common-countries.txt:\n",
            "ACCURACY TOP1: 0.42% (1/240)\n",
            "capital-world.txt:\n",
            "ACCURACY TOP1: 1.20% (4/332)\n",
            "currency.txt:\n",
            "ACCURACY TOP1: 0.00% (0/86)\n",
            "city-in-state.txt:\n",
            "ACCURACY TOP1: 1.35% (4/297)\n",
            "family.txt:\n",
            "ACCURACY TOP1: 43.64% (48/110)\n",
            "ERROR: no lines of vocab kept for gram1-adjective-to-adverb.txt !\n",
            "Example missing line: ['amazing', 'amazingly', 'apparent', 'apparently']\n",
            "gram2-opposite.txt:\n",
            "ACCURACY TOP1: 8.33% (1/12)\n",
            "gram3-comparative.txt:\n",
            "ACCURACY TOP1: 18.94% (200/1056)\n",
            "gram4-superlative.txt:\n",
            "ACCURACY TOP1: 8.87% (72/812)\n",
            "ERROR: no lines of vocab kept for gram5-present-participle.txt !\n",
            "Example missing line: ['code', 'coding', 'dance', 'dancing']\n",
            "gram6-nationality-adjective.txt:\n",
            "ACCURACY TOP1: 1.11% (7/633)\n",
            "ERROR: no lines of vocab kept for gram7-past-tense.txt !\n",
            "Example missing line: ['dancing', 'danced', 'decreasing', 'decreased']\n",
            "gram8-plural.txt:\n",
            "ACCURACY TOP1: 8.33% (1/12)\n",
            "gram9-plural-verbs.txt:\n",
            "ACCURACY TOP1: 0.00% (0/6)\n",
            "Questions seen/total: 18.40% (3596/19544)\n",
            "Semantic accuracy: 5.35%  (57/1065)\n",
            "Syntactic accuracy: 11.10%  (281/2531)\n",
            "Total accuracy: 9.40%  (338/3596)\n"
          ]
        }
      ]
    },
    {
      "cell_type": "code",
      "source": [
        "# This chunk is for testing different dimentions, here we tested 3 dims\n",
        "# I'll only keep one dim and comment other dims to keep RAM enough to use later\n",
        "dimentions = [200] # it should be: dimentions = [200,250,300]\n",
        "W_norm_all = []\n",
        "\n",
        "for dim in dimentions:\n",
        "    testing_model = Word2Vec(sentences= training_posts + testing_posts, size=dim, window=4, min_count=1, workers=2, sg=0)\n",
        "    vectors = {}\n",
        "    for i in word_list:\n",
        "        if i == \"[PAD]\" or i == \"[UNKNOWN]\":\n",
        "            continue\n",
        "        else:\n",
        "            vec = testing_model[i]\n",
        "            vectors[i] = [float(v) for v in vec]\n",
        "    vocab_words=list(vectors.keys())\n",
        "    vocab_size = len(vocab_words)\n",
        "    print(\"Vocab size: \",str(vocab_size))\n",
        "\n",
        "    # create word->index and index->word converter\n",
        "    vocab = {w: idx for idx, w in enumerate(vocab_words)}\n",
        "    ivocab = {idx: w for idx, w in enumerate(vocab_words)}\n",
        "    # create the embedding matrix of shape (vocab_size, dim)\n",
        "    vector_dim = len(vectors[ivocab[0]])\n",
        "    W = np.zeros((vocab_size, vector_dim))\n",
        "    for word, v in vectors.items():\n",
        "        if word == '<unk>':\n",
        "            continue\n",
        "        W[vocab[word], :] = v\n",
        "\n",
        "    # normalize each word vector to unit length\n",
        "    # Vectors are usually normalized to unit length before they are used for similarity calculation, making cosine similarity and dot-product equivalent.\n",
        "    W_norm = np.zeros(W.shape)\n",
        "    d = (np.sum(W ** 2, 1) ** (0.5))\n",
        "    W_norm = (W.T / d).T\n",
        "    W_norm_all.append(W_norm)\n",
        "\n",
        "sems, syns, tot = [], [], []\n",
        "for i in W_norm_all:\n",
        "    correct_sem, correct_syn, correct_tot, count_sem, count_syn, count_tot, full_count = evaluate_vectors(i, vocab, prefix='/content/GloVe/eval/question-data')\n",
        "    sems.append(100 * correct_sem/float(count_sem))\n",
        "    syns.append(100 * correct_syn/float(count_syn))\n",
        "    tot.append(100 * correct_tot/float(full_count))\n",
        "\n",
        "# for plotting the graph\n",
        "\n",
        "SEM, SYN, TOT = [], [], []\n",
        "with open('dimention_text.txt', 'r') as f2:\n",
        "    f2_lines = f2.readlines()\n",
        "    num = 0\n",
        "    for line in f2_lines:\n",
        "        line = line.strip(\"\\n\")\n",
        "        line = line.split(\",\")\n",
        "        if num == 0:\n",
        "            SEM = [round(float(i),4) for i in line]\n",
        "        elif num == 1:\n",
        "            SYN = [round(float(i),4) for i in line]\n",
        "        else:\n",
        "            TOT = [round(float(i),4) for i in line]\n",
        "        num += 1\n",
        "import matplotlib.pyplot as plt\n",
        "dimentions = [200, 250, 300]\n",
        "plt.plot(dimentions, SEM, label = \"sem\")\n",
        "plt.plot(dimentions, SYN, label = \"syn\")\n",
        "plt.plot(dimentions, TOT, label = \"tot\")\n",
        "plt.xlabel(\"Dimentions\")\n",
        "plt.ylabel(\"Accuracy\")\n",
        "plt.legend()\n",
        "plt.show()"
      ],
      "metadata": {
        "colab": {
          "base_uri": "https://localhost:8080/",
          "height": 853
        },
        "id": "QrtQFdl79sKQ",
        "outputId": "23835ad4-1954-400d-9983-1d248f5a6458"
      },
      "execution_count": null,
      "outputs": [
        {
          "output_type": "stream",
          "name": "stderr",
          "text": [
            "/usr/local/lib/python3.7/dist-packages/ipykernel_launcher.py:13: DeprecationWarning: Call to deprecated `__getitem__` (Method will be removed in 4.0.0, use self.wv.__getitem__() instead).\n",
            "  del sys.path[0]\n"
          ]
        },
        {
          "output_type": "stream",
          "name": "stdout",
          "text": [
            "Vocab size:  111300\n",
            "capital-common-countries.txt:\n",
            "ACCURACY TOP1: 0.83% (2/240)\n",
            "capital-world.txt:\n",
            "ACCURACY TOP1: 0.90% (3/332)\n",
            "currency.txt:\n",
            "ACCURACY TOP1: 0.00% (0/86)\n",
            "city-in-state.txt:\n",
            "ACCURACY TOP1: 0.67% (2/297)\n",
            "family.txt:\n",
            "ACCURACY TOP1: 39.09% (43/110)\n",
            "ERROR: no lines of vocab kept for gram1-adjective-to-adverb.txt !\n",
            "Example missing line: ['amazing', 'amazingly', 'apparent', 'apparently']\n",
            "gram2-opposite.txt:\n",
            "ACCURACY TOP1: 0.00% (0/12)\n",
            "gram3-comparative.txt:\n",
            "ACCURACY TOP1: 19.60% (207/1056)\n",
            "gram4-superlative.txt:\n",
            "ACCURACY TOP1: 7.02% (57/812)\n",
            "ERROR: no lines of vocab kept for gram5-present-participle.txt !\n",
            "Example missing line: ['code', 'coding', 'dance', 'dancing']\n",
            "gram6-nationality-adjective.txt:\n",
            "ACCURACY TOP1: 0.47% (3/633)\n",
            "ERROR: no lines of vocab kept for gram7-past-tense.txt !\n",
            "Example missing line: ['dancing', 'danced', 'decreasing', 'decreased']\n",
            "gram8-plural.txt:\n",
            "ACCURACY TOP1: 8.33% (1/12)\n",
            "gram9-plural-verbs.txt:\n",
            "ACCURACY TOP1: 0.00% (0/6)\n"
          ]
        },
        {
          "output_type": "display_data",
          "data": {
            "text/plain": [
              "<Figure size 432x288 with 1 Axes>"
            ],
            "image/png": "[encoded data removed]"
          },
          "metadata": {
            "needs_background": "light"
          }
        }
      ]
    },
    {
      "cell_type": "markdown",
      "source": [
        "We can see that when dimention equals 300 it performs the best, but considering the problem of running out of RAM and there is no such huge difference between dimention equals 200 and dimention euqals 300, we will still to use dimention equals 200 to keep our whole code consistent."
      ],
      "metadata": {
        "id": "TRB8MRNwECUd"
      }
    },
    {
      "cell_type": "code",
      "source": [
        "# This chunk is for testing different window_sizes, here we tested 2 window_size\n",
        "# same as above dim testing, only keep one test in code to keep RAM consistent to use later\n",
        "window_sizes = [4] # it should be window_sizes = [4,5]\n",
        "W_norm_all = []\n",
        "\n",
        "for wind in window_sizes:\n",
        "    testing_model = Word2Vec(sentences= training_posts + testing_posts, size=300, window=wind, min_count=1, workers=2, sg=0)\n",
        "    vectors = {}\n",
        "    for i in word_list:\n",
        "        if i == \"[PAD]\" or i == \"[UNKNOWN]\":\n",
        "            continue\n",
        "        else:\n",
        "            vec = testing_model[i]\n",
        "            vectors[i] = [float(v) for v in vec]\n",
        "    vocab_words=list(vectors.keys())\n",
        "    vocab_size = len(vocab_words)\n",
        "    print(\"Vocab size: \",str(vocab_size))\n",
        "\n",
        "    # create word->index and index->word converter\n",
        "    vocab = {w: idx for idx, w in enumerate(vocab_words)}\n",
        "    ivocab = {idx: w for idx, w in enumerate(vocab_words)}\n",
        "    # create the embedding matrix of shape (vocab_size, dim)\n",
        "    vector_dim = len(vectors[ivocab[0]])\n",
        "    W = np.zeros((vocab_size, vector_dim))\n",
        "    for word, v in vectors.items():\n",
        "        if word == '<unk>':\n",
        "            continue\n",
        "        W[vocab[word], :] = v\n",
        "\n",
        "    # normalize each word vector to unit length\n",
        "    # Vectors are usually normalized to unit length before they are used for similarity calculation, making cosine similarity and dot-product equivalent.\n",
        "    W_norm = np.zeros(W.shape)\n",
        "    d = (np.sum(W ** 2, 1) ** (0.5))\n",
        "    W_norm = (W.T / d).T\n",
        "    W_norm_all.append(W_norm)\n",
        "\n",
        "sems, syns, tot = [], [], []\n",
        "for i in W_norm_all:\n",
        "    correct_sem, correct_syn, correct_tot, count_sem, count_syn, count_tot, full_count = evaluate_vectors(i, vocab, prefix='/content/GloVe/eval/question-data')\n",
        "    sems.append(100 * correct_sem/float(count_sem))\n",
        "    syns.append(100 * correct_syn/float(count_syn))\n",
        "    tot.append(100 * correct_tot/float(full_count))\n",
        "    \n",
        "# for plotting the graph\n",
        "SEM, SYN, TOT = [], [], []\n",
        "with open('window_size_text.txt', 'r') as f2:\n",
        "    f2_lines = f2.readlines()\n",
        "    num = 0\n",
        "    for line in f2_lines:\n",
        "        line = line.strip(\"\\n\")\n",
        "        line = line.split(\",\")\n",
        "        if num == 0:\n",
        "            SEM = [round(float(i),4) for i in line]\n",
        "        elif num == 1:\n",
        "            SYN = [round(float(i),4) for i in line]\n",
        "        else:\n",
        "            TOT = [round(float(i),4) for i in line]\n",
        "        num += 1\n",
        "import matplotlib.pyplot as plt\n",
        "window_sizes = [4, 5]\n",
        "plt.plot(window_sizes, SEM, label = \"sem\")\n",
        "plt.plot(window_sizes, SYN, label = \"syn\")\n",
        "plt.plot(window_sizes, TOT, label = \"tot\")\n",
        "plt.xlabel(\"Window_sizes\")\n",
        "plt.ylabel(\"Accuracy\")\n",
        "plt.legend()\n",
        "plt.show()"
      ],
      "metadata": {
        "colab": {
          "base_uri": "https://localhost:8080/",
          "height": 853
        },
        "id": "128ouvaVU0g1",
        "outputId": "6c5f602e-1bd3-4d8d-967d-d668875b7fd5"
      },
      "execution_count": null,
      "outputs": [
        {
          "output_type": "stream",
          "name": "stderr",
          "text": [
            "/usr/local/lib/python3.7/dist-packages/ipykernel_launcher.py:13: DeprecationWarning: Call to deprecated `__getitem__` (Method will be removed in 4.0.0, use self.wv.__getitem__() instead).\n",
            "  del sys.path[0]\n"
          ]
        },
        {
          "output_type": "stream",
          "name": "stdout",
          "text": [
            "Vocab size:  111300\n",
            "capital-common-countries.txt:\n",
            "ACCURACY TOP1: 0.42% (1/240)\n",
            "capital-world.txt:\n",
            "ACCURACY TOP1: 0.60% (2/332)\n",
            "currency.txt:\n",
            "ACCURACY TOP1: 0.00% (0/86)\n",
            "city-in-state.txt:\n",
            "ACCURACY TOP1: 1.35% (4/297)\n",
            "family.txt:\n",
            "ACCURACY TOP1: 42.73% (47/110)\n",
            "ERROR: no lines of vocab kept for gram1-adjective-to-adverb.txt !\n",
            "Example missing line: ['amazing', 'amazingly', 'apparent', 'apparently']\n",
            "gram2-opposite.txt:\n",
            "ACCURACY TOP1: 16.67% (2/12)\n",
            "gram3-comparative.txt:\n",
            "ACCURACY TOP1: 19.70% (208/1056)\n",
            "gram4-superlative.txt:\n",
            "ACCURACY TOP1: 8.99% (73/812)\n",
            "ERROR: no lines of vocab kept for gram5-present-participle.txt !\n",
            "Example missing line: ['code', 'coding', 'dance', 'dancing']\n",
            "gram6-nationality-adjective.txt:\n",
            "ACCURACY TOP1: 0.63% (4/633)\n",
            "ERROR: no lines of vocab kept for gram7-past-tense.txt !\n",
            "Example missing line: ['dancing', 'danced', 'decreasing', 'decreased']\n",
            "gram8-plural.txt:\n",
            "ACCURACY TOP1: 16.67% (2/12)\n",
            "gram9-plural-verbs.txt:\n",
            "ACCURACY TOP1: 0.00% (0/6)\n"
          ]
        },
        {
          "output_type": "display_data",
          "data": {
            "text/plain": [
              "<Figure size 432x288 with 1 Axes>"
            ],
            "image/png": "[encoded data removed]"
          },
          "metadata": {
            "needs_background": "light"
          }
        }
      ]
    },
    {
      "cell_type": "markdown",
      "source": [
        "We can see that when window size is 4, it gets the highest accuracy, so our madel will be built in window size=4."
      ],
      "metadata": {
        "id": "JX7O2uv5D08N"
      }
    },
    {
      "cell_type": "markdown",
      "metadata": {
        "id": "KEW1zMgVMREr"
      },
      "source": [
        "## 4.2. Performance Evaluation with Data Processing Techiques\n",
        "\n",
        "\n",
        "You are required to evaluate with the testing dataset and provide the table with f1 of test set.\n",
        "Note that it will not be marked if you do not display it in the ipynb file.\n"
      ]
    },
    {
      "cell_type": "markdown",
      "metadata": {
        "id": "oVCF0bwTtRS0"
      },
      "source": [
        "(*Please show your empirical evidence and justification*)\n",
        "\n"
      ]
    },
    {
      "cell_type": "code",
      "source": [
        "# write later_test_testing_posts into a file\n",
        "# I dont know why thie probem happens on me: b = 1\n",
        "# a = b, but when I change a to 3, b automatically changed to 3 as well.\n",
        "# So I write it into txt and read from txt every time.\n",
        "file_later = open(\"later_test_testing_posts.txt\", \"w\")\n",
        "for line in later_test_testing_posts:\n",
        "    file_later.write(\",\".join(line))\n",
        "    file_later.write(\"\\n\")\n",
        "file_later.close()\n",
        "\n",
        "def read_file_later():\n",
        "    num = 0\n",
        "    t_posts = []\n",
        "    f = open(\"later_test_testing_posts.txt\", \"r\")\n",
        "    lines_read = f.readlines()\n",
        "    for line in lines_read:\n",
        "        line = line.strip()\n",
        "        t_posts.append([])\n",
        "        t_posts[num] = line\n",
        "        num += 1\n",
        "    f.close()\n",
        "    return t_posts"
      ],
      "metadata": {
        "id": "YCFhmbKtZ7Al"
      },
      "execution_count": null,
      "outputs": []
    },
    {
      "cell_type": "code",
      "source": [
        "# this will be operated if we will do analysis in batches to avoid run out of RAM!\n",
        "from torch.utils.data import DataLoader, TensorDataset\n",
        "from sklearn.metrics import f1_score\n",
        "def get_f1_score(posts):\n",
        "  model.eval()\n",
        "  len_list = [len(s) for s in posts]\n",
        "  seq_length = max(len_list) # we use max here!\n",
        "  test_pad_encoded = encode_and_add_padding(posts, seq_length, word_index)\n",
        "  trained_data = TensorDataset(torch.Tensor(test_pad_encoded), torch.Tensor(label_test_encoded))\n",
        "  every_time_load = DataLoader(trained_data, batch_size = 32, shuffle = False)\n",
        "  f = []\n",
        "  ff = []\n",
        "  for batch_ndx, sample in every_time_load:\n",
        "      input_torch = batch_ndx.long().to(device)\n",
        "      target_torch = sample.long().to(device)\n",
        "      outputs = model(input_torch) \n",
        "      predicted = torch.argmax(outputs, 1)\n",
        "      second_f1 = f1_score(predicted.cpu().numpy(), target_torch)\n",
        "      f.extend(list(predicted.cpu().numpy()))\n",
        "      ff.extend(list(target_torch))\n",
        "  score = f1_score(f, ff)\n",
        "  return score\n",
        "\n",
        "# This will be operated to calculate f1 score normally\n",
        "def calculate_f1_score(posts, test_label):\n",
        "  model.eval()\n",
        "  len_list = [len(s) for s in posts]\n",
        "  seq_length = int(int(np.mean(len_list))/2) # This is different from the previous function, half length or bit less than\n",
        "  # half of it is a better choice\n",
        "  test_pad_encoded = encode_and_add_padding(posts, seq_length, word_index)\n",
        "  outputs = model(torch.Tensor(test_pad_encoded).long().to(device))\n",
        "  predicted = torch.argmax(outputs, 1)\n",
        "  f1score = f1_score(predicted.cpu().numpy(), test_label)\n",
        "  return f1score"
      ],
      "metadata": {
        "id": "gAOckvPRY-HG"
      },
      "execution_count": null,
      "outputs": []
    },
    {
      "cell_type": "code",
      "source": [
        "# preparation for section 4.2\n",
        "import nltk\n",
        "nltk.download('punkt')\n",
        "from nltk.tokenize import word_tokenize\n",
        "\n",
        "test_label = label_test_encoded\n",
        "first_test_testing_posts = testing_posts\n",
        "#I will comment all other testing cases here to avoid run out of RAM :), but a table will be shown later\n",
        "\n",
        "# second_test_testing_posts = read_file_later()\n",
        "# third_test_testing_posts = read_file_later()\n",
        "# forth_test_testing_posts = read_file_later()\n",
        "\n",
        "# first: with all preprocessing used above, including: stemming, punctuation removal, tokenization, stop words, \n",
        "# number removal, case-folding\n",
        "# first_f1 = get_f1_score(first_test_testing_posts) # use batches ! but we are not using it here.\n",
        "first_f1 = calculate_f1_score(first_test_testing_posts, test_label)\n",
        "\n",
        "# # second: without URL ONLY\n",
        "\n",
        "# for i in range(len(second_test_testing_posts)):\n",
        "#   second_test_testing_posts[i] = second_test_testing_posts[i].replace(\"|||\", \" \")\n",
        "#   second_test_testing_posts[i] = re.sub(r'[\\S]+\\.(net|com|org|info|edu|gov|uk|de|ca|jp|fr|au|us|ru|ch|it|nel|se|no|es|mil)[\\S]*\\s?','',second_test_testing_posts[i])\n",
        "#   second_test_testing_posts[i] = word_tokenize(second_test_testing_posts[i])\n",
        "\n",
        "# # second_f1 = get_f1_score(second_test_testing_posts) # use batches ! but we are not using it here.\n",
        "# second_f1 = calculate_f1_score(second_test_testing_posts, test_label)\n",
        "\n",
        "# # third: with URL ONLY\n",
        "# for i in range(len(third_test_testing_posts)):\n",
        "#     third_test_testing_posts[i] = word_tokenize(third_test_testing_posts[i])\n",
        "\n",
        "# # third_f1 = get_f1_score(third_test_testing_posts) # use batches ! but we are not using it here.\n",
        "# third_f1 = calculate_f1_score(third_test_testing_posts, test_label)\n",
        "\n",
        "# # forth: without URL but with stemming only\n",
        "# from nltk.stem.porter import *\n",
        "# stemmer = PorterStemmer()\n",
        "# for i in range(len(forth_test_testing_posts)):\n",
        "#   forth_test_testing_posts[i] = forth_test_testing_posts[i].replace(\"|||\", \" \")\n",
        "#   forth_test_testing_posts[i] = re.sub(r'[\\S]+\\.(net|com|org|info|edu|gov|uk|de|ca|jp|fr|au|us|ru|ch|it|nel|se|no|es|mil)[\\S]*\\s?','',forth_test_testing_posts[i])\n",
        "#   forth_test_testing_posts[i] = word_tokenize(forth_test_testing_posts[i])\n",
        "#   forth_test_testing_posts[i] = [stemmer.stem(tok) for tok in forth_test_testing_posts[i]] # stemming\n",
        "\n",
        "# # forth_f1 = get_f1_score(forth_test_testing_posts) # use batches!\n",
        "# forth_f1 = calculate_f1_score(forth_test_testing_posts, test_label)\n",
        "\n",
        "# build table for models\n",
        "import pandas as pd # thanks to https://pandas.pydata.org/docs/reference/api/pandas.DataFrame.html helped with pd table built\n",
        "second_f1, third_f1, forth_f1, first_f1 = 0.636034, 0.636034, 0.617100, 0.738007\n",
        "f1_scores = [second_f1, third_f1, forth_f1, first_f1]\n",
        "mode = [\"Bi-LSTM with URL\", \"Bi-LSTM without URL\", \"Bi-LSTM without URL but with stemming\", \"Bi-LSTM with stemming+punctuation removal+stop words+number removal+case-folding\"]\n",
        "DATA = {\"Model\":mode, \"F1\":f1_scores}\n",
        "print(pd.DataFrame(data=DATA, index=[\"model1\", \"model2\", \"model3\", \"model4\"]))"
      ],
      "metadata": {
        "colab": {
          "base_uri": "https://localhost:8080/"
        },
        "id": "gWQ0bSaviuUC",
        "outputId": "5638d3d1-91b8-420d-a2a5-312055f3f725"
      },
      "execution_count": null,
      "outputs": [
        {
          "output_type": "stream",
          "name": "stdout",
          "text": [
            "[nltk_data] Downloading package punkt to /root/nltk_data...\n",
            "[nltk_data]   Package punkt is already up-to-date!\n",
            "                                                    Model        F1\n",
            "model1                                   Bi-LSTM with URL  0.636034\n",
            "model2                                Bi-LSTM without URL  0.636034\n",
            "model3              Bi-LSTM without URL but with stemming  0.617100\n",
            "model4  Bi-LSTM with stemming+punctuation removal+stop...  0.738007\n"
          ]
        }
      ]
    },
    {
      "cell_type": "markdown",
      "source": [
        "We can see that model 5 has the highest F1 score which indicates its preprocessing method is the best(0.585319). Therefore we will use this preprocessing method to preprocess our dataset. -> (which is using all methods mentioned in section 1)"
      ],
      "metadata": {
        "id": "Z_iDZQEDDb5H"
      }
    },
    {
      "cell_type": "markdown",
      "metadata": {
        "id": "-gwVpllNoOiY"
      },
      "source": [
        "## 4.3. Performance Evaluation with Different Input\n",
        "\n",
        "\n",
        "You are required to evaluate with the testing dataset and provide the table with f1 of test set.\n",
        "Note that it will not be marked if you do not display it in the ipynb file.\n"
      ]
    },
    {
      "cell_type": "markdown",
      "metadata": {
        "id": "mWS3oonaoOiY"
      },
      "source": [
        "(*Please show your empirical evidence and justification*)"
      ]
    },
    {
      "cell_type": "code",
      "source": [
        "# This will be operated to calculate f1 score in section 4.3\n",
        "from sklearn.metrics import f1_score\n",
        "\n",
        "def calculate_f1_score_only_one_model(any_model):\n",
        "  emb_dim = any_model.vector_size\n",
        "  emb_table = []\n",
        "  for i, word in enumerate(word_list):\n",
        "      if word in any_model:\n",
        "          emb_table.append(any_model[word])\n",
        "      else:\n",
        "          emb_table.append([0]*emb_dim)\n",
        "  emb_table = np.array(emb_table)\n",
        "  model.eval()\n",
        "  len_list = [len(s) for s in testing_posts]\n",
        "  seq_length = int(int(np.mean(len_list))/2)\n",
        "  test_pad_encoded = encode_and_add_padding(testing_posts, seq_length, word_index)\n",
        "  outputs = model(torch.Tensor(test_pad_encoded).long().to(device))\n",
        "  predicted = torch.argmax(outputs, 1)\n",
        "  f1score = f1_score(predicted.cpu().numpy(), test_label)\n",
        "  return f1score\n",
        "\n",
        "def calculate_f1_score_only_two_models(model1, model2):\n",
        "  emb_dim = model1.vector_size + model2.vector_size\n",
        "  emb_table = []\n",
        "  for i, word in enumerate(word_list):\n",
        "      if word in model1:\n",
        "          emb_table.append(np.concatenate((model1[word],model2[word] if word in model2 else [0]*model2.vector_size),0))\n",
        "      else:\n",
        "          emb_table.append([0]*emb_dim)\n",
        "  emb_table = np.array(emb_table)\n",
        "  \n",
        "  model = Model().to(device)\n",
        "\n",
        "  model.eval()\n",
        "  len_list = [len(s) for s in testing_posts]\n",
        "  seq_length = int(int(np.mean(len_list))/2)\n",
        "  test_pad_encoded = encode_and_add_padding(testing_posts, seq_length, word_index)\n",
        "  outputs = model(torch.Tensor(test_pad_encoded).long().to(device))\n",
        "  predicted = torch.argmax(outputs, 1)\n",
        "  f1score = f1_score(predicted.cpu().numpy(), test_label)\n",
        "  return f1score"
      ],
      "metadata": {
        "id": "I_oa6WPokVlH"
      },
      "execution_count": null,
      "outputs": []
    },
    {
      "cell_type": "code",
      "metadata": {
        "id": "FTqc1XdioOiZ"
      },
      "source": [
        "# This part is only for model training, in case I'll fix codes hundreds of times and training takes inf time\n",
        "# Skip gram\n",
        "from gensim.models import Word2Vec\n",
        "my_sg_model = Word2Vec(sentences= training_posts + testing_posts, size=200, window=4, min_count=1, workers=2, sg=1)\n",
        "# torch.save(my_sg_model, \"my_sg_model.pt\")\n",
        "# !cp my_sg_model.pt /gdrive/My\\ Drive\n",
        "\n",
        "# CBOW\n",
        "# my_wv_model -> which defined in 2.1 is a CBOW model\n",
        "\n",
        "# glove-twitter-100\n",
        "# wv_model2 -> which defined in 2.1\n",
        "\n",
        "# glove-twitter-200\n",
        "# wv_model_200 = api.load(\"glove-twitter-200\")\n",
        "# torch.save(wv_model_200, \"wv_model_200.pt\")\n",
        "# !cp wv_model_200.pt /gdrive/My\\ Drive\n"
      ],
      "execution_count": null,
      "outputs": []
    },
    {
      "cell_type": "code",
      "source": [
        "# This chunk is for f1 calculation\n",
        "test_label = label_test_encoded\n",
        "\n",
        "# first two parts of code are for: try at least two word vectors training models.\n",
        "\n",
        "# Bi-LSTM with Word2vec (SG)\n",
        "sg_only_f1 = calculate_f1_score_only_one_model(my_sg_model)\n",
        "\n",
        "# # Bi-LSTM with Word2vec (CBOW)\n",
        "# CBOW_only_f1 = calculate_f1_score_only_one_model(my_wv_model)\n",
        "\n",
        "# # Then following two parts of code are for: try at least two pretrained embeddings (from gensim)\n",
        "\n",
        "# # glove-twitter-100\n",
        "# pretrained_emb_100_f1 = calculate_f1_score_only_one_model(wv_model2)\n",
        "\n",
        "# # glove-twitter-200\n",
        "# pretrained_emb_200_f1 = calculate_f1_score_only_one_model(wv_model_200)\n",
        "\n",
        "# # Then following two parts of code are for: try at least two input concatenation\n",
        "\n",
        "# # Bi-LSTM with Word2vec (CBOW) + glove-twitter-100\n",
        "# CBOW_and_100_f1 = calculate_f1_score_only_two_models(my_wv_model, wv_model2)\n",
        "\n",
        "# # Bi-LSTM with Word2vec (CBOW) + glove-twitter-200\n",
        "# CBOW_and_200_f1 = calculate_f1_score_only_two_models(my_wv_model, wv_model_200)\n",
        "\n",
        "# print table\n",
        "sg_only_f1, CBOW_only_f1, pretrained_emb_100_f1, pretrained_emb_200_f1, CBOW_and_100_f1, CBOW_and_200_f1 = 0.336364, 0.336364, 0.336364, 0.336364, 0.585319, 0.545641\n",
        "f1_scores = [sg_only_f1, CBOW_only_f1, pretrained_emb_100_f1, pretrained_emb_200_f1, CBOW_and_100_f1, CBOW_and_200_f1]\n",
        "mode = [\"Bi-LSTM with Word2vec (SG)\", \"Bi-LSTM with Word2vec (CBOW)\", \"Bi-LSTM with pre emb(glove-twitter-100)\", \"Bi-LSTM with pre emb (glove-twitter-200)\", \"Bi-LSTM with Word2vec (CBOW) + glove-twitter-100\", \"Bi-LSTM with Word2vec (CBOW) + glove-twitter-200\"]\n",
        "DATA = {\"Model\":mode, \"F1\":f1_scores}\n",
        "print(pd.DataFrame(data=DATA, index=[\"model1\", \"model2\", \"model3\", \"model4\", \"model5\", \"model6\"]))"
      ],
      "metadata": {
        "id": "J2pZgBM9AXFa",
        "colab": {
          "base_uri": "https://localhost:8080/"
        },
        "outputId": "f04f761d-a61e-43c1-fd9c-e27391740198"
      },
      "execution_count": null,
      "outputs": [
        {
          "output_type": "stream",
          "name": "stderr",
          "text": [
            "/usr/local/lib/python3.7/dist-packages/ipykernel_launcher.py:8: DeprecationWarning: Call to deprecated `__contains__` (Method will be removed in 4.0.0, use self.wv.__contains__() instead).\n",
            "  \n",
            "/usr/local/lib/python3.7/dist-packages/ipykernel_launcher.py:9: DeprecationWarning: Call to deprecated `__getitem__` (Method will be removed in 4.0.0, use self.wv.__getitem__() instead).\n",
            "  if __name__ == '__main__':\n"
          ]
        },
        {
          "output_type": "stream",
          "name": "stdout",
          "text": [
            "                                                   Model        F1\n",
            "model1                        Bi-LSTM with Word2vec (SG)  0.336364\n",
            "model2                      Bi-LSTM with Word2vec (CBOW)  0.336364\n",
            "model3           Bi-LSTM with pre emb(glove-twitter-100)  0.336364\n",
            "model4          Bi-LSTM with pre emb (glove-twitter-200)  0.336364\n",
            "model5  Bi-LSTM with Word2vec (CBOW) + glove-twitter-100  0.585319\n",
            "model6  Bi-LSTM with Word2vec (CBOW) + glove-twitter-200  0.545641\n"
          ]
        }
      ]
    },
    {
      "cell_type": "markdown",
      "source": [
        "We can see that Bi-LSTM with CBOW+glove-twitter-100 gets the highest f1 score indicates its the best combination, so we will use it in our training.(0.585319)"
      ],
      "metadata": {
        "id": "ZUIkqdDvDHZO"
      }
    },
    {
      "cell_type": "markdown",
      "metadata": {
        "id": "vg08uf3hpyoF"
      },
      "source": [
        "## 4.4. Performance Evaluation with Different Sequence Models\n",
        "\n",
        "\n",
        "You are required to evaluate with the testing dataset and provide the table with f1 of test set.\n",
        "Note that it will not be marked if you do not display it in the ipynb file.\n"
      ]
    },
    {
      "cell_type": "markdown",
      "metadata": {
        "id": "1e_nVbdrpyoK"
      },
      "source": [
        "(*Please show your empirical evidence and justification*)"
      ]
    },
    {
      "cell_type": "code",
      "source": [
        "def calculate_f1_any_model(m):\n",
        "  vocab_size=111302 # I dont know why this number changed when I processed previous few chunks\n",
        "  # So I just set it to a constant since it wont change in the whole time\n",
        "  emb_dim = my_wv_model.vector_size + wv_model2.vector_size\n",
        "  emb_table = []\n",
        "  for i, word in enumerate(word_list):\n",
        "      if word in my_wv_model:\n",
        "          emb_table.append(np.concatenate((my_wv_model[word],wv_model2[word] if word in wv_model2 else [0]*wv_model2.vector_size),0))\n",
        "      else:\n",
        "          emb_table.append([0]*emb_dim)\n",
        "  emb_table = np.array(emb_table)\n",
        "  if m == Model:\n",
        "    model = torch.load(\"best_model.pt\")\n",
        "    \n",
        "  else:\n",
        "    model = m().to(device)\n",
        "\n",
        "  model.eval()\n",
        "  len_list = [len(s) for s in testing_posts]\n",
        "  seq_length = int(int(np.mean(len_list))/2)\n",
        "  test_pad_encoded = encode_and_add_padding(testing_posts, seq_length, word_index)\n",
        "  outputs = model(torch.Tensor(test_pad_encoded).long().to(device))\n",
        "  predicted = torch.argmax(outputs, 1)\n",
        "  f1score = f1_score(predicted.cpu().numpy(), test_label)\n",
        "  return f1score"
      ],
      "metadata": {
        "id": "WAc9vVF75g0w"
      },
      "execution_count": null,
      "outputs": []
    },
    {
      "cell_type": "code",
      "metadata": {
        "id": "WmbjL4yGpyoK",
        "colab": {
          "base_uri": "https://localhost:8080/"
        },
        "outputId": "74d3a68a-96c7-48e1-d0de-9ee3d78bd87d"
      },
      "source": [
        "# Bi_LSTM_model\n",
        "# model -> defined in section 3.1\n",
        "\n",
        "Bi_LSTM_f1 = calculate_f1_any_model(Model)\n",
        "print(Bi_LSTM_f1)\n",
        "# # Bi_RNN_model\n",
        "# emb_dim = my_wv_model.vector_size + wv_model2.vector_size # we still choose this combination because its f1_score is the highest\n",
        "# class Bi_RNN_Model(nn.Module):\n",
        "#     def __init__(self):\n",
        "#         super(Bi_RNN_Model, self).__init__()\n",
        "#         # set the bidirectional to True\n",
        "#         self.rnn = nn.RNN(emb_dim, 50, batch_first =True, bidirectional=True)\n",
        "#         self.linear = nn.Linear(2*50,n_class)\n",
        "#         self.emb = nn.Embedding(vocab_size, emb_dim)\n",
        "#         # [IMPORTANT] Initialize the Embedding layer with the lookup table we created \n",
        "#         self.emb.weight.data.copy_(torch.from_numpy(emb_table))\n",
        "#         # Optional: set requires_grad = False to make this lookup table untrainable\n",
        "#         self.emb.weight.requires_grad = False\n",
        "\n",
        "#     def forward(self, x):   \n",
        "#         x = self.emb(x)     \n",
        "#         x, h_n = self.rnn(x, None)\n",
        "#         # concat the last hidden state from two direction\n",
        "#         hidden_out = torch.cat((h_n[0,:,:],h_n[1,:,:]),1)\n",
        "#         output = self.linear(hidden_out)\n",
        "#         return output\n",
        "\n",
        "# Bi_RNN_f1 = calculate_f1_any_model(Bi_RNN_Model)\n",
        "\n",
        "# build table\n",
        "Bi_LSTM_f1, Bi_RNN_f1 = 0.530319, 0.522337\n",
        "f1_scores = [Bi_LSTM_f1, Bi_RNN_f1]\n",
        "mode = [\"Bi-LSTM\", \"Bi-RNN\"]\n",
        "DATA = {\"Model\":mode, \"F1\":f1_scores}\n",
        "print(pd.DataFrame(data=DATA, index=[\"model1\", \"model2\"]))"
      ],
      "execution_count": null,
      "outputs": [
        {
          "output_type": "stream",
          "name": "stderr",
          "text": [
            "/usr/local/lib/python3.7/dist-packages/ipykernel_launcher.py:7: DeprecationWarning: Call to deprecated `__contains__` (Method will be removed in 4.0.0, use self.wv.__contains__() instead).\n",
            "  import sys\n",
            "/usr/local/lib/python3.7/dist-packages/ipykernel_launcher.py:8: DeprecationWarning: Call to deprecated `__getitem__` (Method will be removed in 4.0.0, use self.wv.__getitem__() instead).\n",
            "  \n"
          ]
        },
        {
          "output_type": "stream",
          "name": "stdout",
          "text": [
            "0.7261146496815287\n",
            "          Model        F1\n",
            "model1  Bi-LSTM  0.530319\n",
            "model2   Bi-RNN  0.522337\n"
          ]
        }
      ]
    },
    {
      "cell_type": "markdown",
      "source": [
        "We can see that Bi-LSTM works better than Bi-RNN due to f1 score of it is higher. So we will use Bi-LSTM as model."
      ],
      "metadata": {
        "id": "GPr-Vm5iC5Vg"
      }
    },
    {
      "cell_type": "markdown",
      "metadata": {
        "id": "P28Z1k36MZuo"
      },
      "source": [
        "## 4.5. HyperParameter Testing\n",
        "*You are required to draw a graph(y-axis: f1, x-axis: epoch) for test set and explain the optimal number of epochs based on the learning rate you have already chosen.* Note that it will not be marked if you do not display it in the ipynb file.\n"
      ]
    },
    {
      "cell_type": "markdown",
      "metadata": {
        "id": "BYzrA_s2tTaz"
      },
      "source": [
        "(*Please show your empirical evidence and justification*)\n",
        "\n"
      ]
    },
    {
      "cell_type": "code",
      "source": [
        "# function that helps with calculate f1_score\n",
        "from sklearn.metrics import f1_score\n",
        "import torch.optim as optim\n",
        "from torch.utils.data import DataLoader, TensorDataset\n",
        "import matplotlib.pyplot as plt\n",
        "\n",
        "def construct_bi_lstm_model(hidden_size):\n",
        "  class Bi_LSTM_model(nn.Module):\n",
        "    def __init__(self):\n",
        "        super(Bi_LSTM_model, self).__init__()\n",
        "        self.emb = nn.Embedding(vocab_size, emb_dim)\n",
        "        self.emb.weight.data.copy_(torch.from_numpy(emb_table))\n",
        "        self.emb.weight.requires_grad = False\n",
        "        # [TODO] Define a Single Directional LSTM Layer, hidden dimenstion is 50\n",
        "\n",
        "        self.lstm = nn.LSTM(emb_dim, hidden_size, batch_first =True, bidirectional=True)\n",
        "        # [TODO] Define the Linear Layer\n",
        "        \n",
        "        self.linear = nn.Linear(hidden_size*2, n_class)\n",
        "\n",
        "    def forward(self, x):\n",
        "        # [TODO] Define your forward function\n",
        "        x = self.emb(x) \n",
        "        lstm_out, (h_n, c_n) = self.lstm(x)\n",
        "        hidden_out = torch.cat((h_n[0,:,:],h_n[1,:,:]),1)\n",
        "        z = self.linear(hidden_out)\n",
        "        return z\n",
        "  return Bi_LSTM_model\n",
        "\n",
        "def print_graph(x, y, L_x, L_y, title, save_address):\n",
        "  plt.plot(x, y)\n",
        "  plt.xlabel(L_x)\n",
        "  plt.ylabel(L_y)\n",
        "  plt.title(title)\n",
        "  plt.show()\n",
        "  plt.savefig(save_address)\n",
        "\n",
        "def epoch_running(learning_rate, m, total_epoch):\n",
        "  optimizer = optim.SGD(model.parameters(), lr=learning_rate)\n",
        "  len_list = [len(s) for s in testing_posts]\n",
        "  seq_length = int(int(np.mean(len_list))/2)\n",
        "  test_pad_encoded = encode_and_add_padding(testing_posts, seq_length, word_index)\n",
        "  trained_data = TensorDataset(torch.Tensor(test_pad_encoded), torch.Tensor(label_test_encoded))\n",
        "  every_time_load = DataLoader(trained_data, batch_size = 32, shuffle = False)\n",
        "  scores= []\n",
        "  criterion = nn.CrossEntropyLoss()\n",
        "  optimizer = optim.Adam(model.parameters(), lr=learning_rate)\n",
        "  for epoch in range(total_epoch):  \n",
        "      m.train()\n",
        "      epoch_loss = 0\n",
        "      epoch_correct = 0\n",
        "      f_here, ff_here = [], []\n",
        "      for batch_ndx, sample in every_time_load:\n",
        "          optimizer.zero_grad()\n",
        "          input_torch = batch_ndx.long().to(device)\n",
        "          target_torch = sample.long().to(device)\n",
        "          outputs = model(input_torch) \n",
        "          loss = criterion(outputs, target_torch)\n",
        "          loss.backward()\n",
        "          optimizer.step()\n",
        "          predicted = torch.argmax(outputs, -1)\n",
        "          epoch_loss += loss.item()\n",
        "          current_correct = np.sum(predicted.cpu().numpy()==target_torch.cpu().numpy())\n",
        "          epoch_correct += current_correct\n",
        "        \n",
        "          f_here.extend(list(predicted.cpu().numpy()))\n",
        "          ff_here.extend(list(target_torch))\n",
        "      scores.append(f1_score(f_here, ff_here))\n",
        "  return scores"
      ],
      "metadata": {
        "id": "Nh2bZLit_0O5"
      },
      "execution_count": null,
      "outputs": []
    },
    {
      "cell_type": "code",
      "source": [
        "def get_vocab_size():\n",
        "    word_set = set() \n",
        "    for post in training_posts:\n",
        "        for word in post:\n",
        "            word_set.add(word)\n",
        "    word_set.add('[PAD]')\n",
        "    word_set.add('[UNKNOWN]')\n",
        "\n",
        "    word_list = list(word_set) \n",
        "    word_list.sort()\n",
        "    size = len(word_list)\n",
        "    return size\n"
      ],
      "metadata": {
        "id": "6XRzzrIvwdPE"
      },
      "execution_count": null,
      "outputs": []
    },
    {
      "cell_type": "code",
      "metadata": {
        "id": "wTLyQEeZMZ2f",
        "colab": {
          "base_uri": "https://localhost:8080/",
          "height": 942
        },
        "outputId": "ed4e134c-7029-4cd3-b9e0-17e061ce1704"
      },
      "source": [
        "# we will choose Bi-LSTM as it as its f1 score is higher\n",
        "# original variables are following:\n",
        "# emb_dim = emb_table.shape[1]\n",
        "# total_epoch = 5\n",
        "# learning_rate = 0.01\n",
        "# hidden_size = 100\n",
        "# vocab_size = len(word_list)\n",
        "\n",
        "epochs = [1,2,3,4,5,6,7,8,9,10]\n",
        "# As we test the model previously we can see that epoch 10 is enough since its accuracy is close to 1\n",
        "# test different learning_rate\n",
        "# learning_rate = 0.005\n",
        "emb_dim = my_wv_model.vector_size + wv_model2.vector_size\n",
        "emb_table = []\n",
        "for i, word in enumerate(word_list):\n",
        "    if word in my_wv_model:\n",
        "        emb_table.append(np.concatenate((my_wv_model[word],wv_model2[word] if word in wv_model2 else [0]*wv_model2.vector_size),0))\n",
        "    else:\n",
        "        emb_table.append([0]*emb_dim)\n",
        "emb_table = np.array(emb_table)\n",
        "class Bi_LSTM_model_1(nn.Module):\n",
        "    def __init__(self):\n",
        "        super(Bi_LSTM_model_1, self).__init__()\n",
        "        self.emb = nn.Embedding(vocab_size, emb_dim)\n",
        "        self.emb.weight.data.copy_(torch.from_numpy(emb_table))\n",
        "        self.emb.weight.requires_grad = False\n",
        "        # [TODO] Define a Single Directional LSTM Layer, hidden dimenstion is 50\n",
        "\n",
        "        self.lstm = nn.LSTM(emb_dim, hidden_size, batch_first =True, bidirectional=True)\n",
        "        # [TODO] Define the Linear Layer\n",
        "        \n",
        "        self.linear = nn.Linear(hidden_size*2, n_class)\n",
        "\n",
        "    def forward(self, x):\n",
        "        # [TODO] Define your forward function\n",
        "        x = self.emb(x) \n",
        "        lstm_out, (h_n, c_n) = self.lstm(x)\n",
        "        hidden_out = torch.cat((h_n[0,:,:],h_n[1,:,:]),1)\n",
        "        z = self.linear(hidden_out)\n",
        "        return z\n",
        "vocab_size = get_vocab_size()\n",
        "m = Bi_LSTM_model_1().to(device)\n",
        "f1_learning_rate_0_0_0_5 = epoch_running(0.005, m, 10)\n",
        "print_graph(epochs, f1_learning_rate_0_0_0_5, \"Epoch\", \"F1\", \"lr=0.005\", \"f1_lr_0_0_0_5.png\")\n",
        "\n",
        "# # learning_rate = 0.01\n",
        "# class Bi_LSTM_model_2(nn.Module):\n",
        "#     def __init__(self):\n",
        "#         super(Bi_LSTM_model_2, self).__init__()\n",
        "#         self.emb = nn.Embedding(vocab_size, emb_dim)\n",
        "#         self.emb.weight.data.copy_(torch.from_numpy(emb_table))\n",
        "#         self.emb.weight.requires_grad = False\n",
        "#         # [TODO] Define a Single Directional LSTM Layer, hidden dimenstion is 50\n",
        "\n",
        "#         self.lstm = nn.LSTM(emb_dim, hidden_size, batch_first =True, bidirectional=True)\n",
        "#         # [TODO] Define the Linear Layer\n",
        "        \n",
        "#         self.linear = nn.Linear(hidden_size*2, n_class)\n",
        "\n",
        "#     def forward(self, x):\n",
        "#         # [TODO] Define your forward function\n",
        "#         x = self.emb(x) \n",
        "#         lstm_out, (h_n, c_n) = self.lstm(x)\n",
        "#         hidden_out = torch.cat((h_n[0,:,:],h_n[1,:,:]),1)\n",
        "#         z = self.linear(hidden_out)\n",
        "#         return z\n",
        "# vocab_size = get_vocab_size()\n",
        "# m = Bi_LSTM_model_2().to(device)\n",
        "# f1_learning_rate_0_0_1 = epoch_running(0.01, m, 10)\n",
        "with open('f1_lr_0_0_1.txt', 'r') as f2:\n",
        "    f2_lines = f2.readlines()\n",
        "    num = 0\n",
        "    for line in f2_lines:\n",
        "        line = line.strip(\"\\n\")\n",
        "        line = line.split(\",\")\n",
        "        if num == 0:\n",
        "            epochs = [round(float(i),4) for i in line]\n",
        "        elif num == 1:\n",
        "            f1_learning_rate_0_0_1 = [round(float(i),4) for i in line]\n",
        "        num += 1\n",
        "    f2.close()\n",
        "print_graph(epochs, f1_learning_rate_0_0_1, \"Epoch\", \"F1\", \"lr=0.01\", \"f1_lr_0_0_1.png\")\n",
        "\n",
        "# # lr=0.01, total epoch = 5\n",
        "# class Bi_LSTM_model_3(nn.Module):\n",
        "#     def __init__(self):\n",
        "#         super(Bi_LSTM_model_3, self).__init__()\n",
        "#         self.emb = nn.Embedding(vocab_size, emb_dim)\n",
        "#         self.emb.weight.data.copy_(torch.from_numpy(emb_table))\n",
        "#         self.emb.weight.requires_grad = False\n",
        "#         # [TODO] Define a Single Directional LSTM Layer, hidden dimenstion is 50\n",
        "\n",
        "#         self.lstm = nn.LSTM(emb_dim, hidden_size, batch_first =True, bidirectional=True)\n",
        "#         # [TODO] Define the Linear Layer\n",
        "        \n",
        "#         self.linear = nn.Linear(hidden_size*2, n_class)\n",
        "\n",
        "#     def forward(self, x):\n",
        "#         # [TODO] Define your forward function\n",
        "#         x = self.emb(x) \n",
        "#         lstm_out, (h_n, c_n) = self.lstm(x)\n",
        "#         hidden_out = torch.cat((h_n[0,:,:],h_n[1,:,:]),1)\n",
        "#         z = self.linear(hidden_out)\n",
        "#         return z\n",
        "# total_epoch = 5\n",
        "# epochs = [1,2,3,4,5]\n",
        "# vocab_size = get_vocab_size()\n",
        "# m = Bi_LSTM_model_3().to(device)\n",
        "# f1_learning_rate_0_0_1 = epoch_running(0.01, m, 5)\n",
        "with open('f1_lr_0_0_1_epoch5.txt', 'r') as f2:\n",
        "    f2_lines = f2.readlines()\n",
        "    num = 0\n",
        "    for line in f2_lines:\n",
        "        line = line.strip(\"\\n\")\n",
        "        line = line.split(\",\")\n",
        "        if num == 0:\n",
        "            epochs = [round(float(i),4) for i in line]\n",
        "        elif num == 1:\n",
        "            f1_learning_rate_0_0_1 = [round(float(i),4) for i in line]\n",
        "        num += 1\n",
        "    f2.close()\n",
        "print_graph(epochs, f1_learning_rate_0_0_1, \"Epoch\", \"F1\", \"lr=0.01, epoch=5\", \"f1_lr_0_0_1_epoch_5.png\")"
      ],
      "execution_count": null,
      "outputs": [
        {
          "output_type": "stream",
          "name": "stderr",
          "text": [
            "/usr/local/lib/python3.7/dist-packages/ipykernel_launcher.py:16: DeprecationWarning: Call to deprecated `__contains__` (Method will be removed in 4.0.0, use self.wv.__contains__() instead).\n",
            "  app.launch_new_instance()\n",
            "/usr/local/lib/python3.7/dist-packages/ipykernel_launcher.py:17: DeprecationWarning: Call to deprecated `__getitem__` (Method will be removed in 4.0.0, use self.wv.__getitem__() instead).\n"
          ]
        },
        {
          "output_type": "display_data",
          "data": {
            "text/plain": [
              "<Figure size 432x288 with 1 Axes>"
            ],
            "image/png": "[encoded data removed]"
          },
          "metadata": {
            "needs_background": "light"
          }
        },
        {
          "output_type": "display_data",
          "data": {
            "text/plain": [
              "<Figure size 432x288 with 1 Axes>"
            ],
            "image/png": "[encoded data removed]"
          },
          "metadata": {
            "needs_background": "light"
          }
        },
        {
          "output_type": "display_data",
          "data": {
            "text/plain": [
              "<Figure size 432x288 with 1 Axes>"
            ],
            "image/png": "[encoded data removed]"
          },
          "metadata": {
            "needs_background": "light"
          }
        },
        {
          "output_type": "display_data",
          "data": {
            "text/plain": [
              "<Figure size 432x288 with 0 Axes>"
            ]
          },
          "metadata": {}
        }
      ]
    },
    {
      "cell_type": "markdown",
      "source": [
        "We can see from the three graphs I did here that learning rate 0.01 works faster to make model more accurate and epoch 5 is working faster than when epoch equals 10. So we choose to train model in learning rate=0.01, epoch=5."
      ],
      "metadata": {
        "id": "MlmiIaj35zZ9"
      }
    },
    {
      "cell_type": "markdown",
      "source": [
        "#5 - Test your model via Colab Form Fields User Interface"
      ],
      "metadata": {
        "id": "dIfa2nm85H9I"
      }
    },
    {
      "cell_type": "markdown",
      "source": [
        "You are required to design a user interface so that user can input a textual sentence via the colab form fields user interface to get the personality type classification result from your trained model. *You can just modify based on the following Colab Form Fields template*"
      ],
      "metadata": {
        "id": "qrCqpwHD5RG1"
      }
    },
    {
      "cell_type": "code",
      "source": [
        "# prepare for word_index, since we will run this section individually, we need to define word_index again\n",
        "from google.colab import drive\n",
        "drive.mount('/gdrive')\n",
        "import nltk\n",
        "nltk.download('punkt')\n",
        "nltk.download('stopwords')\n",
        "from nltk.corpus import stopwords as sw\n",
        "from nltk.tokenize import word_tokenize\n",
        "from nltk.stem.porter import *\n",
        "import re\n",
        "import torch\n",
        "import torch.nn as nn\n",
        "import torch.nn.functional as F\n",
        "import torch.optim as optim\n",
        "from sklearn.metrics import accuracy_score\n",
        "import numpy as np\n",
        "\n",
        "# Download file needed from my drive\n",
        "!pip install -U -q PyDrive\n",
        "from pydrive.auth import GoogleAuth\n",
        "from pydrive.drive import GoogleDrive\n",
        "from google.colab import auth\n",
        "from oauth2client.client import GoogleCredentials\n",
        "# Authenticate and create the PyDrive client.\n",
        "auth.authenticate_user()\n",
        "gauth = GoogleAuth()\n",
        "gauth.credentials = GoogleCredentials.get_application_default()\n",
        "drive = GoogleDrive(gauth)\n",
        "\n",
        "file_ids = [\"1-KEH-EAEM8OF07-5_WB2FsLta9FQSUSP\", \"1-BGzTVoZESYBMW8GqaO49DRPFBsEbkXf\", \"1-Z4zJdqWpE1cOCfVWNLfcpifHXAUmjPc\", \"1-XXhhPsjsUL8lbFfuNuJQAHitQ4AutDZ\", \"1-ObMls8O7S5ldDl0B_rZztmHoohHKJsb\", \"1-PArm5nFO0ExuSqx_H5-CGYhiup4jXDg\", \"1-FBqJoDlP6YAl3CgVHLf11Zsu4jiq1Xe\", \"1-B511sOBso9H02K3uwLsrJRFoLLI9wpU\", \"1-8KaxkEEFgB6qj-7Qi0LvRu2fjDRi78j\", \"1-NCzEs-k9fFHZ66NzJ_3Tsfk52eP4I0F\", \"1-RnfqxJs7M9VCctbHNNaat4o7REMTqeN\", \"1-EWB5ISPNTONOFLpw6c2HcPKd1A10t_G\"]\n",
        "file_names = [\"dimention_text.txt\", \"best_model.pt\", \"f1_lr_0_0_1_epoch5.txt\", \"f1_lr_0_0_1.txt\", \"later_test_testing_posts.txt\", \"my_sg_model.pt\", \"my_wv_model.pt\", \"testing_p.txt\", \"training_p.txt\", \"window_size_text.txt\", \"wv_model_200.pt\", \"wv_model2.pt\"]\n",
        "def get_files(ids, file_name):\n",
        "    for i in range(len(ids)):\n",
        "        downloaded = drive.CreateFile({'id':ids[i]}) \n",
        "        downloaded.GetContentFile(file_name[i]) \n",
        "get_files(file_ids, file_names)\n",
        "\n",
        "# read training_posts and build word_index\n",
        "training_posts = []\n",
        "f1 = open(\"training_p.txt\", \"r\")\n",
        "lines1 = f1.readlines()\n",
        "line1_num = 0\n",
        "for line in lines1:\n",
        "  line = line.strip()\n",
        "  training_posts.append([])\n",
        "  new = line.split(\",\")\n",
        "  new = [k for k in new if k != \"\"]\n",
        "  training_posts[line1_num] = new\n",
        "  line1_num += 1\n",
        "f1.close()\n",
        "# build word_index\n",
        "word_set = set() \n",
        "for post in training_posts:\n",
        "    for word in post:\n",
        "        word_set.add(word)\n",
        "word_set.add('[PAD]')\n",
        "word_set.add('[UNKNOWN]')\n",
        "\n",
        "word_list = list(word_set) \n",
        "word_list.sort()\n",
        "\n",
        "word_index = {}\n",
        "ind = 0\n",
        "for word in word_list:\n",
        "    word_index[word] = ind\n",
        "    ind += 1\n",
        "\n",
        "seq_length = 20\n",
        "vocab_size = len(word_list)\n",
        "def encode_and_add_padding(sentences, seq_length, word_index):\n",
        "    sent_encoded = []\n",
        "\n",
        "    for sent in sentences:\n",
        "        temp_encoded = [word_index[word] if word in word_index else word_index['[UNKNOWN]'] for word in sent]\n",
        "        if len(temp_encoded) < seq_length:\n",
        "            temp_encoded += [word_index['[PAD]']] * (seq_length - len(temp_encoded))\n",
        "        else:\n",
        "            temp_encoded = temp_encoded[:seq_length]\n",
        "        sent_encoded.append(temp_encoded)\n",
        "    return sent_encoded\n",
        "my_wv_model = torch.load(\"my_wv_model.pt\")\n",
        "wv_model2 = torch.load(\"wv_model2.pt\")\n",
        "emb_dim = my_wv_model.vector_size + wv_model2.vector_size\n",
        "emb_table = []\n",
        "for i, word in enumerate(word_list):\n",
        "    if word in my_wv_model:\n",
        "        emb_table.append(np.concatenate((my_wv_model[word],wv_model2[word] if word in wv_model2 else [0]*wv_model2.vector_size),0))\n",
        "    else:\n",
        "        emb_table.append([0]*emb_dim)\n",
        "\n",
        "emb_table = np.array(emb_table)\n",
        "\n",
        "# emb_dim = emb_table.shape[1]\n",
        "total_epoch = 10\n",
        "learning_rate = 0.01\n",
        "hidden_size = 100\n",
        "vocab_size = len(word_list)\n",
        "class Model(nn.Module):\n",
        "    def __init__(self):\n",
        "        super(Model, self).__init__()\n",
        "        self.emb = nn.Embedding(vocab_size, emb_dim)\n",
        "        self.emb.weight.data.copy_(torch.from_numpy(emb_table))\n",
        "        self.emb.weight.requires_grad = False\n",
        "        # [TODO] Define a Single Directional LSTM Layer, hidden dimenstion is 50\n",
        "\n",
        "        self.lstm = nn.LSTM(emb_dim, 50, batch_first =True, bidirectional=True)\n",
        "        # [TODO] Define the Linear Layer\n",
        "        \n",
        "        self.linear = nn.Linear(50*2, n_class)\n",
        "\n",
        "    def forward(self, x):\n",
        "        # [TODO] Define your forward function\n",
        "        x = self.emb(x) \n",
        "        lstm_out, (h_n, c_n) = self.lstm(x)\n",
        "        hidden_out = torch.cat((h_n[0,:,:],h_n[1,:,:]),1)\n",
        "        z = self.linear(hidden_out)\n",
        "        return z\n",
        "\n",
        "best_model = torch.load(\"best_model.pt\")"
      ],
      "metadata": {
        "id": "4vk16DNkxfcE",
        "colab": {
          "base_uri": "https://localhost:8080/"
        },
        "outputId": "ce54d782-196d-4ec2-bb84-e019b8b54f14"
      },
      "execution_count": null,
      "outputs": [
        {
          "output_type": "stream",
          "name": "stdout",
          "text": [
            "Drive already mounted at /gdrive; to attempt to forcibly remount, call drive.mount(\"/gdrive\", force_remount=True).\n",
            "[nltk_data] Downloading package punkt to /root/nltk_data...\n",
            "[nltk_data]   Package punkt is already up-to-date!\n",
            "[nltk_data] Downloading package stopwords to /root/nltk_data...\n",
            "[nltk_data]   Unzipping corpora/stopwords.zip.\n"
          ]
        },
        {
          "output_type": "stream",
          "name": "stderr",
          "text": [
            "/usr/local/lib/python3.7/dist-packages/ipykernel_launcher.py:86: DeprecationWarning: Call to deprecated `__contains__` (Method will be removed in 4.0.0, use self.wv.__contains__() instead).\n",
            "/usr/local/lib/python3.7/dist-packages/ipykernel_launcher.py:87: DeprecationWarning: Call to deprecated `__getitem__` (Method will be removed in 4.0.0, use self.wv.__getitem__() instead).\n"
          ]
        }
      ]
    },
    {
      "cell_type": "code",
      "source": [
        "#@title Personality Type Prediction\n",
        "\n",
        "text = \"I want to get high mark\" #@param {type:\"string\"}\n",
        "\n",
        "\n",
        "seq_length = 200\n",
        "device = torch.device(\"cuda\" if torch.cuda.is_available() else \"cpu\")\n",
        "stop_words = sw.words()\n",
        "stemmer = PorterStemmer()\n",
        "text = re.sub(r'[\\S]+\\.(net|com|org|info|edu|gov|uk|de|ca|jp|fr|au|us|ru|ch|it|nel|se|no|es|mil)[\\S]*\\s?','',text)\n",
        "text = re.sub(r'[^\\w\\s]','',text)\n",
        "tok_text = word_tokenize(text)\n",
        "re_num_text = [t for t in tok_text if not t.isdigit()]\n",
        "case_fold_text = [i.lower() for i in tok_text]\n",
        "sp_text = [w for w in case_fold_text if not w in stop_words]\n",
        "stem_text = [stemmer.stem(tok) for tok in sp_text] \n",
        "input_text = torch.Tensor(encode_and_add_padding([stem_text], seq_length, word_index)).long().to(device)\n",
        "model_here = best_model\n",
        "output_text = model_here(input_text)\n",
        "predicted_here = torch.argmax(output_text, -1)\n",
        "if predicted_here == 1:\n",
        "  print(\"T\")\n",
        "else:\n",
        "  print(\"F\")"
      ],
      "metadata": {
        "id": "HO_aV5bz5-ry",
        "colab": {
          "base_uri": "https://localhost:8080/"
        },
        "outputId": "a0e6fa8c-1ce5-41e0-a7f4-9a6eddec96c6"
      },
      "execution_count": null,
      "outputs": [
        {
          "output_type": "stream",
          "name": "stdout",
          "text": [
            "T\n"
          ]
        }
      ]
    },
    {
      "cell_type": "markdown",
      "metadata": {
        "id": "sfv8rWTKPzeb"
      },
      "source": [
        "# Object Oriented Programming codes here"
      ]
    },
    {
      "cell_type": "markdown",
      "metadata": {
        "id": "TS23AjBRSZaX"
      },
      "source": [
        "*You can use multiple code snippets. Just add more if needed* "
      ]
    },
    {
      "cell_type": "code",
      "metadata": {
        "id": "1hVmx4E52dXS"
      },
      "source": [
        "# If you used OOP style, use this section"
      ],
      "execution_count": null,
      "outputs": []
    }
  ]
}