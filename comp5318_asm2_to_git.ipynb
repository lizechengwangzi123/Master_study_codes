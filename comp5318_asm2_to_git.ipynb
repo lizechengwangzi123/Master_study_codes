{
  "cells": [
    {
      "cell_type": "markdown",
      "metadata": {
        "id": "w3zky-4GmgML"
      },
      "source": [
        "# COMP5318 Assignment 2: Image Classification"
      ],
      "id": "w3zky-4GmgML"
    },
    {
      "cell_type": "markdown",
      "metadata": {
        "id": "7A1swebOmgMM"
      },
      "source": [
        "### Group number: 81"
      ],
      "id": "7A1swebOmgMM"
    },
    {
      "cell_type": "markdown",
      "metadata": {
        "id": "Jq-DzN3nmgMN"
      },
      "source": [
        "This notebook includes the code to load the Fashion-MNIST dataset using Keras, and a skeleton for the main sections that should be included in the notebook. Please see the assignment specification for more detail. You may wish to add extra subsections where appropriate. \n",
        "\n",
        "Please focus on making your code clear, with appropriate variable names and whitespace. Include comments and markdown text to aid the readability of your code where relevant."
      ],
      "id": "Jq-DzN3nmgMN"
    },
    {
      "cell_type": "markdown",
      "source": [
        "### **READ ME**\n",
        "\n",
        "\n",
        "*   Some model constructions are built based on week 9 and week 8 lab sheets. Also algorithms reference to week 2, 3, 4, 5 lab sheet.\n",
        "*   Our models are designed and splitted into 2 or 3 chunks: one for Construction of model; One for training; (If there is a graph) One for plotting\n",
        "*   Please note that training takes plenty of time.\n",
        "*   Our codes can run \"Setup and dependencies\", \"Dataloading, preprocessing, and exploration\" as preparation, and can directly run \"Final models\" part if you want!\n",
        "* Thanks for reading and marking! Have a good day! :)\n"
      ],
      "metadata": {
        "id": "j85RSEA9uGIa"
      },
      "id": "j85RSEA9uGIa"
    },
    {
      "cell_type": "markdown",
      "metadata": {
        "id": "s9WfKHPtmgMN"
      },
      "source": [
        "## Setup and dependencies\n",
        "Please use this section to list and set up all your required libraries/dependencies and your plotting environment. "
      ],
      "id": "s9WfKHPtmgMN"
    },
    {
      "cell_type": "code",
      "execution_count": null,
      "metadata": {
        "id": "OVsm4IK5mgMN",
        "colab": {
          "base_uri": "https://localhost:8080/"
        },
        "outputId": "8a6a634a-9c2d-46df-e5f0-1c046bf58b84"
      },
      "outputs": [
        {
          "output_type": "stream",
          "name": "stdout",
          "text": [
            "Looking in indexes: https://pypi.org/simple, https://us-python.pkg.dev/colab-wheels/public/simple/\n",
            "Collecting scikeras\n",
            "  Downloading scikeras-0.9.0-py3-none-any.whl (27 kB)\n",
            "Requirement already satisfied: packaging>=0.21 in /usr/local/lib/python3.7/dist-packages (from scikeras) (21.3)\n",
            "Requirement already satisfied: importlib-metadata>=3 in /usr/local/lib/python3.7/dist-packages (from scikeras) (4.13.0)\n",
            "Requirement already satisfied: scikit-learn>=1.0.0 in /usr/local/lib/python3.7/dist-packages (from scikeras) (1.0.2)\n",
            "Requirement already satisfied: typing-extensions>=3.6.4 in /usr/local/lib/python3.7/dist-packages (from importlib-metadata>=3->scikeras) (4.1.1)\n",
            "Requirement already satisfied: zipp>=0.5 in /usr/local/lib/python3.7/dist-packages (from importlib-metadata>=3->scikeras) (3.9.0)\n",
            "Requirement already satisfied: pyparsing!=3.0.5,>=2.0.2 in /usr/local/lib/python3.7/dist-packages (from packaging>=0.21->scikeras) (3.0.9)\n",
            "Requirement already satisfied: joblib>=0.11 in /usr/local/lib/python3.7/dist-packages (from scikit-learn>=1.0.0->scikeras) (1.2.0)\n",
            "Requirement already satisfied: threadpoolctl>=2.0.0 in /usr/local/lib/python3.7/dist-packages (from scikit-learn>=1.0.0->scikeras) (3.1.0)\n",
            "Requirement already satisfied: numpy>=1.14.6 in /usr/local/lib/python3.7/dist-packages (from scikit-learn>=1.0.0->scikeras) (1.21.6)\n",
            "Requirement already satisfied: scipy>=1.1.0 in /usr/local/lib/python3.7/dist-packages (from scikit-learn>=1.0.0->scikeras) (1.7.3)\n",
            "Installing collected packages: scikeras\n",
            "Successfully installed scikeras-0.9.0\n"
          ]
        }
      ],
      "source": [
        "import sys\n",
        "!{sys.executable} -m pip install -U scikeras\n",
        "import numpy as np\n",
        "import tensorflow as tf\n",
        "from tensorflow import keras\n",
        "from sklearn.model_selection import train_test_split\n",
        "from sklearn.svm import SVC\n",
        "from sklearn.model_selection import GridSearchCV\n",
        "import matplotlib.pyplot as plt\n",
        "from sklearn.model_selection import cross_val_score\n",
        "from sklearn.naive_bayes import GaussianNB\n",
        "from sklearn.tree import DecisionTreeClassifier\n",
        "from sklearn.ensemble import BaggingClassifier\n",
        "from sklearn.ensemble import AdaBoostClassifier\n",
        "from sklearn.ensemble import GradientBoostingClassifier\n",
        "from sklearn.ensemble import RandomForestClassifier\n",
        "from sklearn.neighbors import KNeighborsClassifier\n",
        "from sklearn.metrics import accuracy_score\n",
        "import tensorflow as tf\n",
        "from tensorflow import keras\n",
        "import scikeras\n",
        "from scikeras.wrappers import KerasClassifier\n",
        "# Ensure stability across runs\n",
        "keras.backend.clear_session()\n",
        "tf.random.set_seed(42)\n",
        "import pandas as pd"
      ],
      "id": "OVsm4IK5mgMN"
    },
    {
      "cell_type": "markdown",
      "metadata": {
        "id": "B8FBJQGymgMO"
      },
      "source": [
        "## Part 1. Data loading, preprocessing, and exploration\n",
        "We have included the code to load the dataset below. Please proceed with your data exploration and preprocessing steps, including creating any relevant data subsets required. The documentation for the data loading function can be accessed [here](https://keras.io/api/datasets/fashion_mnist/)."
      ],
      "id": "B8FBJQGymgMO"
    },
    {
      "cell_type": "code",
      "execution_count": null,
      "metadata": {
        "id": "0aIVALSvmgMO",
        "colab": {
          "base_uri": "https://localhost:8080/"
        },
        "outputId": "665460ec-c8fc-4948-a81c-2585d9a003b0"
      },
      "outputs": [
        {
          "output_type": "stream",
          "name": "stdout",
          "text": [
            "Downloading data from https://storage.googleapis.com/tensorflow/tf-keras-datasets/train-labels-idx1-ubyte.gz\n",
            "29515/29515 [==============================] - 0s 0us/step\n",
            "Downloading data from https://storage.googleapis.com/tensorflow/tf-keras-datasets/train-images-idx3-ubyte.gz\n",
            "26421880/26421880 [==============================] - 0s 0us/step\n",
            "Downloading data from https://storage.googleapis.com/tensorflow/tf-keras-datasets/t10k-labels-idx1-ubyte.gz\n",
            "5148/5148 [==============================] - 0s 0us/step\n",
            "Downloading data from https://storage.googleapis.com/tensorflow/tf-keras-datasets/t10k-images-idx3-ubyte.gz\n",
            "4422102/4422102 [==============================] - 0s 0us/step\n"
          ]
        }
      ],
      "source": [
        "# Load the Fashion-MNIST dataset training and test sets as numpy arrays\n",
        "(X_train, y_train), (X_test, y_test) = keras.datasets.fashion_mnist.load_data()\n",
        "assert X_train.shape == (60000, 28, 28)\n",
        "assert X_test.shape == (10000, 28, 28)\n",
        "assert y_train.shape == (60000,)\n",
        "assert y_test.shape == (10000,)"
      ],
      "id": "0aIVALSvmgMO"
    },
    {
      "cell_type": "code",
      "execution_count": null,
      "metadata": {
        "id": "Q78V00zlmgMP"
      },
      "outputs": [],
      "source": [
        "# An ordered list of the class names\n",
        "class_names = [\"T-shirt/top\",\n",
        "               \"Trouser\",\n",
        "               \"Pullover\",\n",
        "               \"Dress\",\n",
        "               \"Coat\",\n",
        "               \"Sandal\",\n",
        "               \"Shirt\",\n",
        "               \"Sneaker\",\n",
        "               \"Bag\",\n",
        "               \"Ankle boot\"\n",
        "              ]"
      ],
      "id": "Q78V00zlmgMP"
    },
    {
      "cell_type": "code",
      "source": [
        "plt.figure(figsize=(16,10)) # preview of first 20 labels that we are \n",
        "for i in range(20):# Reference to week7 lab sheet\n",
        "  plt.subplot(4,5,i+1)# pictures may bit big for .pdf output of our code\n",
        "  plt.imshow(X_train[i], cmap=\"binary\")\n",
        "  plt.title(class_names[y_train[i]])\n",
        "  plt.axis(\"off\")"
      ],
      "metadata": {
        "colab": {
          "base_uri": "https://localhost:8080/",
          "height": 591
        },
        "id": "YQB43LX0qRXI",
        "outputId": "f4c593cb-86f0-4fa9-8d67-d89d67e79afe"
      },
      "id": "YQB43LX0qRXI",
      "execution_count": null,
      "outputs": [
        {
          "output_type": "display_data",
          "data": {
            "text/plain": [
              "<Figure size 1152x720 with 20 Axes>"
            ],
            "image/png": "[encoded data removed]"
          },
          "metadata": {
            "needs_background": "light"
          }
        }
      ]
    },
    {
      "cell_type": "markdown",
      "source": [
        "### Normalization"
      ],
      "metadata": {
        "id": "Pa2GKBYzh4es"
      },
      "id": "Pa2GKBYzh4es"
    },
    {
      "cell_type": "code",
      "execution_count": null,
      "metadata": {
        "id": "KSKnKHfwtzCh"
      },
      "outputs": [],
      "source": [
        "# scale data to 0~1 and get validation sets\n",
        "# Normalization\n",
        "X_train = X_train/255\n",
        "X_test = X_test/255\n",
        "\n",
        "X_train, X_valid, y_train, y_valid = train_test_split(X_train, y_train, \n",
        "                                        train_size=0.9, random_state=0)"
      ],
      "id": "KSKnKHfwtzCh"
    },
    {
      "cell_type": "markdown",
      "source": [
        "### Preprocessing"
      ],
      "metadata": {
        "id": "323V2swViM9h"
      },
      "id": "323V2swViM9h"
    },
    {
      "cell_type": "code",
      "source": [
        "X_train_CNN = np.expand_dims(X_train, -1)\n",
        "X_valid_CNN = np.expand_dims(X_valid, -1)\n",
        "X_test_CNN = np.expand_dims(X_test, -1)"
      ],
      "metadata": {
        "id": "7ey9-_l8HpJO"
      },
      "id": "7ey9-_l8HpJO",
      "execution_count": null,
      "outputs": []
    },
    {
      "cell_type": "markdown",
      "metadata": {
        "id": "4UqR3zDTmgMP"
      },
      "source": [
        "## Part 2. Algorithm design and setup"
      ],
      "id": "4UqR3zDTmgMP"
    },
    {
      "cell_type": "markdown",
      "metadata": {
        "id": "-jJFGoyFmgMQ"
      },
      "source": [
        "### Algorithm of choice from first six weeks of course"
      ],
      "id": "-jJFGoyFmgMQ"
    },
    {
      "cell_type": "code",
      "source": [
        "# We tried all algorithms from preivous 6 weeks and we will use the best\n",
        "# one for our project. All codes will be shown in following chunks, outputs \n",
        "# will be kept\n",
        "# Reference to all lab sheets from week1 to week6"
      ],
      "metadata": {
        "id": "uw3HGfJciLPU"
      },
      "id": "uw3HGfJciLPU",
      "execution_count": null,
      "outputs": []
    },
    {
      "cell_type": "code",
      "execution_count": null,
      "metadata": {
        "colab": {
          "background_save": true,
          "base_uri": "https://localhost:8080/"
        },
        "id": "SBKTic9giPW-",
        "outputId": "a83541d1-46d4-409a-ecec-40359da823a2"
      },
      "outputs": [
        {
          "name": "stdout",
          "output_type": "stream",
          "text": [
            "bag:  0.7025185185185185\n",
            "ada:  0.7109444444444444\n"
          ]
        }
      ],
      "source": [
        "# Ensembles: Bagging, Ada Boost and Gradient Boosting\n",
        "def bagDTClassifier(X, y, n_estimators, max_samples, max_depth):\n",
        "    bag = BaggingClassifier(DecisionTreeClassifier(max_depth = max_depth, \n",
        "                                                   random_state=0),\n",
        "                            max_samples=max_samples, \n",
        "                            n_estimators = n_estimators, \n",
        "                            max_features = max_depth, random_state=0)\n",
        "    scores = cross_val_score(bag, X, y, cv=10)\n",
        "    bag.fit(X, y)\n",
        "    return scores.mean()\n",
        "\n",
        "def adaDTClassifier(X, y, n_estimators, learning_rate, max_depth):\n",
        "    ada = AdaBoostClassifier(DecisionTreeClassifier(max_depth = max_depth, \n",
        "                                                    random_state=0),\n",
        "                             n_estimators=n_estimators, \n",
        "                             learning_rate = learning_rate, random_state = 0)\n",
        "    ada.fit(X, y)\n",
        "    scores = cross_val_score(ada, X, y, cv=10)\n",
        "    return scores.mean()\n",
        "\n",
        "def gbClassifier(X, y, n_estimators, learning_rate):\n",
        "    gb = GradientBoostingClassifier(n_estimators=n_estimators, \n",
        "                                    learning_rate = learning_rate, \n",
        "                                    random_state=0)\n",
        "    gb.fit(X, y)\n",
        "    scores = cross_val_score(gb, X, y, cv=10)\n",
        "    return scores.mean()\n",
        "print(\"bag: \",bagDTClassifier(X_train.reshape(54000,28*28), \n",
        "                              y_train, 50, 100, 5))\n",
        "print(\"ada: \",adaDTClassifier(X_train.reshape(54000,28*28), \n",
        "                              y_train, 50, 0.5, 5))\n",
        "print(\"gb: \",gbClassifier(X_train.reshape(54000,28*28), y_train, 50, 0.5))"
      ],
      "id": "SBKTic9giPW-"
    },
    {
      "cell_type": "code",
      "source": [
        "lin_svm = SVC(kernel=\"linear\")\n",
        "lin_svm.fit(X_train.reshape(54000,28*28), y_train)\n",
        "y_pred_svm = lin_svm.predict(X_test.reshape(10000,28*28))\n",
        "print(\"Linear SVM - accuracy on test set: {:.3f}\".format(accuracy_score(y_test, \n",
        "                                                                  y_pred_svm)))"
      ],
      "metadata": {
        "colab": {
          "base_uri": "https://localhost:8080/"
        },
        "id": "Bsi752FhMf8V",
        "outputId": "36068ec8-f68d-4346-cd78-da0f99509778"
      },
      "id": "Bsi752FhMf8V",
      "execution_count": null,
      "outputs": [
        {
          "output_type": "stream",
          "name": "stdout",
          "text": [
            "Linear SVM - accuracy on test set: 0.844\n"
          ]
        }
      ]
    },
    {
      "cell_type": "code",
      "source": [
        "#Naïve Bayes\n",
        "def nbClassifier(X, y):\n",
        "    NB = GaussianNB()\n",
        "    NB.fit(X, y)\n",
        "    scores = cross_val_score(NB, X, y, cv=10)\n",
        "    return scores.mean()\n",
        "print(\"NB: \",nbClassifier(X_train.reshape(54000,28*28), y_train))"
      ],
      "metadata": {
        "colab": {
          "base_uri": "https://localhost:8080/"
        },
        "id": "j9GjH6EjNBTG",
        "outputId": "64a789b7-77d0-4be4-9165-b2b7c9c86152"
      },
      "id": "j9GjH6EjNBTG",
      "execution_count": null,
      "outputs": [
        {
          "output_type": "stream",
          "name": "stdout",
          "text": [
            "NB:  0.6104999999999999\n"
          ]
        }
      ]
    },
    {
      "cell_type": "code",
      "source": [
        "# Decision Tree\n",
        "def dtClassifier(X, y):\n",
        "    DT = DecisionTreeClassifier(random_state=0)\n",
        "    DT.fit(X, y)\n",
        "    scores = cross_val_score(DT, X, y, cv=10)\n",
        "    return scores.mean()\n",
        "print(\"DT: \",dtClassifier(X_train.reshape(54000,28*28), y_train))"
      ],
      "metadata": {
        "colab": {
          "base_uri": "https://localhost:8080/"
        },
        "id": "wDPqEy2WMfzV",
        "outputId": "e058fd7e-654f-499e-aa05-6c57c94cbf99"
      },
      "id": "wDPqEy2WMfzV",
      "execution_count": null,
      "outputs": [
        {
          "output_type": "stream",
          "name": "stdout",
          "text": [
            "DT:  0.7943333333333334\n"
          ]
        }
      ]
    },
    {
      "cell_type": "code",
      "source": [
        "def kNNClassifier(X, y, k):\n",
        "    knn = KNeighborsClassifier(n_neighbors=k)\n",
        "    knn.fit(X, y)\n",
        "    scores = cross_val_score(knn, X, y, cv=10)\n",
        "    return scores.mean()\n",
        "print(\"knn: \",kNNClassifier(X_train.reshape(54000,28*28),y_train, 3))"
      ],
      "metadata": {
        "colab": {
          "base_uri": "https://localhost:8080/"
        },
        "id": "c5bx09TbMfnH",
        "outputId": "4e3aaf8f-a8a9-4bdb-df62-39bba7991509"
      },
      "id": "c5bx09TbMfnH",
      "execution_count": null,
      "outputs": [
        {
          "output_type": "stream",
          "name": "stdout",
          "text": [
            "knn:  0.8517407407407408\n"
          ]
        }
      ]
    },
    {
      "cell_type": "code",
      "execution_count": null,
      "metadata": {
        "id": "laqq8C7yskdJ",
        "colab": {
          "base_uri": "https://localhost:8080/"
        },
        "outputId": "49ceb2b5-c204-45a6-d69c-dc3e5aea118d"
      },
      "outputs": [
        {
          "output_type": "execute_result",
          "data": {
            "text/plain": [
              "RandomForestClassifier(criterion='entropy', random_state=0)"
            ]
          },
          "metadata": {},
          "execution_count": 129
        }
      ],
      "source": [
        "rf = RandomForestClassifier(criterion = \"entropy\", random_state = 0)\n",
        "rf.fit(X_train.reshape(54000,28*28), y_train)"
      ],
      "id": "laqq8C7yskdJ"
    },
    {
      "cell_type": "code",
      "source": [
        "from sklearn.metrics import accuracy_score\n",
        "y_pred = rf.predict(X_test.reshape(10000,28*28))\n",
        "print(\"RF - accuracy on test set: {:.3f}\".format(accuracy_score(y_test, \n",
        "                                                                y_pred)))"
      ],
      "metadata": {
        "colab": {
          "base_uri": "https://localhost:8080/"
        },
        "id": "ZyU8pOpWA0OZ",
        "outputId": "a5c4a053-01a7-4868-9740-7cad7b173f19"
      },
      "id": "ZyU8pOpWA0OZ",
      "execution_count": null,
      "outputs": [
        {
          "output_type": "stream",
          "name": "stdout",
          "text": [
            "RF - accuracy on test set: 0.877\n"
          ]
        }
      ]
    },
    {
      "cell_type": "code",
      "source": [
        "# If we compare the accuracy among these algorithms, RF is the best. \n",
        "# More reasons why we chose RF as the best algorithm will be introduced in \n",
        "# the report."
      ],
      "metadata": {
        "id": "0SgzAJpqQDON"
      },
      "id": "0SgzAJpqQDON",
      "execution_count": null,
      "outputs": []
    },
    {
      "cell_type": "markdown",
      "metadata": {
        "id": "8t6m31AGmgMQ"
      },
      "source": [
        "### Fully connected neural network"
      ],
      "id": "8t6m31AGmgMQ"
    },
    {
      "cell_type": "code",
      "source": [
        "# Codes that used for constructing fully connected neural network \n",
        "# are from week 7 lab sheet. (Part 3 also uses codes from week 7 lab sheet)\n",
        "# Reference to week 7 lab sheet."
      ],
      "metadata": {
        "id": "2dwdS6gaiw2L"
      },
      "id": "2dwdS6gaiw2L",
      "execution_count": null,
      "outputs": []
    },
    {
      "cell_type": "code",
      "source": [
        "fcnn_part1_model = keras.models.Sequential([\n",
        "    keras.layers.Flatten(input_shape=[28, 28]),\n",
        "    keras.layers.Dense(300, activation=\"tanh\"),\n",
        "    keras.layers.Dense(100, activation=\"tanh\"),\n",
        "    keras.layers.Dense(10, activation=\"softmax\")\n",
        "])"
      ],
      "metadata": {
        "id": "zielBPwMPZ_2"
      },
      "id": "zielBPwMPZ_2",
      "execution_count": null,
      "outputs": []
    },
    {
      "cell_type": "code",
      "source": [
        "opt = keras.optimizers.SGD(learning_rate=5e-2)\n",
        "fcnn_part1_model.compile(loss='sparse_categorical_crossentropy',\n",
        "              optimizer=opt,\n",
        "              metrics=['accuracy'])"
      ],
      "metadata": {
        "id": "XhZtjYnkQE2v"
      },
      "id": "XhZtjYnkQE2v",
      "execution_count": null,
      "outputs": []
    },
    {
      "cell_type": "code",
      "source": [
        "fcnn_part1_history = fcnn_part1_model.fit(X_train, y_train, epochs=20,\n",
        "                    validation_data=(X_valid, y_valid))"
      ],
      "metadata": {
        "colab": {
          "base_uri": "https://localhost:8080/"
        },
        "id": "Na3vYGxjQFaD",
        "outputId": "4d51e71c-be7c-4999-b1d6-5193bca1b2ef"
      },
      "id": "Na3vYGxjQFaD",
      "execution_count": null,
      "outputs": [
        {
          "output_type": "stream",
          "name": "stdout",
          "text": [
            "Epoch 1/20\n",
            "1688/1688 [==============================] - 8s 5ms/step - loss: 0.5239 - accuracy: 0.8111 - val_loss: 0.4249 - val_accuracy: 0.8477\n",
            "Epoch 2/20\n",
            "1688/1688 [==============================] - 9s 5ms/step - loss: 0.4071 - accuracy: 0.8523 - val_loss: 0.3889 - val_accuracy: 0.8598\n",
            "Epoch 3/20\n",
            "1688/1688 [==============================] - 12s 7ms/step - loss: 0.3723 - accuracy: 0.8646 - val_loss: 0.3677 - val_accuracy: 0.8687\n",
            "Epoch 4/20\n",
            "1688/1688 [==============================] - 10s 6ms/step - loss: 0.3476 - accuracy: 0.8737 - val_loss: 0.3632 - val_accuracy: 0.8668\n",
            "Epoch 5/20\n",
            "1688/1688 [==============================] - 9s 6ms/step - loss: 0.3305 - accuracy: 0.8791 - val_loss: 0.3554 - val_accuracy: 0.8742\n",
            "Epoch 6/20\n",
            "1688/1688 [==============================] - 7s 4ms/step - loss: 0.3148 - accuracy: 0.8841 - val_loss: 0.3524 - val_accuracy: 0.8715\n",
            "Epoch 7/20\n",
            "1688/1688 [==============================] - 6s 4ms/step - loss: 0.3018 - accuracy: 0.8878 - val_loss: 0.3222 - val_accuracy: 0.8818\n",
            "Epoch 8/20\n",
            "1688/1688 [==============================] - 8s 4ms/step - loss: 0.2910 - accuracy: 0.8928 - val_loss: 0.3233 - val_accuracy: 0.8823\n",
            "Epoch 9/20\n",
            "1688/1688 [==============================] - 6s 3ms/step - loss: 0.2809 - accuracy: 0.8954 - val_loss: 0.3418 - val_accuracy: 0.8715\n",
            "Epoch 10/20\n",
            "1688/1688 [==============================] - 7s 4ms/step - loss: 0.2711 - accuracy: 0.8992 - val_loss: 0.3177 - val_accuracy: 0.8865\n",
            "Epoch 11/20\n",
            "1688/1688 [==============================] - 6s 4ms/step - loss: 0.2642 - accuracy: 0.9024 - val_loss: 0.3048 - val_accuracy: 0.8882\n",
            "Epoch 12/20\n",
            "1688/1688 [==============================] - 6s 3ms/step - loss: 0.2559 - accuracy: 0.9049 - val_loss: 0.3049 - val_accuracy: 0.8875\n",
            "Epoch 13/20\n",
            "1688/1688 [==============================] - 6s 4ms/step - loss: 0.2483 - accuracy: 0.9085 - val_loss: 0.3032 - val_accuracy: 0.8878\n",
            "Epoch 14/20\n",
            "1688/1688 [==============================] - 5s 3ms/step - loss: 0.2416 - accuracy: 0.9103 - val_loss: 0.3238 - val_accuracy: 0.8885\n",
            "Epoch 15/20\n",
            "1688/1688 [==============================] - 6s 3ms/step - loss: 0.2349 - accuracy: 0.9115 - val_loss: 0.3089 - val_accuracy: 0.8868\n",
            "Epoch 16/20\n",
            "1688/1688 [==============================] - 5s 3ms/step - loss: 0.2278 - accuracy: 0.9159 - val_loss: 0.3155 - val_accuracy: 0.8848\n",
            "Epoch 17/20\n",
            "1688/1688 [==============================] - 6s 3ms/step - loss: 0.2235 - accuracy: 0.9164 - val_loss: 0.3065 - val_accuracy: 0.8930\n",
            "Epoch 18/20\n",
            "1688/1688 [==============================] - 7s 4ms/step - loss: 0.2152 - accuracy: 0.9209 - val_loss: 0.3087 - val_accuracy: 0.8895\n",
            "Epoch 19/20\n",
            "1688/1688 [==============================] - 6s 4ms/step - loss: 0.2114 - accuracy: 0.9219 - val_loss: 0.3037 - val_accuracy: 0.8915\n",
            "Epoch 20/20\n",
            "1688/1688 [==============================] - 7s 4ms/step - loss: 0.2062 - accuracy: 0.9243 - val_loss: 0.2870 - val_accuracy: 0.8970\n"
          ]
        }
      ]
    },
    {
      "cell_type": "code",
      "execution_count": null,
      "metadata": {
        "id": "Qcphidposl06",
        "colab": {
          "base_uri": "https://localhost:8080/",
          "height": 338
        },
        "outputId": "28ee7533-204c-4b67-8aa1-cecec9387225"
      },
      "outputs": [
        {
          "output_type": "display_data",
          "data": {
            "text/plain": [
              "<Figure size 576x360 with 1 Axes>"
            ],
            "image/png": "[encoded data removed]"
          },
          "metadata": {
            "needs_background": "light"
          }
        }
      ],
      "source": [
        "import pandas as pd\n",
        "\n",
        "# Convert the history dictionary to a Pandas dataframe and extract accuracies\n",
        "fcnn_part1_accuracies = pd.DataFrame(fcnn_part1_history.history)[['accuracy', \n",
        "                                                                'val_accuracy']]\n",
        "\n",
        "# Plot the accuracies\n",
        "fcnn_part1_accuracies.plot(figsize=(8, 5))\n",
        "plt.grid(True)\n",
        "plt.gca().set_ylim(0.8, 1)\n",
        "plt.xlabel('Epoch')\n",
        "plt.show()"
      ],
      "id": "Qcphidposl06"
    },
    {
      "cell_type": "code",
      "source": [
        "# Evaluate the classifier on the test data.\n",
        "loss, accuracy = fcnn_part1_model.evaluate(X_test, y_test)\n",
        "print(f\"Accuracy on test data: {accuracy:.4f}\")"
      ],
      "metadata": {
        "colab": {
          "base_uri": "https://localhost:8080/"
        },
        "id": "A7SqgpiURr4e",
        "outputId": "15f5b93a-e489-458f-e00c-94ee4cb3c17e"
      },
      "id": "A7SqgpiURr4e",
      "execution_count": null,
      "outputs": [
        {
          "output_type": "stream",
          "name": "stdout",
          "text": [
            "313/313 [==============================] - 1s 2ms/step - loss: 0.3226 - accuracy: 0.8861\n",
            "Accuracy on test data: 0.8861\n"
          ]
        }
      ]
    },
    {
      "cell_type": "markdown",
      "metadata": {
        "id": "jUGK_bK5mgMQ"
      },
      "source": [
        "### Convolutional neural network"
      ],
      "id": "jUGK_bK5mgMQ"
    },
    {
      "cell_type": "code",
      "source": [
        "# Codes used for CNN are from week 8 lab sheet. (Part 3 also uses codes from \n",
        "# week 8 lab sheet)\n",
        "# Reference to week 8 lab sheet."
      ],
      "metadata": {
        "id": "JRqwSrrDjAyL"
      },
      "id": "JRqwSrrDjAyL",
      "execution_count": null,
      "outputs": []
    },
    {
      "cell_type": "code",
      "source": [
        "model_CNN1_part1 = keras.Sequential([\n",
        "    \n",
        "    # Specify the input shape\n",
        "    keras.Input(shape=(28, 28, 1)),\n",
        "    \n",
        "    # Conv and pool block 1\n",
        "    keras.layers.Conv2D(32, kernel_size=(3, 3), activation=\"relu\"),\n",
        "    keras.layers.MaxPooling2D(pool_size=(2, 2)),\n",
        "    \n",
        "    # Conv and pool block 2\n",
        "    keras.layers.Conv2D(64, kernel_size=(3, 3), activation=\"relu\"),\n",
        "    keras.layers.MaxPooling2D(pool_size=(2, 2)),\n",
        "    \n",
        "    # Flatten and classify using dense output layer\n",
        "    keras.layers.Flatten(),\n",
        "    keras.layers.Dropout(0.5),\n",
        "    keras.layers.Dense(10, activation=\"softmax\"),\n",
        "])\n",
        "# reference to week7 lab"
      ],
      "metadata": {
        "id": "zLqiv4KaSStV"
      },
      "id": "zLqiv4KaSStV",
      "execution_count": null,
      "outputs": []
    },
    {
      "cell_type": "code",
      "source": [
        "model_CNN1_part1.compile(loss='sparse_categorical_crossentropy',\n",
        "              optimizer=tf.keras.optimizers.Adam(learning_rate=1e-3),\n",
        "              metrics=['accuracy'])"
      ],
      "metadata": {
        "id": "0iHOWpaHlVDp"
      },
      "id": "0iHOWpaHlVDp",
      "execution_count": null,
      "outputs": []
    },
    {
      "cell_type": "code",
      "source": [
        "batch_size = 128\n",
        "epochs = 10\n",
        "CNN_history_part1 = model_CNN1_part1.fit(X_train_CNN, y_train, \n",
        "                                         batch_size=batch_size,\n",
        "                    epochs=epochs, validation_data=(X_valid_CNN, y_valid))"
      ],
      "metadata": {
        "colab": {
          "base_uri": "https://localhost:8080/"
        },
        "id": "z6pAdMzilhjm",
        "outputId": "fbf51fc5-128c-4395-b582-45ba8d29a49e"
      },
      "id": "z6pAdMzilhjm",
      "execution_count": null,
      "outputs": [
        {
          "output_type": "stream",
          "name": "stdout",
          "text": [
            "Epoch 1/10\n",
            "422/422 [==============================] - 39s 92ms/step - loss: 0.6828 - accuracy: 0.7513 - val_loss: 0.4194 - val_accuracy: 0.8503\n",
            "Epoch 2/10\n",
            "422/422 [==============================] - 38s 91ms/step - loss: 0.4464 - accuracy: 0.8379 - val_loss: 0.3784 - val_accuracy: 0.8620\n",
            "Epoch 3/10\n",
            "422/422 [==============================] - 38s 91ms/step - loss: 0.3947 - accuracy: 0.8583 - val_loss: 0.3321 - val_accuracy: 0.8820\n",
            "Epoch 4/10\n",
            "422/422 [==============================] - 38s 91ms/step - loss: 0.3650 - accuracy: 0.8689 - val_loss: 0.3169 - val_accuracy: 0.8837\n",
            "Epoch 5/10\n",
            "422/422 [==============================] - 38s 90ms/step - loss: 0.3448 - accuracy: 0.8761 - val_loss: 0.3022 - val_accuracy: 0.8927\n",
            "Epoch 6/10\n",
            "422/422 [==============================] - 38s 91ms/step - loss: 0.3280 - accuracy: 0.8814 - val_loss: 0.2865 - val_accuracy: 0.8965\n",
            "Epoch 7/10\n",
            "422/422 [==============================] - 38s 91ms/step - loss: 0.3155 - accuracy: 0.8864 - val_loss: 0.2854 - val_accuracy: 0.8975\n",
            "Epoch 8/10\n",
            "422/422 [==============================] - 39s 91ms/step - loss: 0.3077 - accuracy: 0.8886 - val_loss: 0.2791 - val_accuracy: 0.9005\n",
            "Epoch 9/10\n",
            "422/422 [==============================] - 38s 90ms/step - loss: 0.2947 - accuracy: 0.8941 - val_loss: 0.2788 - val_accuracy: 0.8980\n",
            "Epoch 10/10\n",
            "422/422 [==============================] - 38s 90ms/step - loss: 0.2900 - accuracy: 0.8950 - val_loss: 0.2810 - val_accuracy: 0.8955\n"
          ]
        }
      ]
    },
    {
      "cell_type": "code",
      "source": [
        "CNN_history_part1_accuracies = pd.DataFrame(CNN_history_part1.\n",
        "                                            history)[['accuracy', \n",
        "                                                      'val_accuracy']]\n",
        "CNN_history_part1_accuracies.plot(figsize=(8, 5))\n",
        "plt.grid(True)\n",
        "plt.gca().set_ylim(0.7, 1)\n",
        "plt.xlabel('Epoch')\n",
        "plt.show()"
      ],
      "metadata": {
        "colab": {
          "base_uri": "https://localhost:8080/",
          "height": 338
        },
        "id": "Pe99_sHw78ST",
        "outputId": "fe86d8cb-644a-40d3-ed38-afdda8bbe52a"
      },
      "id": "Pe99_sHw78ST",
      "execution_count": null,
      "outputs": [
        {
          "output_type": "display_data",
          "data": {
            "text/plain": [
              "<Figure size 576x360 with 1 Axes>"
            ],
            "image/png": "[encoded data removed]"
          },
          "metadata": {
            "needs_background": "light"
          }
        }
      ]
    },
    {
      "cell_type": "markdown",
      "metadata": {
        "id": "59pkCHcymgMQ"
      },
      "source": [
        "## Part 3. Hyperparameter tuning"
      ],
      "id": "59pkCHcymgMQ"
    },
    {
      "cell_type": "markdown",
      "metadata": {
        "id": "rytyDN5MmgMQ"
      },
      "source": [
        "### Algorithm of choice from first six weeks of course"
      ],
      "id": "rytyDN5MmgMQ"
    },
    {
      "cell_type": "code",
      "source": [
        "n_estimators = [10, 50, 100]\n",
        "max_leaf_nodes = [4, 30, None]\n",
        "rf_grid = {'n_estimators':list(n_estimators), \n",
        "           'max_leaf_nodes':list(max_leaf_nodes)}\n",
        "def bestRFClassifier(X_training,y_training,X_testing,y_testing):\n",
        "    rf = RandomForestClassifier(criterion = \"entropy\", random_state = 0)\n",
        "    grid_search = GridSearchCV(rf, rf_grid, cv=3,\n",
        "                          return_train_score=True)\n",
        "    grid_search.fit(X_training, y_training)\n",
        "    test_score = round(grid_search.score(X_testing, y_testing), 4)  \n",
        "    best_par = grid_search.best_params_# following variables are for outputs\n",
        "    cv_score = round(grid_search.best_score_, 4)\n",
        "    return best_par['n_estimators'], best_par['max_leaf_nodes'], cv_score, \n",
        "    test_score#(appropriate values so that the required printing can be done)"
      ],
      "metadata": {
        "id": "dOtIQG9Itm5K"
      },
      "id": "dOtIQG9Itm5K",
      "execution_count": null,
      "outputs": []
    },
    {
      "cell_type": "code",
      "source": [
        "X_test.shape"
      ],
      "metadata": {
        "colab": {
          "base_uri": "https://localhost:8080/"
        },
        "id": "itcj4h_xwiPQ",
        "outputId": "dba9be88-5ec4-4af4-c686-ea8e4e94bf9a"
      },
      "id": "itcj4h_xwiPQ",
      "execution_count": null,
      "outputs": [
        {
          "output_type": "execute_result",
          "data": {
            "text/plain": [
              "(10000, 28, 28)"
            ]
          },
          "metadata": {},
          "execution_count": 59
        }
      ]
    },
    {
      "cell_type": "code",
      "source": [
        "b_n_e, max_nodes, rf_sv_score, rf_test_score = bestRFClassifier(\\\n",
        "    X_train.reshape(54000,28*28), y_train, X_test.reshape(10000,28*28), \n",
        "    y_test)\n",
        "print(\"RF best n_estimators: \", b_n_e)\n",
        "print(\"RF best max_leaf_nodes: \", max_nodes)\n",
        "print(\"RF cross-validation accuracy: \", format(rf_sv_score, \".4f\"))\n",
        "print(\"RF test set accuracy: \", format(rf_test_score, \".4f\"))"
      ],
      "metadata": {
        "colab": {
          "base_uri": "https://localhost:8080/"
        },
        "id": "_9wTy1mmwbJH",
        "outputId": "1261e15a-a268-4f09-f8a3-c10e2d17efe5"
      },
      "id": "_9wTy1mmwbJH",
      "execution_count": null,
      "outputs": [
        {
          "output_type": "stream",
          "name": "stdout",
          "text": [
            "RF best n_estimators:  100\n",
            "RF best max_leaf_nodes:  None\n",
            "RF cross-validation accuracy:  0.8793\n",
            "RF test set accuracy:  0.8767\n"
          ]
        }
      ]
    },
    {
      "cell_type": "markdown",
      "source": [
        "#### RF2: n_estimator=10, max_leaf_nodes=None"
      ],
      "metadata": {
        "id": "6nAuXP9F49lo"
      },
      "id": "6nAuXP9F49lo"
    },
    {
      "cell_type": "code",
      "source": [
        "rf2 = RandomForestClassifier(criterion = \"entropy\", random_state = 0, \n",
        "                             n_estimators = 10, max_leaf_nodes = None)\n",
        "\n",
        "rf2.fit(X_train.reshape(54000,28*28), y_train)\n",
        "y_pred2 = rf2.predict(X_test.reshape(10000,28*28))\n",
        "print(\"RF2 - accuracy on test set: {:.3f}\".format(accuracy_score(y_test, \n",
        "                                                                 y_pred2)))"
      ],
      "metadata": {
        "colab": {
          "base_uri": "https://localhost:8080/"
        },
        "id": "8ftRiJAm40wP",
        "outputId": "3ff02d7f-77c4-45ff-a394-8a0118f20e26"
      },
      "id": "8ftRiJAm40wP",
      "execution_count": null,
      "outputs": [
        {
          "output_type": "stream",
          "name": "stdout",
          "text": [
            "RF2 - accuracy on test set: 0.856\n"
          ]
        }
      ]
    },
    {
      "cell_type": "markdown",
      "source": [
        "#### RF3: n_estimator=100, max_leaf_nodes=4"
      ],
      "metadata": {
        "id": "sOzJbjOr5Wp0"
      },
      "id": "sOzJbjOr5Wp0"
    },
    {
      "cell_type": "code",
      "source": [
        "rf3 = RandomForestClassifier(criterion = \"entropy\", random_state = 0, \n",
        "                             n_estimators = 100, max_leaf_nodes = 4)\n",
        "\n",
        "rf3.fit(X_train.reshape(54000,28*28), y_train)\n",
        "y_pred3 = rf3.predict(X_test.reshape(10000,28*28))\n",
        "print(\"RF3 - accuracy on test set: {:.3f}\".format(accuracy_score(y_test, \n",
        "                                                                 y_pred3)))"
      ],
      "metadata": {
        "colab": {
          "base_uri": "https://localhost:8080/"
        },
        "id": "WaLHfBXu5hIV",
        "outputId": "d2b13df5-c277-4a32-a21a-7a366b3261f6"
      },
      "id": "WaLHfBXu5hIV",
      "execution_count": null,
      "outputs": [
        {
          "output_type": "stream",
          "name": "stdout",
          "text": [
            "RF3 - accuracy on test set: 0.572\n"
          ]
        }
      ]
    },
    {
      "cell_type": "markdown",
      "metadata": {
        "id": "H2It3QRfmgMR"
      },
      "source": [
        "### Fully connected neural network"
      ],
      "id": "H2It3QRfmgMR"
    },
    {
      "cell_type": "code",
      "source": [
        "import sys\n",
        "!{sys.executable} -m pip install -U scikeras"
      ],
      "metadata": {
        "colab": {
          "base_uri": "https://localhost:8080/"
        },
        "id": "MqqNTAVZRdBe",
        "outputId": "314ca31e-3755-42f4-e81f-52ac43aab624"
      },
      "id": "MqqNTAVZRdBe",
      "execution_count": null,
      "outputs": [
        {
          "output_type": "stream",
          "name": "stdout",
          "text": [
            "Looking in indexes: https://pypi.org/simple, https://us-python.pkg.dev/colab-wheels/public/simple/\n",
            "Collecting scikeras\n",
            "  Downloading scikeras-0.9.0-py3-none-any.whl (27 kB)\n",
            "Requirement already satisfied: importlib-metadata>=3 in /usr/local/lib/python3.7/dist-packages (from scikeras) (4.12.0)\n",
            "Requirement already satisfied: scikit-learn>=1.0.0 in /usr/local/lib/python3.7/dist-packages (from scikeras) (1.0.2)\n",
            "Requirement already satisfied: packaging>=0.21 in /usr/local/lib/python3.7/dist-packages (from scikeras) (21.3)\n",
            "Requirement already satisfied: zipp>=0.5 in /usr/local/lib/python3.7/dist-packages (from importlib-metadata>=3->scikeras) (3.8.1)\n",
            "Requirement already satisfied: typing-extensions>=3.6.4 in /usr/local/lib/python3.7/dist-packages (from importlib-metadata>=3->scikeras) (4.1.1)\n",
            "Requirement already satisfied: pyparsing!=3.0.5,>=2.0.2 in /usr/local/lib/python3.7/dist-packages (from packaging>=0.21->scikeras) (3.0.9)\n",
            "Requirement already satisfied: threadpoolctl>=2.0.0 in /usr/local/lib/python3.7/dist-packages (from scikit-learn>=1.0.0->scikeras) (3.1.0)\n",
            "Requirement already satisfied: joblib>=0.11 in /usr/local/lib/python3.7/dist-packages (from scikit-learn>=1.0.0->scikeras) (1.1.0)\n",
            "Requirement already satisfied: scipy>=1.1.0 in /usr/local/lib/python3.7/dist-packages (from scikit-learn>=1.0.0->scikeras) (1.7.3)\n",
            "Requirement already satisfied: numpy>=1.14.6 in /usr/local/lib/python3.7/dist-packages (from scikit-learn>=1.0.0->scikeras) (1.21.6)\n",
            "Installing collected packages: scikeras\n",
            "Successfully installed scikeras-0.9.0\n"
          ]
        }
      ]
    },
    {
      "cell_type": "code",
      "source": [
        "import scikeras\n",
        "from scikeras.wrappers import KerasClassifier\n",
        "\n",
        "def build_mlp(\n",
        "    n_hidden_layers=2, n_hidden_neurons=50,\n",
        "    activation_function=\"relu\", input_shape=[28,28]\n",
        "):\n",
        "    \"\"\"Build a Keras MLP for 10 class classification with desired parameters.\"\"\"\n",
        "    \n",
        "    model = keras.models.Sequential()\n",
        "    \n",
        "    # Add the input layer\n",
        "    model.add(keras.layers.Flatten(input_shape=input_shape))\n",
        "    \n",
        "    # Add the hidden layers with desired size and activation function\n",
        "    for layer in range(n_hidden_layers):\n",
        "        model.add(keras.layers.Dense(n_hidden_neurons, \n",
        "                                     activation=activation_function))\n",
        "        \n",
        "    # Add the output layer for 10 class classification\n",
        "    model.add(keras.layers.Dense(10, activation=\"softmax\"))\n",
        "    \n",
        "    return model\n",
        "\n",
        "# Create a KerasClassifier object which works with sklearn grid searches\n",
        "# We need to pass default values of arguments in build_mlp if we wish to \n",
        "# tune them\n",
        "keras_classifier = KerasClassifier(build_mlp,\n",
        "                                   n_hidden_layers=2,\n",
        "                                   n_hidden_neurons=50,\n",
        "                                   activation_function=\"relu\",\n",
        "                                   loss=\"sparse_categorical_crossentropy\",\n",
        "                                   optimizer=\"sgd\",\n",
        "                                   optimizer__lr=0.01,\n",
        "                                   metrics=[\"accuracy\"]\n",
        "                                  )\n",
        "# reference week8 lab"
      ],
      "metadata": {
        "id": "LaSoM1b-HoZ5"
      },
      "id": "LaSoM1b-HoZ5",
      "execution_count": null,
      "outputs": []
    },
    {
      "cell_type": "code",
      "source": [
        "from sklearn.model_selection import GridSearchCV\n",
        "\n",
        "param_grid = {\n",
        "    \"optimizer__lr\": [0.1, 0.01, 0.05],\n",
        "    \"activation_function\": [\"tanh\", None] # here are only tanh and None, \n",
        "}                                         # but we have a defult value \"relu\" \n",
        "# which defined in keras_classifier. So we tested 3 differ activation functions.\n",
        "grid_search_cv = GridSearchCV(keras_classifier, param_grid, cv=3, verbose=2)\n",
        "grid_search_cv.fit(X_train, y_train, epochs=20, validation_data=(X_valid, \n",
        "                                                                 y_valid))"
      ],
      "metadata": {
        "colab": {
          "base_uri": "https://localhost:8080/"
        },
        "id": "xIIIgncILw91",
        "outputId": "7199f8d2-c66a-467c-f25c-9e9af848aa3d"
      },
      "id": "xIIIgncILw91",
      "execution_count": null,
      "outputs": [
        {
          "output_type": "stream",
          "name": "stdout",
          "text": [
            "Fitting 3 folds for each of 6 candidates, totalling 18 fits\n"
          ]
        },
        {
          "output_type": "stream",
          "name": "stderr",
          "text": [
            "/usr/local/lib/python3.7/dist-packages/keras/optimizer_v2/gradient_descent.py:102: UserWarning: The `lr` argument is deprecated, use `learning_rate` instead.\n",
            "  super(SGD, self).__init__(name, **kwargs)\n"
          ]
        },
        {
          "output_type": "stream",
          "name": "stdout",
          "text": [
            "Epoch 1/20\n",
            "1125/1125 [==============================] - 3s 2ms/step - loss: 0.5778 - accuracy: 0.7916 - val_loss: 0.4545 - val_accuracy: 0.8335\n",
            "Epoch 2/20\n",
            "1125/1125 [==============================] - 2s 2ms/step - loss: 0.4298 - accuracy: 0.8445 - val_loss: 0.4377 - val_accuracy: 0.8358\n",
            "Epoch 3/20\n",
            "1125/1125 [==============================] - 2s 2ms/step - loss: 0.3907 - accuracy: 0.8573 - val_loss: 0.3872 - val_accuracy: 0.8530\n",
            "Epoch 4/20\n",
            "1125/1125 [==============================] - 2s 2ms/step - loss: 0.3621 - accuracy: 0.8668 - val_loss: 0.3823 - val_accuracy: 0.8602\n",
            "Epoch 5/20\n",
            "1125/1125 [==============================] - 2s 2ms/step - loss: 0.3463 - accuracy: 0.8729 - val_loss: 0.3865 - val_accuracy: 0.8592\n",
            "Epoch 6/20\n",
            "1125/1125 [==============================] - 2s 2ms/step - loss: 0.3300 - accuracy: 0.8796 - val_loss: 0.3495 - val_accuracy: 0.8745\n",
            "Epoch 7/20\n",
            "1125/1125 [==============================] - 2s 2ms/step - loss: 0.3152 - accuracy: 0.8831 - val_loss: 0.3528 - val_accuracy: 0.8720\n",
            "Epoch 8/20\n",
            "1125/1125 [==============================] - 2s 2ms/step - loss: 0.3050 - accuracy: 0.8866 - val_loss: 0.3252 - val_accuracy: 0.8830\n",
            "Epoch 9/20\n",
            "1125/1125 [==============================] - 2s 2ms/step - loss: 0.2938 - accuracy: 0.8915 - val_loss: 0.3435 - val_accuracy: 0.8778\n",
            "Epoch 10/20\n",
            "1125/1125 [==============================] - 2s 2ms/step - loss: 0.2862 - accuracy: 0.8936 - val_loss: 0.3372 - val_accuracy: 0.8802\n",
            "Epoch 11/20\n",
            "1125/1125 [==============================] - 2s 2ms/step - loss: 0.2790 - accuracy: 0.8958 - val_loss: 0.3622 - val_accuracy: 0.8727\n",
            "Epoch 12/20\n",
            "1125/1125 [==============================] - 2s 2ms/step - loss: 0.2692 - accuracy: 0.8993 - val_loss: 0.3560 - val_accuracy: 0.8707\n",
            "Epoch 13/20\n",
            "1125/1125 [==============================] - 2s 2ms/step - loss: 0.2624 - accuracy: 0.9024 - val_loss: 0.3341 - val_accuracy: 0.8803\n",
            "Epoch 14/20\n",
            "1125/1125 [==============================] - 2s 2ms/step - loss: 0.2588 - accuracy: 0.9028 - val_loss: 0.3395 - val_accuracy: 0.8815\n",
            "Epoch 15/20\n",
            "1125/1125 [==============================] - 2s 2ms/step - loss: 0.2475 - accuracy: 0.9085 - val_loss: 0.3569 - val_accuracy: 0.8795\n",
            "Epoch 16/20\n",
            "1125/1125 [==============================] - 2s 2ms/step - loss: 0.2423 - accuracy: 0.9091 - val_loss: 0.3487 - val_accuracy: 0.8747\n",
            "Epoch 17/20\n",
            "1125/1125 [==============================] - 2s 2ms/step - loss: 0.2367 - accuracy: 0.9127 - val_loss: 0.3316 - val_accuracy: 0.8853\n",
            "Epoch 18/20\n",
            "1125/1125 [==============================] - 2s 2ms/step - loss: 0.2326 - accuracy: 0.9134 - val_loss: 0.3341 - val_accuracy: 0.8840\n",
            "Epoch 19/20\n",
            "1125/1125 [==============================] - 2s 2ms/step - loss: 0.2298 - accuracy: 0.9126 - val_loss: 0.3329 - val_accuracy: 0.8837\n",
            "Epoch 20/20\n",
            "1125/1125 [==============================] - 2s 2ms/step - loss: 0.2208 - accuracy: 0.9157 - val_loss: 0.3348 - val_accuracy: 0.8828\n",
            "563/563 [==============================] - 1s 1ms/step\n",
            "[CV] END ........activation_function=tanh, optimizer__lr=0.1; total time=  44.0s\n",
            "Epoch 1/20\n"
          ]
        },
        {
          "output_type": "stream",
          "name": "stderr",
          "text": [
            "/usr/local/lib/python3.7/dist-packages/keras/optimizer_v2/gradient_descent.py:102: UserWarning: The `lr` argument is deprecated, use `learning_rate` instead.\n",
            "  super(SGD, self).__init__(name, **kwargs)\n"
          ]
        },
        {
          "output_type": "stream",
          "name": "stdout",
          "text": [
            "1125/1125 [==============================] - 2s 2ms/step - loss: 0.5840 - accuracy: 0.7886 - val_loss: 0.4400 - val_accuracy: 0.8390\n",
            "Epoch 2/20\n",
            "1125/1125 [==============================] - 2s 2ms/step - loss: 0.4327 - accuracy: 0.8424 - val_loss: 0.4077 - val_accuracy: 0.8467\n",
            "Epoch 3/20\n",
            "1125/1125 [==============================] - 2s 2ms/step - loss: 0.3929 - accuracy: 0.8546 - val_loss: 0.4038 - val_accuracy: 0.8510\n",
            "Epoch 4/20\n",
            "1125/1125 [==============================] - 2s 2ms/step - loss: 0.3653 - accuracy: 0.8659 - val_loss: 0.3899 - val_accuracy: 0.8537\n",
            "Epoch 5/20\n",
            "1125/1125 [==============================] - 2s 2ms/step - loss: 0.3484 - accuracy: 0.8704 - val_loss: 0.3602 - val_accuracy: 0.8687\n",
            "Epoch 6/20\n",
            "1125/1125 [==============================] - 2s 2ms/step - loss: 0.3326 - accuracy: 0.8764 - val_loss: 0.3476 - val_accuracy: 0.8742\n",
            "Epoch 7/20\n",
            "1125/1125 [==============================] - 2s 2ms/step - loss: 0.3187 - accuracy: 0.8825 - val_loss: 0.3341 - val_accuracy: 0.8775\n",
            "Epoch 8/20\n",
            "1125/1125 [==============================] - 2s 2ms/step - loss: 0.3065 - accuracy: 0.8855 - val_loss: 0.3604 - val_accuracy: 0.8652\n",
            "Epoch 9/20\n",
            "1125/1125 [==============================] - 2s 2ms/step - loss: 0.2952 - accuracy: 0.8897 - val_loss: 0.3250 - val_accuracy: 0.8827\n",
            "Epoch 10/20\n",
            "1125/1125 [==============================] - 2s 2ms/step - loss: 0.2884 - accuracy: 0.8927 - val_loss: 0.3424 - val_accuracy: 0.8727\n",
            "Epoch 11/20\n",
            "1125/1125 [==============================] - 2s 2ms/step - loss: 0.2809 - accuracy: 0.8950 - val_loss: 0.3448 - val_accuracy: 0.8712\n",
            "Epoch 12/20\n",
            "1125/1125 [==============================] - 2s 2ms/step - loss: 0.2731 - accuracy: 0.8984 - val_loss: 0.3342 - val_accuracy: 0.8753\n",
            "Epoch 13/20\n",
            "1125/1125 [==============================] - 2s 2ms/step - loss: 0.2655 - accuracy: 0.9007 - val_loss: 0.3325 - val_accuracy: 0.8803\n",
            "Epoch 14/20\n",
            "1125/1125 [==============================] - 2s 2ms/step - loss: 0.2579 - accuracy: 0.9022 - val_loss: 0.3546 - val_accuracy: 0.8745\n",
            "Epoch 15/20\n",
            "1125/1125 [==============================] - 2s 2ms/step - loss: 0.2540 - accuracy: 0.9052 - val_loss: 0.3293 - val_accuracy: 0.8870\n",
            "Epoch 16/20\n",
            "1125/1125 [==============================] - 2s 2ms/step - loss: 0.2452 - accuracy: 0.9094 - val_loss: 0.3191 - val_accuracy: 0.8895\n",
            "Epoch 17/20\n",
            "1125/1125 [==============================] - 2s 2ms/step - loss: 0.2410 - accuracy: 0.9101 - val_loss: 0.3338 - val_accuracy: 0.8818\n",
            "Epoch 18/20\n",
            "1125/1125 [==============================] - 2s 2ms/step - loss: 0.2369 - accuracy: 0.9117 - val_loss: 0.3320 - val_accuracy: 0.8810\n",
            "Epoch 19/20\n",
            "1125/1125 [==============================] - 2s 2ms/step - loss: 0.2318 - accuracy: 0.9127 - val_loss: 0.3407 - val_accuracy: 0.8742\n",
            "Epoch 20/20\n",
            "1125/1125 [==============================] - 2s 2ms/step - loss: 0.2243 - accuracy: 0.9169 - val_loss: 0.3534 - val_accuracy: 0.8775\n",
            "563/563 [==============================] - 1s 1ms/step\n",
            "[CV] END ........activation_function=tanh, optimizer__lr=0.1; total time= 1.4min\n",
            "Epoch 1/20\n"
          ]
        },
        {
          "output_type": "stream",
          "name": "stderr",
          "text": [
            "/usr/local/lib/python3.7/dist-packages/keras/optimizer_v2/gradient_descent.py:102: UserWarning: The `lr` argument is deprecated, use `learning_rate` instead.\n",
            "  super(SGD, self).__init__(name, **kwargs)\n"
          ]
        },
        {
          "output_type": "stream",
          "name": "stdout",
          "text": [
            "1125/1125 [==============================] - 3s 2ms/step - loss: 0.5668 - accuracy: 0.7948 - val_loss: 0.4671 - val_accuracy: 0.8292\n",
            "Epoch 2/20\n",
            "1125/1125 [==============================] - 2s 2ms/step - loss: 0.4246 - accuracy: 0.8445 - val_loss: 0.3949 - val_accuracy: 0.8573\n",
            "Epoch 3/20\n",
            "1125/1125 [==============================] - 2s 2ms/step - loss: 0.3878 - accuracy: 0.8589 - val_loss: 0.3974 - val_accuracy: 0.8578\n",
            "Epoch 4/20\n",
            "1125/1125 [==============================] - 2s 2ms/step - loss: 0.3605 - accuracy: 0.8683 - val_loss: 0.3895 - val_accuracy: 0.8555\n",
            "Epoch 5/20\n",
            "1125/1125 [==============================] - 2s 2ms/step - loss: 0.3429 - accuracy: 0.8727 - val_loss: 0.3597 - val_accuracy: 0.8720\n",
            "Epoch 6/20\n",
            "1125/1125 [==============================] - 2s 2ms/step - loss: 0.3273 - accuracy: 0.8782 - val_loss: 0.3986 - val_accuracy: 0.8575\n",
            "Epoch 7/20\n",
            "1125/1125 [==============================] - 2s 2ms/step - loss: 0.3150 - accuracy: 0.8830 - val_loss: 0.3460 - val_accuracy: 0.8717\n",
            "Epoch 8/20\n",
            "1125/1125 [==============================] - 2s 2ms/step - loss: 0.3015 - accuracy: 0.8891 - val_loss: 0.3682 - val_accuracy: 0.8623\n",
            "Epoch 9/20\n",
            "1125/1125 [==============================] - 2s 2ms/step - loss: 0.2937 - accuracy: 0.8901 - val_loss: 0.3560 - val_accuracy: 0.8733\n",
            "Epoch 10/20\n",
            "1125/1125 [==============================] - 2s 2ms/step - loss: 0.2848 - accuracy: 0.8933 - val_loss: 0.3543 - val_accuracy: 0.8737\n",
            "Epoch 11/20\n",
            "1125/1125 [==============================] - 2s 2ms/step - loss: 0.2777 - accuracy: 0.8962 - val_loss: 0.3485 - val_accuracy: 0.8730\n",
            "Epoch 12/20\n",
            "1125/1125 [==============================] - 2s 2ms/step - loss: 0.2717 - accuracy: 0.8991 - val_loss: 0.3549 - val_accuracy: 0.8732\n",
            "Epoch 13/20\n",
            "1125/1125 [==============================] - 2s 2ms/step - loss: 0.2642 - accuracy: 0.9011 - val_loss: 0.3411 - val_accuracy: 0.8750\n",
            "Epoch 14/20\n",
            "1125/1125 [==============================] - 2s 2ms/step - loss: 0.2587 - accuracy: 0.9030 - val_loss: 0.3535 - val_accuracy: 0.8768\n",
            "Epoch 15/20\n",
            "1125/1125 [==============================] - 2s 2ms/step - loss: 0.2512 - accuracy: 0.9063 - val_loss: 0.3603 - val_accuracy: 0.8720\n",
            "Epoch 16/20\n",
            "1125/1125 [==============================] - 2s 2ms/step - loss: 0.2439 - accuracy: 0.9084 - val_loss: 0.3567 - val_accuracy: 0.8812\n",
            "Epoch 17/20\n",
            "1125/1125 [==============================] - 2s 2ms/step - loss: 0.2395 - accuracy: 0.9087 - val_loss: 0.3472 - val_accuracy: 0.8820\n",
            "Epoch 18/20\n",
            "1125/1125 [==============================] - 2s 2ms/step - loss: 0.2348 - accuracy: 0.9111 - val_loss: 0.3427 - val_accuracy: 0.8805\n",
            "Epoch 19/20\n",
            "1125/1125 [==============================] - 2s 2ms/step - loss: 0.2314 - accuracy: 0.9140 - val_loss: 0.3547 - val_accuracy: 0.8732\n",
            "Epoch 20/20\n",
            "1125/1125 [==============================] - 2s 2ms/step - loss: 0.2255 - accuracy: 0.9160 - val_loss: 0.3523 - val_accuracy: 0.8818\n",
            "563/563 [==============================] - 1s 1ms/step\n",
            "[CV] END ........activation_function=tanh, optimizer__lr=0.1; total time=  44.4s\n",
            "Epoch 1/20\n"
          ]
        },
        {
          "output_type": "stream",
          "name": "stderr",
          "text": [
            "/usr/local/lib/python3.7/dist-packages/keras/optimizer_v2/gradient_descent.py:102: UserWarning: The `lr` argument is deprecated, use `learning_rate` instead.\n",
            "  super(SGD, self).__init__(name, **kwargs)\n"
          ]
        },
        {
          "output_type": "stream",
          "name": "stdout",
          "text": [
            "1125/1125 [==============================] - 3s 2ms/step - loss: 0.8728 - accuracy: 0.7216 - val_loss: 0.6148 - val_accuracy: 0.7910\n",
            "Epoch 2/20\n",
            "1125/1125 [==============================] - 2s 2ms/step - loss: 0.5514 - accuracy: 0.8100 - val_loss: 0.5117 - val_accuracy: 0.8235\n",
            "Epoch 3/20\n",
            "1125/1125 [==============================] - 2s 2ms/step - loss: 0.4887 - accuracy: 0.8279 - val_loss: 0.4724 - val_accuracy: 0.8357\n",
            "Epoch 4/20\n",
            "1125/1125 [==============================] - 2s 2ms/step - loss: 0.4568 - accuracy: 0.8372 - val_loss: 0.4511 - val_accuracy: 0.8405\n",
            "Epoch 5/20\n",
            "1125/1125 [==============================] - 2s 2ms/step - loss: 0.4373 - accuracy: 0.8426 - val_loss: 0.4370 - val_accuracy: 0.8428\n",
            "Epoch 6/20\n",
            "1125/1125 [==============================] - 2s 2ms/step - loss: 0.4211 - accuracy: 0.8501 - val_loss: 0.4250 - val_accuracy: 0.8473\n",
            "Epoch 7/20\n",
            "1125/1125 [==============================] - 2s 2ms/step - loss: 0.4091 - accuracy: 0.8528 - val_loss: 0.4140 - val_accuracy: 0.8488\n",
            "Epoch 8/20\n",
            "1125/1125 [==============================] - 2s 2ms/step - loss: 0.3983 - accuracy: 0.8570 - val_loss: 0.4059 - val_accuracy: 0.8538\n",
            "Epoch 9/20\n",
            "1125/1125 [==============================] - 2s 2ms/step - loss: 0.3893 - accuracy: 0.8604 - val_loss: 0.3949 - val_accuracy: 0.8558\n",
            "Epoch 10/20\n",
            "1125/1125 [==============================] - 2s 2ms/step - loss: 0.3815 - accuracy: 0.8637 - val_loss: 0.3929 - val_accuracy: 0.8558\n",
            "Epoch 11/20\n",
            "1125/1125 [==============================] - 2s 2ms/step - loss: 0.3739 - accuracy: 0.8654 - val_loss: 0.3947 - val_accuracy: 0.8597\n",
            "Epoch 12/20\n",
            "1125/1125 [==============================] - 2s 2ms/step - loss: 0.3676 - accuracy: 0.8678 - val_loss: 0.3827 - val_accuracy: 0.8610\n",
            "Epoch 13/20\n",
            "1125/1125 [==============================] - 2s 2ms/step - loss: 0.3610 - accuracy: 0.8701 - val_loss: 0.3819 - val_accuracy: 0.8610\n",
            "Epoch 14/20\n",
            "1125/1125 [==============================] - 2s 2ms/step - loss: 0.3559 - accuracy: 0.8714 - val_loss: 0.3688 - val_accuracy: 0.8680\n",
            "Epoch 15/20\n",
            "1125/1125 [==============================] - 2s 2ms/step - loss: 0.3498 - accuracy: 0.8750 - val_loss: 0.3804 - val_accuracy: 0.8620\n",
            "Epoch 16/20\n",
            "1125/1125 [==============================] - 2s 2ms/step - loss: 0.3451 - accuracy: 0.8749 - val_loss: 0.3750 - val_accuracy: 0.8665\n",
            "Epoch 17/20\n",
            "1125/1125 [==============================] - 2s 2ms/step - loss: 0.3407 - accuracy: 0.8774 - val_loss: 0.3646 - val_accuracy: 0.8682\n",
            "Epoch 18/20\n",
            "1125/1125 [==============================] - 2s 2ms/step - loss: 0.3361 - accuracy: 0.8796 - val_loss: 0.3682 - val_accuracy: 0.8637\n",
            "Epoch 19/20\n",
            "1125/1125 [==============================] - 2s 2ms/step - loss: 0.3329 - accuracy: 0.8789 - val_loss: 0.3582 - val_accuracy: 0.8697\n",
            "Epoch 20/20\n",
            "1125/1125 [==============================] - 2s 2ms/step - loss: 0.3289 - accuracy: 0.8804 - val_loss: 0.3521 - val_accuracy: 0.8735\n",
            "563/563 [==============================] - 1s 1ms/step\n",
            "[CV] END .......activation_function=tanh, optimizer__lr=0.01; total time= 1.4min\n",
            "Epoch 1/20\n"
          ]
        },
        {
          "output_type": "stream",
          "name": "stderr",
          "text": [
            "/usr/local/lib/python3.7/dist-packages/keras/optimizer_v2/gradient_descent.py:102: UserWarning: The `lr` argument is deprecated, use `learning_rate` instead.\n",
            "  super(SGD, self).__init__(name, **kwargs)\n"
          ]
        },
        {
          "output_type": "stream",
          "name": "stdout",
          "text": [
            "1125/1125 [==============================] - 2s 2ms/step - loss: 0.8807 - accuracy: 0.7206 - val_loss: 0.6163 - val_accuracy: 0.7990\n",
            "Epoch 2/20\n",
            "1125/1125 [==============================] - 2s 2ms/step - loss: 0.5580 - accuracy: 0.8108 - val_loss: 0.5153 - val_accuracy: 0.8222\n",
            "Epoch 3/20\n",
            "1125/1125 [==============================] - 2s 2ms/step - loss: 0.4925 - accuracy: 0.8290 - val_loss: 0.4714 - val_accuracy: 0.8382\n",
            "Epoch 4/20\n",
            "1125/1125 [==============================] - 2s 2ms/step - loss: 0.4588 - accuracy: 0.8399 - val_loss: 0.4618 - val_accuracy: 0.8348\n",
            "Epoch 5/20\n",
            "1125/1125 [==============================] - 2s 2ms/step - loss: 0.4375 - accuracy: 0.8443 - val_loss: 0.4331 - val_accuracy: 0.8478\n",
            "Epoch 6/20\n",
            "1125/1125 [==============================] - 2s 2ms/step - loss: 0.4215 - accuracy: 0.8508 - val_loss: 0.4229 - val_accuracy: 0.8490\n",
            "Epoch 7/20\n",
            "1125/1125 [==============================] - 2s 2ms/step - loss: 0.4083 - accuracy: 0.8533 - val_loss: 0.4115 - val_accuracy: 0.8527\n",
            "Epoch 8/20\n",
            "1125/1125 [==============================] - 2s 2ms/step - loss: 0.3979 - accuracy: 0.8569 - val_loss: 0.4097 - val_accuracy: 0.8513\n",
            "Epoch 9/20\n",
            "1125/1125 [==============================] - 2s 2ms/step - loss: 0.3883 - accuracy: 0.8612 - val_loss: 0.3973 - val_accuracy: 0.8588\n",
            "Epoch 10/20\n",
            "1125/1125 [==============================] - 2s 2ms/step - loss: 0.3804 - accuracy: 0.8631 - val_loss: 0.3885 - val_accuracy: 0.8602\n",
            "Epoch 11/20\n",
            "1125/1125 [==============================] - 2s 2ms/step - loss: 0.3741 - accuracy: 0.8668 - val_loss: 0.3889 - val_accuracy: 0.8608\n",
            "Epoch 12/20\n",
            "1125/1125 [==============================] - 2s 2ms/step - loss: 0.3668 - accuracy: 0.8687 - val_loss: 0.3868 - val_accuracy: 0.8610\n",
            "Epoch 13/20\n",
            "1125/1125 [==============================] - 2s 2ms/step - loss: 0.3606 - accuracy: 0.8708 - val_loss: 0.3844 - val_accuracy: 0.8613\n",
            "Epoch 14/20\n",
            "1125/1125 [==============================] - 2s 2ms/step - loss: 0.3547 - accuracy: 0.8715 - val_loss: 0.3792 - val_accuracy: 0.8643\n",
            "Epoch 15/20\n",
            "1125/1125 [==============================] - 2s 2ms/step - loss: 0.3500 - accuracy: 0.8747 - val_loss: 0.3726 - val_accuracy: 0.8665\n",
            "Epoch 16/20\n",
            "1125/1125 [==============================] - 2s 2ms/step - loss: 0.3444 - accuracy: 0.8751 - val_loss: 0.3656 - val_accuracy: 0.8678\n",
            "Epoch 17/20\n",
            "1125/1125 [==============================] - 2s 2ms/step - loss: 0.3398 - accuracy: 0.8776 - val_loss: 0.3652 - val_accuracy: 0.8668\n",
            "Epoch 18/20\n",
            "1125/1125 [==============================] - 2s 2ms/step - loss: 0.3353 - accuracy: 0.8792 - val_loss: 0.3615 - val_accuracy: 0.8672\n",
            "Epoch 19/20\n",
            "1125/1125 [==============================] - 2s 2ms/step - loss: 0.3314 - accuracy: 0.8797 - val_loss: 0.3603 - val_accuracy: 0.8710\n",
            "Epoch 20/20\n",
            "1125/1125 [==============================] - 2s 2ms/step - loss: 0.3269 - accuracy: 0.8834 - val_loss: 0.3702 - val_accuracy: 0.8678\n",
            "563/563 [==============================] - 1s 1ms/step\n",
            "[CV] END .......activation_function=tanh, optimizer__lr=0.01; total time=  44.7s\n",
            "Epoch 1/20\n"
          ]
        },
        {
          "output_type": "stream",
          "name": "stderr",
          "text": [
            "/usr/local/lib/python3.7/dist-packages/keras/optimizer_v2/gradient_descent.py:102: UserWarning: The `lr` argument is deprecated, use `learning_rate` instead.\n",
            "  super(SGD, self).__init__(name, **kwargs)\n"
          ]
        },
        {
          "output_type": "stream",
          "name": "stdout",
          "text": [
            "1125/1125 [==============================] - 2s 2ms/step - loss: 0.9027 - accuracy: 0.7194 - val_loss: 0.6262 - val_accuracy: 0.7903\n",
            "Epoch 2/20\n",
            "1125/1125 [==============================] - 2s 2ms/step - loss: 0.5566 - accuracy: 0.8105 - val_loss: 0.5137 - val_accuracy: 0.8283\n",
            "Epoch 3/20\n",
            "1125/1125 [==============================] - 2s 2ms/step - loss: 0.4890 - accuracy: 0.8292 - val_loss: 0.4735 - val_accuracy: 0.8380\n",
            "Epoch 4/20\n",
            "1125/1125 [==============================] - 2s 2ms/step - loss: 0.4549 - accuracy: 0.8391 - val_loss: 0.4614 - val_accuracy: 0.8345\n",
            "Epoch 5/20\n",
            "1125/1125 [==============================] - 3s 2ms/step - loss: 0.4334 - accuracy: 0.8457 - val_loss: 0.4316 - val_accuracy: 0.8498\n",
            "Epoch 6/20\n",
            "1125/1125 [==============================] - 2s 2ms/step - loss: 0.4173 - accuracy: 0.8520 - val_loss: 0.4317 - val_accuracy: 0.8472\n",
            "Epoch 7/20\n",
            "1125/1125 [==============================] - 2s 2ms/step - loss: 0.4039 - accuracy: 0.8562 - val_loss: 0.4124 - val_accuracy: 0.8542\n",
            "Epoch 8/20\n",
            "1125/1125 [==============================] - 2s 2ms/step - loss: 0.3928 - accuracy: 0.8592 - val_loss: 0.4208 - val_accuracy: 0.8480\n",
            "Epoch 9/20\n",
            "1125/1125 [==============================] - 2s 2ms/step - loss: 0.3842 - accuracy: 0.8636 - val_loss: 0.3985 - val_accuracy: 0.8600\n",
            "Epoch 10/20\n",
            "1125/1125 [==============================] - 2s 2ms/step - loss: 0.3759 - accuracy: 0.8665 - val_loss: 0.3922 - val_accuracy: 0.8592\n",
            "Epoch 11/20\n",
            "1125/1125 [==============================] - 2s 2ms/step - loss: 0.3694 - accuracy: 0.8691 - val_loss: 0.3946 - val_accuracy: 0.8602\n",
            "Epoch 12/20\n",
            "1125/1125 [==============================] - 2s 2ms/step - loss: 0.3627 - accuracy: 0.8706 - val_loss: 0.3887 - val_accuracy: 0.8590\n",
            "Epoch 13/20\n",
            "1125/1125 [==============================] - 2s 2ms/step - loss: 0.3565 - accuracy: 0.8749 - val_loss: 0.3991 - val_accuracy: 0.8527\n",
            "Epoch 14/20\n",
            "1125/1125 [==============================] - 2s 2ms/step - loss: 0.3515 - accuracy: 0.8746 - val_loss: 0.3769 - val_accuracy: 0.8635\n",
            "Epoch 15/20\n",
            "1125/1125 [==============================] - 2s 2ms/step - loss: 0.3460 - accuracy: 0.8768 - val_loss: 0.3779 - val_accuracy: 0.8638\n",
            "Epoch 16/20\n",
            "1125/1125 [==============================] - 2s 2ms/step - loss: 0.3404 - accuracy: 0.8784 - val_loss: 0.3769 - val_accuracy: 0.8653\n",
            "Epoch 17/20\n",
            "1125/1125 [==============================] - 2s 2ms/step - loss: 0.3357 - accuracy: 0.8812 - val_loss: 0.3689 - val_accuracy: 0.8648\n",
            "Epoch 18/20\n",
            "1125/1125 [==============================] - 2s 2ms/step - loss: 0.3318 - accuracy: 0.8814 - val_loss: 0.3603 - val_accuracy: 0.8690\n",
            "Epoch 19/20\n",
            "1125/1125 [==============================] - 2s 2ms/step - loss: 0.3283 - accuracy: 0.8844 - val_loss: 0.3662 - val_accuracy: 0.8650\n",
            "Epoch 20/20\n",
            "1125/1125 [==============================] - 2s 2ms/step - loss: 0.3236 - accuracy: 0.8848 - val_loss: 0.3614 - val_accuracy: 0.8717\n",
            "563/563 [==============================] - 1s 1ms/step\n",
            "[CV] END .......activation_function=tanh, optimizer__lr=0.01; total time= 1.4min\n",
            "Epoch 1/20\n"
          ]
        },
        {
          "output_type": "stream",
          "name": "stderr",
          "text": [
            "/usr/local/lib/python3.7/dist-packages/keras/optimizer_v2/gradient_descent.py:102: UserWarning: The `lr` argument is deprecated, use `learning_rate` instead.\n",
            "  super(SGD, self).__init__(name, **kwargs)\n"
          ]
        },
        {
          "output_type": "stream",
          "name": "stdout",
          "text": [
            "1125/1125 [==============================] - 3s 2ms/step - loss: 0.6155 - accuracy: 0.7853 - val_loss: 0.4647 - val_accuracy: 0.8330\n",
            "Epoch 2/20\n",
            "1125/1125 [==============================] - 2s 2ms/step - loss: 0.4410 - accuracy: 0.8421 - val_loss: 0.4381 - val_accuracy: 0.8373\n",
            "Epoch 3/20\n",
            "1125/1125 [==============================] - 2s 2ms/step - loss: 0.4042 - accuracy: 0.8552 - val_loss: 0.3924 - val_accuracy: 0.8588\n",
            "Epoch 4/20\n",
            "1125/1125 [==============================] - 2s 2ms/step - loss: 0.3767 - accuracy: 0.8636 - val_loss: 0.3939 - val_accuracy: 0.8553\n",
            "Epoch 5/20\n",
            "1125/1125 [==============================] - 2s 2ms/step - loss: 0.3605 - accuracy: 0.8682 - val_loss: 0.3804 - val_accuracy: 0.8595\n",
            "Epoch 6/20\n",
            "1125/1125 [==============================] - 2s 2ms/step - loss: 0.3432 - accuracy: 0.8750 - val_loss: 0.3550 - val_accuracy: 0.8678\n",
            "Epoch 7/20\n",
            "1125/1125 [==============================] - 2s 2ms/step - loss: 0.3303 - accuracy: 0.8792 - val_loss: 0.3555 - val_accuracy: 0.8705\n",
            "Epoch 8/20\n",
            "1125/1125 [==============================] - 2s 2ms/step - loss: 0.3191 - accuracy: 0.8821 - val_loss: 0.3425 - val_accuracy: 0.8738\n",
            "Epoch 9/20\n",
            "1125/1125 [==============================] - 2s 2ms/step - loss: 0.3093 - accuracy: 0.8861 - val_loss: 0.3479 - val_accuracy: 0.8710\n",
            "Epoch 10/20\n",
            "1125/1125 [==============================] - 2s 2ms/step - loss: 0.3013 - accuracy: 0.8878 - val_loss: 0.3380 - val_accuracy: 0.8783\n",
            "Epoch 11/20\n",
            "1125/1125 [==============================] - 2s 2ms/step - loss: 0.2937 - accuracy: 0.8913 - val_loss: 0.3443 - val_accuracy: 0.8765\n",
            "Epoch 12/20\n",
            "1125/1125 [==============================] - 2s 2ms/step - loss: 0.2852 - accuracy: 0.8944 - val_loss: 0.3361 - val_accuracy: 0.8787\n",
            "Epoch 13/20\n",
            "1125/1125 [==============================] - 2s 2ms/step - loss: 0.2786 - accuracy: 0.8971 - val_loss: 0.3475 - val_accuracy: 0.8753\n",
            "Epoch 14/20\n",
            "1125/1125 [==============================] - 2s 2ms/step - loss: 0.2726 - accuracy: 0.8989 - val_loss: 0.3359 - val_accuracy: 0.8808\n",
            "Epoch 15/20\n",
            "1125/1125 [==============================] - 2s 2ms/step - loss: 0.2651 - accuracy: 0.9023 - val_loss: 0.3413 - val_accuracy: 0.8792\n",
            "Epoch 16/20\n",
            "1125/1125 [==============================] - 2s 2ms/step - loss: 0.2588 - accuracy: 0.9039 - val_loss: 0.3298 - val_accuracy: 0.8815\n",
            "Epoch 17/20\n",
            "1125/1125 [==============================] - 2s 2ms/step - loss: 0.2534 - accuracy: 0.9066 - val_loss: 0.3298 - val_accuracy: 0.8840\n",
            "Epoch 18/20\n",
            "1125/1125 [==============================] - 2s 2ms/step - loss: 0.2486 - accuracy: 0.9089 - val_loss: 0.3279 - val_accuracy: 0.8850\n",
            "Epoch 19/20\n",
            "1125/1125 [==============================] - 2s 2ms/step - loss: 0.2446 - accuracy: 0.9099 - val_loss: 0.3270 - val_accuracy: 0.8850\n",
            "Epoch 20/20\n",
            "1125/1125 [==============================] - 2s 2ms/step - loss: 0.2381 - accuracy: 0.9116 - val_loss: 0.3347 - val_accuracy: 0.8813\n",
            "563/563 [==============================] - 1s 1ms/step\n",
            "[CV] END .......activation_function=tanh, optimizer__lr=0.05; total time= 1.4min\n",
            "Epoch 1/20\n"
          ]
        },
        {
          "output_type": "stream",
          "name": "stderr",
          "text": [
            "/usr/local/lib/python3.7/dist-packages/keras/optimizer_v2/gradient_descent.py:102: UserWarning: The `lr` argument is deprecated, use `learning_rate` instead.\n",
            "  super(SGD, self).__init__(name, **kwargs)\n"
          ]
        },
        {
          "output_type": "stream",
          "name": "stdout",
          "text": [
            "1125/1125 [==============================] - 3s 2ms/step - loss: 0.6110 - accuracy: 0.7879 - val_loss: 0.4547 - val_accuracy: 0.8375\n",
            "Epoch 2/20\n",
            "1125/1125 [==============================] - 2s 2ms/step - loss: 0.4469 - accuracy: 0.8380 - val_loss: 0.4094 - val_accuracy: 0.8503\n",
            "Epoch 3/20\n",
            "1125/1125 [==============================] - 2s 2ms/step - loss: 0.4081 - accuracy: 0.8511 - val_loss: 0.3936 - val_accuracy: 0.8592\n",
            "Epoch 4/20\n",
            "1125/1125 [==============================] - 2s 2ms/step - loss: 0.3810 - accuracy: 0.8616 - val_loss: 0.4272 - val_accuracy: 0.8432\n",
            "Epoch 5/20\n",
            "1125/1125 [==============================] - 2s 2ms/step - loss: 0.3626 - accuracy: 0.8672 - val_loss: 0.3736 - val_accuracy: 0.8660\n",
            "Epoch 6/20\n",
            "1125/1125 [==============================] - 2s 2ms/step - loss: 0.3487 - accuracy: 0.8728 - val_loss: 0.3647 - val_accuracy: 0.8698\n",
            "Epoch 7/20\n",
            "1125/1125 [==============================] - 2s 2ms/step - loss: 0.3362 - accuracy: 0.8778 - val_loss: 0.3502 - val_accuracy: 0.8710\n",
            "Epoch 8/20\n",
            "1125/1125 [==============================] - 2s 2ms/step - loss: 0.3249 - accuracy: 0.8814 - val_loss: 0.3486 - val_accuracy: 0.8738\n",
            "Epoch 9/20\n",
            "1125/1125 [==============================] - 2s 2ms/step - loss: 0.3144 - accuracy: 0.8854 - val_loss: 0.3443 - val_accuracy: 0.8752\n",
            "Epoch 10/20\n",
            "1125/1125 [==============================] - 2s 2ms/step - loss: 0.3066 - accuracy: 0.8870 - val_loss: 0.3451 - val_accuracy: 0.8757\n",
            "Epoch 11/20\n",
            "1125/1125 [==============================] - 2s 2ms/step - loss: 0.3007 - accuracy: 0.8900 - val_loss: 0.3381 - val_accuracy: 0.8773\n",
            "Epoch 12/20\n",
            "1125/1125 [==============================] - 2s 2ms/step - loss: 0.2911 - accuracy: 0.8949 - val_loss: 0.3428 - val_accuracy: 0.8745\n",
            "Epoch 13/20\n",
            "1125/1125 [==============================] - 2s 2ms/step - loss: 0.2846 - accuracy: 0.8948 - val_loss: 0.3396 - val_accuracy: 0.8778\n",
            "Epoch 14/20\n",
            "1125/1125 [==============================] - 2s 2ms/step - loss: 0.2783 - accuracy: 0.8960 - val_loss: 0.3440 - val_accuracy: 0.8778\n",
            "Epoch 15/20\n",
            "1125/1125 [==============================] - 3s 2ms/step - loss: 0.2720 - accuracy: 0.9001 - val_loss: 0.3307 - val_accuracy: 0.8863\n",
            "Epoch 16/20\n",
            "1125/1125 [==============================] - 2s 2ms/step - loss: 0.2659 - accuracy: 0.9011 - val_loss: 0.3220 - val_accuracy: 0.8855\n",
            "Epoch 17/20\n",
            "1125/1125 [==============================] - 2s 2ms/step - loss: 0.2603 - accuracy: 0.9042 - val_loss: 0.3244 - val_accuracy: 0.8842\n",
            "Epoch 18/20\n",
            "1125/1125 [==============================] - 2s 2ms/step - loss: 0.2560 - accuracy: 0.9054 - val_loss: 0.3219 - val_accuracy: 0.8825\n",
            "Epoch 19/20\n",
            "1125/1125 [==============================] - 2s 2ms/step - loss: 0.2501 - accuracy: 0.9058 - val_loss: 0.3305 - val_accuracy: 0.8787\n",
            "Epoch 20/20\n",
            "1125/1125 [==============================] - 2s 2ms/step - loss: 0.2440 - accuracy: 0.9084 - val_loss: 0.3504 - val_accuracy: 0.8778\n",
            "563/563 [==============================] - 1s 1ms/step\n",
            "[CV] END .......activation_function=tanh, optimizer__lr=0.05; total time= 1.4min\n",
            "Epoch 1/20\n"
          ]
        },
        {
          "output_type": "stream",
          "name": "stderr",
          "text": [
            "/usr/local/lib/python3.7/dist-packages/keras/optimizer_v2/gradient_descent.py:102: UserWarning: The `lr` argument is deprecated, use `learning_rate` instead.\n",
            "  super(SGD, self).__init__(name, **kwargs)\n"
          ]
        },
        {
          "output_type": "stream",
          "name": "stdout",
          "text": [
            "1125/1125 [==============================] - 3s 2ms/step - loss: 0.6070 - accuracy: 0.7895 - val_loss: 0.4527 - val_accuracy: 0.8380\n",
            "Epoch 2/20\n",
            "1125/1125 [==============================] - 2s 2ms/step - loss: 0.4369 - accuracy: 0.8437 - val_loss: 0.4048 - val_accuracy: 0.8558\n",
            "Epoch 3/20\n",
            "1125/1125 [==============================] - 2s 2ms/step - loss: 0.3997 - accuracy: 0.8559 - val_loss: 0.3957 - val_accuracy: 0.8572\n",
            "Epoch 4/20\n",
            "1125/1125 [==============================] - 2s 2ms/step - loss: 0.3751 - accuracy: 0.8650 - val_loss: 0.4161 - val_accuracy: 0.8428\n",
            "Epoch 5/20\n",
            "1125/1125 [==============================] - 2s 2ms/step - loss: 0.3602 - accuracy: 0.8684 - val_loss: 0.3679 - val_accuracy: 0.8693\n",
            "Epoch 6/20\n",
            "1125/1125 [==============================] - 2s 2ms/step - loss: 0.3438 - accuracy: 0.8738 - val_loss: 0.4049 - val_accuracy: 0.8543\n",
            "Epoch 7/20\n",
            "1125/1125 [==============================] - 2s 2ms/step - loss: 0.3314 - accuracy: 0.8784 - val_loss: 0.3631 - val_accuracy: 0.8653\n",
            "Epoch 8/20\n",
            "1125/1125 [==============================] - 2s 2ms/step - loss: 0.3203 - accuracy: 0.8837 - val_loss: 0.3616 - val_accuracy: 0.8660\n",
            "Epoch 9/20\n",
            "1125/1125 [==============================] - 2s 2ms/step - loss: 0.3113 - accuracy: 0.8856 - val_loss: 0.3349 - val_accuracy: 0.8788\n",
            "Epoch 10/20\n",
            "1125/1125 [==============================] - 2s 2ms/step - loss: 0.3026 - accuracy: 0.8890 - val_loss: 0.3462 - val_accuracy: 0.8737\n",
            "Epoch 11/20\n",
            "1125/1125 [==============================] - 2s 2ms/step - loss: 0.2953 - accuracy: 0.8914 - val_loss: 0.3595 - val_accuracy: 0.8677\n",
            "Epoch 12/20\n",
            "1125/1125 [==============================] - 2s 2ms/step - loss: 0.2889 - accuracy: 0.8936 - val_loss: 0.3381 - val_accuracy: 0.8728\n",
            "Epoch 13/20\n",
            "1125/1125 [==============================] - 2s 2ms/step - loss: 0.2799 - accuracy: 0.8965 - val_loss: 0.3595 - val_accuracy: 0.8680\n",
            "Epoch 14/20\n",
            "1125/1125 [==============================] - 2s 2ms/step - loss: 0.2762 - accuracy: 0.8971 - val_loss: 0.3324 - val_accuracy: 0.8750\n",
            "Epoch 15/20\n",
            "1125/1125 [==============================] - 2s 2ms/step - loss: 0.2697 - accuracy: 0.8996 - val_loss: 0.3398 - val_accuracy: 0.8790\n",
            "Epoch 16/20\n",
            "1125/1125 [==============================] - 2s 2ms/step - loss: 0.2627 - accuracy: 0.9031 - val_loss: 0.3437 - val_accuracy: 0.8778\n",
            "Epoch 17/20\n",
            "1125/1125 [==============================] - 2s 2ms/step - loss: 0.2564 - accuracy: 0.9049 - val_loss: 0.3309 - val_accuracy: 0.8823\n",
            "Epoch 18/20\n",
            "1125/1125 [==============================] - 2s 2ms/step - loss: 0.2532 - accuracy: 0.9068 - val_loss: 0.3266 - val_accuracy: 0.8877\n",
            "Epoch 19/20\n",
            "1125/1125 [==============================] - 2s 2ms/step - loss: 0.2489 - accuracy: 0.9075 - val_loss: 0.3360 - val_accuracy: 0.8790\n",
            "Epoch 20/20\n",
            "1125/1125 [==============================] - 2s 2ms/step - loss: 0.2426 - accuracy: 0.9106 - val_loss: 0.3300 - val_accuracy: 0.8845\n",
            "563/563 [==============================] - 1s 1ms/step\n",
            "[CV] END .......activation_function=tanh, optimizer__lr=0.05; total time= 1.4min\n",
            "Epoch 1/20\n"
          ]
        },
        {
          "output_type": "stream",
          "name": "stderr",
          "text": [
            "/usr/local/lib/python3.7/dist-packages/keras/optimizer_v2/gradient_descent.py:102: UserWarning: The `lr` argument is deprecated, use `learning_rate` instead.\n",
            "  super(SGD, self).__init__(name, **kwargs)\n"
          ]
        },
        {
          "output_type": "stream",
          "name": "stdout",
          "text": [
            "1125/1125 [==============================] - 3s 2ms/step - loss: 0.6358 - accuracy: 0.7753 - val_loss: 0.5138 - val_accuracy: 0.8147\n",
            "Epoch 2/20\n",
            "1125/1125 [==============================] - 2s 2ms/step - loss: 0.5064 - accuracy: 0.8229 - val_loss: 0.4948 - val_accuracy: 0.8177\n",
            "Epoch 3/20\n",
            "1125/1125 [==============================] - 2s 2ms/step - loss: 0.4782 - accuracy: 0.8334 - val_loss: 0.4700 - val_accuracy: 0.8328\n",
            "Epoch 4/20\n",
            "1125/1125 [==============================] - 2s 2ms/step - loss: 0.4627 - accuracy: 0.8376 - val_loss: 0.4708 - val_accuracy: 0.8395\n",
            "Epoch 5/20\n",
            "1125/1125 [==============================] - 2s 2ms/step - loss: 0.4556 - accuracy: 0.8397 - val_loss: 0.4547 - val_accuracy: 0.8353\n",
            "Epoch 6/20\n",
            "1125/1125 [==============================] - 2s 2ms/step - loss: 0.4479 - accuracy: 0.8431 - val_loss: 0.4483 - val_accuracy: 0.8400\n",
            "Epoch 7/20\n",
            "1125/1125 [==============================] - 2s 2ms/step - loss: 0.4428 - accuracy: 0.8448 - val_loss: 0.4760 - val_accuracy: 0.8280\n",
            "Epoch 8/20\n",
            "1125/1125 [==============================] - 2s 2ms/step - loss: 0.4356 - accuracy: 0.8484 - val_loss: 0.4354 - val_accuracy: 0.8455\n",
            "Epoch 9/20\n",
            "1125/1125 [==============================] - 2s 2ms/step - loss: 0.4336 - accuracy: 0.8490 - val_loss: 0.4508 - val_accuracy: 0.8443\n",
            "Epoch 10/20\n",
            "1125/1125 [==============================] - 2s 2ms/step - loss: 0.4307 - accuracy: 0.8495 - val_loss: 0.4395 - val_accuracy: 0.8468\n",
            "Epoch 11/20\n",
            "1125/1125 [==============================] - 2s 2ms/step - loss: 0.4254 - accuracy: 0.8501 - val_loss: 0.4662 - val_accuracy: 0.8348\n",
            "Epoch 12/20\n",
            "1125/1125 [==============================] - 2s 2ms/step - loss: 0.4257 - accuracy: 0.8516 - val_loss: 0.4470 - val_accuracy: 0.8440\n",
            "Epoch 13/20\n",
            "1125/1125 [==============================] - 2s 2ms/step - loss: 0.4208 - accuracy: 0.8525 - val_loss: 0.4603 - val_accuracy: 0.8398\n",
            "Epoch 14/20\n",
            "1125/1125 [==============================] - 2s 2ms/step - loss: 0.4199 - accuracy: 0.8526 - val_loss: 0.4349 - val_accuracy: 0.8473\n",
            "Epoch 15/20\n",
            "1125/1125 [==============================] - 2s 2ms/step - loss: 0.4175 - accuracy: 0.8519 - val_loss: 0.4683 - val_accuracy: 0.8402\n",
            "Epoch 16/20\n",
            "1125/1125 [==============================] - 2s 2ms/step - loss: 0.4148 - accuracy: 0.8564 - val_loss: 0.4537 - val_accuracy: 0.8352\n",
            "Epoch 17/20\n",
            "1125/1125 [==============================] - 2s 2ms/step - loss: 0.4138 - accuracy: 0.8543 - val_loss: 0.4555 - val_accuracy: 0.8420\n",
            "Epoch 18/20\n",
            "1125/1125 [==============================] - 2s 2ms/step - loss: 0.4117 - accuracy: 0.8556 - val_loss: 0.4531 - val_accuracy: 0.8320\n",
            "Epoch 19/20\n",
            "1125/1125 [==============================] - 2s 2ms/step - loss: 0.4125 - accuracy: 0.8551 - val_loss: 0.4370 - val_accuracy: 0.8462\n",
            "Epoch 20/20\n",
            "1125/1125 [==============================] - 2s 2ms/step - loss: 0.4111 - accuracy: 0.8562 - val_loss: 0.4403 - val_accuracy: 0.8467\n",
            "563/563 [==============================] - 1s 1ms/step\n",
            "[CV] END ........activation_function=None, optimizer__lr=0.1; total time= 1.4min\n",
            "Epoch 1/20\n"
          ]
        },
        {
          "output_type": "stream",
          "name": "stderr",
          "text": [
            "/usr/local/lib/python3.7/dist-packages/keras/optimizer_v2/gradient_descent.py:102: UserWarning: The `lr` argument is deprecated, use `learning_rate` instead.\n",
            "  super(SGD, self).__init__(name, **kwargs)\n"
          ]
        },
        {
          "output_type": "stream",
          "name": "stdout",
          "text": [
            "1125/1125 [==============================] - 3s 2ms/step - loss: 0.7005 - accuracy: 0.7667 - val_loss: 0.5091 - val_accuracy: 0.8218\n",
            "Epoch 2/20\n",
            "1125/1125 [==============================] - 2s 2ms/step - loss: 0.5095 - accuracy: 0.8196 - val_loss: 0.4640 - val_accuracy: 0.8362\n",
            "Epoch 3/20\n",
            "1125/1125 [==============================] - 2s 2ms/step - loss: 0.4843 - accuracy: 0.8295 - val_loss: 0.4583 - val_accuracy: 0.8402\n",
            "Epoch 4/20\n",
            "1125/1125 [==============================] - 2s 2ms/step - loss: 0.4666 - accuracy: 0.8377 - val_loss: 0.4948 - val_accuracy: 0.8218\n",
            "Epoch 5/20\n",
            "1125/1125 [==============================] - 2s 2ms/step - loss: 0.4574 - accuracy: 0.8374 - val_loss: 0.4626 - val_accuracy: 0.8398\n",
            "Epoch 6/20\n",
            "1125/1125 [==============================] - 2s 2ms/step - loss: 0.4510 - accuracy: 0.8403 - val_loss: 0.4652 - val_accuracy: 0.8447\n",
            "Epoch 7/20\n",
            "1125/1125 [==============================] - 2s 2ms/step - loss: 0.4429 - accuracy: 0.8425 - val_loss: 0.4270 - val_accuracy: 0.8457\n",
            "Epoch 8/20\n",
            "1125/1125 [==============================] - 2s 2ms/step - loss: 0.4380 - accuracy: 0.8467 - val_loss: 0.4486 - val_accuracy: 0.8448\n",
            "Epoch 9/20\n",
            "1125/1125 [==============================] - 2s 2ms/step - loss: 0.4336 - accuracy: 0.8485 - val_loss: 0.4545 - val_accuracy: 0.8410\n",
            "Epoch 10/20\n",
            "1125/1125 [==============================] - 2s 2ms/step - loss: 0.4309 - accuracy: 0.8472 - val_loss: 0.4385 - val_accuracy: 0.8448\n",
            "Epoch 11/20\n",
            "1125/1125 [==============================] - 2s 2ms/step - loss: 0.4301 - accuracy: 0.8489 - val_loss: 0.4650 - val_accuracy: 0.8423\n",
            "Epoch 12/20\n",
            "1125/1125 [==============================] - 2s 2ms/step - loss: 0.4247 - accuracy: 0.8496 - val_loss: 0.4788 - val_accuracy: 0.8368\n",
            "Epoch 13/20\n",
            "1125/1125 [==============================] - 2s 2ms/step - loss: 0.4231 - accuracy: 0.8512 - val_loss: 0.4360 - val_accuracy: 0.8408\n",
            "Epoch 14/20\n",
            "1125/1125 [==============================] - 2s 2ms/step - loss: 0.4206 - accuracy: 0.8516 - val_loss: 0.4386 - val_accuracy: 0.8527\n",
            "Epoch 15/20\n",
            "1125/1125 [==============================] - 2s 2ms/step - loss: 0.4195 - accuracy: 0.8524 - val_loss: 0.4584 - val_accuracy: 0.8385\n",
            "Epoch 16/20\n",
            "1125/1125 [==============================] - 2s 2ms/step - loss: 0.4156 - accuracy: 0.8527 - val_loss: 0.4469 - val_accuracy: 0.8462\n",
            "Epoch 17/20\n",
            "1125/1125 [==============================] - 2s 2ms/step - loss: 0.4155 - accuracy: 0.8534 - val_loss: 0.4431 - val_accuracy: 0.8492\n",
            "Epoch 18/20\n",
            "1125/1125 [==============================] - 2s 2ms/step - loss: 0.4130 - accuracy: 0.8534 - val_loss: 0.4458 - val_accuracy: 0.8420\n",
            "Epoch 19/20\n",
            "1125/1125 [==============================] - 2s 2ms/step - loss: 0.4126 - accuracy: 0.8548 - val_loss: 0.4481 - val_accuracy: 0.8390\n",
            "Epoch 20/20\n",
            "1125/1125 [==============================] - 2s 2ms/step - loss: 0.4104 - accuracy: 0.8559 - val_loss: 0.4473 - val_accuracy: 0.8470\n",
            "563/563 [==============================] - 1s 1ms/step\n",
            "[CV] END ........activation_function=None, optimizer__lr=0.1; total time= 1.4min\n",
            "Epoch 1/20\n"
          ]
        },
        {
          "output_type": "stream",
          "name": "stderr",
          "text": [
            "/usr/local/lib/python3.7/dist-packages/keras/optimizer_v2/gradient_descent.py:102: UserWarning: The `lr` argument is deprecated, use `learning_rate` instead.\n",
            "  super(SGD, self).__init__(name, **kwargs)\n"
          ]
        },
        {
          "output_type": "stream",
          "name": "stdout",
          "text": [
            "1125/1125 [==============================] - 3s 2ms/step - loss: 0.6740 - accuracy: 0.7719 - val_loss: 0.5127 - val_accuracy: 0.8207\n",
            "Epoch 2/20\n",
            "1125/1125 [==============================] - 2s 2ms/step - loss: 0.5026 - accuracy: 0.8224 - val_loss: 0.4706 - val_accuracy: 0.8365\n",
            "Epoch 3/20\n",
            "1125/1125 [==============================] - 2s 2ms/step - loss: 0.4755 - accuracy: 0.8317 - val_loss: 0.4685 - val_accuracy: 0.8340\n",
            "Epoch 4/20\n",
            "1125/1125 [==============================] - 2s 2ms/step - loss: 0.4601 - accuracy: 0.8391 - val_loss: 0.4915 - val_accuracy: 0.8220\n",
            "Epoch 5/20\n",
            "1125/1125 [==============================] - 2s 2ms/step - loss: 0.4498 - accuracy: 0.8427 - val_loss: 0.4496 - val_accuracy: 0.8465\n",
            "Epoch 6/20\n",
            "1125/1125 [==============================] - 2s 2ms/step - loss: 0.4427 - accuracy: 0.8444 - val_loss: 0.4876 - val_accuracy: 0.8320\n",
            "Epoch 7/20\n",
            "1125/1125 [==============================] - 2s 2ms/step - loss: 0.4351 - accuracy: 0.8457 - val_loss: 0.4423 - val_accuracy: 0.8473\n",
            "Epoch 8/20\n",
            "1125/1125 [==============================] - 2s 2ms/step - loss: 0.4299 - accuracy: 0.8486 - val_loss: 0.4991 - val_accuracy: 0.8215\n",
            "Epoch 9/20\n",
            "1125/1125 [==============================] - 2s 2ms/step - loss: 0.4263 - accuracy: 0.8503 - val_loss: 0.4490 - val_accuracy: 0.8432\n",
            "Epoch 10/20\n",
            "1125/1125 [==============================] - 2s 2ms/step - loss: 0.4229 - accuracy: 0.8493 - val_loss: 0.4497 - val_accuracy: 0.8425\n",
            "Epoch 11/20\n",
            "1125/1125 [==============================] - 2s 2ms/step - loss: 0.4213 - accuracy: 0.8518 - val_loss: 0.4867 - val_accuracy: 0.8357\n",
            "Epoch 12/20\n",
            "1125/1125 [==============================] - 2s 2ms/step - loss: 0.4187 - accuracy: 0.8517 - val_loss: 0.4746 - val_accuracy: 0.8347\n",
            "Epoch 13/20\n",
            "1125/1125 [==============================] - 2s 2ms/step - loss: 0.4167 - accuracy: 0.8544 - val_loss: 0.4621 - val_accuracy: 0.8375\n",
            "Epoch 14/20\n",
            "1125/1125 [==============================] - 2s 2ms/step - loss: 0.4128 - accuracy: 0.8539 - val_loss: 0.4412 - val_accuracy: 0.8498\n",
            "Epoch 15/20\n",
            "1125/1125 [==============================] - 2s 2ms/step - loss: 0.4122 - accuracy: 0.8539 - val_loss: 0.4378 - val_accuracy: 0.8457\n",
            "Epoch 16/20\n",
            "1125/1125 [==============================] - 2s 2ms/step - loss: 0.4085 - accuracy: 0.8534 - val_loss: 0.4608 - val_accuracy: 0.8430\n",
            "Epoch 17/20\n",
            "1125/1125 [==============================] - 2s 2ms/step - loss: 0.4062 - accuracy: 0.8559 - val_loss: 0.4613 - val_accuracy: 0.8350\n",
            "Epoch 18/20\n",
            "1125/1125 [==============================] - 2s 2ms/step - loss: 0.4055 - accuracy: 0.8569 - val_loss: 0.4301 - val_accuracy: 0.8482\n",
            "Epoch 19/20\n",
            "1125/1125 [==============================] - 2s 2ms/step - loss: 0.4073 - accuracy: 0.8554 - val_loss: 0.4606 - val_accuracy: 0.8362\n",
            "Epoch 20/20\n",
            "1125/1125 [==============================] - 2s 2ms/step - loss: 0.4049 - accuracy: 0.8565 - val_loss: 0.4598 - val_accuracy: 0.8450\n",
            "563/563 [==============================] - 1s 1ms/step\n",
            "[CV] END ........activation_function=None, optimizer__lr=0.1; total time= 1.4min\n",
            "Epoch 1/20\n"
          ]
        },
        {
          "output_type": "stream",
          "name": "stderr",
          "text": [
            "/usr/local/lib/python3.7/dist-packages/keras/optimizer_v2/gradient_descent.py:102: UserWarning: The `lr` argument is deprecated, use `learning_rate` instead.\n",
            "  super(SGD, self).__init__(name, **kwargs)\n"
          ]
        },
        {
          "output_type": "stream",
          "name": "stdout",
          "text": [
            "1125/1125 [==============================] - 2s 2ms/step - loss: 0.7647 - accuracy: 0.7426 - val_loss: 0.5626 - val_accuracy: 0.8102\n",
            "Epoch 2/20\n",
            "1125/1125 [==============================] - 2s 2ms/step - loss: 0.5323 - accuracy: 0.8175 - val_loss: 0.5032 - val_accuracy: 0.8193\n",
            "Epoch 3/20\n",
            "1125/1125 [==============================] - 2s 2ms/step - loss: 0.4906 - accuracy: 0.8297 - val_loss: 0.4725 - val_accuracy: 0.8340\n",
            "Epoch 4/20\n",
            "1125/1125 [==============================] - 2s 2ms/step - loss: 0.4688 - accuracy: 0.8370 - val_loss: 0.4672 - val_accuracy: 0.8375\n",
            "Epoch 5/20\n",
            "1125/1125 [==============================] - 2s 2ms/step - loss: 0.4567 - accuracy: 0.8423 - val_loss: 0.4592 - val_accuracy: 0.8393\n",
            "Epoch 6/20\n",
            "1125/1125 [==============================] - 2s 2ms/step - loss: 0.4464 - accuracy: 0.8454 - val_loss: 0.4447 - val_accuracy: 0.8442\n",
            "Epoch 7/20\n",
            "1125/1125 [==============================] - 2s 2ms/step - loss: 0.4395 - accuracy: 0.8463 - val_loss: 0.4408 - val_accuracy: 0.8427\n",
            "Epoch 8/20\n",
            "1125/1125 [==============================] - 2s 2ms/step - loss: 0.4321 - accuracy: 0.8513 - val_loss: 0.4403 - val_accuracy: 0.8432\n",
            "Epoch 9/20\n",
            "1125/1125 [==============================] - 2s 2ms/step - loss: 0.4273 - accuracy: 0.8537 - val_loss: 0.4300 - val_accuracy: 0.8507\n",
            "Epoch 10/20\n",
            "1125/1125 [==============================] - 2s 2ms/step - loss: 0.4241 - accuracy: 0.8537 - val_loss: 0.4279 - val_accuracy: 0.8518\n",
            "Epoch 11/20\n",
            "1125/1125 [==============================] - 2s 2ms/step - loss: 0.4189 - accuracy: 0.8544 - val_loss: 0.4565 - val_accuracy: 0.8345\n",
            "Epoch 12/20\n",
            "1125/1125 [==============================] - 2s 2ms/step - loss: 0.4166 - accuracy: 0.8553 - val_loss: 0.4402 - val_accuracy: 0.8415\n",
            "Epoch 13/20\n",
            "1125/1125 [==============================] - 2s 2ms/step - loss: 0.4125 - accuracy: 0.8579 - val_loss: 0.4352 - val_accuracy: 0.8477\n",
            "Epoch 14/20\n",
            "1125/1125 [==============================] - 2s 2ms/step - loss: 0.4108 - accuracy: 0.8571 - val_loss: 0.4202 - val_accuracy: 0.8547\n",
            "Epoch 15/20\n",
            "1125/1125 [==============================] - 2s 2ms/step - loss: 0.4063 - accuracy: 0.8598 - val_loss: 0.4460 - val_accuracy: 0.8457\n",
            "Epoch 16/20\n",
            "1125/1125 [==============================] - 2s 2ms/step - loss: 0.4051 - accuracy: 0.8586 - val_loss: 0.4353 - val_accuracy: 0.8465\n",
            "Epoch 17/20\n",
            "1125/1125 [==============================] - 2s 2ms/step - loss: 0.4034 - accuracy: 0.8612 - val_loss: 0.4279 - val_accuracy: 0.8503\n",
            "Epoch 18/20\n",
            "1125/1125 [==============================] - 2s 2ms/step - loss: 0.4011 - accuracy: 0.8603 - val_loss: 0.4337 - val_accuracy: 0.8467\n",
            "Epoch 19/20\n",
            "1125/1125 [==============================] - 2s 2ms/step - loss: 0.3999 - accuracy: 0.8606 - val_loss: 0.4241 - val_accuracy: 0.8523\n",
            "Epoch 20/20\n",
            "1125/1125 [==============================] - 2s 2ms/step - loss: 0.3991 - accuracy: 0.8611 - val_loss: 0.4239 - val_accuracy: 0.8535\n",
            "563/563 [==============================] - 1s 1ms/step\n",
            "[CV] END .......activation_function=None, optimizer__lr=0.01; total time=  43.7s\n",
            "Epoch 1/20\n"
          ]
        },
        {
          "output_type": "stream",
          "name": "stderr",
          "text": [
            "/usr/local/lib/python3.7/dist-packages/keras/optimizer_v2/gradient_descent.py:102: UserWarning: The `lr` argument is deprecated, use `learning_rate` instead.\n",
            "  super(SGD, self).__init__(name, **kwargs)\n"
          ]
        },
        {
          "output_type": "stream",
          "name": "stdout",
          "text": [
            "1125/1125 [==============================] - 3s 2ms/step - loss: 0.7667 - accuracy: 0.7391 - val_loss: 0.5645 - val_accuracy: 0.8053\n",
            "Epoch 2/20\n",
            "1125/1125 [==============================] - 2s 2ms/step - loss: 0.5354 - accuracy: 0.8137 - val_loss: 0.5019 - val_accuracy: 0.8255\n",
            "Epoch 3/20\n",
            "1125/1125 [==============================] - 2s 2ms/step - loss: 0.4916 - accuracy: 0.8279 - val_loss: 0.4701 - val_accuracy: 0.8387\n",
            "Epoch 4/20\n",
            "1125/1125 [==============================] - 2s 2ms/step - loss: 0.4688 - accuracy: 0.8382 - val_loss: 0.5004 - val_accuracy: 0.8183\n",
            "Epoch 5/20\n",
            "1125/1125 [==============================] - 2s 2ms/step - loss: 0.4553 - accuracy: 0.8401 - val_loss: 0.4472 - val_accuracy: 0.8452\n",
            "Epoch 6/20\n",
            "1125/1125 [==============================] - 2s 2ms/step - loss: 0.4446 - accuracy: 0.8462 - val_loss: 0.4448 - val_accuracy: 0.8443\n",
            "Epoch 7/20\n",
            "1125/1125 [==============================] - 2s 2ms/step - loss: 0.4365 - accuracy: 0.8482 - val_loss: 0.4378 - val_accuracy: 0.8427\n",
            "Epoch 8/20\n",
            "1125/1125 [==============================] - 2s 2ms/step - loss: 0.4308 - accuracy: 0.8500 - val_loss: 0.4373 - val_accuracy: 0.8428\n",
            "Epoch 9/20\n",
            "1125/1125 [==============================] - 2s 2ms/step - loss: 0.4249 - accuracy: 0.8543 - val_loss: 0.4356 - val_accuracy: 0.8488\n",
            "Epoch 10/20\n",
            "1125/1125 [==============================] - 2s 2ms/step - loss: 0.4204 - accuracy: 0.8547 - val_loss: 0.4299 - val_accuracy: 0.8487\n",
            "Epoch 11/20\n",
            "1125/1125 [==============================] - 2s 2ms/step - loss: 0.4180 - accuracy: 0.8549 - val_loss: 0.4417 - val_accuracy: 0.8455\n",
            "Epoch 12/20\n",
            "1125/1125 [==============================] - 2s 2ms/step - loss: 0.4138 - accuracy: 0.8561 - val_loss: 0.4355 - val_accuracy: 0.8450\n",
            "Epoch 13/20\n",
            "1125/1125 [==============================] - 2s 2ms/step - loss: 0.4102 - accuracy: 0.8567 - val_loss: 0.4309 - val_accuracy: 0.8475\n",
            "Epoch 14/20\n",
            "1125/1125 [==============================] - 2s 2ms/step - loss: 0.4076 - accuracy: 0.8559 - val_loss: 0.4267 - val_accuracy: 0.8533\n",
            "Epoch 15/20\n",
            "1125/1125 [==============================] - 2s 2ms/step - loss: 0.4056 - accuracy: 0.8580 - val_loss: 0.4298 - val_accuracy: 0.8505\n",
            "Epoch 16/20\n",
            "1125/1125 [==============================] - 2s 2ms/step - loss: 0.4025 - accuracy: 0.8583 - val_loss: 0.4230 - val_accuracy: 0.8542\n",
            "Epoch 17/20\n",
            "1125/1125 [==============================] - 2s 2ms/step - loss: 0.4008 - accuracy: 0.8602 - val_loss: 0.4280 - val_accuracy: 0.8495\n",
            "Epoch 18/20\n",
            "1125/1125 [==============================] - 2s 2ms/step - loss: 0.3987 - accuracy: 0.8598 - val_loss: 0.4234 - val_accuracy: 0.8520\n",
            "Epoch 19/20\n",
            "1125/1125 [==============================] - 2s 2ms/step - loss: 0.3976 - accuracy: 0.8609 - val_loss: 0.4294 - val_accuracy: 0.8448\n",
            "Epoch 20/20\n",
            "1125/1125 [==============================] - 2s 2ms/step - loss: 0.3949 - accuracy: 0.8620 - val_loss: 0.4347 - val_accuracy: 0.8465\n",
            "563/563 [==============================] - 1s 1ms/step\n",
            "[CV] END .......activation_function=None, optimizer__lr=0.01; total time=  44.4s\n",
            "Epoch 1/20\n"
          ]
        },
        {
          "output_type": "stream",
          "name": "stderr",
          "text": [
            "/usr/local/lib/python3.7/dist-packages/keras/optimizer_v2/gradient_descent.py:102: UserWarning: The `lr` argument is deprecated, use `learning_rate` instead.\n",
            "  super(SGD, self).__init__(name, **kwargs)\n"
          ]
        },
        {
          "output_type": "stream",
          "name": "stdout",
          "text": [
            "1125/1125 [==============================] - 3s 2ms/step - loss: 0.7420 - accuracy: 0.7478 - val_loss: 0.5537 - val_accuracy: 0.8138\n",
            "Epoch 2/20\n",
            "1125/1125 [==============================] - 2s 2ms/step - loss: 0.5271 - accuracy: 0.8171 - val_loss: 0.4943 - val_accuracy: 0.8282\n",
            "Epoch 3/20\n",
            "1125/1125 [==============================] - 2s 2ms/step - loss: 0.4869 - accuracy: 0.8299 - val_loss: 0.4895 - val_accuracy: 0.8277\n",
            "Epoch 4/20\n",
            "1125/1125 [==============================] - 2s 2ms/step - loss: 0.4657 - accuracy: 0.8378 - val_loss: 0.4858 - val_accuracy: 0.8258\n",
            "Epoch 5/20\n",
            "1125/1125 [==============================] - 2s 2ms/step - loss: 0.4524 - accuracy: 0.8407 - val_loss: 0.4477 - val_accuracy: 0.8462\n",
            "Epoch 6/20\n",
            "1125/1125 [==============================] - 2s 2ms/step - loss: 0.4429 - accuracy: 0.8453 - val_loss: 0.4633 - val_accuracy: 0.8360\n",
            "Epoch 7/20\n",
            "1125/1125 [==============================] - 2s 2ms/step - loss: 0.4343 - accuracy: 0.8487 - val_loss: 0.4429 - val_accuracy: 0.8415\n",
            "Epoch 8/20\n",
            "1125/1125 [==============================] - 2s 2ms/step - loss: 0.4273 - accuracy: 0.8508 - val_loss: 0.4564 - val_accuracy: 0.8360\n",
            "Epoch 9/20\n",
            "1125/1125 [==============================] - 2s 2ms/step - loss: 0.4220 - accuracy: 0.8524 - val_loss: 0.4372 - val_accuracy: 0.8493\n",
            "Epoch 10/20\n",
            "1125/1125 [==============================] - 2s 2ms/step - loss: 0.4168 - accuracy: 0.8541 - val_loss: 0.4351 - val_accuracy: 0.8467\n",
            "Epoch 11/20\n",
            "1125/1125 [==============================] - 2s 2ms/step - loss: 0.4140 - accuracy: 0.8562 - val_loss: 0.4446 - val_accuracy: 0.8417\n",
            "Epoch 12/20\n",
            "1125/1125 [==============================] - 2s 2ms/step - loss: 0.4099 - accuracy: 0.8581 - val_loss: 0.4424 - val_accuracy: 0.8423\n",
            "Epoch 13/20\n",
            "1125/1125 [==============================] - 2s 2ms/step - loss: 0.4065 - accuracy: 0.8584 - val_loss: 0.4511 - val_accuracy: 0.8368\n",
            "Epoch 14/20\n",
            "1125/1125 [==============================] - 2s 2ms/step - loss: 0.4038 - accuracy: 0.8591 - val_loss: 0.4241 - val_accuracy: 0.8515\n",
            "Epoch 15/20\n",
            "1125/1125 [==============================] - 2s 2ms/step - loss: 0.4017 - accuracy: 0.8584 - val_loss: 0.4294 - val_accuracy: 0.8482\n",
            "Epoch 16/20\n",
            "1125/1125 [==============================] - 2s 2ms/step - loss: 0.3985 - accuracy: 0.8596 - val_loss: 0.4321 - val_accuracy: 0.8488\n",
            "Epoch 17/20\n",
            "1125/1125 [==============================] - 2s 2ms/step - loss: 0.3957 - accuracy: 0.8601 - val_loss: 0.4397 - val_accuracy: 0.8408\n",
            "Epoch 18/20\n",
            "1125/1125 [==============================] - 2s 2ms/step - loss: 0.3936 - accuracy: 0.8618 - val_loss: 0.4198 - val_accuracy: 0.8537\n",
            "Epoch 19/20\n",
            "1125/1125 [==============================] - 2s 2ms/step - loss: 0.3932 - accuracy: 0.8631 - val_loss: 0.4409 - val_accuracy: 0.8410\n",
            "Epoch 20/20\n",
            "1125/1125 [==============================] - 2s 2ms/step - loss: 0.3910 - accuracy: 0.8639 - val_loss: 0.4239 - val_accuracy: 0.8508\n",
            "563/563 [==============================] - 1s 1ms/step\n",
            "[CV] END .......activation_function=None, optimizer__lr=0.01; total time= 1.4min\n",
            "Epoch 1/20\n"
          ]
        },
        {
          "output_type": "stream",
          "name": "stderr",
          "text": [
            "/usr/local/lib/python3.7/dist-packages/keras/optimizer_v2/gradient_descent.py:102: UserWarning: The `lr` argument is deprecated, use `learning_rate` instead.\n",
            "  super(SGD, self).__init__(name, **kwargs)\n"
          ]
        },
        {
          "output_type": "stream",
          "name": "stdout",
          "text": [
            "1125/1125 [==============================] - 2s 2ms/step - loss: 0.6184 - accuracy: 0.7797 - val_loss: 0.5034 - val_accuracy: 0.8197\n",
            "Epoch 2/20\n",
            "1125/1125 [==============================] - 2s 2ms/step - loss: 0.4932 - accuracy: 0.8277 - val_loss: 0.4851 - val_accuracy: 0.8218\n",
            "Epoch 3/20\n",
            "1125/1125 [==============================] - 2s 2ms/step - loss: 0.4668 - accuracy: 0.8378 - val_loss: 0.4564 - val_accuracy: 0.8390\n",
            "Epoch 4/20\n",
            "1125/1125 [==============================] - 2s 2ms/step - loss: 0.4502 - accuracy: 0.8431 - val_loss: 0.4601 - val_accuracy: 0.8412\n",
            "Epoch 5/20\n",
            "1125/1125 [==============================] - 2s 2ms/step - loss: 0.4435 - accuracy: 0.8436 - val_loss: 0.4431 - val_accuracy: 0.8427\n",
            "Epoch 6/20\n",
            "1125/1125 [==============================] - 2s 2ms/step - loss: 0.4346 - accuracy: 0.8478 - val_loss: 0.4372 - val_accuracy: 0.8452\n",
            "Epoch 7/20\n",
            "1125/1125 [==============================] - 2s 2ms/step - loss: 0.4289 - accuracy: 0.8496 - val_loss: 0.4546 - val_accuracy: 0.8355\n",
            "Epoch 8/20\n",
            "1125/1125 [==============================] - 3s 3ms/step - loss: 0.4225 - accuracy: 0.8540 - val_loss: 0.4286 - val_accuracy: 0.8480\n",
            "Epoch 9/20\n",
            "1125/1125 [==============================] - 2s 2ms/step - loss: 0.4197 - accuracy: 0.8539 - val_loss: 0.4345 - val_accuracy: 0.8477\n",
            "Epoch 10/20\n",
            "1125/1125 [==============================] - 2s 2ms/step - loss: 0.4167 - accuracy: 0.8546 - val_loss: 0.4274 - val_accuracy: 0.8497\n",
            "Epoch 11/20\n",
            "1125/1125 [==============================] - 2s 2ms/step - loss: 0.4115 - accuracy: 0.8544 - val_loss: 0.4595 - val_accuracy: 0.8378\n",
            "Epoch 12/20\n",
            "1125/1125 [==============================] - 2s 2ms/step - loss: 0.4108 - accuracy: 0.8568 - val_loss: 0.4405 - val_accuracy: 0.8457\n",
            "Epoch 13/20\n",
            "1125/1125 [==============================] - 2s 2ms/step - loss: 0.4067 - accuracy: 0.8574 - val_loss: 0.4437 - val_accuracy: 0.8435\n",
            "Epoch 14/20\n",
            "1125/1125 [==============================] - 2s 2ms/step - loss: 0.4053 - accuracy: 0.8574 - val_loss: 0.4262 - val_accuracy: 0.8517\n",
            "Epoch 15/20\n",
            "1125/1125 [==============================] - 2s 2ms/step - loss: 0.4027 - accuracy: 0.8584 - val_loss: 0.4576 - val_accuracy: 0.8443\n",
            "Epoch 16/20\n",
            "1125/1125 [==============================] - 2s 2ms/step - loss: 0.4002 - accuracy: 0.8599 - val_loss: 0.4402 - val_accuracy: 0.8445\n",
            "Epoch 17/20\n",
            "1125/1125 [==============================] - 2s 2ms/step - loss: 0.3983 - accuracy: 0.8604 - val_loss: 0.4401 - val_accuracy: 0.8480\n",
            "Epoch 18/20\n",
            "1125/1125 [==============================] - 2s 2ms/step - loss: 0.3972 - accuracy: 0.8603 - val_loss: 0.4347 - val_accuracy: 0.8458\n",
            "Epoch 19/20\n",
            "1125/1125 [==============================] - 2s 2ms/step - loss: 0.3967 - accuracy: 0.8614 - val_loss: 0.4286 - val_accuracy: 0.8508\n",
            "Epoch 20/20\n",
            "1125/1125 [==============================] - 2s 2ms/step - loss: 0.3959 - accuracy: 0.8616 - val_loss: 0.4304 - val_accuracy: 0.8497\n",
            "563/563 [==============================] - 1s 1ms/step\n",
            "[CV] END .......activation_function=None, optimizer__lr=0.05; total time=  45.0s\n",
            "Epoch 1/20\n"
          ]
        },
        {
          "output_type": "stream",
          "name": "stderr",
          "text": [
            "/usr/local/lib/python3.7/dist-packages/keras/optimizer_v2/gradient_descent.py:102: UserWarning: The `lr` argument is deprecated, use `learning_rate` instead.\n",
            "  super(SGD, self).__init__(name, **kwargs)\n"
          ]
        },
        {
          "output_type": "stream",
          "name": "stdout",
          "text": [
            "1125/1125 [==============================] - 3s 2ms/step - loss: 0.6328 - accuracy: 0.7761 - val_loss: 0.5026 - val_accuracy: 0.8228\n",
            "Epoch 2/20\n",
            "1125/1125 [==============================] - 2s 2ms/step - loss: 0.4969 - accuracy: 0.8253 - val_loss: 0.4616 - val_accuracy: 0.8372\n",
            "Epoch 3/20\n",
            "1125/1125 [==============================] - 2s 2ms/step - loss: 0.4720 - accuracy: 0.8333 - val_loss: 0.4493 - val_accuracy: 0.8423\n",
            "Epoch 4/20\n",
            "1125/1125 [==============================] - 2s 2ms/step - loss: 0.4541 - accuracy: 0.8422 - val_loss: 0.5005 - val_accuracy: 0.8203\n",
            "Epoch 5/20\n",
            "1125/1125 [==============================] - 2s 2ms/step - loss: 0.4448 - accuracy: 0.8429 - val_loss: 0.4526 - val_accuracy: 0.8412\n",
            "Epoch 6/20\n",
            "1125/1125 [==============================] - 2s 2ms/step - loss: 0.4372 - accuracy: 0.8458 - val_loss: 0.4515 - val_accuracy: 0.8452\n",
            "Epoch 7/20\n",
            "1125/1125 [==============================] - 2s 2ms/step - loss: 0.4299 - accuracy: 0.8479 - val_loss: 0.4261 - val_accuracy: 0.8502\n",
            "Epoch 8/20\n",
            "1125/1125 [==============================] - 2s 2ms/step - loss: 0.4242 - accuracy: 0.8508 - val_loss: 0.4336 - val_accuracy: 0.8480\n",
            "Epoch 9/20\n",
            "1125/1125 [==============================] - 2s 2ms/step - loss: 0.4199 - accuracy: 0.8530 - val_loss: 0.4427 - val_accuracy: 0.8450\n",
            "Epoch 10/20\n",
            "1125/1125 [==============================] - 2s 2ms/step - loss: 0.4165 - accuracy: 0.8526 - val_loss: 0.4306 - val_accuracy: 0.8473\n",
            "Epoch 11/20\n",
            "1125/1125 [==============================] - 2s 2ms/step - loss: 0.4153 - accuracy: 0.8549 - val_loss: 0.4559 - val_accuracy: 0.8463\n",
            "Epoch 12/20\n",
            "1125/1125 [==============================] - 2s 2ms/step - loss: 0.4105 - accuracy: 0.8560 - val_loss: 0.4543 - val_accuracy: 0.8403\n",
            "Epoch 13/20\n",
            "1125/1125 [==============================] - 2s 2ms/step - loss: 0.4079 - accuracy: 0.8556 - val_loss: 0.4311 - val_accuracy: 0.8452\n",
            "Epoch 14/20\n",
            "1125/1125 [==============================] - 2s 2ms/step - loss: 0.4058 - accuracy: 0.8559 - val_loss: 0.4326 - val_accuracy: 0.8543\n",
            "Epoch 15/20\n",
            "1125/1125 [==============================] - 2s 2ms/step - loss: 0.4039 - accuracy: 0.8581 - val_loss: 0.4391 - val_accuracy: 0.8463\n",
            "Epoch 16/20\n",
            "1125/1125 [==============================] - 2s 2ms/step - loss: 0.4003 - accuracy: 0.8579 - val_loss: 0.4343 - val_accuracy: 0.8507\n",
            "Epoch 17/20\n",
            "1125/1125 [==============================] - 2s 2ms/step - loss: 0.3992 - accuracy: 0.8587 - val_loss: 0.4408 - val_accuracy: 0.8473\n",
            "Epoch 18/20\n",
            "1125/1125 [==============================] - 2s 2ms/step - loss: 0.3972 - accuracy: 0.8592 - val_loss: 0.4301 - val_accuracy: 0.8497\n",
            "Epoch 19/20\n",
            "1125/1125 [==============================] - 2s 2ms/step - loss: 0.3969 - accuracy: 0.8599 - val_loss: 0.4423 - val_accuracy: 0.8402\n",
            "Epoch 20/20\n",
            "1125/1125 [==============================] - 2s 2ms/step - loss: 0.3944 - accuracy: 0.8609 - val_loss: 0.4392 - val_accuracy: 0.8480\n",
            "563/563 [==============================] - 1s 1ms/step\n",
            "[CV] END .......activation_function=None, optimizer__lr=0.05; total time=  44.6s\n",
            "Epoch 1/20\n"
          ]
        },
        {
          "output_type": "stream",
          "name": "stderr",
          "text": [
            "/usr/local/lib/python3.7/dist-packages/keras/optimizer_v2/gradient_descent.py:102: UserWarning: The `lr` argument is deprecated, use `learning_rate` instead.\n",
            "  super(SGD, self).__init__(name, **kwargs)\n"
          ]
        },
        {
          "output_type": "stream",
          "name": "stdout",
          "text": [
            "1125/1125 [==============================] - 3s 2ms/step - loss: 0.6140 - accuracy: 0.7827 - val_loss: 0.4893 - val_accuracy: 0.8290\n",
            "Epoch 2/20\n",
            "1125/1125 [==============================] - 2s 2ms/step - loss: 0.4888 - accuracy: 0.8281 - val_loss: 0.4568 - val_accuracy: 0.8410\n",
            "Epoch 3/20\n",
            "1125/1125 [==============================] - 2s 2ms/step - loss: 0.4634 - accuracy: 0.8366 - val_loss: 0.4638 - val_accuracy: 0.8345\n",
            "Epoch 4/20\n",
            "1125/1125 [==============================] - 2s 2ms/step - loss: 0.4473 - accuracy: 0.8439 - val_loss: 0.4756 - val_accuracy: 0.8285\n",
            "Epoch 5/20\n",
            "1125/1125 [==============================] - 2s 2ms/step - loss: 0.4378 - accuracy: 0.8451 - val_loss: 0.4386 - val_accuracy: 0.8493\n",
            "Epoch 6/20\n",
            "1125/1125 [==============================] - 2s 2ms/step - loss: 0.4294 - accuracy: 0.8498 - val_loss: 0.4724 - val_accuracy: 0.8323\n",
            "Epoch 7/20\n",
            "1125/1125 [==============================] - 2s 2ms/step - loss: 0.4218 - accuracy: 0.8504 - val_loss: 0.4372 - val_accuracy: 0.8470\n",
            "Epoch 8/20\n",
            "1125/1125 [==============================] - 2s 2ms/step - loss: 0.4162 - accuracy: 0.8528 - val_loss: 0.4791 - val_accuracy: 0.8283\n",
            "Epoch 9/20\n",
            "1125/1125 [==============================] - 2s 2ms/step - loss: 0.4124 - accuracy: 0.8560 - val_loss: 0.4340 - val_accuracy: 0.8482\n",
            "Epoch 10/20\n",
            "1125/1125 [==============================] - 2s 2ms/step - loss: 0.4088 - accuracy: 0.8544 - val_loss: 0.4374 - val_accuracy: 0.8438\n",
            "Epoch 11/20\n",
            "1125/1125 [==============================] - 2s 2ms/step - loss: 0.4071 - accuracy: 0.8579 - val_loss: 0.4643 - val_accuracy: 0.8408\n",
            "Epoch 12/20\n",
            "1125/1125 [==============================] - 2s 2ms/step - loss: 0.4034 - accuracy: 0.8582 - val_loss: 0.4587 - val_accuracy: 0.8370\n",
            "Epoch 13/20\n",
            "1125/1125 [==============================] - 2s 2ms/step - loss: 0.4014 - accuracy: 0.8593 - val_loss: 0.4573 - val_accuracy: 0.8372\n",
            "Epoch 14/20\n",
            "1125/1125 [==============================] - 2s 2ms/step - loss: 0.3983 - accuracy: 0.8591 - val_loss: 0.4271 - val_accuracy: 0.8517\n",
            "Epoch 15/20\n",
            "1125/1125 [==============================] - 2s 2ms/step - loss: 0.3974 - accuracy: 0.8586 - val_loss: 0.4286 - val_accuracy: 0.8482\n",
            "Epoch 16/20\n",
            "1125/1125 [==============================] - 2s 2ms/step - loss: 0.3937 - accuracy: 0.8593 - val_loss: 0.4432 - val_accuracy: 0.8507\n",
            "Epoch 17/20\n",
            "1125/1125 [==============================] - 2s 2ms/step - loss: 0.3913 - accuracy: 0.8611 - val_loss: 0.4466 - val_accuracy: 0.8388\n",
            "Epoch 18/20\n",
            "1125/1125 [==============================] - 2s 2ms/step - loss: 0.3904 - accuracy: 0.8611 - val_loss: 0.4245 - val_accuracy: 0.8508\n",
            "Epoch 19/20\n",
            "1125/1125 [==============================] - 2s 2ms/step - loss: 0.3908 - accuracy: 0.8616 - val_loss: 0.4472 - val_accuracy: 0.8387\n",
            "Epoch 20/20\n",
            "1125/1125 [==============================] - 2s 2ms/step - loss: 0.3889 - accuracy: 0.8621 - val_loss: 0.4357 - val_accuracy: 0.8467\n",
            "563/563 [==============================] - 1s 1ms/step\n",
            "[CV] END .......activation_function=None, optimizer__lr=0.05; total time=  45.0s\n",
            "Epoch 1/20\n"
          ]
        },
        {
          "output_type": "stream",
          "name": "stderr",
          "text": [
            "/usr/local/lib/python3.7/dist-packages/keras/optimizer_v2/gradient_descent.py:102: UserWarning: The `lr` argument is deprecated, use `learning_rate` instead.\n",
            "  super(SGD, self).__init__(name, **kwargs)\n"
          ]
        },
        {
          "output_type": "stream",
          "name": "stdout",
          "text": [
            "1688/1688 [==============================] - 3s 2ms/step - loss: 0.5568 - accuracy: 0.8012 - val_loss: 0.4344 - val_accuracy: 0.8447\n",
            "Epoch 2/20\n",
            "1688/1688 [==============================] - 3s 2ms/step - loss: 0.4175 - accuracy: 0.8480 - val_loss: 0.3953 - val_accuracy: 0.8578\n",
            "Epoch 3/20\n",
            "1688/1688 [==============================] - 3s 2ms/step - loss: 0.3810 - accuracy: 0.8610 - val_loss: 0.3693 - val_accuracy: 0.8678\n",
            "Epoch 4/20\n",
            "1688/1688 [==============================] - 3s 2ms/step - loss: 0.3569 - accuracy: 0.8701 - val_loss: 0.3682 - val_accuracy: 0.8647\n",
            "Epoch 5/20\n",
            "1688/1688 [==============================] - 3s 2ms/step - loss: 0.3413 - accuracy: 0.8759 - val_loss: 0.3582 - val_accuracy: 0.8732\n",
            "Epoch 6/20\n",
            "1688/1688 [==============================] - 3s 2ms/step - loss: 0.3272 - accuracy: 0.8808 - val_loss: 0.3755 - val_accuracy: 0.8630\n",
            "Epoch 7/20\n",
            "1688/1688 [==============================] - 3s 2ms/step - loss: 0.3154 - accuracy: 0.8842 - val_loss: 0.3329 - val_accuracy: 0.8787\n",
            "Epoch 8/20\n",
            "1688/1688 [==============================] - 3s 2ms/step - loss: 0.3051 - accuracy: 0.8879 - val_loss: 0.3366 - val_accuracy: 0.8758\n",
            "Epoch 9/20\n",
            "1688/1688 [==============================] - 3s 2ms/step - loss: 0.2968 - accuracy: 0.8896 - val_loss: 0.3601 - val_accuracy: 0.8657\n",
            "Epoch 10/20\n",
            "1688/1688 [==============================] - 3s 2ms/step - loss: 0.2879 - accuracy: 0.8934 - val_loss: 0.3337 - val_accuracy: 0.8827\n",
            "Epoch 11/20\n",
            "1688/1688 [==============================] - 3s 2ms/step - loss: 0.2823 - accuracy: 0.8951 - val_loss: 0.3323 - val_accuracy: 0.8817\n",
            "Epoch 12/20\n",
            "1688/1688 [==============================] - 3s 2ms/step - loss: 0.2764 - accuracy: 0.8988 - val_loss: 0.3145 - val_accuracy: 0.8850\n",
            "Epoch 13/20\n",
            "1688/1688 [==============================] - 3s 2ms/step - loss: 0.2690 - accuracy: 0.9009 - val_loss: 0.3217 - val_accuracy: 0.8807\n",
            "Epoch 14/20\n",
            "1688/1688 [==============================] - 3s 2ms/step - loss: 0.2640 - accuracy: 0.9028 - val_loss: 0.3480 - val_accuracy: 0.8773\n",
            "Epoch 15/20\n",
            "1688/1688 [==============================] - 3s 2ms/step - loss: 0.2589 - accuracy: 0.9047 - val_loss: 0.3138 - val_accuracy: 0.8850\n",
            "Epoch 16/20\n",
            "1688/1688 [==============================] - 3s 2ms/step - loss: 0.2532 - accuracy: 0.9060 - val_loss: 0.3374 - val_accuracy: 0.8747\n",
            "Epoch 17/20\n",
            "1688/1688 [==============================] - 3s 2ms/step - loss: 0.2493 - accuracy: 0.9072 - val_loss: 0.3191 - val_accuracy: 0.8862\n",
            "Epoch 18/20\n",
            "1688/1688 [==============================] - 3s 2ms/step - loss: 0.2441 - accuracy: 0.9096 - val_loss: 0.3221 - val_accuracy: 0.8845\n",
            "Epoch 19/20\n",
            "1688/1688 [==============================] - 3s 2ms/step - loss: 0.2408 - accuracy: 0.9106 - val_loss: 0.3325 - val_accuracy: 0.8853\n",
            "Epoch 20/20\n",
            "1688/1688 [==============================] - 3s 2ms/step - loss: 0.2364 - accuracy: 0.9133 - val_loss: 0.3056 - val_accuracy: 0.8873\n"
          ]
        },
        {
          "output_type": "execute_result",
          "data": {
            "text/plain": [
              "GridSearchCV(cv=3,\n",
              "             estimator=KerasClassifier(activation_function='relu', loss='sparse_categorical_crossentropy', metrics=['accuracy'], model=<function build_mlp at 0x7f518887e050>, n_hidden_layers=2, n_hidden_neurons=50, optimizer='sgd', optimizer__lr=0.01),\n",
              "             param_grid={'activation_function': ['tanh', None],\n",
              "                         'optimizer__lr': [0.1, 0.01, 0.05]},\n",
              "             verbose=2)"
            ]
          },
          "metadata": {},
          "execution_count": 7
        }
      ]
    },
    {
      "cell_type": "code",
      "source": [
        "best_one_here = grid_search_cv.best_estimator_# best one is with \"relu\" and \n",
        "best_one_params = grid_search_cv.best_params_# learning rate=0.01"
      ],
      "metadata": {
        "id": "xFgC8Se7MMUo"
      },
      "id": "xFgC8Se7MMUo",
      "execution_count": null,
      "outputs": []
    },
    {
      "cell_type": "code",
      "source": [
        "best_one_params"
      ],
      "metadata": {
        "colab": {
          "base_uri": "https://localhost:8080/"
        },
        "id": "2odZA6oolcYN",
        "outputId": "caed3074-665e-41db-da81-9cbec02c2cc0"
      },
      "id": "2odZA6oolcYN",
      "execution_count": null,
      "outputs": [
        {
          "output_type": "execute_result",
          "data": {
            "text/plain": [
              "{'activation_function': 'tanh', 'optimizer__lr': 0.05}"
            ]
          },
          "metadata": {},
          "execution_count": 11
        }
      ]
    },
    {
      "cell_type": "code",
      "source": [
        "history = best_one_here.fit(X_train, y_train, epochs=20,\n",
        "                    validation_data=(X_valid, y_valid))"
      ],
      "metadata": {
        "colab": {
          "base_uri": "https://localhost:8080/"
        },
        "id": "BDHUFCKQc4un",
        "outputId": "d76ad660-c6c6-4d64-cfbc-4a26bee4527b"
      },
      "id": "BDHUFCKQc4un",
      "execution_count": null,
      "outputs": [
        {
          "output_type": "stream",
          "name": "stdout",
          "text": [
            "Epoch 1/20\n"
          ]
        },
        {
          "output_type": "stream",
          "name": "stderr",
          "text": [
            "/usr/local/lib/python3.7/dist-packages/keras/optimizer_v2/gradient_descent.py:102: UserWarning: The `lr` argument is deprecated, use `learning_rate` instead.\n",
            "  super(SGD, self).__init__(name, **kwargs)\n"
          ]
        },
        {
          "output_type": "stream",
          "name": "stdout",
          "text": [
            "1688/1688 [==============================] - 4s 2ms/step - loss: 0.5572 - accuracy: 0.8049 - val_loss: 0.4393 - val_accuracy: 0.8385\n",
            "Epoch 2/20\n",
            "1688/1688 [==============================] - 3s 2ms/step - loss: 0.4158 - accuracy: 0.8495 - val_loss: 0.3883 - val_accuracy: 0.8610\n",
            "Epoch 3/20\n",
            "1688/1688 [==============================] - 3s 2ms/step - loss: 0.3792 - accuracy: 0.8618 - val_loss: 0.3735 - val_accuracy: 0.8670\n",
            "Epoch 4/20\n",
            "1688/1688 [==============================] - 3s 2ms/step - loss: 0.3549 - accuracy: 0.8699 - val_loss: 0.3747 - val_accuracy: 0.8622\n",
            "Epoch 5/20\n",
            "1688/1688 [==============================] - 3s 2ms/step - loss: 0.3389 - accuracy: 0.8756 - val_loss: 0.3585 - val_accuracy: 0.8700\n",
            "Epoch 6/20\n",
            "1688/1688 [==============================] - 3s 2ms/step - loss: 0.3248 - accuracy: 0.8811 - val_loss: 0.3767 - val_accuracy: 0.8647\n",
            "Epoch 7/20\n",
            "1688/1688 [==============================] - 3s 2ms/step - loss: 0.3136 - accuracy: 0.8840 - val_loss: 0.3245 - val_accuracy: 0.8815\n",
            "Epoch 8/20\n",
            "1688/1688 [==============================] - 3s 2ms/step - loss: 0.3030 - accuracy: 0.8893 - val_loss: 0.3381 - val_accuracy: 0.8785\n",
            "Epoch 9/20\n",
            "1688/1688 [==============================] - 3s 2ms/step - loss: 0.2953 - accuracy: 0.8908 - val_loss: 0.3240 - val_accuracy: 0.8795\n",
            "Epoch 10/20\n",
            "1688/1688 [==============================] - 5s 3ms/step - loss: 0.2863 - accuracy: 0.8950 - val_loss: 0.3342 - val_accuracy: 0.8820\n",
            "Epoch 11/20\n",
            "1688/1688 [==============================] - 3s 2ms/step - loss: 0.2807 - accuracy: 0.8958 - val_loss: 0.3155 - val_accuracy: 0.8855\n",
            "Epoch 12/20\n",
            "1688/1688 [==============================] - 3s 2ms/step - loss: 0.2748 - accuracy: 0.8985 - val_loss: 0.3107 - val_accuracy: 0.8875\n",
            "Epoch 13/20\n",
            "1688/1688 [==============================] - 3s 2ms/step - loss: 0.2670 - accuracy: 0.9001 - val_loss: 0.3132 - val_accuracy: 0.8853\n",
            "Epoch 14/20\n",
            "1688/1688 [==============================] - 3s 2ms/step - loss: 0.2626 - accuracy: 0.9023 - val_loss: 0.3399 - val_accuracy: 0.8828\n",
            "Epoch 15/20\n",
            "1688/1688 [==============================] - 3s 2ms/step - loss: 0.2574 - accuracy: 0.9050 - val_loss: 0.3225 - val_accuracy: 0.8792\n",
            "Epoch 16/20\n",
            "1688/1688 [==============================] - 3s 2ms/step - loss: 0.2512 - accuracy: 0.9068 - val_loss: 0.3149 - val_accuracy: 0.8848\n",
            "Epoch 17/20\n",
            "1688/1688 [==============================] - 3s 2ms/step - loss: 0.2480 - accuracy: 0.9076 - val_loss: 0.3196 - val_accuracy: 0.8865\n",
            "Epoch 18/20\n",
            "1688/1688 [==============================] - 3s 2ms/step - loss: 0.2425 - accuracy: 0.9099 - val_loss: 0.3254 - val_accuracy: 0.8857\n",
            "Epoch 19/20\n",
            "1688/1688 [==============================] - 3s 2ms/step - loss: 0.2393 - accuracy: 0.9110 - val_loss: 0.3228 - val_accuracy: 0.8862\n",
            "Epoch 20/20\n",
            "1688/1688 [==============================] - 3s 2ms/step - loss: 0.2344 - accuracy: 0.9127 - val_loss: 0.3030 - val_accuracy: 0.8912\n"
          ]
        }
      ]
    },
    {
      "cell_type": "code",
      "source": [
        "# Convert the history dictionary to a Pandas dataframe and extract the \n",
        "# accuracies\n",
        "accuracies = pd.DataFrame(history.history_)[['accuracy', 'val_accuracy']]\n",
        "\n",
        "# Plot the accuracies\n",
        "accuracies.plot(figsize=(8, 5))\n",
        "plt.grid(True)\n",
        "plt.gca().set_ylim(0.8, 1)\n",
        "plt.xlabel('Epoch')\n",
        "plt.show()"
      ],
      "metadata": {
        "colab": {
          "base_uri": "https://localhost:8080/",
          "height": 338
        },
        "id": "xbja7v22MLIA",
        "outputId": "03f1901c-1c4b-469d-bf89-22d6a3087537"
      },
      "id": "xbja7v22MLIA",
      "execution_count": null,
      "outputs": [
        {
          "output_type": "display_data",
          "data": {
            "text/plain": [
              "<Figure size 576x360 with 1 Axes>"
            ],
            "image/png": "[encoded data removed]"
          },
          "metadata": {
            "needs_background": "light"
          }
        }
      ]
    },
    {
      "cell_type": "markdown",
      "source": [
        "#### Fully connected neural network2(act_function=None, l_r=0.05)"
      ],
      "metadata": {
        "id": "ztPH92iA3T_g"
      },
      "id": "ztPH92iA3T_g"
    },
    {
      "cell_type": "code",
      "source": [
        "fcnn_model_2 = keras.models.Sequential([\n",
        "    keras.layers.Flatten(input_shape=[28, 28]),\n",
        "    keras.layers.Dense(300, activation=None),\n",
        "    keras.layers.Dense(100, activation=None),\n",
        "    keras.layers.Dense(10, activation=\"softmax\")\n",
        "])"
      ],
      "metadata": {
        "id": "KdCfhfN13Tw-"
      },
      "id": "KdCfhfN13Tw-",
      "execution_count": null,
      "outputs": []
    },
    {
      "cell_type": "code",
      "source": [
        "opt = keras.optimizers.SGD(learning_rate=0.05)\n",
        "fcnn_model_2.compile(loss='sparse_categorical_crossentropy',\n",
        "              optimizer=opt,\n",
        "              metrics=['accuracy'])"
      ],
      "metadata": {
        "id": "s_4yvqkX3_s6"
      },
      "id": "s_4yvqkX3_s6",
      "execution_count": null,
      "outputs": []
    },
    {
      "cell_type": "code",
      "source": [
        "fcnn_history2 = fcnn_model_2.fit(X_train, y_train, epochs=20,\n",
        "                    validation_data=(X_valid, y_valid))"
      ],
      "metadata": {
        "colab": {
          "base_uri": "https://localhost:8080/"
        },
        "id": "dZTYvDYZAKhl",
        "outputId": "58f0ee49-bd4c-492f-b1b1-c9cd3e5f8476"
      },
      "id": "dZTYvDYZAKhl",
      "execution_count": null,
      "outputs": [
        {
          "output_type": "stream",
          "name": "stdout",
          "text": [
            "Epoch 1/20\n",
            "1688/1688 [==============================] - 7s 4ms/step - loss: 0.5677 - accuracy: 0.8016 - val_loss: 0.4804 - val_accuracy: 0.8303\n",
            "Epoch 2/20\n",
            "1688/1688 [==============================] - 5s 3ms/step - loss: 0.4719 - accuracy: 0.8340 - val_loss: 0.4704 - val_accuracy: 0.8340\n",
            "Epoch 3/20\n",
            "1688/1688 [==============================] - 5s 3ms/step - loss: 0.4511 - accuracy: 0.8422 - val_loss: 0.4607 - val_accuracy: 0.8388\n",
            "Epoch 4/20\n",
            "1688/1688 [==============================] - 5s 3ms/step - loss: 0.4403 - accuracy: 0.8465 - val_loss: 0.4592 - val_accuracy: 0.8368\n",
            "Epoch 5/20\n",
            "1688/1688 [==============================] - 5s 3ms/step - loss: 0.4322 - accuracy: 0.8486 - val_loss: 0.4705 - val_accuracy: 0.8375\n",
            "Epoch 6/20\n",
            "1688/1688 [==============================] - 5s 3ms/step - loss: 0.4265 - accuracy: 0.8518 - val_loss: 0.4478 - val_accuracy: 0.8437\n",
            "Epoch 7/20\n",
            "1688/1688 [==============================] - 5s 3ms/step - loss: 0.4203 - accuracy: 0.8519 - val_loss: 0.4790 - val_accuracy: 0.8240\n",
            "Epoch 8/20\n",
            "1688/1688 [==============================] - 5s 3ms/step - loss: 0.4176 - accuracy: 0.8532 - val_loss: 0.4625 - val_accuracy: 0.8375\n",
            "Epoch 9/20\n",
            "1688/1688 [==============================] - 5s 3ms/step - loss: 0.4147 - accuracy: 0.8549 - val_loss: 0.4411 - val_accuracy: 0.8383\n",
            "Epoch 10/20\n",
            "1688/1688 [==============================] - 5s 3ms/step - loss: 0.4106 - accuracy: 0.8556 - val_loss: 0.4270 - val_accuracy: 0.8505\n",
            "Epoch 11/20\n",
            "1688/1688 [==============================] - 5s 3ms/step - loss: 0.4091 - accuracy: 0.8565 - val_loss: 0.4420 - val_accuracy: 0.8460\n",
            "Epoch 12/20\n",
            "1688/1688 [==============================] - 5s 3ms/step - loss: 0.4075 - accuracy: 0.8564 - val_loss: 0.4370 - val_accuracy: 0.8423\n",
            "Epoch 13/20\n",
            "1688/1688 [==============================] - 5s 3ms/step - loss: 0.4045 - accuracy: 0.8567 - val_loss: 0.4312 - val_accuracy: 0.8457\n",
            "Epoch 14/20\n",
            "1688/1688 [==============================] - 5s 3ms/step - loss: 0.4040 - accuracy: 0.8579 - val_loss: 0.4249 - val_accuracy: 0.8573\n",
            "Epoch 15/20\n",
            "1688/1688 [==============================] - 7s 4ms/step - loss: 0.4018 - accuracy: 0.8598 - val_loss: 0.4560 - val_accuracy: 0.8348\n",
            "Epoch 16/20\n",
            "1688/1688 [==============================] - 6s 4ms/step - loss: 0.3998 - accuracy: 0.8595 - val_loss: 0.4428 - val_accuracy: 0.8402\n",
            "Epoch 17/20\n",
            "1688/1688 [==============================] - 5s 3ms/step - loss: 0.4001 - accuracy: 0.8587 - val_loss: 0.4486 - val_accuracy: 0.8435\n",
            "Epoch 18/20\n",
            "1688/1688 [==============================] - 5s 3ms/step - loss: 0.3970 - accuracy: 0.8606 - val_loss: 0.4320 - val_accuracy: 0.8410\n",
            "Epoch 19/20\n",
            "1688/1688 [==============================] - 6s 3ms/step - loss: 0.3964 - accuracy: 0.8599 - val_loss: 0.4574 - val_accuracy: 0.8377\n",
            "Epoch 20/20\n",
            "1688/1688 [==============================] - 6s 3ms/step - loss: 0.3974 - accuracy: 0.8600 - val_loss: 0.4378 - val_accuracy: 0.8465\n"
          ]
        }
      ]
    },
    {
      "cell_type": "code",
      "source": [
        "fcnn_accuracies2 = pd.DataFrame(fcnn_history2.history)[['accuracy', \n",
        "                                                        'val_accuracy']]\n",
        "\n",
        "# Plot the accuracies\n",
        "fcnn_accuracies2.plot(figsize=(8, 5))\n",
        "plt.grid(True)\n",
        "plt.gca().set_ylim(0.7, 1)\n",
        "plt.xlabel('Epoch')\n",
        "plt.show()"
      ],
      "metadata": {
        "colab": {
          "base_uri": "https://localhost:8080/",
          "height": 338
        },
        "id": "zQBOeDxwAz7F",
        "outputId": "4a16c741-0a44-4c87-e185-869f1b41c958"
      },
      "id": "zQBOeDxwAz7F",
      "execution_count": null,
      "outputs": [
        {
          "output_type": "display_data",
          "data": {
            "text/plain": [
              "<Figure size 576x360 with 1 Axes>"
            ],
            "image/png": "[encoded data removed]"
          },
          "metadata": {
            "needs_background": "light"
          }
        }
      ]
    },
    {
      "cell_type": "markdown",
      "source": [
        "#### Fully connected neural network3(act_function=tanh, l_r=0.01)"
      ],
      "metadata": {
        "id": "1Ezj1WtWBUO4"
      },
      "id": "1Ezj1WtWBUO4"
    },
    {
      "cell_type": "code",
      "source": [
        "fcnn_model_3 = keras.models.Sequential([\n",
        "    keras.layers.Flatten(input_shape=[28, 28]),\n",
        "    keras.layers.Dense(300, activation=\"tanh\"),\n",
        "    keras.layers.Dense(100, activation=\"tanh\"),\n",
        "    keras.layers.Dense(10, activation=\"softmax\")\n",
        "])\n",
        "opt = keras.optimizers.SGD(learning_rate=0.01)\n",
        "fcnn_model_3.compile(loss='sparse_categorical_crossentropy',\n",
        "              optimizer=opt,\n",
        "              metrics=['accuracy'])"
      ],
      "metadata": {
        "id": "wJraBQweBZMS"
      },
      "id": "wJraBQweBZMS",
      "execution_count": null,
      "outputs": []
    },
    {
      "cell_type": "code",
      "source": [
        "fcnn_history3 = fcnn_model_3.fit(X_train, y_train, epochs=20,\n",
        "                    validation_data=(X_valid, y_valid))"
      ],
      "metadata": {
        "colab": {
          "base_uri": "https://localhost:8080/"
        },
        "id": "u9Djom7OBmCi",
        "outputId": "93b2a46a-adf2-4379-f274-1705439f2419"
      },
      "id": "u9Djom7OBmCi",
      "execution_count": null,
      "outputs": [
        {
          "output_type": "stream",
          "name": "stdout",
          "text": [
            "Epoch 1/20\n",
            "1688/1688 [==============================] - 6s 3ms/step - loss: 0.6549 - accuracy: 0.7816 - val_loss: 0.5058 - val_accuracy: 0.8248\n",
            "Epoch 2/20\n",
            "1688/1688 [==============================] - 5s 3ms/step - loss: 0.4704 - accuracy: 0.8334 - val_loss: 0.4476 - val_accuracy: 0.8428\n",
            "Epoch 3/20\n",
            "1688/1688 [==============================] - 5s 3ms/step - loss: 0.4322 - accuracy: 0.8463 - val_loss: 0.4250 - val_accuracy: 0.8490\n",
            "Epoch 4/20\n",
            "1688/1688 [==============================] - 5s 3ms/step - loss: 0.4098 - accuracy: 0.8549 - val_loss: 0.4117 - val_accuracy: 0.8537\n",
            "Epoch 5/20\n",
            "1688/1688 [==============================] - 5s 3ms/step - loss: 0.3940 - accuracy: 0.8590 - val_loss: 0.3956 - val_accuracy: 0.8585\n",
            "Epoch 6/20\n",
            "1688/1688 [==============================] - 5s 3ms/step - loss: 0.3812 - accuracy: 0.8646 - val_loss: 0.3885 - val_accuracy: 0.8593\n",
            "Epoch 7/20\n",
            "1688/1688 [==============================] - 5s 3ms/step - loss: 0.3701 - accuracy: 0.8673 - val_loss: 0.3802 - val_accuracy: 0.8627\n",
            "Epoch 8/20\n",
            "1688/1688 [==============================] - 5s 3ms/step - loss: 0.3606 - accuracy: 0.8707 - val_loss: 0.3826 - val_accuracy: 0.8627\n",
            "Epoch 9/20\n",
            "1688/1688 [==============================] - 5s 3ms/step - loss: 0.3531 - accuracy: 0.8747 - val_loss: 0.3740 - val_accuracy: 0.8642\n",
            "Epoch 10/20\n",
            "1688/1688 [==============================] - 5s 3ms/step - loss: 0.3450 - accuracy: 0.8777 - val_loss: 0.3626 - val_accuracy: 0.8687\n",
            "Epoch 11/20\n",
            "1688/1688 [==============================] - 6s 3ms/step - loss: 0.3387 - accuracy: 0.8796 - val_loss: 0.3563 - val_accuracy: 0.8760\n",
            "Epoch 12/20\n",
            "1688/1688 [==============================] - 5s 3ms/step - loss: 0.3328 - accuracy: 0.8807 - val_loss: 0.3488 - val_accuracy: 0.8750\n",
            "Epoch 13/20\n",
            "1688/1688 [==============================] - 5s 3ms/step - loss: 0.3263 - accuracy: 0.8834 - val_loss: 0.3468 - val_accuracy: 0.8725\n",
            "Epoch 14/20\n",
            "1688/1688 [==============================] - 5s 3ms/step - loss: 0.3217 - accuracy: 0.8849 - val_loss: 0.3499 - val_accuracy: 0.8768\n",
            "Epoch 15/20\n",
            "1688/1688 [==============================] - 5s 3ms/step - loss: 0.3162 - accuracy: 0.8864 - val_loss: 0.3472 - val_accuracy: 0.8757\n",
            "Epoch 16/20\n",
            "1688/1688 [==============================] - 5s 3ms/step - loss: 0.3112 - accuracy: 0.8886 - val_loss: 0.3428 - val_accuracy: 0.8755\n",
            "Epoch 17/20\n",
            "1688/1688 [==============================] - 6s 3ms/step - loss: 0.3074 - accuracy: 0.8898 - val_loss: 0.3355 - val_accuracy: 0.8828\n",
            "Epoch 18/20\n",
            "1688/1688 [==============================] - 5s 3ms/step - loss: 0.3023 - accuracy: 0.8917 - val_loss: 0.3327 - val_accuracy: 0.8838\n",
            "Epoch 19/20\n",
            "1688/1688 [==============================] - 5s 3ms/step - loss: 0.2989 - accuracy: 0.8930 - val_loss: 0.3300 - val_accuracy: 0.8827\n",
            "Epoch 20/20\n",
            "1688/1688 [==============================] - 5s 3ms/step - loss: 0.2951 - accuracy: 0.8941 - val_loss: 0.3171 - val_accuracy: 0.8857\n"
          ]
        }
      ]
    },
    {
      "cell_type": "code",
      "source": [
        "fcnn_accuracies3 = pd.DataFrame(fcnn_history3.history)[['accuracy', \n",
        "                                                        'val_accuracy']]\n",
        "fcnn_accuracies3.plot(figsize=(8, 5))\n",
        "plt.grid(True)\n",
        "plt.gca().set_ylim(0.7, 1)\n",
        "plt.xlabel('Epoch')\n",
        "plt.show()"
      ],
      "metadata": {
        "colab": {
          "base_uri": "https://localhost:8080/",
          "height": 338
        },
        "id": "cZ__rwmMDOo-",
        "outputId": "874285e5-8ccc-473d-ed2d-95345b6592cb"
      },
      "id": "cZ__rwmMDOo-",
      "execution_count": null,
      "outputs": [
        {
          "output_type": "display_data",
          "data": {
            "text/plain": [
              "<Figure size 576x360 with 1 Axes>"
            ],
            "image/png": "[encoded data removed]"
          },
          "metadata": {
            "needs_background": "light"
          }
        }
      ]
    },
    {
      "cell_type": "markdown",
      "metadata": {
        "id": "VWXAX99TmgMR"
      },
      "source": [
        "### Convolutional neural network"
      ],
      "id": "VWXAX99TmgMR"
    },
    {
      "cell_type": "code",
      "source": [
        "def build_part2_CNN_model(kernel_size=(3,3), strides=(1,1)): \n",
        "  model = keras.models.Sequential()# Reference to week8 lab sheet\n",
        "  model.add(keras.layers.Conv2D(32, kernel_size=kernel_size, activation=\"relu\", \n",
        "                                strides = strides, input_shape=(28, 28, 1),\n",
        "                                padding=\"same\"))\n",
        "  model.add(keras.layers.MaxPooling2D(pool_size=(2, 2), strides = strides,\n",
        "                                      padding=\"same\"))\n",
        "  model.add(keras.layers.Conv2D(64, kernel_size=kernel_size, activation=\"relu\", \n",
        "                                strides = strides,padding=\"same\"))\n",
        "  model.add(keras.layers.MaxPooling2D(pool_size=(2, 2), strides = strides,\n",
        "                                      padding=\"same\"))\n",
        "  model.add(keras.layers.Flatten())\n",
        "  model.add(keras.layers.Dropout(0.5))\n",
        "  model.add(keras.layers.Dense(10, activation=\"softmax\"))\n",
        "  return model"
      ],
      "metadata": {
        "id": "A_fOaE8xx0kq"
      },
      "id": "A_fOaE8xx0kq",
      "execution_count": null,
      "outputs": []
    },
    {
      "cell_type": "code",
      "source": [
        "part2_CNN_classifier = KerasClassifier(build_part2_CNN_model, \n",
        "                                       loss=\"sparse_categorical_crossentropy\",\n",
        "                                       kernel_size=(3,3),strides=(1,1),\n",
        "                                       optimizer__lr=0.01, optimizer=\"adam\", \n",
        "                                       metrics=[\"accuracy\"])"
      ],
      "metadata": {
        "id": "-k2iF9pOvUsv"
      },
      "id": "-k2iF9pOvUsv",
      "execution_count": null,
      "outputs": []
    },
    {
      "cell_type": "code",
      "source": [
        "part2_CNN_param_grid = {\n",
        "    \"kernel_size\":[(3,3), (5,5)],\n",
        "    \"strides\": [(1,1),(2,2)],\n",
        "    \"optimizer__lr\": [0.1, 0.01, 0.05]\n",
        "}\n",
        "\n",
        "part2_CNN_grid_search_cv = GridSearchCV(part2_CNN_classifier, \n",
        "                                        part2_CNN_param_grid, cv=2, verbose=2)"
      ],
      "metadata": {
        "id": "BiatKtuPuPGG"
      },
      "id": "BiatKtuPuPGG",
      "execution_count": null,
      "outputs": []
    },
    {
      "cell_type": "code",
      "source": [
        "part2_CNN_grid_search_cv"
      ],
      "metadata": {
        "colab": {
          "base_uri": "https://localhost:8080/"
        },
        "id": "JOBFQjub_GU1",
        "outputId": "a92b5b9e-b394-434f-9392-d4b30142bc28"
      },
      "id": "JOBFQjub_GU1",
      "execution_count": null,
      "outputs": [
        {
          "output_type": "execute_result",
          "data": {
            "text/plain": [
              "GridSearchCV(cv=3,\n",
              "             estimator=KerasClassifier(kernel_size=(3, 3), loss='sparse_categorical_crossentropy', metrics=['accuracy'], model=<function build_part2_CNN_model at 0x7efd145c63b0>, optimizer='adam', optimizer__lr=0.01, strides=(1, 1)),\n",
              "             param_grid={'kernel_size': [(3, 3), (2, 2)],\n",
              "                         'optimizer__lr': [0.1, 0.01, 0.001],\n",
              "                         'strides': [(1, 1), (2, 2)]},\n",
              "             verbose=2)"
            ]
          },
          "metadata": {},
          "execution_count": 50
        }
      ]
    },
    {
      "cell_type": "code",
      "source": [
        "batch_size = 128\n",
        "epochs = 3\n",
        "part2_CNN_grid_search_cv.fit(X_train_CNN, y_train, batch_size=batch_size,\n",
        "                    epochs=epochs, validation_data=(X_valid_CNN, y_valid))"
      ],
      "metadata": {
        "colab": {
          "base_uri": "https://localhost:8080/"
        },
        "id": "ZeMPjyga_L9g",
        "outputId": "78cf6775-102f-4712-98f7-bb6778f36f28"
      },
      "id": "ZeMPjyga_L9g",
      "execution_count": null,
      "outputs": [
        {
          "output_type": "stream",
          "name": "stdout",
          "text": [
            "Fitting 2 folds for each of 12 candidates, totalling 24 fits\n",
            "Epoch 1/3\n"
          ]
        },
        {
          "output_type": "stream",
          "name": "stderr",
          "text": [
            "/usr/local/lib/python3.7/dist-packages/keras/optimizer_v2/adam.py:105: UserWarning: The `lr` argument is deprecated, use `learning_rate` instead.\n",
            "  super(Adam, self).__init__(name, **kwargs)\n"
          ]
        },
        {
          "output_type": "stream",
          "name": "stdout",
          "text": [
            "211/211 [==============================] - 110s 518ms/step - loss: 3.5584 - accuracy: 0.6829 - val_loss: 0.5358 - val_accuracy: 0.8123\n",
            "Epoch 2/3\n",
            "211/211 [==============================] - 106s 502ms/step - loss: 0.7720 - accuracy: 0.7423 - val_loss: 0.5785 - val_accuracy: 0.7997\n",
            "Epoch 3/3\n",
            "211/211 [==============================] - 107s 508ms/step - loss: 0.6982 - accuracy: 0.7565 - val_loss: 0.5758 - val_accuracy: 0.8012\n",
            "844/844 [==============================] - 22s 26ms/step\n",
            "[CV] END kernel_size=(3, 3), optimizer__lr=0.1, strides=(1, 1); total time= 7.1min\n",
            "Epoch 1/3\n"
          ]
        },
        {
          "output_type": "stream",
          "name": "stderr",
          "text": [
            "/usr/local/lib/python3.7/dist-packages/keras/optimizer_v2/adam.py:105: UserWarning: The `lr` argument is deprecated, use `learning_rate` instead.\n",
            "  super(Adam, self).__init__(name, **kwargs)\n"
          ]
        },
        {
          "output_type": "stream",
          "name": "stdout",
          "text": [
            "211/211 [==============================] - 108s 509ms/step - loss: 14.9683 - accuracy: 0.1030 - val_loss: 2.3083 - val_accuracy: 0.1032\n",
            "Epoch 2/3\n",
            "211/211 [==============================] - 107s 506ms/step - loss: 2.3081 - accuracy: 0.0983 - val_loss: 2.3126 - val_accuracy: 0.0980\n",
            "Epoch 3/3\n",
            "211/211 [==============================] - 106s 501ms/step - loss: 2.3090 - accuracy: 0.0951 - val_loss: 2.3046 - val_accuracy: 0.0963\n",
            "844/844 [==============================] - 22s 26ms/step\n",
            "[CV] END kernel_size=(3, 3), optimizer__lr=0.1, strides=(1, 1); total time= 5.7min\n",
            "Epoch 1/3\n"
          ]
        },
        {
          "output_type": "stream",
          "name": "stderr",
          "text": [
            "/usr/local/lib/python3.7/dist-packages/keras/optimizer_v2/adam.py:105: UserWarning: The `lr` argument is deprecated, use `learning_rate` instead.\n",
            "  super(Adam, self).__init__(name, **kwargs)\n"
          ]
        },
        {
          "output_type": "stream",
          "name": "stdout",
          "text": [
            "211/211 [==============================] - 5s 22ms/step - loss: 2.4243 - accuracy: 0.0969 - val_loss: 2.3085 - val_accuracy: 0.0972\n",
            "Epoch 2/3\n",
            "211/211 [==============================] - 4s 21ms/step - loss: 2.3084 - accuracy: 0.0959 - val_loss: 2.3056 - val_accuracy: 0.1040\n",
            "Epoch 3/3\n",
            "211/211 [==============================] - 4s 21ms/step - loss: 2.3084 - accuracy: 0.0986 - val_loss: 2.3033 - val_accuracy: 0.1032\n",
            "844/844 [==============================] - 2s 3ms/step\n",
            "[CV] END kernel_size=(3, 3), optimizer__lr=0.1, strides=(2, 2); total time=  16.6s\n",
            "Epoch 1/3\n"
          ]
        },
        {
          "output_type": "stream",
          "name": "stderr",
          "text": [
            "/usr/local/lib/python3.7/dist-packages/keras/optimizer_v2/adam.py:105: UserWarning: The `lr` argument is deprecated, use `learning_rate` instead.\n",
            "  super(Adam, self).__init__(name, **kwargs)\n"
          ]
        },
        {
          "output_type": "stream",
          "name": "stdout",
          "text": [
            "211/211 [==============================] - 5s 22ms/step - loss: 2.4251 - accuracy: 0.1002 - val_loss: 2.3084 - val_accuracy: 0.0943\n",
            "Epoch 2/3\n",
            "211/211 [==============================] - 4s 21ms/step - loss: 2.3089 - accuracy: 0.0980 - val_loss: 2.3127 - val_accuracy: 0.0980\n",
            "Epoch 3/3\n",
            "211/211 [==============================] - 5s 21ms/step - loss: 2.3100 - accuracy: 0.0947 - val_loss: 2.3050 - val_accuracy: 0.0963\n",
            "844/844 [==============================] - 2s 3ms/step\n",
            "[CV] END kernel_size=(3, 3), optimizer__lr=0.1, strides=(2, 2); total time=  16.8s\n",
            "Epoch 1/3\n"
          ]
        },
        {
          "output_type": "stream",
          "name": "stderr",
          "text": [
            "/usr/local/lib/python3.7/dist-packages/keras/optimizer_v2/adam.py:105: UserWarning: The `lr` argument is deprecated, use `learning_rate` instead.\n",
            "  super(Adam, self).__init__(name, **kwargs)\n"
          ]
        },
        {
          "output_type": "stream",
          "name": "stdout",
          "text": [
            "211/211 [==============================] - 110s 518ms/step - loss: 0.5520 - accuracy: 0.8191 - val_loss: 0.3671 - val_accuracy: 0.8718\n",
            "Epoch 2/3\n",
            "211/211 [==============================] - 109s 515ms/step - loss: 0.3559 - accuracy: 0.8747 - val_loss: 0.3063 - val_accuracy: 0.8895\n",
            "Epoch 3/3\n",
            "211/211 [==============================] - 107s 508ms/step - loss: 0.3255 - accuracy: 0.8822 - val_loss: 0.3159 - val_accuracy: 0.8858\n",
            "844/844 [==============================] - 23s 28ms/step\n",
            "[CV] END kernel_size=(3, 3), optimizer__lr=0.01, strides=(1, 1); total time= 7.1min\n",
            "Epoch 1/3\n"
          ]
        },
        {
          "output_type": "stream",
          "name": "stderr",
          "text": [
            "/usr/local/lib/python3.7/dist-packages/keras/optimizer_v2/adam.py:105: UserWarning: The `lr` argument is deprecated, use `learning_rate` instead.\n",
            "  super(Adam, self).__init__(name, **kwargs)\n"
          ]
        },
        {
          "output_type": "stream",
          "name": "stdout",
          "text": [
            "211/211 [==============================] - 108s 510ms/step - loss: 0.5512 - accuracy: 0.8186 - val_loss: 0.3451 - val_accuracy: 0.8800\n",
            "Epoch 2/3\n",
            "211/211 [==============================] - 109s 514ms/step - loss: 0.3517 - accuracy: 0.8719 - val_loss: 0.3198 - val_accuracy: 0.8870\n",
            "Epoch 3/3\n",
            "211/211 [==============================] - 107s 507ms/step - loss: 0.3221 - accuracy: 0.8814 - val_loss: 0.3131 - val_accuracy: 0.8938\n",
            "844/844 [==============================] - 21s 25ms/step\n",
            "[CV] END kernel_size=(3, 3), optimizer__lr=0.01, strides=(1, 1); total time= 7.1min\n",
            "Epoch 1/3\n"
          ]
        },
        {
          "output_type": "stream",
          "name": "stderr",
          "text": [
            "/usr/local/lib/python3.7/dist-packages/keras/optimizer_v2/adam.py:105: UserWarning: The `lr` argument is deprecated, use `learning_rate` instead.\n",
            "  super(Adam, self).__init__(name, **kwargs)\n"
          ]
        },
        {
          "output_type": "stream",
          "name": "stdout",
          "text": [
            "211/211 [==============================] - 5s 23ms/step - loss: 0.7936 - accuracy: 0.7138 - val_loss: 0.4948 - val_accuracy: 0.8160\n",
            "Epoch 2/3\n",
            "211/211 [==============================] - 5s 22ms/step - loss: 0.5355 - accuracy: 0.8064 - val_loss: 0.3952 - val_accuracy: 0.8510\n",
            "Epoch 3/3\n",
            "211/211 [==============================] - 5s 22ms/step - loss: 0.4730 - accuracy: 0.8296 - val_loss: 0.3694 - val_accuracy: 0.8673\n",
            "844/844 [==============================] - 2s 3ms/step\n",
            "[CV] END kernel_size=(3, 3), optimizer__lr=0.01, strides=(2, 2); total time=  17.6s\n",
            "Epoch 1/3\n"
          ]
        },
        {
          "output_type": "stream",
          "name": "stderr",
          "text": [
            "/usr/local/lib/python3.7/dist-packages/keras/optimizer_v2/adam.py:105: UserWarning: The `lr` argument is deprecated, use `learning_rate` instead.\n",
            "  super(Adam, self).__init__(name, **kwargs)\n"
          ]
        },
        {
          "output_type": "stream",
          "name": "stdout",
          "text": [
            "211/211 [==============================] - 5s 23ms/step - loss: 0.7862 - accuracy: 0.7183 - val_loss: 0.4500 - val_accuracy: 0.8345\n",
            "Epoch 2/3\n",
            "211/211 [==============================] - 5s 22ms/step - loss: 0.5322 - accuracy: 0.8064 - val_loss: 0.4086 - val_accuracy: 0.8532\n",
            "Epoch 3/3\n",
            "211/211 [==============================] - 5s 22ms/step - loss: 0.4825 - accuracy: 0.8259 - val_loss: 0.3815 - val_accuracy: 0.8658\n",
            "844/844 [==============================] - 2s 3ms/step\n",
            "[CV] END kernel_size=(3, 3), optimizer__lr=0.01, strides=(2, 2); total time=  17.5s\n",
            "Epoch 1/3\n"
          ]
        },
        {
          "output_type": "stream",
          "name": "stderr",
          "text": [
            "/usr/local/lib/python3.7/dist-packages/keras/optimizer_v2/adam.py:105: UserWarning: The `lr` argument is deprecated, use `learning_rate` instead.\n",
            "  super(Adam, self).__init__(name, **kwargs)\n"
          ]
        },
        {
          "output_type": "stream",
          "name": "stdout",
          "text": [
            "211/211 [==============================] - 107s 506ms/step - loss: 3.1809 - accuracy: 0.1033 - val_loss: 2.3054 - val_accuracy: 0.0972\n",
            "Epoch 2/3\n",
            "211/211 [==============================] - 106s 500ms/step - loss: 2.3055 - accuracy: 0.0980 - val_loss: 2.3042 - val_accuracy: 0.1040\n",
            "Epoch 3/3\n",
            "211/211 [==============================] - 107s 505ms/step - loss: 2.3060 - accuracy: 0.0977 - val_loss: 2.3033 - val_accuracy: 0.1032\n",
            "844/844 [==============================] - 21s 25ms/step\n",
            "[CV] END kernel_size=(3, 3), optimizer__lr=0.05, strides=(1, 1); total time= 6.0min\n"
          ]
        },
        {
          "output_type": "stream",
          "name": "stderr",
          "text": [
            "/usr/local/lib/python3.7/dist-packages/keras/optimizer_v2/adam.py:105: UserWarning: The `lr` argument is deprecated, use `learning_rate` instead.\n",
            "  super(Adam, self).__init__(name, **kwargs)\n"
          ]
        },
        {
          "output_type": "stream",
          "name": "stdout",
          "text": [
            "Epoch 1/3\n",
            "211/211 [==============================] - 106s 502ms/step - loss: 2.3003 - accuracy: 0.7077 - val_loss: 0.8139 - val_accuracy: 0.7937\n",
            "Epoch 2/3\n",
            "211/211 [==============================] - 107s 507ms/step - loss: 0.7136 - accuracy: 0.7574 - val_loss: 0.6138 - val_accuracy: 0.7962\n",
            "Epoch 3/3\n",
            "211/211 [==============================] - 107s 506ms/step - loss: 0.6422 - accuracy: 0.7813 - val_loss: 0.4921 - val_accuracy: 0.8282\n",
            "844/844 [==============================] - 21s 25ms/step\n",
            "[CV] END kernel_size=(3, 3), optimizer__lr=0.05, strides=(1, 1); total time= 6.0min\n",
            "Epoch 1/3\n"
          ]
        },
        {
          "output_type": "stream",
          "name": "stderr",
          "text": [
            "/usr/local/lib/python3.7/dist-packages/keras/optimizer_v2/adam.py:105: UserWarning: The `lr` argument is deprecated, use `learning_rate` instead.\n",
            "  super(Adam, self).__init__(name, **kwargs)\n"
          ]
        },
        {
          "output_type": "stream",
          "name": "stdout",
          "text": [
            "211/211 [==============================] - 5s 22ms/step - loss: 0.8261 - accuracy: 0.7098 - val_loss: 0.5357 - val_accuracy: 0.8000\n",
            "Epoch 2/3\n",
            "211/211 [==============================] - 4s 21ms/step - loss: 0.6850 - accuracy: 0.7560 - val_loss: 0.4800 - val_accuracy: 0.8148\n",
            "Epoch 3/3\n",
            "211/211 [==============================] - 4s 21ms/step - loss: 0.6598 - accuracy: 0.7641 - val_loss: 0.4993 - val_accuracy: 0.8092\n",
            "844/844 [==============================] - 2s 3ms/step\n",
            "[CV] END kernel_size=(3, 3), optimizer__lr=0.05, strides=(2, 2); total time=  16.9s\n",
            "Epoch 1/3\n"
          ]
        },
        {
          "output_type": "stream",
          "name": "stderr",
          "text": [
            "/usr/local/lib/python3.7/dist-packages/keras/optimizer_v2/adam.py:105: UserWarning: The `lr` argument is deprecated, use `learning_rate` instead.\n",
            "  super(Adam, self).__init__(name, **kwargs)\n"
          ]
        },
        {
          "output_type": "stream",
          "name": "stdout",
          "text": [
            "211/211 [==============================] - 5s 22ms/step - loss: 2.3163 - accuracy: 0.0995 - val_loss: 2.3066 - val_accuracy: 0.1032\n",
            "Epoch 2/3\n",
            "211/211 [==============================] - 5s 21ms/step - loss: 2.3061 - accuracy: 0.1009 - val_loss: 2.3065 - val_accuracy: 0.0980\n",
            "Epoch 3/3\n",
            "211/211 [==============================] - 4s 21ms/step - loss: 2.3059 - accuracy: 0.0989 - val_loss: 2.3039 - val_accuracy: 0.1032\n",
            "844/844 [==============================] - 2s 3ms/step\n",
            "[CV] END kernel_size=(3, 3), optimizer__lr=0.05, strides=(2, 2); total time=  16.8s\n",
            "Epoch 1/3\n"
          ]
        },
        {
          "output_type": "stream",
          "name": "stderr",
          "text": [
            "/usr/local/lib/python3.7/dist-packages/keras/optimizer_v2/adam.py:105: UserWarning: The `lr` argument is deprecated, use `learning_rate` instead.\n",
            "  super(Adam, self).__init__(name, **kwargs)\n"
          ]
        },
        {
          "output_type": "stream",
          "name": "stdout",
          "text": [
            "211/211 [==============================] - 199s 942ms/step - loss: 15.9242 - accuracy: 0.1010 - val_loss: 2.3068 - val_accuracy: 0.0972\n",
            "Epoch 2/3\n",
            "211/211 [==============================] - 199s 942ms/step - loss: 2.3077 - accuracy: 0.0976 - val_loss: 2.3052 - val_accuracy: 0.1040\n",
            "Epoch 3/3\n",
            "211/211 [==============================] - 198s 941ms/step - loss: 2.3082 - accuracy: 0.0993 - val_loss: 2.3032 - val_accuracy: 0.1032\n",
            "844/844 [==============================] - 47s 56ms/step\n",
            "[CV] END kernel_size=(5, 5), optimizer__lr=0.1, strides=(1, 1); total time=11.3min\n",
            "Epoch 1/3\n"
          ]
        },
        {
          "output_type": "stream",
          "name": "stderr",
          "text": [
            "/usr/local/lib/python3.7/dist-packages/keras/optimizer_v2/adam.py:105: UserWarning: The `lr` argument is deprecated, use `learning_rate` instead.\n",
            "  super(Adam, self).__init__(name, **kwargs)\n"
          ]
        },
        {
          "output_type": "stream",
          "name": "stdout",
          "text": [
            "211/211 [==============================] - 200s 943ms/step - loss: 25.8200 - accuracy: 0.0998 - val_loss: 2.3075 - val_accuracy: 0.1032\n",
            "Epoch 2/3\n",
            "211/211 [==============================] - 199s 942ms/step - loss: 2.3085 - accuracy: 0.0972 - val_loss: 2.3129 - val_accuracy: 0.0980\n",
            "Epoch 3/3\n",
            "211/211 [==============================] - 199s 943ms/step - loss: 2.3094 - accuracy: 0.0950 - val_loss: 2.3049 - val_accuracy: 0.0963\n",
            "844/844 [==============================] - 46s 55ms/step\n",
            "[CV] END kernel_size=(5, 5), optimizer__lr=0.1, strides=(1, 1); total time=11.7min\n",
            "Epoch 1/3\n"
          ]
        },
        {
          "output_type": "stream",
          "name": "stderr",
          "text": [
            "/usr/local/lib/python3.7/dist-packages/keras/optimizer_v2/adam.py:105: UserWarning: The `lr` argument is deprecated, use `learning_rate` instead.\n",
            "  super(Adam, self).__init__(name, **kwargs)\n"
          ]
        },
        {
          "output_type": "stream",
          "name": "stdout",
          "text": [
            "211/211 [==============================] - 8s 36ms/step - loss: 2.5446 - accuracy: 0.1275 - val_loss: 2.2164 - val_accuracy: 0.1415\n",
            "Epoch 2/3\n",
            "211/211 [==============================] - 8s 36ms/step - loss: 2.1003 - accuracy: 0.1929 - val_loss: 1.2546 - val_accuracy: 0.4665\n",
            "Epoch 3/3\n",
            "211/211 [==============================] - 7s 35ms/step - loss: 1.3562 - accuracy: 0.4621 - val_loss: 1.1227 - val_accuracy: 0.5673\n",
            "844/844 [==============================] - 4s 4ms/step\n",
            "[CV] END kernel_size=(5, 5), optimizer__lr=0.1, strides=(2, 2); total time=  27.1s\n",
            "Epoch 1/3\n"
          ]
        },
        {
          "output_type": "stream",
          "name": "stderr",
          "text": [
            "/usr/local/lib/python3.7/dist-packages/keras/optimizer_v2/adam.py:105: UserWarning: The `lr` argument is deprecated, use `learning_rate` instead.\n",
            "  super(Adam, self).__init__(name, **kwargs)\n"
          ]
        },
        {
          "output_type": "stream",
          "name": "stdout",
          "text": [
            "211/211 [==============================] - 8s 36ms/step - loss: 2.8126 - accuracy: 0.1006 - val_loss: 2.3070 - val_accuracy: 0.0972\n",
            "Epoch 2/3\n",
            "211/211 [==============================] - 7s 35ms/step - loss: 2.3089 - accuracy: 0.0986 - val_loss: 2.3134 - val_accuracy: 0.0980\n",
            "Epoch 3/3\n",
            "211/211 [==============================] - 7s 35ms/step - loss: 2.3097 - accuracy: 0.0943 - val_loss: 2.3049 - val_accuracy: 0.0963\n",
            "844/844 [==============================] - 4s 4ms/step\n",
            "[CV] END kernel_size=(5, 5), optimizer__lr=0.1, strides=(2, 2); total time=  27.0s\n",
            "Epoch 1/3\n"
          ]
        },
        {
          "output_type": "stream",
          "name": "stderr",
          "text": [
            "/usr/local/lib/python3.7/dist-packages/keras/optimizer_v2/adam.py:105: UserWarning: The `lr` argument is deprecated, use `learning_rate` instead.\n",
            "  super(Adam, self).__init__(name, **kwargs)\n"
          ]
        },
        {
          "output_type": "stream",
          "name": "stdout",
          "text": [
            "211/211 [==============================] - 203s 959ms/step - loss: 0.6841 - accuracy: 0.7877 - val_loss: 0.3836 - val_accuracy: 0.8632\n",
            "Epoch 2/3\n",
            "211/211 [==============================] - 201s 953ms/step - loss: 0.3836 - accuracy: 0.8649 - val_loss: 0.3411 - val_accuracy: 0.8790\n",
            "Epoch 3/3\n",
            "211/211 [==============================] - 204s 967ms/step - loss: 0.3453 - accuracy: 0.8733 - val_loss: 0.3147 - val_accuracy: 0.8887\n",
            "844/844 [==============================] - 49s 58ms/step\n",
            "[CV] END kernel_size=(5, 5), optimizer__lr=0.01, strides=(1, 1); total time=11.7min\n",
            "Epoch 1/3\n"
          ]
        },
        {
          "output_type": "stream",
          "name": "stderr",
          "text": [
            "/usr/local/lib/python3.7/dist-packages/keras/optimizer_v2/adam.py:105: UserWarning: The `lr` argument is deprecated, use `learning_rate` instead.\n",
            "  super(Adam, self).__init__(name, **kwargs)\n"
          ]
        },
        {
          "output_type": "stream",
          "name": "stdout",
          "text": [
            "211/211 [==============================] - 202s 957ms/step - loss: 0.7285 - accuracy: 0.7951 - val_loss: 0.3655 - val_accuracy: 0.8710\n",
            "Epoch 2/3\n",
            "211/211 [==============================] - 205s 970ms/step - loss: 0.3697 - accuracy: 0.8661 - val_loss: 0.3470 - val_accuracy: 0.8782\n",
            "Epoch 3/3\n",
            "211/211 [==============================] - 202s 958ms/step - loss: 0.3407 - accuracy: 0.8757 - val_loss: 0.3342 - val_accuracy: 0.8777\n",
            "844/844 [==============================] - 47s 56ms/step\n",
            "[CV] END kernel_size=(5, 5), optimizer__lr=0.01, strides=(1, 1); total time=11.2min\n",
            "Epoch 1/3\n"
          ]
        },
        {
          "output_type": "stream",
          "name": "stderr",
          "text": [
            "/usr/local/lib/python3.7/dist-packages/keras/optimizer_v2/adam.py:105: UserWarning: The `lr` argument is deprecated, use `learning_rate` instead.\n",
            "  super(Adam, self).__init__(name, **kwargs)\n"
          ]
        },
        {
          "output_type": "stream",
          "name": "stdout",
          "text": [
            "211/211 [==============================] - 9s 39ms/step - loss: 0.6459 - accuracy: 0.7642 - val_loss: 0.4130 - val_accuracy: 0.8490\n",
            "Epoch 2/3\n",
            "211/211 [==============================] - 8s 39ms/step - loss: 0.4542 - accuracy: 0.8341 - val_loss: 0.3368 - val_accuracy: 0.8735\n",
            "Epoch 3/3\n",
            "211/211 [==============================] - 8s 38ms/step - loss: 0.4095 - accuracy: 0.8505 - val_loss: 0.3250 - val_accuracy: 0.8758\n",
            "844/844 [==============================] - 4s 5ms/step\n",
            "[CV] END kernel_size=(5, 5), optimizer__lr=0.01, strides=(2, 2); total time=  46.8s\n"
          ]
        },
        {
          "output_type": "stream",
          "name": "stderr",
          "text": [
            "/usr/local/lib/python3.7/dist-packages/keras/optimizer_v2/adam.py:105: UserWarning: The `lr` argument is deprecated, use `learning_rate` instead.\n",
            "  super(Adam, self).__init__(name, **kwargs)\n"
          ]
        },
        {
          "output_type": "stream",
          "name": "stdout",
          "text": [
            "Epoch 1/3\n",
            "211/211 [==============================] - 8s 38ms/step - loss: 0.6707 - accuracy: 0.7518 - val_loss: 0.4060 - val_accuracy: 0.8477\n",
            "Epoch 2/3\n",
            "211/211 [==============================] - 8s 37ms/step - loss: 0.4609 - accuracy: 0.8333 - val_loss: 0.3649 - val_accuracy: 0.8625\n",
            "Epoch 3/3\n",
            "211/211 [==============================] - 8s 37ms/step - loss: 0.4135 - accuracy: 0.8479 - val_loss: 0.3315 - val_accuracy: 0.8778\n",
            "844/844 [==============================] - 4s 5ms/step\n",
            "[CV] END kernel_size=(5, 5), optimizer__lr=0.01, strides=(2, 2); total time=  45.8s\n",
            "Epoch 1/3\n"
          ]
        },
        {
          "output_type": "stream",
          "name": "stderr",
          "text": [
            "/usr/local/lib/python3.7/dist-packages/keras/optimizer_v2/adam.py:105: UserWarning: The `lr` argument is deprecated, use `learning_rate` instead.\n",
            "  super(Adam, self).__init__(name, **kwargs)\n"
          ]
        },
        {
          "output_type": "stream",
          "name": "stdout",
          "text": [
            "211/211 [==============================] - 205s 970ms/step - loss: 13.0221 - accuracy: 0.6527 - val_loss: 0.6653 - val_accuracy: 0.7643\n",
            "Epoch 2/3\n",
            "211/211 [==============================] - 202s 959ms/step - loss: 0.7125 - accuracy: 0.7568 - val_loss: 0.5743 - val_accuracy: 0.8057\n",
            "Epoch 3/3\n",
            "211/211 [==============================] - 200s 950ms/step - loss: 0.6445 - accuracy: 0.7778 - val_loss: 0.5249 - val_accuracy: 0.8072\n",
            "844/844 [==============================] - 47s 56ms/step\n",
            "[CV] END kernel_size=(5, 5), optimizer__lr=0.05, strides=(1, 1); total time=11.5min\n",
            "Epoch 1/3\n"
          ]
        },
        {
          "output_type": "stream",
          "name": "stderr",
          "text": [
            "/usr/local/lib/python3.7/dist-packages/keras/optimizer_v2/adam.py:105: UserWarning: The `lr` argument is deprecated, use `learning_rate` instead.\n",
            "  super(Adam, self).__init__(name, **kwargs)\n"
          ]
        },
        {
          "output_type": "stream",
          "name": "stdout",
          "text": [
            "211/211 [==============================] - 202s 954ms/step - loss: 15.4866 - accuracy: 0.7353 - val_loss: 0.5111 - val_accuracy: 0.8155\n",
            "Epoch 2/3\n",
            "211/211 [==============================] - 206s 978ms/step - loss: 0.5599 - accuracy: 0.7991 - val_loss: 0.5112 - val_accuracy: 0.8208\n",
            "Epoch 3/3\n",
            "211/211 [==============================] - 203s 964ms/step - loss: 0.5710 - accuracy: 0.8001 - val_loss: 0.4870 - val_accuracy: 0.8292\n",
            "844/844 [==============================] - 48s 57ms/step\n",
            "[CV] END kernel_size=(5, 5), optimizer__lr=0.05, strides=(1, 1); total time=11.0min\n",
            "Epoch 1/3\n"
          ]
        },
        {
          "output_type": "stream",
          "name": "stderr",
          "text": [
            "/usr/local/lib/python3.7/dist-packages/keras/optimizer_v2/adam.py:105: UserWarning: The `lr` argument is deprecated, use `learning_rate` instead.\n",
            "  super(Adam, self).__init__(name, **kwargs)\n"
          ]
        },
        {
          "output_type": "stream",
          "name": "stdout",
          "text": [
            "211/211 [==============================] - 8s 37ms/step - loss: 0.8857 - accuracy: 0.6937 - val_loss: 0.5886 - val_accuracy: 0.7692\n",
            "Epoch 2/3\n",
            "211/211 [==============================] - 8s 36ms/step - loss: 0.6871 - accuracy: 0.7572 - val_loss: 0.4892 - val_accuracy: 0.8180\n",
            "Epoch 3/3\n",
            "211/211 [==============================] - 8s 37ms/step - loss: 0.6492 - accuracy: 0.7683 - val_loss: 0.5334 - val_accuracy: 0.7933\n",
            "844/844 [==============================] - 4s 4ms/step\n",
            "[CV] END kernel_size=(5, 5), optimizer__lr=0.05, strides=(2, 2); total time=  29.1s\n",
            "Epoch 1/3\n"
          ]
        },
        {
          "output_type": "stream",
          "name": "stderr",
          "text": [
            "/usr/local/lib/python3.7/dist-packages/keras/optimizer_v2/adam.py:105: UserWarning: The `lr` argument is deprecated, use `learning_rate` instead.\n",
            "  super(Adam, self).__init__(name, **kwargs)\n"
          ]
        },
        {
          "output_type": "stream",
          "name": "stdout",
          "text": [
            "211/211 [==============================] - 8s 37ms/step - loss: 2.4031 - accuracy: 0.0980 - val_loss: 2.3065 - val_accuracy: 0.1032\n",
            "Epoch 2/3\n",
            "211/211 [==============================] - 8s 37ms/step - loss: 2.3059 - accuracy: 0.1016 - val_loss: 2.3065 - val_accuracy: 0.0980\n",
            "Epoch 3/3\n",
            "211/211 [==============================] - 8s 37ms/step - loss: 2.3058 - accuracy: 0.0990 - val_loss: 2.3040 - val_accuracy: 0.1032\n",
            "844/844 [==============================] - 4s 4ms/step\n",
            "[CV] END kernel_size=(5, 5), optimizer__lr=0.05, strides=(2, 2); total time=  28.1s\n",
            "Epoch 1/3\n"
          ]
        },
        {
          "output_type": "stream",
          "name": "stderr",
          "text": [
            "/usr/local/lib/python3.7/dist-packages/keras/optimizer_v2/adam.py:105: UserWarning: The `lr` argument is deprecated, use `learning_rate` instead.\n",
            "  super(Adam, self).__init__(name, **kwargs)\n"
          ]
        },
        {
          "output_type": "stream",
          "name": "stdout",
          "text": [
            "422/422 [==============================] - 221s 523ms/step - loss: 0.4697 - accuracy: 0.8428 - val_loss: 0.3166 - val_accuracy: 0.8887\n",
            "Epoch 2/3\n",
            "422/422 [==============================] - 232s 550ms/step - loss: 0.3416 - accuracy: 0.8774 - val_loss: 0.2958 - val_accuracy: 0.8928\n",
            "Epoch 3/3\n",
            "422/422 [==============================] - 227s 538ms/step - loss: 0.3153 - accuracy: 0.8880 - val_loss: 0.2964 - val_accuracy: 0.8908\n"
          ]
        },
        {
          "output_type": "execute_result",
          "data": {
            "text/plain": [
              "GridSearchCV(cv=2,\n",
              "             estimator=KerasClassifier(kernel_size=(3, 3), loss='sparse_categorical_crossentropy', metrics=['accuracy'], model=<function build_part2_CNN_model at 0x7f518700dd40>, optimizer='adam', optimizer__lr=0.01, strides=(1, 1)),\n",
              "             param_grid={'kernel_size': [(3, 3), (5, 5)],\n",
              "                         'optimizer__lr': [0.1, 0.01, 0.05],\n",
              "                         'strides': [(1, 1), (2, 2)]},\n",
              "             verbose=2)"
            ]
          },
          "metadata": {},
          "execution_count": 41
        }
      ]
    },
    {
      "cell_type": "code",
      "source": [
        "best_one_here_CNN_part2 = part2_CNN_grid_search_cv.best_estimator_"
      ],
      "metadata": {
        "id": "INDWVHjdsjCf"
      },
      "id": "INDWVHjdsjCf",
      "execution_count": null,
      "outputs": []
    },
    {
      "cell_type": "code",
      "source": [
        "part2_CNN_grid_search_cv.best_params_"
      ],
      "metadata": {
        "colab": {
          "base_uri": "https://localhost:8080/"
        },
        "id": "X8eW8A2avGNP",
        "outputId": "9cb27cd6-38ab-4808-a3c4-39b2d7b53595"
      },
      "id": "X8eW8A2avGNP",
      "execution_count": null,
      "outputs": [
        {
          "output_type": "execute_result",
          "data": {
            "text/plain": [
              "{'kernel_size': (3, 3), 'optimizer__lr': 0.01, 'strides': (1, 1)}"
            ]
          },
          "metadata": {},
          "execution_count": 49
        }
      ]
    },
    {
      "cell_type": "code",
      "source": [
        "best_CNN_part2_history=best_one_here_CNN_part2.fit(X_train_CNN, y_train, \n",
        "                                                   batch_size=batch_size,\n",
        "                    epochs=epochs, validation_data=(X_valid_CNN, y_valid))"
      ],
      "metadata": {
        "colab": {
          "base_uri": "https://localhost:8080/"
        },
        "id": "sgY49ZKQhNgq",
        "outputId": "e211f158-ffbc-4014-8db8-e3895c0dcaeb"
      },
      "id": "sgY49ZKQhNgq",
      "execution_count": null,
      "outputs": [
        {
          "output_type": "stream",
          "name": "stderr",
          "text": [
            "/usr/local/lib/python3.7/dist-packages/keras/optimizer_v2/adam.py:105: UserWarning: The `lr` argument is deprecated, use `learning_rate` instead.\n",
            "  super(Adam, self).__init__(name, **kwargs)\n"
          ]
        },
        {
          "output_type": "stream",
          "name": "stdout",
          "text": [
            "Epoch 1/3\n",
            "422/422 [==============================] - 231s 544ms/step - loss: 0.4391 - accuracy: 0.8470 - val_loss: 0.3112 - val_accuracy: 0.8902\n",
            "Epoch 2/3\n",
            "422/422 [==============================] - 213s 505ms/step - loss: 0.3277 - accuracy: 0.8802 - val_loss: 0.2927 - val_accuracy: 0.8930\n",
            "Epoch 3/3\n",
            "422/422 [==============================] - 210s 498ms/step - loss: 0.3061 - accuracy: 0.8893 - val_loss: 0.2985 - val_accuracy: 0.8922\n"
          ]
        }
      ]
    },
    {
      "cell_type": "code",
      "source": [
        "import pandas as pd\n",
        "\n",
        "# Convert the history dictionary to a Pandas dataframe and extract accuracies\n",
        "fcnn_accuracies3 = pd.DataFrame(best_CNN_part2_history.history_)\\\n",
        "[['accuracy', 'val_accuracy']]\n",
        "fcnn_accuracies3.plot(figsize=(8, 5))\n",
        "plt.grid(True)\n",
        "plt.gca().set_ylim(0.8, 1)\n",
        "plt.xlabel('Epoch')\n",
        "plt.show()"
      ],
      "metadata": {
        "colab": {
          "base_uri": "https://localhost:8080/",
          "height": 338
        },
        "id": "86VmKu6F16XU",
        "outputId": "7b37c45e-528e-4205-915d-e124512ac703"
      },
      "id": "86VmKu6F16XU",
      "execution_count": null,
      "outputs": [
        {
          "output_type": "display_data",
          "data": {
            "text/plain": [
              "<Figure size 576x360 with 1 Axes>"
            ],
            "image/png": "[encoded data removed]"
          },
          "metadata": {
            "needs_background": "light"
          }
        }
      ]
    },
    {
      "cell_type": "markdown",
      "source": [
        "#### CNN1 -> (kernel=(5,5),strides=(1,1);l_r=(0.01))"
      ],
      "metadata": {
        "id": "_B9Pox5Yo1yZ"
      },
      "id": "_B9Pox5Yo1yZ"
    },
    {
      "cell_type": "code",
      "source": [
        "kernel = (5,5)\n",
        "strides = (1,1)\n",
        "l_r = 0.01\n",
        "model_CNN1 = keras.Sequential([\n",
        "    \n",
        "    # Specify the input shape\n",
        "    keras.Input(shape=(28, 28, 1)),\n",
        "    \n",
        "    # Conv and pool block 1\n",
        "    keras.layers.Conv2D(32, kernel_size=kernel, activation=\"relu\", \n",
        "                        strides=strides,padding=\"same\"),\n",
        "    keras.layers.MaxPooling2D(pool_size=(2, 2), strides = strides,\n",
        "                              padding=\"same\"),\n",
        "    \n",
        "    # Conv and pool block 2\n",
        "    keras.layers.Conv2D(64, kernel_size=kernel, activation=\"relu\", \n",
        "                        strides=strides,padding=\"same\"),\n",
        "    keras.layers.MaxPooling2D(pool_size=(2, 2), strides = strides,\n",
        "                              padding=\"same\"),\n",
        "    \n",
        "    # Flatten and classify using dense output layer\n",
        "    keras.layers.Flatten(),\n",
        "    keras.layers.Dropout(0.5),\n",
        "    keras.layers.Dense(10, activation=\"softmax\"),\n",
        "])\n",
        "model_CNN1.compile(loss='sparse_categorical_crossentropy',\n",
        "              optimizer=tf.keras.optimizers.Adam(learning_rate=l_r),\n",
        "              metrics=['accuracy'])\n",
        "batch_size = 128\n",
        "epochs = 3"
      ],
      "metadata": {
        "id": "Wn7-TpVRQ078"
      },
      "id": "Wn7-TpVRQ078",
      "execution_count": null,
      "outputs": []
    },
    {
      "cell_type": "code",
      "source": [
        "history1 = model_CNN1.fit(X_train_CNN, y_train, batch_size=batch_size,\n",
        "                    epochs=epochs, validation_data=(X_valid_CNN, y_valid))"
      ],
      "metadata": {
        "id": "s8jgoWn8ouqx",
        "colab": {
          "base_uri": "https://localhost:8080/"
        },
        "outputId": "612d14c5-7cfe-4e97-ddac-2e70e40e0a47"
      },
      "id": "s8jgoWn8ouqx",
      "execution_count": null,
      "outputs": [
        {
          "output_type": "stream",
          "name": "stdout",
          "text": [
            "Epoch 1/3\n",
            "422/422 [==============================] - 438s 1s/step - loss: 0.5441 - accuracy: 0.8312 - val_loss: 0.3296 - val_accuracy: 0.8808\n",
            "Epoch 2/3\n",
            "422/422 [==============================] - 393s 930ms/step - loss: 0.3608 - accuracy: 0.8709 - val_loss: 0.3341 - val_accuracy: 0.8747\n",
            "Epoch 3/3\n",
            "422/422 [==============================] - 392s 928ms/step - loss: 0.3421 - accuracy: 0.8766 - val_loss: 0.3133 - val_accuracy: 0.8928\n"
          ]
        }
      ]
    },
    {
      "cell_type": "code",
      "source": [
        "import pandas as pd\n",
        "\n",
        "# Convert the history dictionary to a Pandas dataframe and extract accuracies\n",
        "CNN_accuracies1 = pd.DataFrame(history1)[['accuracy', 'val_accuracy']]\n",
        "\n",
        "# Plot the accuracies\n",
        "CNN_accuracies1.plot(figsize=(8, 5))\n",
        "plt.grid(True)\n",
        "plt.gca().set_ylim(0.8, 1)\n",
        "plt.xlabel('Epoch')\n",
        "plt.show()"
      ],
      "metadata": {
        "colab": {
          "base_uri": "https://localhost:8080/",
          "height": 338
        },
        "id": "zOI8MqG21Vn3",
        "outputId": "c2e26ee9-4587-4c4a-c234-5d3999be4bd0"
      },
      "id": "zOI8MqG21Vn3",
      "execution_count": null,
      "outputs": [
        {
          "output_type": "display_data",
          "data": {
            "text/plain": [
              "<Figure size 576x360 with 1 Axes>"
            ],
            "image/png": "[encoded data removed]"
          },
          "metadata": {
            "needs_background": "light"
          }
        }
      ]
    },
    {
      "cell_type": "markdown",
      "source": [
        "#### CNN2 -> (kernel=(3,3),strides=(1,1),l_r=(0.05))"
      ],
      "metadata": {
        "id": "Zt9mr-QirYIc"
      },
      "id": "Zt9mr-QirYIc"
    },
    {
      "cell_type": "code",
      "source": [
        "kernel = (3,3)\n",
        "strides = (1,1)\n",
        "l_r = 0.05\n",
        "model_CNN2 = keras.Sequential([\n",
        "    \n",
        "    # Specify the input shape\n",
        "    keras.Input(shape=(28, 28, 1)),\n",
        "    \n",
        "    # Conv and pool block 1\n",
        "    keras.layers.Conv2D(32, kernel_size=kernel, activation=\"relu\", \n",
        "                        strides=strides,padding=\"same\"),\n",
        "    keras.layers.MaxPooling2D(pool_size=(2, 2), strides = strides,\n",
        "                              padding=\"same\"),\n",
        "    \n",
        "    # Conv and pool block 2\n",
        "    keras.layers.Conv2D(64, kernel_size=kernel, activation=\"relu\", \n",
        "                        strides=strides,padding=\"same\"),\n",
        "    keras.layers.MaxPooling2D(pool_size=(2, 2), strides = strides,\n",
        "                              padding=\"same\"),\n",
        "    \n",
        "    # Flatten and classify using dense output layer\n",
        "    keras.layers.Flatten(),\n",
        "    keras.layers.Dropout(0.5),\n",
        "    keras.layers.Dense(10, activation=\"softmax\"),\n",
        "])\n",
        "model_CNN2.compile(loss='sparse_categorical_crossentropy',\n",
        "              optimizer=tf.keras.optimizers.Adam(learning_rate=l_r),\n",
        "              metrics=['accuracy'])\n",
        "batch_size = 128\n",
        "epochs = 3"
      ],
      "metadata": {
        "id": "56FSPPB-Qfdn"
      },
      "id": "56FSPPB-Qfdn",
      "execution_count": null,
      "outputs": []
    },
    {
      "cell_type": "code",
      "source": [
        "history2 = model_CNN2.fit(X_train_CNN, y_train, batch_size=batch_size,\n",
        "                    epochs=epochs, validation_data=(X_valid_CNN, y_valid))"
      ],
      "metadata": {
        "id": "Q_ovGW9OpCrx",
        "colab": {
          "base_uri": "https://localhost:8080/"
        },
        "outputId": "8276ca8c-9459-4339-d520-735c32fd943e"
      },
      "id": "Q_ovGW9OpCrx",
      "execution_count": null,
      "outputs": [
        {
          "output_type": "stream",
          "name": "stdout",
          "text": [
            "Epoch 1/3\n",
            "422/422 [==============================] - 210s 497ms/step - loss: 1.9092 - accuracy: 0.7446 - val_loss: 0.4995 - val_accuracy: 0.8133\n",
            "Epoch 2/3\n",
            "422/422 [==============================] - 210s 498ms/step - loss: 0.5490 - accuracy: 0.8048 - val_loss: 0.5065 - val_accuracy: 0.8285\n",
            "Epoch 3/3\n",
            "422/422 [==============================] - 209s 496ms/step - loss: 0.5561 - accuracy: 0.8040 - val_loss: 0.4472 - val_accuracy: 0.8443\n"
          ]
        }
      ]
    },
    {
      "cell_type": "code",
      "source": [
        "import pandas as pd\n",
        "\n",
        "# Convert the history dictionary to a Pandas dataframe and extract accuracies\n",
        "CNN_accuracies2 = pd.DataFrame(history2.history)[['accuracy', 'val_accuracy']]\n",
        "\n",
        "# Plot the accuracies\n",
        "CNN_accuracies2.plot(figsize=(8, 5))\n",
        "plt.grid(True)\n",
        "plt.gca().set_ylim(0.6, 1)\n",
        "plt.xlabel('Epoch')\n",
        "plt.show()"
      ],
      "metadata": {
        "colab": {
          "base_uri": "https://localhost:8080/",
          "height": 338
        },
        "id": "r64V0ZlTI9Er",
        "outputId": "6588d1da-ec4e-4849-b082-d90bf5025833"
      },
      "id": "r64V0ZlTI9Er",
      "execution_count": null,
      "outputs": [
        {
          "output_type": "display_data",
          "data": {
            "text/plain": [
              "<Figure size 576x360 with 1 Axes>"
            ],
            "image/png": "[encoded data removed]"
          },
          "metadata": {
            "needs_background": "light"
          }
        }
      ]
    },
    {
      "cell_type": "markdown",
      "source": [
        "#### CNN3 -> (kernel=(3,3),strides=(2,2),l_r=(0.01))"
      ],
      "metadata": {
        "id": "bf2lkXYYruyr"
      },
      "id": "bf2lkXYYruyr"
    },
    {
      "cell_type": "code",
      "source": [
        "kernel = (3,3)\n",
        "strides = (2,2)\n",
        "l_r = 0.01\n",
        "model_CNN3 = keras.Sequential([\n",
        "    \n",
        "    # Specify the input shape\n",
        "    keras.Input(shape=(28, 28, 1)),\n",
        "    \n",
        "    # Conv and pool block 1\n",
        "    keras.layers.Conv2D(32, kernel_size=(3, 3), activation=\"relu\", \n",
        "                        strides=strides,padding=\"same\"),\n",
        "    keras.layers.MaxPooling2D(pool_size=(2, 2), strides=strides),\n",
        "    \n",
        "    # Conv and pool block 2\n",
        "    keras.layers.Conv2D(64, kernel_size=(3, 3), activation=\"relu\", \n",
        "                        strides=strides,padding=\"same\"),\n",
        "    keras.layers.MaxPooling2D(pool_size=(2, 2), strides=strides,padding=\"same\"),\n",
        "    \n",
        "    # Flatten and classify using dense output layer\n",
        "    keras.layers.Flatten(),\n",
        "    keras.layers.Dropout(0.5),\n",
        "    keras.layers.Dense(10, activation=\"softmax\"),\n",
        "])\n",
        "model_CNN3.compile(loss='sparse_categorical_crossentropy',\n",
        "              optimizer=tf.keras.optimizers.Adam(learning_rate=l_r),\n",
        "              metrics=['accuracy'])\n",
        "batch_size = 128\n",
        "epochs = 3"
      ],
      "metadata": {
        "id": "gfTQUzfjQXuV"
      },
      "id": "gfTQUzfjQXuV",
      "execution_count": null,
      "outputs": []
    },
    {
      "cell_type": "code",
      "source": [
        "history3 = model_CNN3.fit(X_train_CNN, y_train, batch_size=batch_size,\n",
        "                    epochs=epochs, validation_data=(X_valid_CNN, y_valid))"
      ],
      "metadata": {
        "id": "mldMa_Q6ryvk",
        "colab": {
          "base_uri": "https://localhost:8080/"
        },
        "outputId": "f5a630c1-e4bd-4e3c-d1ee-e22017fdabdb"
      },
      "id": "mldMa_Q6ryvk",
      "execution_count": null,
      "outputs": [
        {
          "output_type": "stream",
          "name": "stdout",
          "text": [
            "Epoch 1/3\n",
            "422/422 [==============================] - 10s 22ms/step - loss: 0.6379 - accuracy: 0.7699 - val_loss: 0.3913 - val_accuracy: 0.8538\n",
            "Epoch 2/3\n",
            "422/422 [==============================] - 9s 22ms/step - loss: 0.4662 - accuracy: 0.8307 - val_loss: 0.3535 - val_accuracy: 0.8745\n",
            "Epoch 3/3\n",
            "422/422 [==============================] - 9s 21ms/step - loss: 0.4344 - accuracy: 0.8427 - val_loss: 0.3389 - val_accuracy: 0.8805\n"
          ]
        }
      ]
    },
    {
      "cell_type": "code",
      "source": [
        "import pandas as pd\n",
        "\n",
        "# Convert the history dictionary to a Pandas dataframe and extract accuracies\n",
        "CNN_accuracies3 = pd.DataFrame(history3.history)[['accuracy', 'val_accuracy']]\n",
        "\n",
        "# Plot the accuracies\n",
        "CNN_accuracies3.plot(figsize=(8, 5))\n",
        "plt.grid(True)\n",
        "\n",
        "plt.xlabel('Epoch')\n",
        "plt.show()"
      ],
      "metadata": {
        "colab": {
          "base_uri": "https://localhost:8080/",
          "height": 334
        },
        "id": "woT_4mjOJMB0",
        "outputId": "a2544b92-246e-47d2-e43c-205d9c478b06"
      },
      "id": "woT_4mjOJMB0",
      "execution_count": null,
      "outputs": [
        {
          "output_type": "display_data",
          "data": {
            "text/plain": [
              "<Figure size 576x360 with 1 Axes>"
            ],
            "image/png": "[encoded data removed]"
          },
          "metadata": {
            "needs_background": "light"
          }
        }
      ]
    },
    {
      "cell_type": "code",
      "source": [
        "outputs = []\n",
        "fcnn_part1_his = fcnn_part1_history.history\n",
        "fcnn_part1_his[\"name\"] = \"fcnn_part1_his\"\n",
        "outputs.append(fcnn_part1_his)\n",
        "CNN_part1_his = CNN_history_part1.history\n",
        "CNN_part1_his[\"name\"] = \"CNN_part1_his\"\n",
        "outputs.append(CNN_part1_his)\n",
        "fcnn_his_best = history.history_\n",
        "fcnn_his_best[\"name\"] = \"fcnn_his_best\"\n",
        "outputs.append(fcnn_his_best)\n",
        "fcnn_his2 = fcnn_history2.history\n",
        "fcnn_his2[\"name\"] = \"fcnn_his2\"\n",
        "outputs.append(fcnn_his2)\n",
        "fcnn_his3 = fcnn_history3.history\n",
        "fcnn_his3[\"name\"] = \"fcnn_his3\"\n",
        "outputs.append(fcnn_his3)\n",
        "his1 = history1.history\n",
        "his1[\"name\"] = \"history1\"\n",
        "outputs.append(his1)\n",
        "his2 = history2.history\n",
        "his2[\"name\"] = \"history2\"\n",
        "outputs.append(his2)\n",
        "his3 = history3.history\n",
        "his3[\"name\"] = \"history3\"\n",
        "outputs.append(his3)\n",
        "CNN_his_best = best_CNN_part2_history.history_\n",
        "CNN_his_best[\"name\"] = [\"CNN_his_best\"]\n",
        "outputs.append(CNN_his_best)\n",
        "title = \"output.txt\"\n",
        "with open('output_new.txt', 'w') as f:\n",
        "    for line in outputs:\n",
        "      f.write(str(line))\n",
        "      f.write('\\n')"
      ],
      "metadata": {
        "id": "RvPzB9UAzTg3"
      },
      "id": "RvPzB9UAzTg3",
      "execution_count": null,
      "outputs": []
    },
    {
      "cell_type": "markdown",
      "metadata": {
        "id": "cnBRWaxymgMR"
      },
      "source": [
        "## Part 4. Final models\n",
        "In this section, please ensure to include cells to train each model with its best hyperparmater combination independently of the hyperparameter tuning cells, i.e. don't rely on the hyperparameter tuning cells having been run."
      ],
      "id": "cnBRWaxymgMR"
    },
    {
      "cell_type": "markdown",
      "metadata": {
        "id": "k5hE6cSRmgMR"
      },
      "source": [
        "### Algorithm of choice from first six weeks of course"
      ],
      "id": "k5hE6cSRmgMR"
    },
    {
      "cell_type": "code",
      "source": [
        "rf_best = RandomForestClassifier(criterion = \"entropy\", random_state = 0, \n",
        "                                 n_estimators = 100, max_leaf_nodes = None)"
      ],
      "metadata": {
        "id": "ehOBiYYz7fof"
      },
      "id": "ehOBiYYz7fof",
      "execution_count": null,
      "outputs": []
    },
    {
      "cell_type": "code",
      "source": [
        "\n",
        "rf_best.fit(X_train.reshape(54000,28*28), y_train)\n",
        "y_pred = rf_best.predict(X_test.reshape(10000,28*28))\n",
        "print(\"RF - accuracy on test set: {:.3f}\".format(accuracy_score(y_test, \n",
        "                                                                y_pred)))"
      ],
      "metadata": {
        "colab": {
          "base_uri": "https://localhost:8080/"
        },
        "id": "B1spxx8YEnEp",
        "outputId": "123b5231-eff7-4752-d128-8264a325e2fa"
      },
      "id": "B1spxx8YEnEp",
      "execution_count": null,
      "outputs": [
        {
          "output_type": "stream",
          "name": "stdout",
          "text": [
            "RF - accuracy on test set: 0.877\n"
          ]
        }
      ]
    },
    {
      "cell_type": "markdown",
      "metadata": {
        "id": "B-lp2cYamgMR"
      },
      "source": [
        "### Fully connected neural network"
      ],
      "id": "B-lp2cYamgMR"
    },
    {
      "cell_type": "code",
      "source": [
        "fcnn_model_best_final = keras.models.Sequential([\n",
        "    keras.layers.Flatten(input_shape=[28, 28]), # activation_function = tanh, \n",
        "    keras.layers.Dense(300, activation=\"tanh\"),# lr = 0.05\n",
        "    keras.layers.Dense(100, activation=\"tanh\"),\n",
        "    keras.layers.Dense(10, activation=\"softmax\")\n",
        "])\n",
        "opt = keras.optimizers.SGD(learning_rate=0.05)\n",
        "fcnn_model_best_final.compile(loss='sparse_categorical_crossentropy',\n",
        "              optimizer=opt,\n",
        "              metrics=['accuracy'])"
      ],
      "metadata": {
        "id": "qxgenXIMFDb-"
      },
      "id": "qxgenXIMFDb-",
      "execution_count": null,
      "outputs": []
    },
    {
      "cell_type": "code",
      "source": [
        "fcnn_model_best_final_history = fcnn_model_best_final.fit(X_train, y_train, \n",
        "                                                          epochs=20,\n",
        "                    validation_data=(X_valid, y_valid))"
      ],
      "metadata": {
        "colab": {
          "base_uri": "https://localhost:8080/"
        },
        "id": "Gi2hebSMFZdL",
        "outputId": "c8080e96-76b2-4775-c645-f4e45c89defa"
      },
      "id": "Gi2hebSMFZdL",
      "execution_count": null,
      "outputs": [
        {
          "output_type": "stream",
          "name": "stdout",
          "text": [
            "Epoch 1/20\n",
            "1688/1688 [==============================] - 4s 2ms/step - loss: 0.5252 - accuracy: 0.8117 - val_loss: 0.4246 - val_accuracy: 0.8467\n",
            "Epoch 2/20\n",
            "1688/1688 [==============================] - 4s 2ms/step - loss: 0.4093 - accuracy: 0.8513 - val_loss: 0.3887 - val_accuracy: 0.8582\n",
            "Epoch 3/20\n",
            "1688/1688 [==============================] - 4s 2ms/step - loss: 0.3745 - accuracy: 0.8636 - val_loss: 0.3725 - val_accuracy: 0.8645\n",
            "Epoch 4/20\n",
            "1688/1688 [==============================] - 4s 2ms/step - loss: 0.3499 - accuracy: 0.8733 - val_loss: 0.3757 - val_accuracy: 0.8623\n",
            "Epoch 5/20\n",
            "1688/1688 [==============================] - 4s 2ms/step - loss: 0.3327 - accuracy: 0.8780 - val_loss: 0.3603 - val_accuracy: 0.8700\n",
            "Epoch 6/20\n",
            "1688/1688 [==============================] - 4s 2ms/step - loss: 0.3174 - accuracy: 0.8844 - val_loss: 0.3496 - val_accuracy: 0.8757\n",
            "Epoch 7/20\n",
            "1688/1688 [==============================] - 4s 2ms/step - loss: 0.3036 - accuracy: 0.8873 - val_loss: 0.3239 - val_accuracy: 0.8827\n",
            "Epoch 8/20\n",
            "1688/1688 [==============================] - 4s 2ms/step - loss: 0.2925 - accuracy: 0.8921 - val_loss: 0.3375 - val_accuracy: 0.8757\n",
            "Epoch 9/20\n",
            "1688/1688 [==============================] - 4s 2ms/step - loss: 0.2826 - accuracy: 0.8955 - val_loss: 0.3470 - val_accuracy: 0.8730\n",
            "Epoch 10/20\n",
            "1688/1688 [==============================] - 4s 2ms/step - loss: 0.2730 - accuracy: 0.8987 - val_loss: 0.3205 - val_accuracy: 0.8855\n",
            "Epoch 11/20\n",
            "1688/1688 [==============================] - 4s 2ms/step - loss: 0.2657 - accuracy: 0.9023 - val_loss: 0.3050 - val_accuracy: 0.8903\n",
            "Epoch 12/20\n",
            "1688/1688 [==============================] - 3s 2ms/step - loss: 0.2590 - accuracy: 0.9034 - val_loss: 0.2950 - val_accuracy: 0.8888\n",
            "Epoch 13/20\n",
            "1688/1688 [==============================] - 4s 2ms/step - loss: 0.2497 - accuracy: 0.9070 - val_loss: 0.3007 - val_accuracy: 0.8882\n",
            "Epoch 14/20\n",
            "1688/1688 [==============================] - 4s 2ms/step - loss: 0.2433 - accuracy: 0.9098 - val_loss: 0.3190 - val_accuracy: 0.8855\n",
            "Epoch 15/20\n",
            "1688/1688 [==============================] - 4s 2ms/step - loss: 0.2374 - accuracy: 0.9110 - val_loss: 0.2975 - val_accuracy: 0.8918\n",
            "Epoch 16/20\n",
            "1688/1688 [==============================] - 4s 2ms/step - loss: 0.2306 - accuracy: 0.9147 - val_loss: 0.3086 - val_accuracy: 0.8855\n",
            "Epoch 17/20\n",
            "1688/1688 [==============================] - 4s 2ms/step - loss: 0.2252 - accuracy: 0.9154 - val_loss: 0.3028 - val_accuracy: 0.8937\n",
            "Epoch 18/20\n",
            "1688/1688 [==============================] - 4s 2ms/step - loss: 0.2184 - accuracy: 0.9198 - val_loss: 0.2996 - val_accuracy: 0.8948\n",
            "Epoch 19/20\n",
            "1688/1688 [==============================] - 4s 2ms/step - loss: 0.2142 - accuracy: 0.9200 - val_loss: 0.3104 - val_accuracy: 0.8902\n",
            "Epoch 20/20\n",
            "1688/1688 [==============================] - 4s 3ms/step - loss: 0.2089 - accuracy: 0.9230 - val_loss: 0.2850 - val_accuracy: 0.8990\n"
          ]
        }
      ]
    },
    {
      "cell_type": "code",
      "source": [
        "y_pred_fcnn = fcnn_model_best_final.predict(X_test)\n",
        "y_pred_fcnn_now = np.argmax(y_pred_fcnn, axis=-1)\n",
        "print(\"fcnn - accuracy on test set: {:.3f}\".format\\\n",
        "      (accuracy_score(y_test, y_pred_fcnn_now)))"
      ],
      "metadata": {
        "colab": {
          "base_uri": "https://localhost:8080/"
        },
        "id": "64eElu03GYNf",
        "outputId": "440e4afe-7f74-4e25-9b18-dc442fdef9bd"
      },
      "id": "64eElu03GYNf",
      "execution_count": null,
      "outputs": [
        {
          "output_type": "stream",
          "name": "stdout",
          "text": [
            "fcnn - accuracy on test set: 0.881\n"
          ]
        }
      ]
    },
    {
      "cell_type": "markdown",
      "metadata": {
        "id": "NdOcLjNLmgMR"
      },
      "source": [
        "### Convolutional neural network"
      ],
      "id": "NdOcLjNLmgMR"
    },
    {
      "cell_type": "code",
      "source": [
        "kernel = (3,3)\n",
        "strides = (1,1)\n",
        "l_r = 0.01\n",
        "model_CNN_final_best = keras.Sequential([\n",
        "    \n",
        "    # Specify the input shape\n",
        "    keras.Input(shape=(28, 28, 1)),\n",
        "    \n",
        "    # Conv and pool block 1\n",
        "    keras.layers.Conv2D(32, kernel_size=kernel, activation=\"relu\", \n",
        "                        strides=strides,padding=\"same\"),\n",
        "    keras.layers.MaxPooling2D(pool_size=(2, 2), strides = strides,\n",
        "                              padding=\"same\"),\n",
        "    \n",
        "    # Conv and pool block 2\n",
        "    keras.layers.Conv2D(64, kernel_size=kernel, activation=\"relu\", \n",
        "                        strides=strides,padding=\"same\"),\n",
        "    keras.layers.MaxPooling2D(pool_size=(2, 2), strides = strides,\n",
        "                              padding=\"same\"),\n",
        "    \n",
        "    # Flatten and classify using dense output layer\n",
        "    keras.layers.Flatten(),\n",
        "    keras.layers.Dropout(0.5),\n",
        "    keras.layers.Dense(10, activation=\"softmax\"),\n",
        "])\n",
        "model_CNN_final_best.compile(loss='sparse_categorical_crossentropy',\n",
        "              optimizer=tf.keras.optimizers.Adam(learning_rate=l_r),\n",
        "              metrics=['accuracy'])\n",
        "batch_size = 128\n",
        "epochs = 3"
      ],
      "metadata": {
        "id": "kpn78jwnHMp_"
      },
      "id": "kpn78jwnHMp_",
      "execution_count": null,
      "outputs": []
    },
    {
      "cell_type": "code",
      "source": [
        "history_CNN_final = model_CNN_final_best.fit(X_train_CNN, y_train, \n",
        "                                             batch_size=batch_size,\n",
        "                    epochs=epochs, validation_data=(X_valid_CNN, y_valid))"
      ],
      "metadata": {
        "colab": {
          "base_uri": "https://localhost:8080/"
        },
        "id": "wae52Qn5HaWs",
        "outputId": "5bd18199-2a2d-4ffb-8f35-84a917f4bc33"
      },
      "id": "wae52Qn5HaWs",
      "execution_count": null,
      "outputs": [
        {
          "output_type": "stream",
          "name": "stdout",
          "text": [
            "Epoch 1/3\n",
            "422/422 [==============================] - 156s 369ms/step - loss: 0.4790 - accuracy: 0.8442 - val_loss: 0.3186 - val_accuracy: 0.8898\n",
            "Epoch 2/3\n",
            "422/422 [==============================] - 155s 368ms/step - loss: 0.3379 - accuracy: 0.8784 - val_loss: 0.3093 - val_accuracy: 0.8852\n",
            "Epoch 3/3\n",
            "422/422 [==============================] - 155s 368ms/step - loss: 0.3194 - accuracy: 0.8838 - val_loss: 0.2888 - val_accuracy: 0.8968\n"
          ]
        }
      ]
    },
    {
      "cell_type": "code",
      "source": [
        "y_pred_CNN = model_CNN_final_best.predict(X_test)\n",
        "y_pred_CNN_now = np.argmax(y_pred_CNN, axis=-1)\n",
        "print(\"fcnn - accuracy on test set: {:.3f}\".format\\\n",
        "      (accuracy_score(y_test, y_pred_CNN_now)))"
      ],
      "metadata": {
        "colab": {
          "base_uri": "https://localhost:8080/"
        },
        "id": "NUVKR9qFHc-Q",
        "outputId": "663b7082-842e-48ed-91a2-7052a6b84e14"
      },
      "id": "NUVKR9qFHc-Q",
      "execution_count": null,
      "outputs": [
        {
          "output_type": "stream",
          "name": "stdout",
          "text": [
            "fcnn - accuracy on test set: 0.889\n"
          ]
        }
      ]
    }
  ],
  "metadata": {
    "colab": {
      "provenance": [],
      "collapsed_sections": [
        "-jJFGoyFmgMQ",
        "8t6m31AGmgMQ",
        "rytyDN5MmgMQ",
        "cnBRWaxymgMR",
        "k5hE6cSRmgMR",
        "B-lp2cYamgMR",
        "NdOcLjNLmgMR"
      ]
    },
    "kernelspec": {
      "display_name": "Python 3",
      "language": "python",
      "name": "python3"
    },
    "language_info": {
      "codemirror_mode": {
        "name": "ipython",
        "version": 3
      },
      "file_extension": ".py",
      "mimetype": "text/x-python",
      "name": "python",
      "nbconvert_exporter": "python",
      "pygments_lexer": "ipython3",
      "version": "3.7.4"
    },
    "accelerator": "GPU"
  },
  "nbformat": 4,
  "nbformat_minor": 5
}