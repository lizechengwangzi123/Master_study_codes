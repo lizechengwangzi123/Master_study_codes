{
  "cells": [
    {
      "cell_type": "markdown",
      "metadata": {
        "id": "JcBjlZb4Y1JD"
      },
      "source": [
        "# COMP5318 Assignment 1: Classification"
      ]
    },
    {
      "cell_type": "markdown",
      "metadata": {
        "id": "DFSaID81Y1JF"
      },
      "source": [
        "### Group number: 81 "
      ]
    },
    {
      "cell_type": "code",
      "execution_count": null,
      "metadata": {
        "id": "GUMYe8VVY1JF"
      },
      "outputs": [],
      "source": [
        "# Import all libraries\n",
        "from sklearn.model_selection import StratifiedKFold\n",
        "import pandas as pd\n",
        "import numpy as np\n",
        "from sklearn.neighbors import NearestNeighbors\n",
        "from sklearn.model_selection import cross_val_score\n",
        "from sklearn.neighbors import KNeighborsClassifier\n",
        "from sklearn.linear_model import LogisticRegression\n",
        "from sklearn.naive_bayes import GaussianNB\n",
        "from sklearn.tree import DecisionTreeClassifier\n",
        "from sklearn.ensemble import BaggingClassifier\n",
        "from sklearn.ensemble import AdaBoostClassifier\n",
        "from sklearn.ensemble import GradientBoostingClassifier\n",
        "from sklearn.impute import SimpleImputer\n",
        "from sklearn.preprocessing import MinMaxScaler\n",
        "from sklearn.model_selection import GridSearchCV\n",
        "from sklearn.svm import SVC\n",
        "from sklearn.model_selection import train_test_split\n",
        "from sklearn.ensemble import RandomForestClassifier"
      ]
    },
    {
      "cell_type": "code",
      "execution_count": null,
      "metadata": {
        "scrolled": true,
        "id": "roJuQr2qY1JG"
      },
      "outputs": [],
      "source": [
        "# Load Breast Cancer Wisconsin Dataset\n",
        "data = pd.read_csv(\"breast-cancer-wisconsin.csv\")\n",
        "data_here = data"
      ]
    },
    {
      "cell_type": "code",
      "execution_count": null,
      "metadata": {
        "id": "D9jN_qflY1JH"
      },
      "outputs": [],
      "source": [
        "#Pre-processing \n",
        "#Filling in the missing attribute values\n",
        "#Changing the class values \n",
        "data_here2 = data_here\n",
        "keys = data_here2.keys()\n",
        "imputer = SimpleImputer(missing_values=np.nan, strategy='mean')\n",
        "for key in keys:\n",
        "    uniq = data_here2[key].unique()\n",
        "    if key == \"class\":\n",
        "        data_here2[\"class\"] = data_here2[\"class\"].replace([\"class1\", \"class2\"], [0, 1])\n",
        "        continue\n",
        "    non_num_list = []\n",
        "    for char in uniq:\n",
        "        if not str(char).isnumeric():\n",
        "            data_here2[key] = data_here2[key].replace(char, np.nan)\n",
        "        else:\n",
        "            data_here2[key] = data_here2[key].replace(char, float(char))\n",
        "    imputer = imputer.fit(data_here2[[key]])\n",
        "    data_here2[key] = imputer.transform(data_here2[[key]])\n",
        "    \n",
        "x = [i for i in data_here2.values.tolist()]\n",
        "    \n",
        "#Normalisation\n",
        "scaler = MinMaxScaler(feature_range=(0, 1))\n",
        "\n",
        "x = scaler.fit_transform(x)\n",
        "\n",
        "data_here2 = pd.DataFrame(x, columns = keys, dtype = float).round(4)\n",
        "data_here2[\"class\"] = data_here2[\"class\"].astype(\"int\")"
      ]
    },
    {
      "cell_type": "code",
      "execution_count": null,
      "metadata": {
        "id": "_tEp96gVY1JH",
        "outputId": "1352ead6-028b-4e6f-f3f5-1c897f2a9da7",
        "colab": {
          "base_uri": "https://localhost:8080/"
        }
      },
      "outputs": [
        {
          "output_type": "stream",
          "name": "stdout",
          "text": [
            "0.4444,0.0000,0.0000,0.0000,0.1111,0.0000,0.2222,0.0000,0.0000,0\n",
            "0.4444,0.3333,0.3333,0.4444,0.6667,1.0000,0.2222,0.1111,0.0000,0\n",
            "0.2222,0.0000,0.0000,0.0000,0.1111,0.1111,0.2222,0.0000,0.0000,0\n",
            "0.5556,0.7778,0.7778,0.0000,0.2222,0.3333,0.2222,0.6667,0.0000,0\n",
            "0.3333,0.0000,0.0000,0.2222,0.1111,0.0000,0.2222,0.0000,0.0000,0\n",
            "0.7778,1.0000,1.0000,0.7778,0.6667,1.0000,0.8889,0.6667,0.0000,1\n",
            "0.0000,0.0000,0.0000,0.0000,0.1111,1.0000,0.2222,0.0000,0.0000,0\n",
            "0.1111,0.0000,0.1111,0.0000,0.1111,0.0000,0.2222,0.0000,0.0000,0\n",
            "0.1111,0.0000,0.0000,0.0000,0.1111,0.0000,0.0000,0.0000,0.4444,0\n",
            "0.3333,0.1111,0.0000,0.0000,0.1111,0.0000,0.1111,0.0000,0.0000,0\n"
          ]
        }
      ],
      "source": [
        "# Print first ten rows of pre-processed dataset to 4 decimal places\n",
        "temp_printout = data_here2\n",
        "temp=data_here2.iloc[0:10,:].values\n",
        "for lists in temp:\n",
        "  for number in range(len(lists)):\n",
        "    if number == len(lists)-1:\n",
        "      print(\"%d\" % lists[number], end = \"\")\n",
        "    else:\n",
        "      print(\"%.4f\" % lists[number], end = \",\")\n",
        "  print()"
      ]
    },
    {
      "cell_type": "code",
      "execution_count": null,
      "metadata": {
        "id": "ymTkesiSY1JH"
      },
      "outputs": [],
      "source": [
        "data_part1 = [i[:-1] for i in data_here2.values.tolist()]\n",
        "result_part1 = [i[-1] for i in data_here2.values.tolist()]"
      ]
    },
    {
      "cell_type": "markdown",
      "metadata": {
        "id": "74b9FOBdY1JI"
      },
      "source": [
        "### Part 1: Cross validation without parameter tuning"
      ]
    },
    {
      "cell_type": "code",
      "execution_count": null,
      "metadata": {
        "id": "69k3UXKCY1JI"
      },
      "outputs": [],
      "source": [
        "## Setting the 10 fold stratified cross-validation\n",
        "cvKFold=StratifiedKFold(n_splits=10, shuffle=True, random_state=0)\n",
        "\n",
        "# The stratified folds from cvKFold should be provided to the classifiers"
      ]
    },
    {
      "cell_type": "code",
      "execution_count": null,
      "metadata": {
        "id": "haUIz0ALY1JI"
      },
      "outputs": [],
      "source": [
        "# K-Nearest Neighbour\n",
        "def kNNClassifier(X, y, k):\n",
        "    knn = KNeighborsClassifier(n_neighbors=k)\n",
        "    knn.fit(X, y)\n",
        "    scores = cross_val_score(knn, X, y, cv=cvKFold)\n",
        "    return scores.mean()"
      ]
    },
    {
      "cell_type": "code",
      "execution_count": null,
      "metadata": {
        "id": "dwaQU2OXY1JI"
      },
      "outputs": [],
      "source": [
        "# Logistic Regression\n",
        "def logregClassifier(X, y):\n",
        "    logC = LogisticRegression(random_state=0)\n",
        "    logC.fit(X, y)\n",
        "    scores = cross_val_score(logC, X, y, cv=cvKFold)\n",
        "    return scores.mean()"
      ]
    },
    {
      "cell_type": "code",
      "execution_count": null,
      "metadata": {
        "id": "zh8B0GocY1JI"
      },
      "outputs": [],
      "source": [
        "#Naïve Bayes\n",
        "def nbClassifier(X, y):\n",
        "    NB = GaussianNB()\n",
        "    NB.fit(X, y)\n",
        "    scores = cross_val_score(NB, X, y, cv=cvKFold)\n",
        "    return scores.mean()"
      ]
    },
    {
      "cell_type": "code",
      "execution_count": null,
      "metadata": {
        "id": "Uc-ev_tZY1JP"
      },
      "outputs": [],
      "source": [
        "# Decision Tree\n",
        "def dtClassifier(X, y):\n",
        "    DT = DecisionTreeClassifier(random_state=0)\n",
        "    DT.fit(X, y)\n",
        "    scores = cross_val_score(DT, X, y, cv=cvKFold)\n",
        "    return scores.mean()"
      ]
    },
    {
      "cell_type": "code",
      "execution_count": null,
      "metadata": {
        "id": "RfLjwRcHY1JQ"
      },
      "outputs": [],
      "source": [
        "# Ensembles: Bagging, Ada Boost and Gradient Boosting\n",
        "def bagDTClassifier(X, y, n_estimators, max_samples, max_depth):\n",
        "    bag = BaggingClassifier(DecisionTreeClassifier(max_depth = max_depth, random_state=0),\n",
        "                            max_samples=max_samples, n_estimators = n_estimators, max_features = max_depth, random_state=0)\n",
        "    scores = cross_val_score(bag, X, y, cv=cvKFold)\n",
        "    bag.fit(X, y)\n",
        "    return scores.mean()\n",
        "\n",
        "def adaDTClassifier(X, y, n_estimators, learning_rate, max_depth):\n",
        "    ada = AdaBoostClassifier(DecisionTreeClassifier(max_depth = max_depth, random_state=0),\n",
        "                             n_estimators=n_estimators, learning_rate = learning_rate, random_state = 0)\n",
        "    ada.fit(X, y)\n",
        "    scores = cross_val_score(ada, X, y, cv=cvKFold)\n",
        "    return scores.mean()\n",
        "\n",
        "def gbClassifier(X, y, n_estimators, learning_rate):\n",
        "    gb = GradientBoostingClassifier(n_estimators=n_estimators, learning_rate = learning_rate, random_state=0)\n",
        "    gb.fit(X, y)\n",
        "    scores = cross_val_score(gb, X, y, cv=cvKFold)\n",
        "    return scores.mean()"
      ]
    },
    {
      "cell_type": "markdown",
      "metadata": {
        "id": "kbmkwjlnY1JQ"
      },
      "source": [
        "### Part 1 Results"
      ]
    },
    {
      "cell_type": "code",
      "execution_count": null,
      "metadata": {
        "id": "zlXSEDecY1JQ",
        "outputId": "28c3b42a-6394-4068-daa8-926023999ff2",
        "colab": {
          "base_uri": "https://localhost:8080/"
        }
      },
      "outputs": [
        {
          "output_type": "stream",
          "name": "stdout",
          "text": [
            "kNN average cross-validation accuracy:  0.9642\n",
            "LR average cross-validation accuracy:  0.9642\n",
            "NB average cross-validation accuracy:  0.9585\n",
            "DT average cross-validation accuracy:  0.9471\n",
            "Bagging average cross-validation accuracy:  0.9671\n",
            "AdaBoost average cross-validation accuracy:  0.9642\n",
            "GB average cross-validation accuracy:  0.9642\n"
          ]
        }
      ],
      "source": [
        "# Parameters for Part 1:\n",
        "#KNN\n",
        "k=3\n",
        "\n",
        "#Bagging\n",
        "bag_n_estimators = 50\n",
        "bag_max_samples = 100\n",
        "bag_max_depth = 5\n",
        "\n",
        "#AdaBoost\n",
        "ada_n_estimators = 50\n",
        "ada_learning_rate = 0.5\n",
        "ada_bag_max_depth = 5\n",
        "\n",
        "#GB\n",
        "gb_n_estimators = 50\n",
        "gb_learning_rate = 0.5\n",
        "\n",
        "# Print results for each classifier in part 1 to 4 decimal places here:\n",
        "print(\"kNN average cross-validation accuracy: \", round(kNNClassifier(data_part1, result_part1, k), 4))\n",
        "print(\"LR average cross-validation accuracy: \", round(logregClassifier(data_part1, result_part1), 4))\n",
        "print(\"NB average cross-validation accuracy: \", round(nbClassifier(data_part1, result_part1), 4))\n",
        "print(\"DT average cross-validation accuracy: \", round(dtClassifier(data_part1, result_part1), 4))\n",
        "print(\"Bagging average cross-validation accuracy: \", round(bagDTClassifier(data_part1, result_part1, bag_n_estimators, bag_max_samples, bag_max_depth), 4))\n",
        "print(\"AdaBoost average cross-validation accuracy: \", round(adaDTClassifier(data_part1, result_part1, ada_n_estimators, ada_learning_rate, ada_bag_max_depth), 4))\n",
        "print(\"GB average cross-validation accuracy: \", round(gbClassifier(data_part1, result_part1, gb_n_estimators, gb_learning_rate), 4))"
      ]
    },
    {
      "cell_type": "markdown",
      "metadata": {
        "id": "KCh1ilLfY1JQ"
      },
      "source": [
        "### Part 2: Cross validation with parameter tuning"
      ]
    },
    {
      "cell_type": "code",
      "execution_count": null,
      "metadata": {
        "id": "ujJyHz0oY1JQ"
      },
      "outputs": [],
      "source": [
        "# Linear SVM\n",
        "# You should use SVC from sklearn.svm\n",
        "C = [0.001, 0.01, 0.1, 1, 10, 100]\n",
        "gamma = [0.001, 0.01, 0.1, 1, 10, 100]\n",
        "grid = {'gamma':list(gamma), 'C':list(C)}\n",
        "def bestLinClassifier(X,y):\n",
        "    data_part2, result_part2 = X, y\n",
        "    X_train, X_test, y_train, y_test = train_test_split(\n",
        "        data_part2, result_part2, stratify=result_part2, random_state=0)  # split the data into train and test sets\n",
        "    svc = SVC(random_state = 0, kernel = \"linear\")\n",
        "    grid_search = GridSearchCV(svc, grid, cv=cvKFold,\n",
        "                          return_train_score=True)\n",
        "    grid_search.fit(X_train, y_train)\n",
        "    test_score = round(grid_search.score(X_test, y_test), 4)  #following variables are for ouputs\n",
        "    best_par = grid_search.best_params_\n",
        "    cv_score = round(grid_search.best_score_, 4)\n",
        "\n",
        "    return  best_par['C'], best_par['gamma'], cv_score, test_score#(appropriate values so that the required printing can be done)"
      ]
    },
    {
      "cell_type": "code",
      "execution_count": null,
      "metadata": {
        "id": "PC0GBE_wY1JQ"
      },
      "outputs": [],
      "source": [
        "# Random Forest\n",
        "# You should use RandomForestClassifier from sklearn.ensemble with information gain and max_features set to ‘sqrt’.\n",
        "n_estimators = [10, 20, 30, 50, 100]\n",
        "max_leaf_nodes = [4, 10, 16, 20, 30]\n",
        "rf_grid = {'n_estimators':list(n_estimators), 'max_leaf_nodes':list(max_leaf_nodes)}\n",
        "def bestRFClassifier(X,y):\n",
        "    data_part2, result_part2 = X, y\n",
        "    X_train, X_test, y_train, y_test = train_test_split(\n",
        "        data_part2, result_part2, stratify=result_part2, random_state=0) # split the data into train and test sets\n",
        "    rf = RandomForestClassifier(criterion = \"entropy\", random_state = 0)\n",
        "    grid_search = GridSearchCV(rf, rf_grid, cv=cvKFold,\n",
        "                          return_train_score=True)\n",
        "    grid_search.fit(X_train, y_train)\n",
        "    test_score = round(grid_search.score(X_test, y_test), 4)  # following variables are for outputs\n",
        "    best_par = grid_search.best_params_\n",
        "    cv_score = round(grid_search.best_score_, 4)\n",
        "    return best_par['n_estimators'], best_par['max_leaf_nodes'], cv_score, test_score#(appropriate values so that the required printing can be done)"
      ]
    },
    {
      "cell_type": "markdown",
      "metadata": {
        "id": "1JDKmMprY1JR"
      },
      "source": [
        "### Part 2 Results"
      ]
    },
    {
      "cell_type": "code",
      "execution_count": null,
      "metadata": {
        "id": "VmciDdqPY1JR",
        "outputId": "59ca148e-0203-4cde-8421-d8b8fac4408a",
        "colab": {
          "base_uri": "https://localhost:8080/"
        }
      },
      "outputs": [
        {
          "output_type": "stream",
          "name": "stdout",
          "text": [
            "SVM best C:  1\n",
            "SVM best gamma:  0.001\n",
            "SVM cross-validation accuracy:  0.9657\n",
            "SVM test set accuracy:  0.9714\n",
            "RF best n_estimators:  30\n",
            "RF best max_leaf_nodes:  4\n",
            "RF cross-validation accuracy:  0.9675\n",
            "RF test set accuracy:  0.9600\n"
          ]
        }
      ],
      "source": [
        "# Perform Grid Search with 10-fold Stratified Cross Validation (GridSearchCV in sklearn). \n",
        "# The stratified folds from cvKFold should be provided to GridSearchV\n",
        "\n",
        "# This should include using train_test_split from sklearn.model_selection with stratification and random_state=0\n",
        "# Print results for each classifier here. All results should be printed to 4 decimal places except for\n",
        "# \"n_estimators\" and \"max_leaf_nodes\" which should be printed as integers.\n",
        "b_c, b_g, svc_sv_score, svc_test_score = bestLinClassifier(data_part1, result_part1)\n",
        "b_n_e, max_nodes, rf_sv_score, rf_test_score = bestRFClassifier(data_part1, result_part1)\n",
        "print(\"SVM best C: \", b_c)\n",
        "print(\"SVM best gamma: \", b_g)\n",
        "print(\"SVM cross-validation accuracy: \", format(svc_sv_score, \".4f\")) #use \".4f\" to keep 4 desimal places\n",
        "print(\"SVM test set accuracy: \", format(svc_test_score, \".4f\"))\n",
        "\n",
        "print(\"RF best n_estimators: \", b_n_e)\n",
        "print(\"RF best max_leaf_nodes: \", max_nodes)\n",
        "print(\"RF cross-validation accuracy: \", format(rf_sv_score, \".4f\"))\n",
        "print(\"RF test set accuracy: \", format(rf_test_score, \".4f\"))"
      ]
    }
  ],
  "metadata": {
    "kernelspec": {
      "display_name": "Python 3 (ipykernel)",
      "language": "python",
      "name": "python3"
    },
    "language_info": {
      "codemirror_mode": {
        "name": "ipython",
        "version": 3
      },
      "file_extension": ".py",
      "mimetype": "text/x-python",
      "name": "python",
      "nbconvert_exporter": "python",
      "pygments_lexer": "ipython3",
      "version": "3.9.7"
    },
    "colab": {
      "provenance": []
    }
  },
  "nbformat": 4,
  "nbformat_minor": 0
}